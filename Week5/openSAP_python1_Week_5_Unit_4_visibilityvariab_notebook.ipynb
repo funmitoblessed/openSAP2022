{
 "cells": [
  {
   "cell_type": "markdown",
   "metadata": {},
   "source": [
    "# Visibility of Variables\n",
    "\n",
    "All variables defined in Python 🐍 have a scope in which they are visible. So far we have not seen these scopes in our\n",
    "programs. The main reason is that we implicitly only used the *global* scope in our programs. However, as soon as we\n",
    "define functions, we need to be aware of the different visibility scopes, i.e. the *global* and the *local* scope.\n",
    "\n",
    "\n",
    "## Global vs. local scope  \n",
    "\n",
    "What is the difference between these two scopes? Each variable defined outside of a function is a variable with a\n",
    "*global* scope. This variable can also be called a *global variable*. A global variable can be accessed anywhere in the\n",
    "program. This is shown by the following example. The variable `global_song` is defined outside the `play_music()`\n",
    "function. Nevertheless, it is possible to access the variable `global_song` inside the function."
   ]
  },
  {
   "cell_type": "code",
   "execution_count": 1,
   "metadata": {},
   "outputs": [
    {
     "name": "stdout",
     "output_type": "stream",
     "text": [
      "Listening to Blitzkrieg Bop\n"
     ]
    }
   ],
   "source": [
    "global_song = \"Blitzkrieg Bop\"\n",
    "\n",
    "\n",
    "def play_music():\n",
    "    print(\"Listening to\", global_song)\n",
    "\n",
    "\n",
    "play_music()"
   ]
  },
  {
   "cell_type": "markdown",
   "metadata": {},
   "source": [
    "The above pattern is **strongly discouraged**"
   ]
  },
  {
   "cell_type": "markdown",
   "metadata": {},
   "source": [
    "## Warning\n",
    "\n",
    "You should avoid this in your programs. The usage of global variables inside functions quickly \n",
    "leads to error prone programs. At the end of this notebook we give additional recommendations regarding visibility of variables. "
   ]
  },
  {
   "cell_type": "markdown",
   "metadata": {},
   "source": [
    "# Local scope and hiding\n",
    "In general, all variables defined inside a function have a local scope. Due to the local scope the variable can only be\n",
    "accessed inside the function where it was defined. Outside the function the variable is unknown. The previous statement\n",
    "is not only true for variables, but also for the parameters defined for a function. Parameters have a local scope as\n",
    "well.  \n",
    "Futhermore, a local variable with the same name as a global variable \"hides\" the global variable. In this case only the\n",
    "local variable is \"visible\" in the local scope. \n",
    "\n",
    "These two properties are shown in the following examples.  \n",
    "The first example shows that a variable defined inside a function has a local scope. Trying to access the variable\n",
    "outside the function raises an error message."
   ]
  },
  {
   "cell_type": "code",
   "execution_count": 2,
   "metadata": {},
   "outputs": [
    {
     "ename": "NameError",
     "evalue": "name 'song' is not defined",
     "output_type": "error",
     "traceback": [
      "\u001b[1;31m---------------------------------------------------------------------------\u001b[0m",
      "\u001b[1;31mNameError\u001b[0m                                 Traceback (most recent call last)",
      "Input \u001b[1;32mIn [2]\u001b[0m, in \u001b[0;36m<cell line: 5>\u001b[1;34m()\u001b[0m\n\u001b[0;32m      1\u001b[0m \u001b[38;5;28;01mdef\u001b[39;00m \u001b[38;5;21mplay_music\u001b[39m():\n\u001b[0;32m      2\u001b[0m     song \u001b[38;5;241m=\u001b[39m \u001b[38;5;124m\"\u001b[39m\u001b[38;5;124mListening to 100\u001b[39m\u001b[38;5;124m%\u001b[39m\u001b[38;5;124m\"\u001b[39m\n\u001b[1;32m----> 5\u001b[0m \u001b[38;5;28mprint\u001b[39m(\u001b[43msong\u001b[49m)\n",
      "\u001b[1;31mNameError\u001b[0m: name 'song' is not defined"
     ]
    }
   ],
   "source": [
    "def play_music():\n",
    "    song = \"Listening to 100%\"\n",
    "\n",
    "\n",
    "print(song)"
   ]
  },
  {
   "cell_type": "markdown",
   "metadata": {},
   "source": [
    "As variables inside functions have local scopes, it is possible to define variables with the same name inside different\n",
    "functions. Due to the local scopes these variables do not influence each other.  This is shown in the next example. Each function defines a local variable `song`. Changing the value of this local\n",
    "variable does not change the value of the other local variables. "
   ]
  },
  {
   "cell_type": "code",
   "execution_count": 3,
   "metadata": {},
   "outputs": [
    {
     "name": "stdout",
     "output_type": "stream",
     "text": [
      "Listening to 100%\n",
      "Listening to Blitzkrieg Bop\n",
      "Listening to Blue Train\n",
      "Twinkle Twinkle Little Star\n"
     ]
    }
   ],
   "source": [
    "song = \"Twinkle Twinkle Little Star\"\n",
    "\n",
    "\n",
    "def play_ramones():\n",
    "    song = \"Blitzkrieg Bop\"\n",
    "    print(\"Listening to\", song)\n",
    "\n",
    "\n",
    "def play_sonic_youth():\n",
    "    song = \"100%\"\n",
    "    print(\"Listening to\", song)\n",
    "\n",
    "\n",
    "def play_coltrane():\n",
    "    song = \"Blue Train\"\n",
    "    print(\"Listening to\", song)\n",
    "\n",
    "\n",
    "play_sonic_youth()\n",
    "play_ramones()\n",
    "play_coltrane()\n",
    "\n",
    "print(song)"
   ]
  },
  {
   "cell_type": "markdown",
   "metadata": {},
   "source": [
    "In addition, the previous example also shows the hiding of a global variable by a local variable. This is again shown\n",
    "in the following cell. The global variable `song` defined in the \n",
    "first line is hidden by the local variable `song` defined inside the function `play_sonic_youth()`."
   ]
  },
  {
   "cell_type": "code",
   "execution_count": 4,
   "metadata": {},
   "outputs": [
    {
     "name": "stdout",
     "output_type": "stream",
     "text": [
      "Listening to 100%\n",
      "Twinkle Twinkle Little Star\n"
     ]
    }
   ],
   "source": [
    "song = \"Twinkle Twinkle Little Star\"\n",
    "\n",
    "\n",
    "def play_sonic_youth():\n",
    "    song = \"100%\"\n",
    "    print(\"Listening to\", song)\n",
    "\n",
    "\n",
    "play_sonic_youth()\n",
    "print(song)"
   ]
  },
  {
   "cell_type": "markdown",
   "metadata": {},
   "source": [
    "A parameter with the same name also hides the value of a global variable as shown in the next example."
   ]
  },
  {
   "cell_type": "code",
   "execution_count": 5,
   "metadata": {},
   "outputs": [
    {
     "name": "stdout",
     "output_type": "stream",
     "text": [
      "Listening to Blue Train\n",
      "Value of the global variable song: Twinkle Twinkle Little Star\n"
     ]
    }
   ],
   "source": [
    "song = \"Twinkle Twinkle Little Star\"\n",
    "\n",
    "\n",
    "def play_music(song):\n",
    "    print(\"Listening to\", song)\n",
    "\n",
    "\n",
    "play_music(\"Blue Train\")\n",
    "print(\"Value of the global variable song:\", song)"
   ]
  },
  {
   "cell_type": "markdown",
   "metadata": {},
   "source": [
    "## Using global variables explicitly\n",
    "\n",
    "We do not recommend the following pattern. However, Python offers the `global` key word. Using `global` \n",
    "it is possible to *explicitly* declare the usage of a global variable within a function. \n",
    "\n",
    "Have a look at the following cell. In the first line, the value \"Blitzkrieg Bop\" is assigned to the global variable `song`. Within the definition of the function `play_music()` the variable song is declared as a `global` variable. That means, the local variable and the global variable `song` are actually the same. Assigning the value \"Bad brain\" to `song` within the function changes the value of the global variable. In the last statement of the cell, the variable `song` is in the global scope. Executing the cell shows that the value of the global variable has changed."
   ]
  },
  {
   "cell_type": "code",
   "execution_count": 6,
   "metadata": {},
   "outputs": [
    {
     "name": "stdout",
     "output_type": "stream",
     "text": [
      "Bad brain\n",
      "Bad brain\n"
     ]
    }
   ],
   "source": [
    "song = \"Blitzkrieg Bop\"\n",
    "\n",
    "\n",
    "def play_music():\n",
    "    global song\n",
    "    song = \"Bad brain\"\n",
    "    print(song)\n",
    "\n",
    "\n",
    "play_music()\n",
    "\n",
    "print(song)"
   ]
  },
  {
   "cell_type": "markdown",
   "metadata": {},
   "source": [
    "## Summary and recommendations\n",
    "\n",
    "Not taking care of the local and global scope of variables is often a root cause for errors. The following recommendations can help, to minimize these errors:\n",
    "\n",
    "1. Be aware of global and local scopes.\n",
    "1. Try to avoid using global variables within functions.\n",
    "1. If global variables are required within functions, pass them as parameter into the function, and if necessary pass the variable back using `return`\n",
    "1. Never use global variables in a function without passing them as parameter."
   ]
  },
  {
   "cell_type": "markdown",
   "metadata": {},
   "source": [
    "# Self Test"
   ]
  },
  {
   "cell_type": "markdown",
   "metadata": {},
   "source": [
    "### Question 1\n",
    "`2.0 Pts`\n",
    "\n",
    "Which of the following statements about variables in functions are correct?\n",
    "\n",
    "*Note: There are 3 correct answers to this question.*\n",
    "\n",
    "The terms local and global are good for communication, but do not have any semantics. \n",
    "\n",
    "Variables in functions have either a global or a local scope. `correct` \n",
    "\n",
    "Local variables are not visible outside of the function. `correct` \n",
    "\n",
    "If there is a global and a local variable with the same name, an error is triggered. \n",
    "\n",
    "Using the keyword `global`, variables defined outside of the function can be made visible inside the function.  `correct`"
   ]
  },
  {
   "cell_type": "markdown",
   "metadata": {},
   "source": [
    "### Question 2\n",
    "`1.0 Pts`\n",
    "\n",
    "What is the outcome of the following program?\n",
    "\n",
    "3 \n",
    "\n",
    "4\n",
    "\n",
    "4 \n",
    "\n",
    "4\n",
    "\n",
    "4\n",
    "\n",
    "UnboundLocalError"
   ]
  },
  {
   "cell_type": "code",
   "execution_count": 7,
   "metadata": {},
   "outputs": [
    {
     "ename": "UnboundLocalError",
     "evalue": "local variable 'x' referenced before assignment",
     "output_type": "error",
     "traceback": [
      "\u001b[1;31m---------------------------------------------------------------------------\u001b[0m",
      "\u001b[1;31mUnboundLocalError\u001b[0m                         Traceback (most recent call last)",
      "Input \u001b[1;32mIn [7]\u001b[0m, in \u001b[0;36m<cell line: 6>\u001b[1;34m()\u001b[0m\n\u001b[0;32m      3\u001b[0m     \u001b[38;5;28mprint\u001b[39m(x)\n\u001b[0;32m      5\u001b[0m x \u001b[38;5;241m=\u001b[39m \u001b[38;5;241m3\u001b[39m\n\u001b[1;32m----> 6\u001b[0m \u001b[43mf2\u001b[49m\u001b[43m(\u001b[49m\u001b[43m)\u001b[49m\n\u001b[0;32m      7\u001b[0m \u001b[38;5;28mprint\u001b[39m(x \u001b[38;5;241m+\u001b[39m \u001b[38;5;241m1\u001b[39m)\n",
      "Input \u001b[1;32mIn [7]\u001b[0m, in \u001b[0;36mf2\u001b[1;34m()\u001b[0m\n\u001b[0;32m      1\u001b[0m \u001b[38;5;28;01mdef\u001b[39;00m \u001b[38;5;21mf2\u001b[39m():\n\u001b[1;32m----> 2\u001b[0m     x \u001b[38;5;241m+\u001b[39m\u001b[38;5;241m=\u001b[39m \u001b[38;5;241m1\u001b[39m\n\u001b[0;32m      3\u001b[0m     \u001b[38;5;28mprint\u001b[39m(x)\n",
      "\u001b[1;31mUnboundLocalError\u001b[0m: local variable 'x' referenced before assignment"
     ]
    }
   ],
   "source": [
    "def f2():\n",
    "    x += 1\n",
    "    print(x)\n",
    "    \n",
    "x = 3\n",
    "f2()\n",
    "print(x + 1)"
   ]
  }
 ],
 "metadata": {
  "interpreter": {
   "hash": "9fd0e282e2343d8b38b390b803aabc7fcea80a18eee8e5bd23ce64f6435b30a1"
  },
  "kernelspec": {
   "display_name": "Python 3 (ipykernel)",
   "language": "python",
   "name": "python3"
  },
  "language_info": {
   "codemirror_mode": {
    "name": "ipython",
    "version": 3
   },
   "file_extension": ".py",
   "mimetype": "text/x-python",
   "name": "python",
   "nbconvert_exporter": "python",
   "pygments_lexer": "ipython3",
   "version": "3.10.2"
  }
 },
 "nbformat": 4,
 "nbformat_minor": 4
}
