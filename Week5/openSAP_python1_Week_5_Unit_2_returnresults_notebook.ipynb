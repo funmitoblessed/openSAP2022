{
 "cells": [
  {
   "cell_type": "markdown",
   "metadata": {},
   "source": [
    "# Returning results from functions\n",
    "The previous examples already showed that functions have an optional return value. The return value of a function is\n",
    "defined using the `return` keyword. A function in Python only has one return value. If you want to return multiple\n",
    "values, they will be packed as one tuple and this will be the *one* return value of the function.\n",
    "\n",
    "The following cell shows an example of a function *without* a return value. This function simply prints a result. The\n",
    "return value is empty. This is shown using the special value `None`."
   ]
  },
  {
   "cell_type": "code",
   "execution_count": 1,
   "metadata": {},
   "outputs": [
    {
     "name": "stdout",
     "output_type": "stream",
     "text": [
      "No, I'm your father!\n",
      "None\n"
     ]
    }
   ],
   "source": [
    "def print_greeting():\n",
    "    print(\"No, I'm your father!\")\n",
    "\n",
    "\n",
    "empty_return_value = print_greeting()\n",
    "print(empty_return_value)"
   ]
  },
  {
   "cell_type": "markdown",
   "metadata": {},
   "source": [
    "The following cell show a similar function to the previous one.\n",
    "In this case the function returns the value `\"No, I'm your father!\"`."
   ]
  },
  {
   "cell_type": "code",
   "execution_count": 2,
   "metadata": {},
   "outputs": [
    {
     "name": "stdout",
     "output_type": "stream",
     "text": [
      "No, I'm your father!\n"
     ]
    }
   ],
   "source": [
    "def famous_quote():\n",
    "    return \"No, I'm your father!\"\n",
    "\n",
    "\n",
    "greeting = famous_quote()\n",
    "print(greeting)"
   ]
  },
  {
   "cell_type": "markdown",
   "metadata": {},
   "source": [
    "Of course it is also possible to return other data types from functions."
   ]
  },
  {
   "cell_type": "code",
   "execution_count": 3,
   "metadata": {},
   "outputs": [
    {
     "name": "stdout",
     "output_type": "stream",
     "text": [
      "What is the Answer to Life, The Universe, and Everything? 42\n"
     ]
    }
   ],
   "source": [
    "def the_answer_to_everything():\n",
    "    return 42\n",
    "\n",
    "\n",
    "print(\n",
    "    \"What is the Answer to Life, The Universe, and Everything?\",\n",
    "    the_answer_to_everything(),\n",
    ")"
   ]
  },
  {
   "cell_type": "code",
   "execution_count": 4,
   "metadata": {},
   "outputs": [
    {
     "name": "stdout",
     "output_type": "stream",
     "text": [
      "🐍\n"
     ]
    }
   ],
   "source": [
    "def is_python_the_best_programming_language():\n",
    "    return True\n",
    "\n",
    "\n",
    "if is_python_the_best_programming_language:\n",
    "    print(\"🐍\")"
   ]
  },
  {
   "cell_type": "markdown",
   "metadata": {},
   "source": [
    "In particular, it is also possible to return complex data types like lists or tuples from functions. "
   ]
  },
  {
   "cell_type": "code",
   "execution_count": 5,
   "metadata": {},
   "outputs": [
    {
     "name": "stdout",
     "output_type": "stream",
     "text": [
      "I'm listening to Ramones\n",
      "I'm listening to Leave Home\n",
      "I'm listening to Rocket to Russia\n",
      "I'm listening to Road to Ruin\n"
     ]
    }
   ],
   "source": [
    "def ramones_records():\n",
    "    return [\"Ramones\", \"Leave Home\", \"Rocket to Russia\", \"Road to Ruin\"]\n",
    "\n",
    "\n",
    "for record in ramones_records():\n",
    "    print(\"I'm listening to\", record)"
   ]
  },
  {
   "cell_type": "markdown",
   "metadata": {},
   "source": [
    "## `return` ends the function\n",
    "\n",
    "It is important to note that a `return` statement immediately ends the execution of a function. Statements after the `return` statement are not executed anymore. This is shown in the following example:"
   ]
  },
  {
   "cell_type": "code",
   "execution_count": 6,
   "metadata": {},
   "outputs": [
    {
     "name": "stdout",
     "output_type": "stream",
     "text": [
      "No, I'm your father!\n"
     ]
    }
   ],
   "source": [
    "def famous_quote():\n",
    "    return \"No, I'm your father!\"\n",
    "    print(\"--> This is not executed!\")\n",
    "\n",
    "\n",
    "print(famous_quote())"
   ]
  },
  {
   "cell_type": "markdown",
   "metadata": {},
   "source": [
    "# Self Test"
   ]
  },
  {
   "cell_type": "markdown",
   "metadata": {},
   "source": [
    "### Question 1\n",
    "`1.0 Pts` \n",
    "\n",
    "What is the output of the following program?\n",
    "\n",
    "1 \\\n",
    "3 \\\n",
    "2\n",
    "\n",
    "3 \\\n",
    "1 \\\n",
    "2 \n",
    "\n",
    "1 \\\n",
    "2 \\\n",
    "3 \n",
    "\n",
    "3 \\\n",
    "2 \\\n",
    "1"
   ]
  },
  {
   "cell_type": "code",
   "execution_count": 7,
   "metadata": {},
   "outputs": [
    {
     "name": "stdout",
     "output_type": "stream",
     "text": [
      "3\n",
      "1\n",
      "2\n"
     ]
    }
   ],
   "source": [
    "def f3():\n",
    "    print(1)\n",
    "    return 2\n",
    "\n",
    "print(3)\n",
    "print(f3())"
   ]
  },
  {
   "cell_type": "markdown",
   "metadata": {},
   "source": [
    "# Unit 2: Exercise"
   ]
  },
  {
   "cell_type": "markdown",
   "metadata": {},
   "source": [
    "Implement a function named `get_student_data()`. The function should do the following:\n",
    "\n",
    "Using `input()` it asks for name, first name and a student-id. \\\n",
    "The values are packed into a tuple. \\\n",
    "This tuple is returned from the function.\n",
    "\n",
    "The function `get_student_data()` is then called in the program, the return value is assigned to a variable. Finally, output the variable using `print()`."
   ]
  },
  {
   "cell_type": "code",
   "execution_count": 9,
   "metadata": {},
   "outputs": [
    {
     "name": "stdin",
     "output_type": "stream",
     "text": [
      "What is your family name: Odefemi\n",
      "What is your first name Funmito\n",
      "What is your student ID 138762\n"
     ]
    },
    {
     "name": "stdout",
     "output_type": "stream",
     "text": [
      "('Odefemi', 'Funmito', '138762')\n"
     ]
    }
   ],
   "source": [
    "def get_student_data():\n",
    "    name = input(\"What is your family name:\")\n",
    "    first_name = input(\"What is your first name\")\n",
    "    stud_id = input(\"What is your student ID\")\n",
    "    stud_details = (name, first_name, stud_id)\n",
    "    \n",
    "    return stud_details\n",
    "\n",
    "student_details = get_student_data()\n",
    "print(student_details)"
   ]
  }
 ],
 "metadata": {
  "interpreter": {
   "hash": "9fd0e282e2343d8b38b390b803aabc7fcea80a18eee8e5bd23ce64f6435b30a1"
  },
  "kernelspec": {
   "display_name": "Python 3 (ipykernel)",
   "language": "python",
   "name": "python3"
  },
  "language_info": {
   "codemirror_mode": {
    "name": "ipython",
    "version": 3
   },
   "file_extension": ".py",
   "mimetype": "text/x-python",
   "name": "python",
   "nbconvert_exporter": "python",
   "pygments_lexer": "ipython3",
   "version": "3.10.2"
  }
 },
 "nbformat": 4,
 "nbformat_minor": 4
}
