{
 "cells": [
  {
   "cell_type": "markdown",
   "metadata": {},
   "source": [
    "# Destructuring assignments\n",
    "In this unit the *destructuring assignment* is introduced. This is a construct used quite extensively in Python 🐍,\n",
    "especially when working with libraries.\n",
    "\n",
    "## Some more details on the `return` statement\n",
    "In a previous unit the `return` statement was introduced. The `return` statement is used to return results from a\n",
    "function. However, it is possible to return multiple results from a function as shown in the following example."
   ]
  },
  {
   "cell_type": "code",
   "execution_count": 1,
   "metadata": {},
   "outputs": [
    {
     "name": "stdout",
     "output_type": "stream",
     "text": [
      "('Ace of Spades', 'Dirty', 'Blue Train')\n"
     ]
    }
   ],
   "source": [
    "def my_favorite_songs():\n",
    "    song_1 = \"Ace of Spades\"\n",
    "    song_2 = \"Dirty\"\n",
    "    song_3 = \"Blue Train\"\n",
    "\n",
    "    return song_1, song_2, song_3\n",
    "\n",
    "\n",
    "print(my_favorite_songs())"
   ]
  },
  {
   "cell_type": "markdown",
   "metadata": {},
   "source": [
    "In the example three variables, `song_1`, `song_2` and `song_3` are defined. All three variables are returned as an\n",
    "result from the function. Implicitly Python 🐍 creates a Tuple (see week three for more details on tuples) from the\n",
    "three values provided to the `return` statement.\n",
    "\n",
    "My favorite song is the first element of the tuple. It can be accessed using its index as shown below. "
   ]
  },
  {
   "cell_type": "code",
   "execution_count": 2,
   "metadata": {},
   "outputs": [
    {
     "name": "stdout",
     "output_type": "stream",
     "text": [
      "My favorite song is Ace of Spades\n"
     ]
    }
   ],
   "source": [
    "print(\"My favorite song is\", my_favorite_songs()[0])"
   ]
  },
  {
   "cell_type": "markdown",
   "metadata": {},
   "source": [
    "# Destructuring function results\n",
    "Using the destructuring assignment it is possible to access the favorite song directly. This is shown in the example below."
   ]
  },
  {
   "cell_type": "code",
   "execution_count": 3,
   "metadata": {},
   "outputs": [
    {
     "name": "stdout",
     "output_type": "stream",
     "text": [
      "My favorite song is Ace of Spades\n",
      "My 3rd favorite song is Blue Train\n"
     ]
    }
   ],
   "source": [
    "favorite_song, _, least_favorite_song = my_favorite_songs()\n",
    "\n",
    "print(\"My favorite song is\", favorite_song)\n",
    "print(\"My 3rd favorite song is\", least_favorite_song)"
   ]
  },
  {
   "cell_type": "markdown",
   "metadata": {},
   "source": [
    "The function `my_favorite_songs()` returns a tuple containing three elements. Using a destructuring assignment\n",
    "the elements can be assigned to variables directly. In the example above, the first element is assigned to \n",
    "the variable `favorite_song` and the third element to the variable `least_favorite_song`. \n",
    "\n",
    "In addition, the `_` character is used to mark any position that you don't care about. In fact, Python\n",
    "will assign the unpacked value to a variable `_` which could also be used. But it is a convention among\n",
    "developers to use it as a *throwaway-variable*."
   ]
  },
  {
   "cell_type": "code",
   "execution_count": 4,
   "metadata": {},
   "outputs": [
    {
     "name": "stdout",
     "output_type": "stream",
     "text": [
      "Dirty\n"
     ]
    }
   ],
   "source": [
    "# show content of _ variable\n",
    "print(_)"
   ]
  },
  {
   "cell_type": "markdown",
   "metadata": {},
   "source": [
    "## The `*` expression\n",
    "Of course it is quite cumbersome if the exact number of elements in a function result needs to be known in advance. How\n",
    "would this work if the list of favorite songs is read from a file for example? In this case it is impossible to know in\n",
    "advance how many elements the result of the function would contain. To cope with this kind of situations a `*`\n",
    "expression can be used."
   ]
  },
  {
   "cell_type": "code",
   "execution_count": 5,
   "metadata": {},
   "outputs": [
    {
     "name": "stdout",
     "output_type": "stream",
     "text": [
      "My favorite song is Ace of Spades\n",
      "The rest of the songs are ['Dirty', 'Blue Train']\n"
     ]
    }
   ],
   "source": [
    "favorite_song, *rest = my_favorite_songs()\n",
    "\n",
    "print(\"My favorite song is\", favorite_song)\n",
    "print(\"The rest of the songs are\", rest)"
   ]
  },
  {
   "cell_type": "markdown",
   "metadata": {},
   "source": [
    "In the example above the first element of the result is assigned to the variable `favorite_song`. Everything\n",
    "else is assigned to the variable `rest`. Note, that the variable `rest` is a list. \n",
    "\n",
    "Using the same approach it is also possible to get only the last element in the result."
   ]
  },
  {
   "cell_type": "code",
   "execution_count": 6,
   "metadata": {},
   "outputs": [
    {
     "name": "stdout",
     "output_type": "stream",
     "text": [
      "My least favorite song is Blue Train\n",
      "The rest of the songs are ['Ace of Spades', 'Dirty']\n"
     ]
    }
   ],
   "source": [
    "*favorite_songs, least_favorite_song = my_favorite_songs()\n",
    "\n",
    "print(\"My least favorite song is\", least_favorite_song)\n",
    "print(\"The rest of the songs are\", favorite_songs)"
   ]
  },
  {
   "cell_type": "markdown",
   "metadata": {},
   "source": [
    "## More destructuring\n",
    "In particular it is possible to use the destructuring assignment whenever\n",
    "a [sequence type](https://docs.python.org/3/library/stdtypes.html#sequence-types-list-tuple-range) is involved.\n",
    "Below are a few examples. First using the destructuring assignment with a list. "
   ]
  },
  {
   "cell_type": "code",
   "execution_count": 1,
   "metadata": {},
   "outputs": [
    {
     "name": "stdout",
     "output_type": "stream",
     "text": [
      "The smallest prime number in the list is 2 , the largest 19\n"
     ]
    }
   ],
   "source": [
    "primes = [2, 3, 5, 7, 11, 13, 17, 19]\n",
    "smallest_prime, *_, largest_prime = primes\n",
    "\n",
    "print(\n",
    "    \"The smallest prime number in the list is\",\n",
    "    smallest_prime,\n",
    "    \", the largest\",\n",
    "    largest_prime,\n",
    ")"
   ]
  },
  {
   "cell_type": "code",
   "execution_count": 4,
   "metadata": {},
   "outputs": [
    {
     "name": "stdout",
     "output_type": "stream",
     "text": [
      "[3, 5, 7, 11, 13, 17]\n"
     ]
    }
   ],
   "source": [
    "print(_)"
   ]
  },
  {
   "cell_type": "markdown",
   "metadata": {},
   "source": [
    "In the first example a destructuring assignment is used together with a list to get the first and the\n",
    "last element in the list. Furthermore, the `*_` expression is use to ignore the middle part of the list. \n",
    "\n",
    "In the next example the destructuring assignment is use in combination with a range."
   ]
  },
  {
   "cell_type": "code",
   "execution_count": 8,
   "metadata": {},
   "outputs": [
    {
     "name": "stdout",
     "output_type": "stream",
     "text": [
      "The first element in the range is 0\n",
      "The second element is 3\n",
      "The rest is [6, 9, 12, 15, 18]\n"
     ]
    }
   ],
   "source": [
    "first_number, second_number, *rest = range(0, 20, 3)\n",
    "print(\"The first element in the range is\", first_number)\n",
    "print(\"The second element is\", second_number)\n",
    "print(\"The rest is\", rest)"
   ]
  },
  {
   "cell_type": "markdown",
   "metadata": {},
   "source": [
    "# Combining destructuring and loops\n",
    "Another usage of the destructuring assignment is the combination with loops. Consider an example where a list contains\n",
    "songs and the number of times they were played. In this case the destructuring assignment can be used to simplify\n",
    "looping thorough the data, too."
   ]
  },
  {
   "cell_type": "code",
   "execution_count": 9,
   "metadata": {},
   "outputs": [
    {
     "name": "stdout",
     "output_type": "stream",
     "text": [
      "Ace of Spades has been played 99 times.\n",
      "Blue Train has been played 42 times.\n",
      "Dirty has been played 23 times.\n",
      "Blitzkrieg Bop has been played 17 times.\n"
     ]
    }
   ],
   "source": [
    "songs = [\n",
    "    (\"Ace of Spades\", 99),\n",
    "    (\"Blue Train\", 42),\n",
    "    (\"Dirty\", 23),\n",
    "    (\"Blitzkrieg Bop\", 17),\n",
    "]\n",
    "\n",
    "for name, play_count in songs:\n",
    "    print(name, \"has been played\", play_count, \"times.\")"
   ]
  },
  {
   "cell_type": "markdown",
   "metadata": {},
   "source": [
    "In the example above the destructuring happens in the `for` loop. Instead of assigning the `song` elements to\n",
    "a variable and accessing the name and the play count using the index a destructuring assignment is used.\n",
    "Basically, the for loop is a shorter version of the following example."
   ]
  },
  {
   "cell_type": "code",
   "execution_count": 11,
   "metadata": {},
   "outputs": [
    {
     "name": "stdout",
     "output_type": "stream",
     "text": [
      "Ace of Spades has been played 99 times.\n",
      "Blue Train has been played 42 times.\n",
      "Dirty has been played 23 times.\n",
      "Blitzkrieg Bop has been played 17 times.\n"
     ]
    }
   ],
   "source": [
    "songs = [\n",
    "    (\"Ace of Spades\", 99),\n",
    "    (\"Blue Train\", 42),\n",
    "    (\"Dirty\", 23),\n",
    "    (\"Blitzkrieg Bop\", 17),\n",
    "]\n",
    "\n",
    "for song in songs:\n",
    "    name, play_count = song\n",
    "    print(name, \"has been played\", play_count, \"times.\")"
   ]
  },
  {
   "cell_type": "markdown",
   "metadata": {},
   "source": [
    "# Self Test"
   ]
  },
  {
   "cell_type": "markdown",
   "metadata": {},
   "source": [
    "### Question 1\n",
    "`1.0 Pts`\n",
    "\n",
    "What is the value of the variable `i` after the execution of the following statements?\n",
    "\n",
    "1 \\\n",
    "(1) \\\n",
    "2 \\\n",
    "Error"
   ]
  },
  {
   "cell_type": "code",
   "execution_count": 12,
   "metadata": {},
   "outputs": [
    {
     "name": "stdout",
     "output_type": "stream",
     "text": [
      "1\n",
      "2\n",
      "3\n",
      "4\n",
      "5\n"
     ]
    }
   ],
   "source": [
    "x = (1, 2, 3, 4, 5)\n",
    "i, j, k, l, m = x\n",
    "\n",
    "print(i)\n",
    "print(j)\n",
    "print(k)\n",
    "print(l)\n",
    "print(m)"
   ]
  },
  {
   "cell_type": "markdown",
   "metadata": {},
   "source": [
    "### Question 2\n",
    "`1.0 Pts`\n",
    "\n",
    "What is the value of the variable `i` after the execution of the following statement?\n",
    "\n",
    "(2, 3, 4, 5) \\\n",
    "1 \\\n",
    "(1, 2) \\\n",
    "2"
   ]
  },
  {
   "cell_type": "code",
   "execution_count": 15,
   "metadata": {},
   "outputs": [
    {
     "name": "stdout",
     "output_type": "stream",
     "text": [
      "2\n",
      "[3, 4, 5]\n"
     ]
    }
   ],
   "source": [
    "x = (1, 2, 3, 4, 5)\n",
    "\n",
    "_, i, *j = x\n",
    "\n",
    "print(i)\n",
    "print(j)"
   ]
  }
 ],
 "metadata": {
  "interpreter": {
   "hash": "9fd0e282e2343d8b38b390b803aabc7fcea80a18eee8e5bd23ce64f6435b30a1"
  },
  "kernelspec": {
   "display_name": "Python 3 (ipykernel)",
   "language": "python",
   "name": "python3"
  },
  "language_info": {
   "codemirror_mode": {
    "name": "ipython",
    "version": 3
   },
   "file_extension": ".py",
   "mimetype": "text/x-python",
   "name": "python",
   "nbconvert_exporter": "python",
   "pygments_lexer": "ipython3",
   "version": "3.9.12"
  }
 },
 "nbformat": 4,
 "nbformat_minor": 4
}
