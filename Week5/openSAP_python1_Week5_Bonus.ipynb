{
 "cells": [
  {
   "cell_type": "markdown",
   "id": "a9489c99-8dc8-462c-97c9-89d6d06d7df6",
   "metadata": {},
   "source": [
    "# Bonus Exercise Week 5"
   ]
  },
  {
   "cell_type": "markdown",
   "id": "13a5c1e5-19b7-4f02-80f6-bcf089275ad6",
   "metadata": {},
   "source": [
    "### Instructions:\n",
    "    \n",
    "[Prime numbers](https://en.wikipedia.org/wiki/Prime_number) are natural numbers greater than 1 which are not divisible by any number beside 1 and the number itself. In other words, the number cannot be composed as a product of two natural numbers other than 1 and the number itself. There are infinite prime numbers and the first ones are:\n",
    "\n",
    "2, 3, 5, 7, 11, …\n",
    "\n",
    "Write a program, that gets an integer through input and creates a list containing all prime numbers until this input. To do so, two functions have to be implemented:\n",
    "\n",
    "The function `is_prime()` gets an integer as input and returns `True` if this integer is prime, and `False` if the integer is not prime.\n",
    "\n",
    "The function `prime_list()` gets an integer as input and checks each number from 2 to input, if it is prime by calling the above function. If a number is prime, it is appended to a list. This list is given back as the return value of `prime_list()`.\n",
    "\n",
    "The program finally outputs the list of all prime numbers.\n",
    "\n",
    "Example 1:\n",
    "\n",
    "Up to which number do you want all prime numbers: 100 \\\n",
    "`[2, 3, 5, 7, 11, 13, 17, 19, 23, 29, 31, 37, 41, 43, 47, 53, 59, 61, 67, 71, 73, 79, 83, 89, 97]`\n",
    "\n",
    "Example 2:\n",
    "\n",
    "Up to which number do you want all prime numbers: 13 \\\n",
    "`[2, 3, 5, 7, 11, 13]`"
   ]
  },
  {
   "cell_type": "code",
   "execution_count": 125,
   "id": "8ead08aa-db89-4364-8d94-c7c907d423bb",
   "metadata": {},
   "outputs": [
    {
     "name": "stdin",
     "output_type": "stream",
     "text": [
      "Up to which number do you want all prime numbers: 100\n"
     ]
    },
    {
     "name": "stdout",
     "output_type": "stream",
     "text": [
      "[2, 3, 5, 7, 11, 13, 17, 19, 23, 29, 31, 37, 41, 43, 47, 53, 59, 61, 67, 71, 73, 79, 83, 89, 97]\n"
     ]
    }
   ],
   "source": [
    "max_number = int(input(\"Up to which number do you want all prime numbers:\"))\n",
    "\n",
    "def is_prime(x):\n",
    "    if (x == 2):\n",
    "        return True\n",
    "    elif x % 2 == 0:\n",
    "        return False\n",
    "    for i in range(3, int(x**0.5)+1):\n",
    "        if x % i == 0:\n",
    "            return False\n",
    "    return True\n",
    "            \n",
    "def prime_list(max_number):\n",
    "    list_of_prime = []\n",
    "    for i in range(2, max_number+1):\n",
    "        if is_prime(i):\n",
    "            list_of_prime.append(i)\n",
    "    return list_of_prime\n",
    "print(prime_list(max_number))"
   ]
  },
  {
   "cell_type": "code",
   "execution_count": 106,
   "id": "c76c0826-a031-481b-8264-35ab3b9d3aa1",
   "metadata": {},
   "outputs": [
    {
     "data": {
      "text/plain": [
       "25"
      ]
     },
     "execution_count": 106,
     "metadata": {},
     "output_type": "execute_result"
    }
   ],
   "source": [
    "len([2, 3, 5, 7, 11, 13, 17, 19, 23, 29, 31, 37, 41, 43, 47, 53, 59, 61, 67, 71, 73, 79, 83, 89, 97])"
   ]
  },
  {
   "cell_type": "code",
   "execution_count": 133,
   "id": "630c0eac-cbd7-4b4e-bc53-a3d4df10b456",
   "metadata": {},
   "outputs": [
    {
     "name": "stdout",
     "output_type": "stream",
     "text": [
      "[2, 3, 5, 7, 11, 13, 17, 19, 23, 29, 31, 37, 41, 43, 47, 53, 59, 61, 67, 71, 73, 79, 83, 89, 97]\n"
     ]
    }
   ],
   "source": [
    "print(prime_list(100))"
   ]
  },
  {
   "cell_type": "code",
   "execution_count": 134,
   "id": "891c840f-09d6-4627-b912-3a7eafe76477",
   "metadata": {},
   "outputs": [
    {
     "data": {
      "text/plain": [
       "25"
      ]
     },
     "execution_count": 134,
     "metadata": {},
     "output_type": "execute_result"
    }
   ],
   "source": [
    "len(prime_list(100))"
   ]
  },
  {
   "cell_type": "code",
   "execution_count": 143,
   "id": "d528ac14-4105-400a-8fa1-de3904b48b01",
   "metadata": {},
   "outputs": [
    {
     "name": "stdin",
     "output_type": "stream",
     "text": [
      "Up to which number do you want all prime numbers: 13\n"
     ]
    },
    {
     "name": "stdout",
     "output_type": "stream",
     "text": [
      "[2, 3, 5, 7, 11]\n",
      "5\n"
     ]
    }
   ],
   "source": [
    "# Peer Review\n",
    "\n",
    "def is_prime(n):\n",
    "    \"\"\"\n",
    "    Checks if the number n is a prime number\n",
    "    \"\"\"\n",
    "    for i in range(2, n):\n",
    "        if n % i == 0:\n",
    "            return False\n",
    "    return True\n",
    "\n",
    "def prime_list(number):\n",
    "    output = []\n",
    "    \n",
    "    for i in range(2, number):\n",
    "        if is_prime(i):\n",
    "            output.append(i)\n",
    "    return output\n",
    "        \n",
    "        \n",
    "number = int(input(\"Up to which number do you want all prime numbers:\"))\n",
    "\n",
    "print(prime_list(number))\n",
    "print(len(prime_list(number)))\n",
    "\n",
    "# Review\n",
    "# range need to include the possibility of number included. "
   ]
  }
 ],
 "metadata": {
  "kernelspec": {
   "display_name": "Python 3 (ipykernel)",
   "language": "python",
   "name": "python3"
  },
  "language_info": {
   "codemirror_mode": {
    "name": "ipython",
    "version": 3
   },
   "file_extension": ".py",
   "mimetype": "text/x-python",
   "name": "python",
   "nbconvert_exporter": "python",
   "pygments_lexer": "ipython3",
   "version": "3.9.12"
  }
 },
 "nbformat": 4,
 "nbformat_minor": 5
}
