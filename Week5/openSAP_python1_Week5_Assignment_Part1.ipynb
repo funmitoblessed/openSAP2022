{
 "cells": [
  {
   "cell_type": "markdown",
   "id": "da1d6551-ac3d-41c5-bb8e-1464828383bc",
   "metadata": {},
   "source": [
    "# Assignment Week 5 (Part 1 - Questions)"
   ]
  },
  {
   "cell_type": "markdown",
   "id": "5d58e8cf-ff69-46d1-90bd-61b6fc7885e7",
   "metadata": {},
   "source": [
    "### Question 1\n",
    "`2.0 Pts`\n",
    "\n",
    "Which of the following statements about functions are correct?\n",
    "\n",
    "*Note: There are 3 correct answers to this question.*\n",
    "\n",
    "Business functions like controlling and marketing are based on the definition of functions in programming. \\\n",
    "In Python, a function is executed by simply calling the name of the function. `correct` \\\n",
    "In programming, functions are assignments of one set (E) to another set (D). \\\n",
    "Functions should have a name that supports the understanding of the functionality of this function. `correct` \\\n",
    "If a function is called, it is not necessary to know the implementation details of this function. `correct`"
   ]
  },
  {
   "cell_type": "markdown",
   "id": "6b40383e-af16-4a50-8521-75cf0545cc74",
   "metadata": {},
   "source": [
    "### Question 2\n",
    "`2.0 Pts`\n",
    "\n",
    "Which of the following statements about return values in functions are correct?\n",
    "\n",
    "*Note: There are 3 correct answers to this question.*\n",
    "\n",
    "If a return value is an expression (for example, `return 2 + 3`) , then the expression is first calculated, and the result is given back. `correct` \\\n",
    "Functions must have at least one return statement. \\\n",
    "The return values are limited to primitive data types. \\\n",
    "If the return statement within a function is executed, the function is terminated. That means, if there are more statements behind the return, these are not executed. `correct` \\\n",
    "Functions can have several return statements. `correct`"
   ]
  },
  {
   "cell_type": "markdown",
   "id": "061b8206-a376-41fa-8ea7-4a42b1f7c476",
   "metadata": {},
   "source": [
    "### Question 3\n",
    "`1.0 Pts`\n",
    "\n",
    "What is the output of the following program?\n",
    "\n",
    "4 \\\n",
    "6 \\\n",
    "6\n",
    "\n",
    "4 \\\n",
    "6 \n",
    "\n",
    "4 \\\n",
    "8\n",
    "\n",
    "4 \\\n",
    "4 \\\n",
    "6"
   ]
  },
  {
   "cell_type": "code",
   "execution_count": 2,
   "id": "5a2ae421-832f-4a8b-8f44-957022de68ee",
   "metadata": {},
   "outputs": [
    {
     "name": "stdout",
     "output_type": "stream",
     "text": [
      "4\n",
      "4\n",
      "6\n"
     ]
    }
   ],
   "source": [
    "def f4():\n",
    "    print(4)\n",
    "    return 3\n",
    "\n",
    "print(f4() + f4())"
   ]
  },
  {
   "cell_type": "markdown",
   "id": "9a46646f-db15-4962-821d-71420bf6871e",
   "metadata": {},
   "source": [
    "### Question 4\n",
    "`2.0 Pts`\n",
    "Which of the following statements about functions in Python are correct?\n",
    "\n",
    "*Note: There are 3 correct answers to this question.*\n",
    "\n",
    "If a parameter is not used within the function (no write or read access), an error is triggered. \\\n",
    "Parameters can have default values, that means, if no value is passed, then the default value is taken instead. `correct` \\\n",
    "In the definition statement of the function, the parameters without default values must be listed before the parameters with default values. `correct` \\\n",
    "If all parameters have a default value, then the function can be called without passing a parameter. `correct` \\\n",
    "If a parameter is declared without a default value and a function call does not pass a value to this parameter, then a random value is taken instead\"."
   ]
  },
  {
   "cell_type": "code",
   "execution_count": 17,
   "id": "83757e93-fde8-40f2-a8c0-56ff2563b333",
   "metadata": {},
   "outputs": [
    {
     "data": {
      "text/plain": [
       "({'w': 5}, 5)"
      ]
     },
     "execution_count": 17,
     "metadata": {},
     "output_type": "execute_result"
    }
   ],
   "source": [
    "def f1(w, h=5):\n",
    "    return {\"w\": h}, w\n",
    "\n",
    "f1(5)"
   ]
  },
  {
   "cell_type": "markdown",
   "id": "2dfcf82f-9172-4c0b-a69a-5aa58fb10207",
   "metadata": {},
   "source": [
    "### Question 5\n",
    "`1.0 Pts`\n",
    "\n",
    "What is the outcome of the following program?\n",
    "\n",
    "5 \\\n",
    "5 \\\n",
    "14\n",
    "\n",
    "1 \\\n",
    "5 \\\n",
    "8\n",
    "\n",
    "1 \\\n",
    "5 \\\n",
    "10\n",
    "\n",
    "5 \\\n",
    "5 \\\n",
    "10"
   ]
  },
  {
   "cell_type": "code",
   "execution_count": 3,
   "id": "c80b3738-a69c-47e3-a9c8-799d9d1d130e",
   "metadata": {},
   "outputs": [
    {
     "name": "stdout",
     "output_type": "stream",
     "text": [
      "1\n",
      "5\n",
      "10\n"
     ]
    }
   ],
   "source": [
    "def f2(x = 5):\n",
    "    print(x)\n",
    "    x += 1\n",
    "    return x + 1\n",
    "    \n",
    "print(f2(1) + f2())"
   ]
  },
  {
   "cell_type": "markdown",
   "id": "1dbd63dd-58de-4911-95b5-81b82b9eb2c5",
   "metadata": {},
   "source": [
    "### Question 6\n",
    "`1.0 Pts`\n",
    "\n",
    "What is the outcome of the following program?\n",
    "\n",
    "10 \\\n",
    "11\n",
    "\n",
    "VariableMismatchError\n",
    "\n",
    "10 \\\n",
    "4\n",
    "\n",
    "3 \\\n",
    "4"
   ]
  },
  {
   "cell_type": "code",
   "execution_count": 5,
   "id": "bca26e23-a34c-4d1e-a988-30e907b6dd19",
   "metadata": {},
   "outputs": [
    {
     "name": "stdout",
     "output_type": "stream",
     "text": [
      "10\n",
      "4\n"
     ]
    }
   ],
   "source": [
    "def f3():\n",
    "    x = 10\n",
    "    print(x)\n",
    "    \n",
    "x = 3\n",
    "f3()\n",
    "print(x + 1)"
   ]
  },
  {
   "cell_type": "markdown",
   "id": "ac82cfa8-9fc4-4162-a620-1087a6813513",
   "metadata": {},
   "source": [
    "### Question 7\n",
    "`2.0 Pts`\n",
    "\n",
    "Which of the following statements about combining functions is correct?\n",
    "\n",
    "*Note: There are 3 correct answers to this question.*\n",
    "\n",
    "Nesting functions should be done with care. Too much nesting can decrease the readability of a program. `correct` \\\n",
    "Functions can be nested. They are executed from the inside out. `correct` \\\n",
    "It is possible to combine functions by putting several functions into one expression (for example, `f1()` + `f2()`). However, it is not possible to include one function within another. \\\n",
    "It is not possible to call functions within the statement block of another function. \\\n",
    "If functions are nested, the output of the inner function must fit to the expected input of the outer function. `correct`"
   ]
  },
  {
   "cell_type": "markdown",
   "id": "ff38a66d-4ae0-451c-bb63-758ec90a63b2",
   "metadata": {},
   "source": [
    "### Question 8\n",
    "`1.0 Pts`\n",
    "\n",
    "What is the output of the following function?\n",
    "\n",
    "Light is off \\\n",
    "True \\\n",
    "Light is on \\\n",
    "False"
   ]
  },
  {
   "cell_type": "code",
   "execution_count": 4,
   "id": "4f6c27e7-5fc7-48f0-ad11-a3e589f797dd",
   "metadata": {},
   "outputs": [
    {
     "name": "stdout",
     "output_type": "stream",
     "text": [
      "Light is on\n"
     ]
    }
   ],
   "source": [
    "light_on = True\n",
    "\n",
    "def switch_light(x):\n",
    "    return not(x)\n",
    "\n",
    "def print_light_state(light):\n",
    "    if light:\n",
    "        print(\"Light is on\")\n",
    "    else:\n",
    "        print(\"Light is off\")\n",
    "        \n",
    "print_light_state(switch_light(switch_light(light_on)))"
   ]
  },
  {
   "cell_type": "markdown",
   "id": "1f6e3769-698c-4d8a-a357-be02b0238b23",
   "metadata": {},
   "source": [
    "### Question 9\n",
    "`2.0 Pts`\n",
    "\n",
    "Which of the following statements about destructuring is correct?\n",
    "\n",
    "*Note: There are 2 correct answers to this question.*\n",
    "\n",
    "If several values are given behind the keyword `return`, they must have the same data type. \\\n",
    "There can be only one object returned back by a function. `correct` \\\n",
    "If several values are given behind the keyword `return`, these values are automatically packed into a tuple. `correct` \\\n",
    "If several values are given behind the keyword `return`, the TooManyValuesError is triggered. \\\n",
    "The values listed behind the keyword `return` must have a primitive data type."
   ]
  },
  {
   "cell_type": "markdown",
   "id": "a56b7f7d-024d-4d64-9071-e7beb124c20d",
   "metadata": {},
   "source": [
    "### Question 10\n",
    "`1.0 Pts`\n",
    "\n",
    "What is the value of the variable `j` after the execution of the following statement?\n",
    "\n",
    "[3, 4, 5] \\\n",
    "Error \\\n",
    "(3, 4, 5) \\\n",
    "5"
   ]
  },
  {
   "cell_type": "code",
   "execution_count": 6,
   "id": "c9056364-0af3-41c8-b0f9-74c74b678f03",
   "metadata": {},
   "outputs": [
    {
     "name": "stdout",
     "output_type": "stream",
     "text": [
      "[3, 4, 5]\n"
     ]
    }
   ],
   "source": [
    "x = (1, 2, 3, 4, 5)\n",
    "\n",
    "_, i, *j = x\n",
    "\n",
    "print(j)"
   ]
  }
 ],
 "metadata": {
  "kernelspec": {
   "display_name": "Python 3 (ipykernel)",
   "language": "python",
   "name": "python3"
  },
  "language_info": {
   "codemirror_mode": {
    "name": "ipython",
    "version": 3
   },
   "file_extension": ".py",
   "mimetype": "text/x-python",
   "name": "python",
   "nbconvert_exporter": "python",
   "pygments_lexer": "ipython3",
   "version": "3.9.12"
  }
 },
 "nbformat": 4,
 "nbformat_minor": 5
}
