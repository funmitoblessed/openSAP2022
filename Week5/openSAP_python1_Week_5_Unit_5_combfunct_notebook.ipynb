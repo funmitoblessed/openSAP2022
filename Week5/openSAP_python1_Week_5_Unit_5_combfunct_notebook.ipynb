{
 "cells": [
  {
   "cell_type": "markdown",
   "metadata": {},
   "source": [
    "# Combining functions\n",
    "A quite common pattern in Python is to directly use the result of one function as a parameter for another function. This\n",
    "unit focuses on this pattern. Furthermore, this unit also shows when not to combine functions.\n",
    "\n",
    "\n",
    "## Introduction\n",
    "Using the result of one function as a parameter for another function is something that was used already in previous\n",
    "units. For example, to get a input from the user and convert it to an integer the following Python snippet can be used."
   ]
  },
  {
   "cell_type": "code",
   "execution_count": 1,
   "metadata": {},
   "outputs": [
    {
     "name": "stdin",
     "output_type": "stream",
     "text": [
      "Please enter a number:  34\n"
     ]
    }
   ],
   "source": [
    "number = int(input(\"Please enter a number: \"))"
   ]
  },
  {
   "cell_type": "markdown",
   "metadata": {},
   "source": [
    "Although this snippet should look familiar by now, there are a few things to note. First, two functions are used in the snippet:\n",
    "\n",
    "- `input()` - to output a message and read input from the user\n",
    "- `int()` - to convert the user input to an integer.\n",
    "\n",
    "Second, the return value of the `input()` function is passed as a parameter to the `int()` function. This becomes obvious if an \n",
    "auxiliary variable is used."
   ]
  },
  {
   "cell_type": "code",
   "execution_count": 2,
   "metadata": {},
   "outputs": [
    {
     "name": "stdin",
     "output_type": "stream",
     "text": [
      "Please enter a number:  34\n"
     ]
    }
   ],
   "source": [
    "user_input = input(\"Please enter a number: \")\n",
    "number = int(user_input)"
   ]
  },
  {
   "cell_type": "markdown",
   "metadata": {},
   "source": [
    "Third, the evaluation of the function is performed from the inside out. I.e. that the innermost function, in our example\n",
    "the `input()` function is evaluated first. The outer function (`int()` in the example) is evaluated as soon as a result\n",
    "is returned from the `input()` function."
   ]
  },
  {
   "cell_type": "markdown",
   "metadata": {},
   "source": [
    "## Nesting multiple functions\n",
    "\n",
    "Of cause, it is not only possible to combine two functions. This is shown in the example below."
   ]
  },
  {
   "cell_type": "code",
   "execution_count": 8,
   "metadata": {},
   "outputs": [
    {
     "name": "stdin",
     "output_type": "stream",
     "text": [
      "Please enter a number:  34\n",
      "Please enter another number: 3\n"
     ]
    },
    {
     "name": "stdout",
     "output_type": "stream",
     "text": [
      "The product of the two numbers is 102\n"
     ]
    }
   ],
   "source": [
    "def multiply(a, b):\n",
    "    return a * b\n",
    "\n",
    "\n",
    "print(\n",
    "    \"The product of the two numbers is\",\n",
    "    multiply(\n",
    "        int(input(\"Please enter a number: \")),\n",
    "        int(input(\"Please enter another number:\")),\n",
    "    ),\n",
    ")"
   ]
  },
  {
   "cell_type": "markdown",
   "metadata": {},
   "source": [
    "In the beginning of this example,the function `multiply()` is defined. The function expects two parameters, the factors\n",
    "`a` and `b`. Next, the function is used to implement the following functionally:\n",
    "1. Ask the user to input a number\n",
    "1. Ask the user to input another number\n",
    "1. Print the product of the two numbers\n",
    "\n",
    "To implement this functionality, the following three functions are used in succession:\n",
    "- `input()`\n",
    "- `int()`\n",
    "- `print()`\n",
    "\n",
    "Again, the evaluation of the combined function call is performed starting with the innermost function. In the example\n",
    "the functions are evaluated in the following order:\n",
    "\n",
    "1. The first `input()` function is evaluated (i.e. `input(\"Please enter a number: \")`)\n",
    "1. The result of the `input()` function is passed to the `int()` function\n",
    "1. The second `input()` function is evaluated (i.e. `input(\"Please enter another number: \")`)\n",
    "1. The result of the `input()` function is passed to the `int()` function\n",
    "1. The `multiply()` function is evaluated\n",
    "1. The `print()` function is evaluated"
   ]
  },
  {
   "cell_type": "markdown",
   "metadata": {},
   "source": [
    "## Caveats\n",
    "The previous examples show one of the important caveats when combining functions. Combining of functions can be used to\n",
    "make the Python code very concise. In case of combing the `int()` and the `input()` function, this helps the reader to\n",
    "quickly understand the purpose of the Python code. In case of the previous example the combination of multiple functions\n",
    "actually hinder understanding of the code. In this example it is not immediately clear to the reader what exactly\n",
    "happens.\n",
    "\n",
    "In summary, combining functions is a nice possibility to write very concise code. However, misusing the combination of\n",
    "functions quickly leads to unreadable Python code. When to combine functions and when not to combine functions is\n",
    "something that requires experience. In general it is better to split the Python code in to multiple lines by using\n",
    "auxiliary variables then trying to write overly concise programs.\n",
    "\n",
    "Always remember: [With great power comes great responsibility](https://en.wikipedia.org/wiki/With_great_power_comes_great_responsibility)."
   ]
  },
  {
   "cell_type": "markdown",
   "metadata": {},
   "source": [
    "## Combining functions\n",
    "\n",
    "Of course, it is also possible to combine functions without nesting. Inside the body of a function it is possible to invoke\n",
    "other functions. This is shown in the following cell."
   ]
  },
  {
   "cell_type": "code",
   "execution_count": 22,
   "metadata": {},
   "outputs": [
    {
     "name": "stdout",
     "output_type": "stream",
     "text": [
      "10 is a prime: False\n",
      "17 is a prime: True\n"
     ]
    }
   ],
   "source": [
    "def is_divisible(a, b):\n",
    "    \"\"\"\n",
    "    Checks if a is divisible by b without a remainder\n",
    "    \"\"\"\n",
    "    return a % b == 0\n",
    "\n",
    "\n",
    "def is_prime(n):\n",
    "    \"\"\"\n",
    "    Checks if the number n is a prime number\n",
    "    \"\"\"\n",
    "    for i in range(2, n):\n",
    "        if is_divisible(n, i):\n",
    "            return False\n",
    "    return True\n",
    "\n",
    "\n",
    "print(f\"10 is a prime: {is_prime(10)}\")\n",
    "print(f\"17 is a prime: {is_prime(17)}\")"
   ]
  },
  {
   "cell_type": "markdown",
   "metadata": {},
   "source": [
    "## Exercise: Calculating the binomial coefficient\n",
    "\n",
    "The [binomial coefficient](https://en.wikipedia.org/wiki/Binomial_coefficient) can be used to calculate how many number of ways $k$ objects can be chosen from \n",
    "a set of $n$ objects. This is for example the case when playing the lottery. Using the binomial coefficient it is \n",
    "possible to calculate the possible combination for the German lottery. Here 6 numbers are drawn from the numbers \n",
    "1 to 49. \n",
    "\n",
    "The number of possible combinations is given by the formula: $\\frac{49!}{6!(49 - 6)!}$. The general formula for calculating\n",
    "the binomial coefficient is: $\\frac{n!}{k!(n - k)!}$ \n",
    "\n",
    "Write a function `binomial`, that takes the numbers 'n' and 'k' as a parameter and calculates the binomial coefficient \n",
    "as a result. Reuse your factorial function from the unit 3 of the current week. Alternatively use the example \n",
    "given below as a starting point. "
   ]
  },
  {
   "cell_type": "code",
   "execution_count": 5,
   "metadata": {},
   "outputs": [
    {
     "name": "stdout",
     "output_type": "stream",
     "text": [
      "The possible number of combinations to draw 6 numbers from 49 numbers is 13983816.\n"
     ]
    }
   ],
   "source": [
    "def factorial(n):\n",
    "    result = 1\n",
    "\n",
    "    if n > 1:\n",
    "        for i in range(1, n + 1):\n",
    "            result *= i\n",
    "\n",
    "    return result\n",
    "\n",
    "\n",
    "def binomial(k, n):\n",
    "    n_fac = factorial(n)\n",
    "    k_fac = factorial(k)\n",
    "    n_minus_k_fac = factorial(n - k)\n",
    "\n",
    "    binomial_cof = n_fac / (k_fac * n_minus_k_fac)\n",
    "\n",
    "    return binomial_cof\n",
    "\n",
    "\n",
    "print(\n",
    "    f\"The possible number of combinations to draw 6 numbers from 49 numbers is {int(binomial(6, 49))}.\"\n",
    ")"
   ]
  },
  {
   "cell_type": "markdown",
   "metadata": {},
   "source": [
    "## Common patterns\n",
    "With the information above it is now possible to analyse a quite common pattern used in many Python 🐍 programs. As shown in\n",
    "the following example variables and parameters often use the same name. In the example, a global variable `song` is\n",
    "defined in the first line. Furthermore, a parameter `song` is defined in the function `play_music` and a local variable\n",
    "`song` inside the function `play_ramones()`.\n",
    "\n",
    "When the function `play_ramones()` *at the end of the cell* is invoked the following happens:\n",
    "1. The local variable `song` is initialized with the value \"Blitzkrieg Bop\" *within the function* `play_ramones()`\n",
    "1. The function `play_music()` is invoked and the local variable `song` is passed as a parameter *last statement in the function* `play_ramones()`. Through\n",
    "   this invocation the value of the parameter `song` is set to the value of the local variable `song`\n",
    "1. The `print()` function is invoked and the parameter `song` is passed as a parameter *first line of function* `play_music()`.\n",
    "\n",
    "The global variable `song` is never read or changed. The local variable `song` in the function `play_ramones()` and the\n",
    "parameter `song` of the function `play_music` hide the global variable.\n",
    "\n",
    "It is important to note that, although the name *`song`* of the global variable, the local variable and the parameter is\n",
    "the same, they are very different from the point of view of the Python interpreter. Using the same name is just a hint\n",
    "for humans reading the program to understand how values are passed along."
   ]
  },
  {
   "cell_type": "code",
   "execution_count": null,
   "metadata": {},
   "outputs": [
    {
     "name": "stdout",
     "output_type": "stream",
     "text": [
      "Listening to Blitzkrieg Bop\n"
     ]
    }
   ],
   "source": [
    "song = \"\"\n",
    "\n",
    "\n",
    "def play_music(song):\n",
    "    print(\"Listening to\", song)\n",
    "\n",
    "\n",
    "def play_ramones():\n",
    "    song = \"Blitzkrieg Bop\"\n",
    "    play_music(song)\n",
    "\n",
    "\n",
    "play_ramones()"
   ]
  },
  {
   "cell_type": "markdown",
   "metadata": {},
   "source": [
    "# Self Test"
   ]
  },
  {
   "cell_type": "markdown",
   "metadata": {},
   "source": [
    "### Question 1\n",
    "`1.0 Pts`\n",
    "\n",
    "The following question is tricky, as the function uses recursion. What is the output of this program?\n",
    "\n",
    "13 \\\n",
    "Error \\\n",
    "5 \\\n",
    "8"
   ]
  },
  {
   "cell_type": "code",
   "execution_count": 21,
   "metadata": {},
   "outputs": [
    {
     "name": "stdout",
     "output_type": "stream",
     "text": [
      "8\n"
     ]
    }
   ],
   "source": [
    "def fib(x):\n",
    "    if x == 0:\n",
    "        return 0\n",
    "    elif x == 1:\n",
    "        return 1\n",
    "    else:\n",
    "        return fib(x - 1) + fib(x - 2)\n",
    "    \n",
    "print(fib(6))"
   ]
  },
  {
   "cell_type": "markdown",
   "metadata": {},
   "source": [
    "### Question 2\n",
    "`1.0 Pts`\n",
    "\n",
    "What is the output of the following program?\n",
    "\n",
    "105 \\\n",
    "98 \\\n",
    "100 \\\n",
    "120"
   ]
  },
  {
   "cell_type": "code",
   "execution_count": 10,
   "metadata": {},
   "outputs": [
    {
     "name": "stdout",
     "output_type": "stream",
     "text": [
      "120\n"
     ]
    }
   ],
   "source": [
    "def f3(i):\n",
    "    return i + 5\n",
    "\n",
    "def f4(i):\n",
    "    return i * 3\n",
    "\n",
    "print(f3(3) * f4(5))"
   ]
  },
  {
   "cell_type": "markdown",
   "metadata": {},
   "source": [
    "# Unit 5: Exercise"
   ]
  },
  {
   "cell_type": "markdown",
   "metadata": {},
   "source": [
    "### Instructions:\n",
    "\n",
    "The stopping distance of a car can be calculated using the following [rule of thumb](https://en.wikipedia.org/wiki/Braking_distance#Rules_of_thumb):\n",
    "\n",
    "The stopping distance of the car is the sum of the reaction path and the brake distance \\\n",
    "The reaction path depends on the speed. It can be calculated by the following rule of thumb: The reaction path in meter is equal to the speed in km/h times 3/10. - Example: Speed 50km/h –> reaction path 15m \\\n",
    "The brake distance depends as well on the speed. Again there is a rule of thumb which is: brake distance in m is equal to the speed in km/h divided by 10, the result has to be taken by the power of 2 - Example: Speed 50km/h –> (50 / 10)**2 = 25m \\\n",
    "The stopping distance for a car with a speed of 50km/h is 15m + 25m = 40m\n",
    "\n",
    "**Implement the following functions to calculate the stopping distance:**\n",
    "\n",
    "function `reaction_path()` which gets the speed in km/h as input, calculates the reaction path according to the above rule of thumb and returns the path in m \\\n",
    "function `brake_distance()` which gets the speed in km/h as input, calculates the brake distance according to the above rule of thumb and returns the distance in m \\\n",
    "function `stopping_distance()` which gets the speed in km/h as input, calls the above functions, adds their return values and returns this sum\n",
    "\n",
    "Get a speed in km/h as input and output the stopping distance in m."
   ]
  },
  {
   "cell_type": "code",
   "execution_count": 60,
   "metadata": {},
   "outputs": [
    {
     "name": "stdin",
     "output_type": "stream",
     "text": [
      "Please enter the speed in km/h: 120\n"
     ]
    },
    {
     "name": "stdout",
     "output_type": "stream",
     "text": [
      "The recommended stopping distance for a speed of 120km/h is 180.0m\n"
     ]
    }
   ],
   "source": [
    "speed = int(input(\"Please enter the speed in km/h:\"))\n",
    "\n",
    "def reaction_path(speed):\n",
    "    \"\"\"\n",
    "    function reaction_path() gets the speed of a vehicle in km/h as input, \n",
    "    calculates the reaction path according to the rule speed in km/h times 3/10\n",
    "    and returns the path in m\n",
    "    \"\"\"\n",
    "    return (speed * 3) / 10\n",
    "    \n",
    "    \n",
    "def brake_distance(speed):\n",
    "    \"\"\"\n",
    "    function brake_distance() gets the speed of a vehicle in km/h as input, \n",
    "    calculates the reaction path according to the rule speed in km/h divided by 10\n",
    "    and returns the path in m\n",
    "    \"\"\"\n",
    "    return (speed / 10) ** 2\n",
    "\n",
    "def stopping_distance(speed):\n",
    "    \"\"\"\n",
    "    function stopping_distance() gets the speed in km/h as input,\n",
    "    calls the reaction_path() and brake_distance() finctions and returns their sum\n",
    "    \"\"\"\n",
    "    return reaction_path(speed) + brake_distance(speed)\n",
    "\n",
    "print(f\"The recommended stopping distance for a speed of {speed}km/h is {stopping_distance(speed)}m\")"
   ]
  },
  {
   "cell_type": "code",
   "execution_count": 61,
   "metadata": {},
   "outputs": [
    {
     "name": "stdout",
     "output_type": "stream",
     "text": [
      "15.0\n",
      "25.0\n"
     ]
    }
   ],
   "source": [
    "print(reaction_path(50))\n",
    "\n",
    "print(brake_distance(50))"
   ]
  },
  {
   "cell_type": "code",
   "execution_count": 63,
   "metadata": {},
   "outputs": [
    {
     "name": "stdin",
     "output_type": "stream",
     "text": [
      "Enter the speed in Km/h: 50\n"
     ]
    },
    {
     "name": "stdout",
     "output_type": "stream",
     "text": [
      "reaction path 15.0  (m)\n",
      "break distance 25.0  (m)\n",
      "stoping distance 40.0  (m)\n"
     ]
    }
   ],
   "source": [
    "# Peer Review\n",
    "\n",
    "speed = int(input(\"Enter the speed in Km/h:\"))\n",
    "\n",
    "#reaction_path()\n",
    "rp=speed*(3/10)\n",
    "print(\"reaction path\",rp,\" (m)\")\n",
    "\n",
    "#break distance()\n",
    "bd=(speed/10)**2\n",
    "print(\"break distance\",bd,\" (m)\")\n",
    "\n",
    "#stopping_distance()\n",
    "sd=rp+bd\n",
    "print(\"stoping distance\",sd,\" (m)\")\n",
    "\n",
    "# Review\n",
    "\n",
    "# The instruction is to use functions to calculate the stopping distance. \n",
    "# Define your reaction_path and brake_distance functions and call them \n",
    "# from your stopping_distance function"
   ]
  }
 ],
 "metadata": {
  "interpreter": {
   "hash": "9fd0e282e2343d8b38b390b803aabc7fcea80a18eee8e5bd23ce64f6435b30a1"
  },
  "kernelspec": {
   "display_name": "Python 3 (ipykernel)",
   "language": "python",
   "name": "python3"
  },
  "language_info": {
   "codemirror_mode": {
    "name": "ipython",
    "version": 3
   },
   "file_extension": ".py",
   "mimetype": "text/x-python",
   "name": "python",
   "nbconvert_exporter": "python",
   "pygments_lexer": "ipython3",
   "version": "3.9.12"
  }
 },
 "nbformat": 4,
 "nbformat_minor": 4
}
