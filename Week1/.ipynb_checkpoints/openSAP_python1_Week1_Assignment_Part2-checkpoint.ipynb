{
 "cells": [
  {
   "cell_type": "markdown",
   "id": "6184785f-1a43-4dc8-a09b-f21006fb2629",
   "metadata": {},
   "source": [
    "# Assignment Week 1 (Part 2 - Exercise)\n",
    "\n",
    "## Instructions:\n",
    "\n",
    "Now you have another chance to earn points towards your record of achievement. Click the button below to open CodeOcean and implement a solution for the assignment. If you want, you can also solve it in a Jupyter Notebook first and copy the solution to CodeOcean afterwards.\n",
    "\n",
    "Triangles can be classified based on their angles.\n",
    "\n",
    "A right triangle has one angle of 90° \\\n",
    "A obtuse triangle has one angle of more than 90° \\\n",
    "A triangle is acute if all three angles are less than 90° \n",
    "\n",
    "Write a program that asks the user for the values of three angles in degrees. First check if the entered values are valid. The values are only valid if they are >0 and if their sum is 180°. If the entered values are valid, classify the triangle as right, acute or obtuse."
   ]
  },
  {
   "cell_type": "code",
   "execution_count": 46,
   "id": "9d28a257-8bb8-4796-b549-2a7b1b8e593b",
   "metadata": {},
   "outputs": [
    {
     "name": "stdin",
     "output_type": "stream",
     "text": [
      "Please enter the angles of the given triangle separated by a comma: 60,60,60\n"
     ]
    },
    {
     "name": "stdout",
     "output_type": "stream",
     "text": [
      "The traingle has sides 60 , 60 , and 60\n",
      "The triangle is an acute triangle.\n"
     ]
    }
   ],
   "source": [
    "# First Attempt (without looking at the marking rubrics)\n",
    "side_a, side_b, side_c = input(\"Please enter the angles of the given triangle separated by a comma:\").split(\",\")\n",
    "\n",
    "# Validate inputs\n",
    "if (side_a.isdigit() and side_b.isdigit() and side_c.isdigit()) and ((int(side_a) + int(side_b) + int(side_c)) == 180):\n",
    "    \n",
    "    # Convert inputs to digits\n",
    "    side_a = int(side_a)\n",
    "    side_b = int(side_b)\n",
    "    side_c = int(side_c)\n",
    "    \n",
    "    # Print out the triangle sides\n",
    "    print(\"The traingle has sides\", side_a, \",\", side_b, \",\", \"and\", side_c)\n",
    "    \n",
    "    # Calcualte type of triangle\n",
    "    if (side_a == 90 or side_b == 90 or side_c == 90):\n",
    "        print(\"This triangle is a right triangle.\")\n",
    "        \n",
    "    elif (side_a > 90 or side_b > 90 or side_c > 90):\n",
    "        print(\"The triangle is an obtuse triangle.\")\n",
    "        \n",
    "    elif (side_a < 90 and side_b < 90 and side_c < 90):\n",
    "        print(\"The triangle is an acute triangle.\")\n",
    "        \n",
    "else:\n",
    "    print(\"The entered values are not valid.\")\n",
    "    \n",
    "# Comments\n",
    "# It works but does not fully fulfill all the rubric set by the examiners"
   ]
  },
  {
   "cell_type": "markdown",
   "id": "02bb42cd-aa71-4e5a-a6b4-5c45950a7903",
   "metadata": {},
   "source": [
    "## Rubrics\n",
    "\n",
    "### Below are two example executions of the program with invalid values:\n",
    "\n",
    "Please enter the first angle: 60\\\n",
    "Please enter the second angle: 60\\\n",
    "Please enter the third angle: 100\\\n",
    "The entered values are not valid.\n",
    "\n",
    "Please enter the first angle: 200\\\n",
    "Please enter the second angle: -10\\\n",
    "Please enter the third angle: -10\\\n",
    "Angles smaller than 0 are not valid.\n",
    "\n",
    "### Here is another example execution of the program:\n",
    "\n",
    "Please enter the first angle: 60 \\\n",
    "Please enter the second angle: 30 \\\n",
    "Please enter the third angle: 90 \\\n",
    "The triangle is a right triangle."
   ]
  },
  {
   "cell_type": "code",
   "execution_count": 68,
   "id": "25353902-aa8d-48fc-8570-de0751ce8c0e",
   "metadata": {},
   "outputs": [
    {
     "name": "stdin",
     "output_type": "stream",
     "text": [
      "Please enter the first angle: 60\n",
      "Please enter the second angle: 30\n",
      "Please enter the third angle: 90\n"
     ]
    },
    {
     "name": "stdout",
     "output_type": "stream",
     "text": [
      "This triangle is a right triangle.\n"
     ]
    }
   ],
   "source": [
    "# Recode: \n",
    "side_a = int(input(\"Please enter the first angle:\"))\n",
    "side_b = int(input(\"Please enter the second angle:\"))\n",
    "side_c = int(input(\"Please enter the third angle:\"))\n",
    "\n",
    "if (side_a + side_b + side_c == 180) and (side_a >= 0 and side_b >= 0 and side_c >= 0):\n",
    "    if(side_a == 90 or side_b == 90 or side_c == 90):\n",
    "        print(\"The triangle is a right triangle.\")\n",
    "        \n",
    "    elif (side_a > 90 or side_b > 90 or side_c > 90):\n",
    "        print(\"The triangle is an obtuse triangle.\")\n",
    "        \n",
    "    elif (side_a < 90 and side_b < 90 and side_c < 90):\n",
    "        print(\"The triangle is an acute triangle.\")\n",
    "        \n",
    "elif (side_a <= 0 or side_c <= 0 or side_c <= 0):\n",
    "    print(\"Angles smaller than 0 are not valid.\")\n",
    "\n",
    "else:\n",
    "    print(\"The entered values are not valid.\")"
   ]
  },
  {
   "cell_type": "code",
   "execution_count": null,
   "id": "45cb0030-bc26-4a3f-9867-6dbd6292376b",
   "metadata": {},
   "outputs": [],
   "source": []
  }
 ],
 "metadata": {
  "kernelspec": {
   "display_name": "Python 3 (ipykernel)",
   "language": "python",
   "name": "python3"
  },
  "language_info": {
   "codemirror_mode": {
    "name": "ipython",
    "version": 3
   },
   "file_extension": ".py",
   "mimetype": "text/x-python",
   "name": "python",
   "nbconvert_exporter": "python",
   "pygments_lexer": "ipython3",
   "version": "3.10.2"
  }
 },
 "nbformat": 4,
 "nbformat_minor": 5
}
