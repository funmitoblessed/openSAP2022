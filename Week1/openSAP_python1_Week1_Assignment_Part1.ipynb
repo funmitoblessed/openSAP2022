{
 "cells": [
  {
   "cell_type": "markdown",
   "id": "0aa6ce5d-b06c-4003-a899-0a553f9ac4db",
   "metadata": {},
   "source": [
    "# Assignment Week 1 (Part 1 - Questions)"
   ]
  },
  {
   "cell_type": "markdown",
   "id": "dafe892e-0fae-4c6f-aca2-3be6a8fb98c3",
   "metadata": {},
   "source": [
    "### Question 1\n",
    "\n",
    "`1.0 Pts`\n",
    "\n",
    "What is the result of the following operation `9 // 4`?\n",
    "\n",
    "2.0\n",
    "\n",
    "2 `correct`\n",
    "\n",
    "1.999999\n",
    "\n",
    "2.25"
   ]
  },
  {
   "cell_type": "markdown",
   "id": "a09bb190-bd49-40a5-bc78-cd323ccd8053",
   "metadata": {},
   "source": [
    "### Question 2\n",
    "\n",
    "`1.0 Pts`\n",
    "\n",
    "What does the abbreviation \"IPO\" stand for?\n",
    "\n",
    "International Processing Organization\n",
    "\n",
    "Input Processing Output `correct`\n",
    "\n",
    "Intelligent Python Operation\n",
    "\n",
    "Infinite Programming Opportunities"
   ]
  },
  {
   "cell_type": "markdown",
   "id": "d1947aaf-72c5-4689-a3c6-fee2cfefc0fb",
   "metadata": {},
   "source": [
    "### Question 3\n",
    "\n",
    "`1.0 Pts`\n",
    "\n",
    "Which function is used to get user input into a program?\n",
    "\n",
    "getinput()\n",
    "\n",
    "read_keyboard()\n",
    "\n",
    "input() `correct`\n",
    "\n",
    "userinput()"
   ]
  },
  {
   "cell_type": "markdown",
   "id": "92c9aec1-d9a0-4735-8013-191b28223268",
   "metadata": {},
   "source": [
    "### Question 4\n",
    "\n",
    "`2.0 Pts`\n",
    "\n",
    "Which of the following are data types in Python?\n",
    "\n",
    "*Note: There are 3 correct answers to this question.*\n",
    "\n",
    "String `correct`\n",
    "\n",
    "Name\n",
    "\n",
    "Time\n",
    "\n",
    "Boolean `correct`\n",
    "\n",
    "Integer `correct`"
   ]
  },
  {
   "cell_type": "markdown",
   "id": "dd518fd2-eb4a-4882-8d8f-019517750f6e",
   "metadata": {},
   "source": [
    "### Question 5 \n",
    "\n",
    "`2.0 Pts`\n",
    "\n",
    "Which of the following Boolean expressions is True?\n",
    "\n",
    "*Note: There are 3 correct answers to this question.*"
   ]
  },
  {
   "cell_type": "code",
   "execution_count": 25,
   "id": "35cfb5e3-fa21-4f20-a029-7205e9e87213",
   "metadata": {},
   "outputs": [
    {
     "data": {
      "text/plain": [
       "False"
      ]
     },
     "execution_count": 25,
     "metadata": {},
     "output_type": "execute_result"
    }
   ],
   "source": [
    "(25 < 100) and (25 > 100)"
   ]
  },
  {
   "cell_type": "code",
   "execution_count": 26,
   "id": "71889468-ca6d-4f73-aff4-7fd66bfcec3e",
   "metadata": {},
   "outputs": [
    {
     "data": {
      "text/plain": [
       "True"
      ]
     },
     "execution_count": 26,
     "metadata": {},
     "output_type": "execute_result"
    }
   ],
   "source": [
    "not(100 < 99)"
   ]
  },
  {
   "cell_type": "code",
   "execution_count": 27,
   "id": "624ab446-f447-41a5-b389-433b474304f6",
   "metadata": {},
   "outputs": [
    {
     "data": {
      "text/plain": [
       "True"
      ]
     },
     "execution_count": 27,
     "metadata": {},
     "output_type": "execute_result"
    }
   ],
   "source": [
    "(25 > 100) or (25 < 100)"
   ]
  },
  {
   "cell_type": "code",
   "execution_count": 28,
   "id": "1df41482-2d19-4703-b2a1-7298304c6891",
   "metadata": {},
   "outputs": [
    {
     "data": {
      "text/plain": [
       "False"
      ]
     },
     "execution_count": 28,
     "metadata": {},
     "output_type": "execute_result"
    }
   ],
   "source": [
    "25 == \"25\""
   ]
  },
  {
   "cell_type": "code",
   "execution_count": 29,
   "id": "98372802-d77f-490e-ab5b-da7b49c3b275",
   "metadata": {},
   "outputs": [
    {
     "data": {
      "text/plain": [
       "True"
      ]
     },
     "execution_count": 29,
     "metadata": {},
     "output_type": "execute_result"
    }
   ],
   "source": [
    "17 > 10"
   ]
  },
  {
   "cell_type": "markdown",
   "id": "a65fce43-052b-4c89-ac97-89b81631a4b8",
   "metadata": {},
   "source": [
    "### Question 6\n",
    "\n",
    "`2.0 Pts`\n",
    "\n",
    "Which of the following statements about the syntax of the if-else statement are correct?\n",
    "\n",
    "*Note: There are 3 correct answers to this question.*\n",
    "\n",
    "There must be at least one conditional statement. No statement behind the if and continuing directly with the else leads to an error. `correct` \n",
    "\n",
    "The code block (the one belonging to the if- or else-part) needs to be indented. `correct`\n",
    "\n",
    "Each if-statement requires the else-part. An if without an else leads to an error.\n",
    "\n",
    "The evaluation of the condition can have exactly two values: True or False. `correct`\n",
    "\n",
    "To make the program more readable, you can use indention wherever you like."
   ]
  },
  {
   "cell_type": "markdown",
   "id": "e1d06666-9f7d-47da-87c0-89a424d26ea1",
   "metadata": {},
   "source": [
    "### Question 7\n",
    "\n",
    "`2.0 Pts`\n",
    "\n",
    "Which of the following conditions are True?\n",
    "\n",
    "*Note: There are 3 correct answers to this question.*"
   ]
  },
  {
   "cell_type": "code",
   "execution_count": 30,
   "id": "ae5a9e6c-1724-4753-952c-749b680a0d7f",
   "metadata": {},
   "outputs": [
    {
     "data": {
      "text/plain": [
       "True"
      ]
     },
     "execution_count": 30,
     "metadata": {},
     "output_type": "execute_result"
    }
   ],
   "source": [
    "not(False)"
   ]
  },
  {
   "cell_type": "code",
   "execution_count": 31,
   "id": "aeafc379-e2e2-4fb0-826d-0dca09640518",
   "metadata": {},
   "outputs": [
    {
     "data": {
      "text/plain": [
       "True"
      ]
     },
     "execution_count": 31,
     "metadata": {},
     "output_type": "execute_result"
    }
   ],
   "source": [
    "True and True"
   ]
  },
  {
   "cell_type": "code",
   "execution_count": 32,
   "id": "749cc88f-ca8a-4f45-9849-7b1e96ca2574",
   "metadata": {},
   "outputs": [
    {
     "data": {
      "text/plain": [
       "True"
      ]
     },
     "execution_count": 32,
     "metadata": {},
     "output_type": "execute_result"
    }
   ],
   "source": [
    "True or False "
   ]
  },
  {
   "cell_type": "code",
   "execution_count": 33,
   "id": "fb500a5d-8aba-4fcc-8678-e7113f8d9e4a",
   "metadata": {},
   "outputs": [
    {
     "data": {
      "text/plain": [
       "False"
      ]
     },
     "execution_count": 33,
     "metadata": {},
     "output_type": "execute_result"
    }
   ],
   "source": [
    "True and False "
   ]
  },
  {
   "cell_type": "code",
   "execution_count": 34,
   "id": "82985b79-7812-4fe7-86a5-9e2bc5e3c9da",
   "metadata": {},
   "outputs": [
    {
     "data": {
      "text/plain": [
       "False"
      ]
     },
     "execution_count": 34,
     "metadata": {},
     "output_type": "execute_result"
    }
   ],
   "source": [
    "not(not(False))"
   ]
  },
  {
   "cell_type": "markdown",
   "id": "35cebb43-4a27-4e45-be05-f8ba1a44e0cc",
   "metadata": {},
   "source": [
    "### Question 8\n",
    "\n",
    "`2.0 Pts`\n",
    "\n",
    "Which of the following statements about if-statements are correct?\n",
    "\n",
    "*Note: There are 2 correct answers to this question.*\n",
    "\n",
    "Conditions can have more than two outcomes.\n",
    "\n",
    "According to the syntax of Python, the amount of nesting is not limited. `correct`\n",
    "\n",
    "There can be either elifs or nesting. Both elif and nesting in one if-statement is forbidden.\n",
    "\n",
    "Even though many levels of nesting are syntactically correct, too much nesting should be avoided to keep a program readable and maintainable. `correct` \n",
    "\n",
    "The number of elifs in an if-statement is limited."
   ]
  },
  {
   "cell_type": "markdown",
   "id": "22017c92-3b02-4800-8f1b-a85638cdb42f",
   "metadata": {},
   "source": [
    "### Question 9\n",
    "\n",
    "`1.0 Pts`\n",
    "\n",
    "Which animal is the result of this code?"
   ]
  },
  {
   "cell_type": "code",
   "execution_count": 35,
   "id": "7cb347a6-14e0-4a43-b8bf-48b54b084977",
   "metadata": {},
   "outputs": [
    {
     "name": "stdout",
     "output_type": "stream",
     "text": [
      "horse\n"
     ]
    }
   ],
   "source": [
    "number_of_legs = 4\n",
    "wild = False\n",
    "if number_of_legs == 4:\n",
    "    if wild:\n",
    "        animal = \"bear\"\n",
    "    else:\n",
    "        animal = \"horse\"\n",
    "else:\n",
    "    if wild:\n",
    "        animal = \"eagle\"\n",
    "    else:\n",
    "        animal = chicken\n",
    "        \n",
    "print(animal)"
   ]
  },
  {
   "cell_type": "markdown",
   "id": "e8e32122-7c61-46d5-ad66-4147b9fb04d9",
   "metadata": {},
   "source": [
    "### Question 10\n",
    "\n",
    "`1.0 Pts`\n",
    "\n",
    "If `a` and `b` are two Boolean variables and `a` is `True` and `b` is False, which of the following expressions is `True`?"
   ]
  },
  {
   "cell_type": "code",
   "execution_count": 36,
   "id": "32269d69-9d00-4998-a4a8-62df44153acd",
   "metadata": {},
   "outputs": [
    {
     "data": {
      "text/plain": [
       "False"
      ]
     },
     "execution_count": 36,
     "metadata": {},
     "output_type": "execute_result"
    }
   ],
   "source": [
    "a = True\n",
    "b = False\n",
    "not(a) and not(b)"
   ]
  },
  {
   "cell_type": "code",
   "execution_count": 37,
   "id": "e9e75e72-9d57-439e-951c-799d8a5ee192",
   "metadata": {},
   "outputs": [
    {
     "data": {
      "text/plain": [
       "True"
      ]
     },
     "execution_count": 37,
     "metadata": {},
     "output_type": "execute_result"
    }
   ],
   "source": [
    "a or b"
   ]
  },
  {
   "cell_type": "code",
   "execution_count": 38,
   "id": "4336d83f-ea93-40e8-8e3a-17a2c75fe488",
   "metadata": {},
   "outputs": [
    {
     "data": {
      "text/plain": [
       "False"
      ]
     },
     "execution_count": 38,
     "metadata": {},
     "output_type": "execute_result"
    }
   ],
   "source": [
    "not(a or b)"
   ]
  },
  {
   "cell_type": "code",
   "execution_count": 39,
   "id": "f3ebf1a3-f4e4-4ffd-bc79-3af798303ec2",
   "metadata": {},
   "outputs": [
    {
     "data": {
      "text/plain": [
       "False"
      ]
     },
     "execution_count": 39,
     "metadata": {},
     "output_type": "execute_result"
    }
   ],
   "source": [
    "a and b"
   ]
  }
 ],
 "metadata": {
  "kernelspec": {
   "display_name": "Python 3 (ipykernel)",
   "language": "python",
   "name": "python3"
  },
  "language_info": {
   "codemirror_mode": {
    "name": "ipython",
    "version": 3
   },
   "file_extension": ".py",
   "mimetype": "text/x-python",
   "name": "python",
   "nbconvert_exporter": "python",
   "pygments_lexer": "ipython3",
   "version": "3.10.2"
  }
 },
 "nbformat": 4,
 "nbformat_minor": 5
}
