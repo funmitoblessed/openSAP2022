{
 "cells": [
  {
   "cell_type": "markdown",
   "metadata": {},
   "source": [
    "# Additional Exercises - Week 1\n",
    "## Variables, Input, Output, if-elif-else\n",
    "\n",
    "If you are eager to practise a little more, here are some exercises.\n",
    "\n",
    "### Personal data\n",
    "Get the personal data (name, firstname, city, ...) of a person using `input()`. Output a statement, which summarizes the input. Example:\n",
    "\n",
    "    What is your name: Jacobs\n",
    "    What is your firstname: Stephan\n",
    "    Where do you live: Aachen\n",
    "    Stephan Jacobs lives in Aachen"
   ]
  },
  {
   "cell_type": "code",
   "execution_count": 17,
   "metadata": {},
   "outputs": [
    {
     "name": "stdin",
     "output_type": "stream",
     "text": [
      "What is your surname? Odefemi\n",
      "What is your firstname? Funmito\n",
      "Where do you live? Minna\n"
     ]
    },
    {
     "name": "stdout",
     "output_type": "stream",
     "text": [
      "Funmito Odefemi lives in Minna\n"
     ]
    }
   ],
   "source": [
    "surname = input(\"What is your surname?\")\n",
    "firstname = input(\"What is your firstname?\")\n",
    "city = input(\"Where do you live?\")\n",
    "\n",
    "print(firstname, surname, \"lives in\", city)"
   ]
  },
  {
   "cell_type": "markdown",
   "metadata": {},
   "source": [
    "### Rectangular cuboid\n",
    "A rectangular [cuboid](https://en.wikipedia.org/wiki/Cuboid) is a six-faced geometrical object. All angles are right angles and the edges can have three different lengths *a, b, c*. The Volume of the cuboid can be calculated with the formula:\n",
    "\n",
    "    Vol = a * b * c\n",
    "    \n",
    "The surface of the cuboid can be calculated with the formula:\n",
    "\n",
    "    Sur = 2 * (a * b + a * c + b * c)\n",
    "    \n",
    "Write a program, that asks for the length of `a`, `b` and `c` and outputs the volume and the surface of the cuboid. Example:\n",
    "\n",
    "    What is the length of the first edge: 3\n",
    "    What is the length of the second edge: 4\n",
    "    What is the lenght of the third edge: 5\n",
    "    The cuboid has a volume of 60 and a surface of 94"
   ]
  },
  {
   "cell_type": "code",
   "execution_count": 18,
   "metadata": {},
   "outputs": [
    {
     "name": "stdin",
     "output_type": "stream",
     "text": [
      "What is the length of the first edge: 3\n",
      "What is the length of the second edge: 4\n",
      "What is the length of the third edge: 5\n"
     ]
    },
    {
     "name": "stdout",
     "output_type": "stream",
     "text": [
      "The cuboid has a volume of 60 and a surface of 94\n"
     ]
    }
   ],
   "source": [
    "a = int(input(\"What is the length of the first edge:\"))\n",
    "b = int(input(\"What is the length of the second edge:\"))\n",
    "c = int(input(\"What is the length of the third edge:\"))\n",
    "\n",
    "volume = a * b * c\n",
    "surface = 2 * ((a * b) + (a * c) + (b * c))\n",
    "\n",
    "print(\"The cuboid has a volume of\", volume, \"and a surface of\", surface)"
   ]
  },
  {
   "cell_type": "markdown",
   "metadata": {},
   "source": [
    "### Window\n",
    "The window should be open if it is warm and if it is not raining. Get the information if it is warm and if it is raining by `input()`. Then output if the window shall be open or closed. Example:\n",
    "\n",
    "    Is it warm? y\n",
    "    Does it rain? n\n",
    "    The window should be open.\n",
    "    \n",
    "    Is it warm? y\n",
    "    Does it rain? y\n",
    "    The window should be closed.\n"
   ]
  },
  {
   "cell_type": "code",
   "execution_count": 19,
   "metadata": {},
   "outputs": [
    {
     "name": "stdin",
     "output_type": "stream",
     "text": [
      "Is it warm: (y or n) y\n",
      "Is it raining: (y or n) n\n"
     ]
    },
    {
     "name": "stdout",
     "output_type": "stream",
     "text": [
      "The window should be open.\n"
     ]
    }
   ],
   "source": [
    "warm = input(\"Is it warm: (y or n)\")\n",
    "rain = input(\"Is it raining: (y or n)\")\n",
    "\n",
    "if (warm == \"y\" and rain == \"y\"):\n",
    "    print(\"The window should be closed.\")\n",
    "elif (warm == \"y\" and rain == \"n\"):\n",
    "    print(\"The window should be open.\")"
   ]
  },
  {
   "cell_type": "markdown",
   "metadata": {},
   "source": [
    "### Celsius and Fahrenheit and Kelvin\n",
    "There are different scales for temperature. To convert the temperatures there are the following formulas:\n",
    "\n",
    "    Celsius = 5/9 * (Fahrenheit - 32)\n",
    "    Celsius = Kelvin - 273.15\n",
    "    \n",
    "Write a program, that takes Celsius as input and outputs the values in Fahrenheit and Kelvin.\n",
    "\n",
    "    What is the temperature in Celsius: 25\n",
    "    25 Celsius is the same as 77.0 Fahrenheit\n",
    "    25 Celsius is the same as 298.15 Kelvin"
   ]
  },
  {
   "cell_type": "code",
   "execution_count": 20,
   "metadata": {},
   "outputs": [
    {
     "name": "stdin",
     "output_type": "stream",
     "text": [
      "What is the temperature in Celsius: 25\n"
     ]
    },
    {
     "name": "stdout",
     "output_type": "stream",
     "text": [
      "25 Celsius is the same as 77.0 Fahrenheit\n",
      "25 Celsius is the same as 298.15 Kelvin\n"
     ]
    }
   ],
   "source": [
    "celsius = input(\"What is the temperature in Celsius:\")\n",
    "\n",
    "if celsius.isdigit():\n",
    "    celsius = int(celsius)\n",
    "    fahrenheit = (celsius * (9/5)) + 32\n",
    "    kelvin = celsius + 273.15\n",
    "    print(celsius, \"Celsius is the same as\", fahrenheit, \"Fahrenheit\")\n",
    "    print(celsius, \"Celsius is the same as\", kelvin, \"Kelvin\")\n",
    "else:\n",
    "    print(\"Please enter a number\")"
   ]
  },
  {
   "cell_type": "markdown",
   "metadata": {},
   "source": [
    "### Calulate the mean\n",
    "Using `input()` get five numbers and calculate the mean of these values. Example:\n",
    "\n",
    "    First number: 10\n",
    "    Second number: 20\n",
    "    Third number: 15\n",
    "    Fourth number: 23\n",
    "    Fifth number: 18\n",
    "    The mean is: 17.2"
   ]
  },
  {
   "cell_type": "code",
   "execution_count": 22,
   "metadata": {},
   "outputs": [
    {
     "name": "stdin",
     "output_type": "stream",
     "text": [
      "First number: 10\n",
      "Second number: 20\n",
      "Third number: 15\n",
      "Fourth number: 23\n",
      "Fifth number: 18\n"
     ]
    },
    {
     "name": "stdout",
     "output_type": "stream",
     "text": [
      "The mean is: 17.2\n"
     ]
    }
   ],
   "source": [
    "first = float(input(\"First number:\"))\n",
    "second = float(input(\"Second number:\"))\n",
    "third = float(input(\"Third number:\"))\n",
    "fourth = float(input(\"Fourth number:\"))\n",
    "fifth = float(input(\"Fifth number:\"))\n",
    "mean = (first + second + third + fourth + fifth)/5\n",
    "print(\"The mean is:\", mean)"
   ]
  },
  {
   "cell_type": "markdown",
   "metadata": {},
   "source": [
    "### Sort three numbers\n",
    "Write a program, that sorts three numbers. The numbers are taken with `input()`. Example:\n",
    "\n",
    "    First number: 34\n",
    "    Second number: 12\n",
    "    Third number: 50\n",
    "    50 34 12"
   ]
  },
  {
   "cell_type": "code",
   "execution_count": 31,
   "metadata": {},
   "outputs": [
    {
     "name": "stdin",
     "output_type": "stream",
     "text": [
      "First number: 12\n",
      "Second number: 34\n",
      "Third number: 50\n"
     ]
    },
    {
     "name": "stdout",
     "output_type": "stream",
     "text": [
      "50 34 12\n"
     ]
    }
   ],
   "source": [
    "first = int(input(\"First number:\"))\n",
    "second = int(input(\"Second number:\"))\n",
    "third = int(input(\"Third number:\"))\n",
    "\n",
    "if (first > second and first > third and second > third):\n",
    "    print(first, second, third)\n",
    "elif(first > second and first > third and third > second):\n",
    "    print(first, third, second)\n",
    "elif(second > first and second > third and first > third):\n",
    "    print(second, first, third)\n",
    "elif(second > first and second > third and third > first):\n",
    "    print(second, third, first)\n",
    "elif(third > first and third > second and first > second):\n",
    "    print(third, first, second)\n",
    "else:\n",
    "    print(third, second, first)"
   ]
  }
 ],
 "metadata": {
  "kernelspec": {
   "display_name": "Python 3 (ipykernel)",
   "language": "python",
   "name": "python3"
  },
  "language_info": {
   "codemirror_mode": {
    "name": "ipython",
    "version": 3
   },
   "file_extension": ".py",
   "mimetype": "text/x-python",
   "name": "python",
   "nbconvert_exporter": "python",
   "pygments_lexer": "ipython3",
   "version": "3.10.2"
  }
 },
 "nbformat": 4,
 "nbformat_minor": 4
}
