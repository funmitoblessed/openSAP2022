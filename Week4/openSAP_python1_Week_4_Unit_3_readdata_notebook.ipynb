{
 "cells": [
  {
   "cell_type": "markdown",
   "metadata": {},
   "source": [
    "# Reading data from files\n",
    "How to read from a file now? Files are organized sequentially as mentioned before, i.e. they consist of consecutive\n",
    "lines. For processing sequences the `for` loop is suitable. Specifically, one can iterate over the lines of a file like\n",
    "follows:"
   ]
  },
  {
   "cell_type": "code",
   "execution_count": 1,
   "metadata": {},
   "outputs": [
    {
     "name": "stdout",
     "output_type": "stream",
     "text": [
      "Lorem ipsum dolor sit amet, consectetur adipiscing elit,\n",
      "\n",
      "sed do eiusmod tempor incididunt ut labore et dolore magna aliqua.\n",
      "\n",
      "Ut enim ad minim veniam, quis nostrud exercitation ullamco laboris\n",
      "\n",
      "nisi ut aliquip ex ea commodo consequat. Duis aute irure dolor in\n",
      "\n",
      "reprehenderit in voluptate velit esse cillum dolore eu fugiat nulla\n",
      "\n",
      "pariatur. Excepteur sint occaecat cupidatat non proident, sunt in\n",
      "\n",
      "culpa qui officia deserunt mollit anim id est laborum.\n"
     ]
    }
   ],
   "source": [
    "# open file\n",
    "with open(\"lorem_ipsum.txt\", \"r\") as file:\n",
    "    # read file line by line and output the lines\n",
    "    for line in file:\n",
    "        print(line)"
   ]
  },
  {
   "cell_type": "markdown",
   "metadata": {},
   "source": [
    "If you compare the output of the program with the content of the file (e.g. in a text editor), you notice that blank\n",
    "lines have been added to the output. What is the reason for this?  \n",
    "At the end of each line there is a line break `\\n` in the text file. This is only visible indirectly, because the text\n",
    "continues on the next line. On output, the function `print()` adds another line break, hence the blank line. \n",
    "\n",
    "You can correct this behaviour in several ways. One way is to set the `end` parameter in the `print()` function to an\n",
    "empty character `end = \"\"`.  \n",
    "Another way is to *strip* the line first. For strings there is a method `.strip()`. This removes spaces, tabs and line\n",
    "breaks at the beginning and at the end of a string. `.strip()` is often used when reading forms to prevent a leading\n",
    "space from changing the input. With one optional argument, you could also specify which characters should be removed.  \n",
    "Alternatively, `.lstrip()` or `.rstrip()` can be used. In this case something is deleted only left or right of the\n",
    "string."
   ]
  },
  {
   "cell_type": "code",
   "execution_count": 2,
   "metadata": {},
   "outputs": [
    {
     "name": "stdout",
     "output_type": "stream",
     "text": [
      "Lorem ipsum dolor sit amet, consectetur adipiscing elit,\n",
      "sed do eiusmod tempor incididunt ut labore et dolore magna aliqua.\n",
      "Ut enim ad minim veniam, quis nostrud exercitation ullamco laboris\n",
      "nisi ut aliquip ex ea commodo consequat. Duis aute irure dolor in\n",
      "reprehenderit in voluptate velit esse cillum dolore eu fugiat nulla\n",
      "pariatur. Excepteur sint occaecat cupidatat non proident, sunt in\n",
      "culpa qui officia deserunt mollit anim id est laborum.\n"
     ]
    }
   ],
   "source": [
    "# Open file\n",
    "with open(\"lorem_ipsum.txt\", \"r\") as file:\n",
    "    # read file line by line, strip from  and output the lines\n",
    "    for line in file:\n",
    "        line = line.strip()\n",
    "        print(line)"
   ]
  },
  {
   "cell_type": "markdown",
   "metadata": {},
   "source": [
    "## Output the contents of a file twice\n",
    "In the following program, the `for` loop is run twice. What does the output look like? Why?"
   ]
  },
  {
   "cell_type": "code",
   "execution_count": 3,
   "metadata": {},
   "outputs": [
    {
     "name": "stdout",
     "output_type": "stream",
     "text": [
      "First round\n",
      "Lorem ipsum dolor sit amet, consectetur adipiscing elit,\n",
      "sed do eiusmod tempor incididunt ut labore et dolore magna aliqua.\n",
      "Ut enim ad minim veniam, quis nostrud exercitation ullamco laboris\n",
      "nisi ut aliquip ex ea commodo consequat. Duis aute irure dolor in\n",
      "reprehenderit in voluptate velit esse cillum dolore eu fugiat nulla\n",
      "pariatur. Excepteur sint occaecat cupidatat non proident, sunt in\n",
      "culpa qui officia deserunt mollit anim id est laborum.\n",
      "Second round\n"
     ]
    }
   ],
   "source": [
    "# open file\n",
    "with open(\"lorem_ipsum.txt\", \"r\") as file:\n",
    "    # read file line by line and print the lines\n",
    "    print(\"First round\")\n",
    "    for line in file:\n",
    "        line = line.strip()\n",
    "        print(line)\n",
    "\n",
    "    # read file line by line and print the lines\n",
    "    print(\"Second round\")\n",
    "    for line in file:\n",
    "        line = line.strip()\n",
    "        print(line)"
   ]
  },
  {
   "cell_type": "markdown",
   "metadata": {},
   "source": [
    "When reading a file, the \"read cursor\" or \"read pointer\" is moved character by character over the file. If the *read\n",
    "pointer* arrives at the end of the file and is **not** reset or set to another position, it can not continue reading as\n",
    "the file ends there. To place the *read cursor*, the method `.seek()` can be used. However, this is beyond the scope of the course. "
   ]
  },
  {
   "cell_type": "markdown",
   "metadata": {},
   "source": [
    "## Read a file into a list in one go\n",
    "It is possible that the line breaks are superfluous and only exist because a paper page has a limited width for example.\n",
    "In this case, it may make sense to read the entire text \"in one go\" without iterating over the lines using a loop. The\n",
    "method `.readlines()` is useful for this. The result is a list with **one** entry."
   ]
  },
  {
   "cell_type": "code",
   "execution_count": 4,
   "metadata": {},
   "outputs": [
    {
     "name": "stdout",
     "output_type": "stream",
     "text": [
      "['Lorem ipsum dolor sit amet, consectetur adipiscing elit,\\n', 'sed do eiusmod tempor incididunt ut labore et dolore magna aliqua.\\n', 'Ut enim ad minim veniam, quis nostrud exercitation ullamco laboris\\n', 'nisi ut aliquip ex ea commodo consequat. Duis aute irure dolor in\\n', 'reprehenderit in voluptate velit esse cillum dolore eu fugiat nulla\\n', 'pariatur. Excepteur sint occaecat cupidatat non proident, sunt in\\n', 'culpa qui officia deserunt mollit anim id est laborum.']\n"
     ]
    }
   ],
   "source": [
    "# Open file\n",
    "with open(\"lorem_ipsum.txt\", \"r\") as file:\n",
    "    # read file in one go\n",
    "    line = file.readlines()\n",
    "    print(line)"
   ]
  },
  {
   "cell_type": "markdown",
   "metadata": {},
   "source": [
    "# Exercise 1:\n",
    "In the file `numbers2.txt` there is one number per line. Read the file and sum up the numbers. Output your result."
   ]
  },
  {
   "cell_type": "code",
   "execution_count": 5,
   "metadata": {},
   "outputs": [
    {
     "name": "stdout",
     "output_type": "stream",
     "text": [
      "0\n",
      "\n",
      "1\n",
      "\n",
      "2\n",
      "\n",
      "3\n",
      "\n",
      "4\n",
      "\n",
      "5\n",
      "\n",
      "6\n",
      "\n",
      "7\n",
      "\n",
      "8\n",
      "\n",
      "9\n",
      "\n",
      "10\n",
      "\n",
      "11\n",
      "\n",
      "12\n",
      "\n",
      "13\n",
      "\n",
      "14\n",
      "\n",
      "15\n",
      "\n",
      "16\n",
      "\n",
      "17\n",
      "\n",
      "18\n",
      "\n",
      "19\n",
      "\n",
      "20\n",
      "\n",
      "21\n",
      "\n",
      "22\n",
      "\n",
      "23\n",
      "\n",
      "24\n",
      "\n",
      "25\n",
      "\n",
      "26\n",
      "\n",
      "27\n",
      "\n",
      "28\n",
      "\n",
      "29\n",
      "\n",
      "30\n",
      "\n",
      "31\n",
      "\n",
      "32\n",
      "\n",
      "33\n",
      "\n",
      "34\n",
      "\n",
      "35\n",
      "\n",
      "36\n",
      "\n",
      "37\n",
      "\n",
      "38\n",
      "\n",
      "39\n",
      "\n",
      "40\n",
      "\n",
      "41\n",
      "\n",
      "42\n",
      "\n",
      "43\n",
      "\n",
      "44\n",
      "\n",
      "45\n",
      "\n",
      "46\n",
      "\n",
      "47\n",
      "\n",
      "48\n",
      "\n",
      "49\n",
      "\n",
      "50\n",
      "\n",
      "51\n",
      "\n",
      "52\n",
      "\n",
      "53\n",
      "\n",
      "54\n",
      "\n",
      "55\n",
      "\n",
      "56\n",
      "\n",
      "57\n",
      "\n",
      "58\n",
      "\n",
      "59\n",
      "\n",
      "60\n",
      "\n",
      "61\n",
      "\n",
      "62\n",
      "\n",
      "63\n",
      "\n",
      "64\n",
      "\n",
      "65\n",
      "\n",
      "66\n",
      "\n",
      "67\n",
      "\n",
      "68\n",
      "\n",
      "69\n",
      "\n",
      "70\n",
      "\n",
      "71\n",
      "\n",
      "72\n",
      "\n",
      "73\n",
      "\n",
      "74\n",
      "\n",
      "75\n",
      "\n",
      "76\n",
      "\n",
      "77\n",
      "\n",
      "78\n",
      "\n",
      "79\n",
      "\n",
      "80\n",
      "\n",
      "81\n",
      "\n",
      "82\n",
      "\n",
      "83\n",
      "\n",
      "84\n",
      "\n",
      "85\n",
      "\n",
      "86\n",
      "\n",
      "87\n",
      "\n",
      "88\n",
      "\n",
      "89\n",
      "\n",
      "90\n",
      "\n",
      "91\n",
      "\n",
      "92\n",
      "\n",
      "93\n",
      "\n",
      "94\n",
      "\n",
      "95\n",
      "\n",
      "96\n",
      "\n",
      "97\n",
      "\n",
      "98\n",
      "\n",
      "99\n",
      "\n",
      "100\n",
      "\n"
     ]
    }
   ],
   "source": [
    "sum_lines = 0\n",
    "\n",
    "with open(\"numbers2.txt\", \"r\") as file:\n",
    "    for line in file:\n",
    "        print(line)\n",
    "        sum_lines += int(line)"
   ]
  },
  {
   "cell_type": "code",
   "execution_count": 4,
   "metadata": {},
   "outputs": [
    {
     "name": "stdout",
     "output_type": "stream",
     "text": [
      "5050\n"
     ]
    }
   ],
   "source": [
    "print(sum_lines)"
   ]
  },
  {
   "cell_type": "markdown",
   "metadata": {},
   "source": [
    "# Self Test"
   ]
  },
  {
   "cell_type": "markdown",
   "metadata": {},
   "source": [
    "### Question 1\n",
    "`2.0 Pts`\n",
    "\n",
    "Which of the following statements about line breaks are correct?\n",
    "\n",
    "*Note: There are 3 correct answers to this question.*\n",
    "\n",
    "The line break `\\n` cannot be used in strings to format the output. \n",
    "\n",
    "From the computer's point of view, the line break is nothing but the special character `\\n`. This character forces the editor to go to the next line. `correct` \n",
    "\n",
    "If there are two line breaks `\\n\\n`, the program goes into the next line twice and an empty line is created. To have two empty lines, four line breaks `\\n\\n\\n\\n` are required. \n",
    "\n",
    "As there is a line break `\\n` in standard text files at the end of each line and another line break `\\n` is added by the `print()` statement, this can lead to additional empty lines when outputting the file. `correct` \n",
    "\n",
    "The line break \\n is put at the end of each `print()` statement if the `end` parameter is not explicitly set to another value. `correct`"
   ]
  },
  {
   "cell_type": "markdown",
   "metadata": {},
   "source": [
    "# Unit 3: Exercise"
   ]
  },
  {
   "cell_type": "markdown",
   "metadata": {},
   "source": [
    "### Instructions:\n",
    "\n",
    "The file `numbers.txt` contains random integer numbers. There is exactly one number per line. Read the file and output the three biggest numbers in the following form:\n",
    "\n",
    "2345 \n",
    "\n",
    "223 \n",
    "\n",
    "89\n",
    "\n",
    "**Hint** \n",
    "\n",
    "Read the file line by line, delete the line break. As files can only contain strings, the number must now be converted into an integer. Add the number into a list. When all numbers are in the list, sort the list. Then print out the biggest numbers."
   ]
  },
  {
   "cell_type": "code",
   "execution_count": 6,
   "metadata": {},
   "outputs": [
    {
     "name": "stdout",
     "output_type": "stream",
     "text": [
      "9853\n",
      "9760\n",
      "9745\n"
     ]
    }
   ],
   "source": [
    "numbers_list = []\n",
    "\n",
    "# open file and read data line by line\n",
    "with open(\"numbers3.txt\", \"r\") as file:\n",
    "    for line in file:\n",
    "        line = line.strip()\n",
    "        line = int(line)\n",
    "        numbers_list.append(line)\n",
    "        \n",
    "# sort the created list\n",
    "sorted_list = sorted(numbers_list)\n",
    "\n",
    "print(sorted_list[-1])\n",
    "print(sorted_list[-2])\n",
    "print(sorted_list[-3])"
   ]
  },
  {
   "cell_type": "code",
   "execution_count": 7,
   "metadata": {},
   "outputs": [
    {
     "name": "stdout",
     "output_type": "stream",
     "text": [
      "[9853, 9760, 9745, 9613, 9539, 9529, 9479, 9475, 9472, 9433, 9424, 9313, 9312, 9307, 9276, 9214, 9190, 9122, 9115, 9097, 9075, 9043, 9006, 8996, 8993, 8960, 8922, 8910, 8843, 8749, 8749, 8740, 8717, 8693, 8689, 8670, 8658, 8655, 8527, 8436, 8424, 8401, 8389, 8369, 8322, 8063, 8061, 8061, 8035, 7951, 7946, 7722, 7706, 7691, 7676, 7649, 7612, 7599, 7564, 7484, 7463, 7461, 7415, 7334, 7292, 7183, 7176, 7092, 7005, 6938, 6913, 6906, 6812, 6704, 6652, 6571, 6506, 6504, 6435, 6419, 6405, 6384, 6337, 6311, 6279, 6223, 6018, 5985, 5895, 5885, 5868, 5785, 5637, 5618, 5579, 5565, 5564, 5523, 5496, 5491, 5416, 5335, 5295, 5222, 5205, 5154, 5136, 5077, 5058, 4939, 4916, 4857, 4854, 4845, 4830, 4780, 4683, 4675, 4619, 4601, 4598, 4560, 4557, 4437, 4313, 4265, 4157, 4148, 4130, 3846, 3791, 3773, 3632, 3530, 3523, 3422, 3390, 3374, 3374, 3219, 3202, 3180, 3061, 3020, 2984, 2956, 2951, 2807, 2787, 2765, 2703, 2691, 2629, 2623, 2603, 2571, 2499, 2469, 2443, 2433, 2404, 2380, 2349, 2335, 2277, 2275, 2191, 2084, 1974, 1948, 1925, 1895, 1875, 1840, 1760, 1716, 1705, 1650, 1642, 1625, 1561, 1521, 1482, 1456, 1452, 1448, 1441, 1387, 1369, 1323, 1290, 1269, 1223, 1166, 1163, 1141, 1136, 1060, 1040, 1022]\n"
     ]
    }
   ],
   "source": [
    "print(sorted(numbers_list, reverse=True))"
   ]
  },
  {
   "cell_type": "code",
   "execution_count": 8,
   "metadata": {},
   "outputs": [
    {
     "name": "stdout",
     "output_type": "stream",
     "text": [
      "[9853, 9760, 9745, 9613, 9539, 9529, 9479, 9475, 9472, 9433, 9424, 9313, 9312, 9307, 9276, 9214, 9190, 9122, 9115, 9097, 9075, 9043, 9006, 8996, 8993, 8960, 8922, 8910, 8843, 8749, 8749, 8740, 8717, 8693, 8689, 8670, 8658, 8655, 8527, 8436, 8424, 8401, 8389, 8369, 8322, 8063, 8061, 8061, 8035, 7951, 7946, 7722, 7706, 7691, 7676, 7649, 7612, 7599, 7564, 7484, 7463, 7461, 7415, 7334, 7292, 7183, 7176, 7092, 7005, 6938, 6913, 6906, 6812, 6704, 6652, 6571, 6506, 6504, 6435, 6419, 6405, 6384, 6337, 6311, 6279, 6223, 6018, 5985, 5895, 5885, 5868, 5785, 5637, 5618, 5579, 5565, 5564, 5523, 5496, 5491, 5416, 5335, 5295, 5222, 5205, 5154, 5136, 5077, 5058, 4939, 4916, 4857, 4854, 4845, 4830, 4780, 4683, 4675, 4619, 4601, 4598, 4560, 4557, 4437, 4313, 4265, 4157, 4148, 4130, 3846, 3791, 3773, 3632, 3530, 3523, 3422, 3390, 3374, 3374, 3219, 3202, 3180, 3061, 3020, 2984, 2956, 2951, 2807, 2787, 2765, 2703, 2691, 2629, 2623, 2603, 2571, 2499, 2469, 2443, 2433, 2404, 2380, 2349, 2335, 2277, 2275, 2191, 2084, 1974, 1948, 1925, 1895, 1875, 1840, 1760, 1716, 1705, 1650, 1642, 1625, 1561, 1521, 1482, 1456, 1452, 1448, 1441, 1387, 1369, 1323, 1290, 1269, 1223, 1166, 1163, 1141, 1136, 1060, 1040, 1022]\n"
     ]
    }
   ],
   "source": [
    "# Another way to sort\n",
    "\n",
    "numbers_list.sort(reverse=True)\n",
    "\n",
    "print(numbers_list)"
   ]
  },
  {
   "cell_type": "code",
   "execution_count": 9,
   "metadata": {},
   "outputs": [
    {
     "name": "stdout",
     "output_type": "stream",
     "text": [
      "[1022, 1040, 1060, 1136, 1141, 1163, 1166, 1223, 1269, 1290, 1323, 1369, 1387, 1441, 1448, 1452, 1456, 1482, 1521, 1561, 1625, 1642, 1650, 1705, 1716, 1760, 1840, 1875, 1895, 1925, 1948, 1974, 2084, 2191, 2275, 2277, 2335, 2349, 2380, 2404, 2433, 2443, 2469, 2499, 2571, 2603, 2623, 2629, 2691, 2703, 2765, 2787, 2807, 2951, 2956, 2984, 3020, 3061, 3180, 3202, 3219, 3374, 3374, 3390, 3422, 3523, 3530, 3632, 3773, 3791, 3846, 4130, 4148, 4157, 4265, 4313, 4437, 4557, 4560, 4598, 4601, 4619, 4675, 4683, 4780, 4830, 4845, 4854, 4857, 4916, 4939, 5058, 5077, 5136, 5154, 5205, 5222, 5295, 5335, 5416, 5491, 5496, 5523, 5564, 5565, 5579, 5618, 5637, 5785, 5868, 5885, 5895, 5985, 6018, 6223, 6279, 6311, 6337, 6384, 6405, 6419, 6435, 6504, 6506, 6571, 6652, 6704, 6812, 6906, 6913, 6938, 7005, 7092, 7176, 7183, 7292, 7334, 7415, 7461, 7463, 7484, 7564, 7599, 7612, 7649, 7676, 7691, 7706, 7722, 7946, 7951, 8035, 8061, 8061, 8063, 8322, 8369, 8389, 8401, 8424, 8436, 8527, 8655, 8658, 8670, 8689, 8693, 8717, 8740, 8749, 8749, 8843, 8910, 8922, 8960, 8993, 8996, 9006, 9043, 9075, 9097, 9115, 9122, 9190, 9214, 9276, 9307, 9312, 9313, 9424, 9433, 9472, 9475, 9479, 9529, 9539, 9613, 9745, 9760, 9853]\n"
     ]
    }
   ],
   "source": [
    "# Another way to sort \n",
    "\n",
    "print(sorted_list)"
   ]
  },
  {
   "cell_type": "code",
   "execution_count": 10,
   "metadata": {},
   "outputs": [
    {
     "name": "stdout",
     "output_type": "stream",
     "text": [
      "9853\n",
      "9760\n",
      "9745\n"
     ]
    }
   ],
   "source": [
    "# Review\n",
    "\n",
    "num_sort = []\n",
    "\n",
    "with open(\"numbers3.txt\", \"r\") as numbers:\n",
    "    for line in numbers:\n",
    "        line = int(line.strip())\n",
    "        num_sort.append(line)\n",
    "\n",
    "num_sort.sort(reverse=True)\n",
    "print(*num_sort[:3], sep=\"\\n\")"
   ]
  },
  {
   "cell_type": "markdown",
   "metadata": {
    "tags": []
   },
   "source": [
    "Even though the above produces the right output, it fails to pass the functional test. The issue was that the student did not separate their `.strip()` method from the `int` type cast."
   ]
  }
 ],
 "metadata": {
  "file_extension": ".py",
  "kernelspec": {
   "display_name": "Python 3 (ipykernel)",
   "language": "python",
   "name": "python3"
  },
  "language_info": {
   "codemirror_mode": {
    "name": "ipython",
    "version": 3
   },
   "file_extension": ".py",
   "mimetype": "text/x-python",
   "name": "python",
   "nbconvert_exporter": "python",
   "pygments_lexer": "ipython3",
   "version": "3.10.2"
  },
  "mimetype": "text/x-python",
  "name": "python",
  "npconvert_exporter": "python",
  "pygments_lexer": "ipython3",
  "version": 3
 },
 "nbformat": 4,
 "nbformat_minor": 4
}
