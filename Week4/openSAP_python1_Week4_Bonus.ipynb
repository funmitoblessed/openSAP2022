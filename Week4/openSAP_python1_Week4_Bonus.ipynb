{
 "cells": [
  {
   "cell_type": "markdown",
   "id": "a9489c99-8dc8-462c-97c9-89d6d06d7df6",
   "metadata": {},
   "source": [
    "# Bonus Exercise Week 4"
   ]
  },
  {
   "cell_type": "markdown",
   "id": "13a5c1e5-19b7-4f02-80f6-bcf089275ad6",
   "metadata": {},
   "source": [
    "### Instructions:\n",
    "    \n",
    "You probably know the game “Paper, Scissors, Rock”. A game for two players. Each player has three options, namely paper, scissors, rock which are formed by the player’s hand. The rules are quite easy: rock beats scissors, scissors beats paper, paper beats rock. If both players have chosen the same object, it’s a draw.\n",
    "\n",
    "In the following, we play 100 consecutive games. Each player has to hand in a file consisting of one letter per line. The letters are either “R”, “P” or “S”.\n",
    "\n",
    "Write a Python Program that reads two files `player1.txt` and `player2.txt`. These files are organized according to the above rules. The program should compare both inputs and calculate how many games have been won by player1, by player2 and how many games ended in a draw. The results are written into a file `result.txt` which looks as follows:\n",
    "\n",
    "`Player1 wins: 23` \n",
    "\n",
    "`Player2 wins: 48` \n",
    "\n",
    "`Draws: 29`\n",
    "\n",
    "The sum should always be 100.\n",
    "\n",
    "Please note: \n",
    "\n",
    "When programming your solution in CodeOcean, files created by your program will not be visible. If you want to check the content of those files, we suggest to let your code run on your machine (e.g. in a Jupyter Notebook) and check the contents of the files there."
   ]
  },
  {
   "cell_type": "code",
   "execution_count": 17,
   "id": "7a119ade-6cb9-45a8-8362-7d9833f5d60d",
   "metadata": {},
   "outputs": [
    {
     "name": "stdout",
     "output_type": "stream",
     "text": [
      "Player1 wins: 31\n",
      "Player2 wins: 26\n",
      "Draws: 43\n",
      "Total Games Played: 100\n"
     ]
    }
   ],
   "source": [
    "player_one_list = []\n",
    "player_two_list = []\n",
    "player_one_score = 0\n",
    "player_two_score = 0\n",
    "draws = 0\n",
    "\n",
    "with open(\"player1.txt\", \"r\") as player_one:\n",
    "    for line in player_one:\n",
    "        line = line.strip()\n",
    "        player_one_list.append(line)\n",
    "        \n",
    "    with open(\"player2.txt\", \"r\") as player_two:\n",
    "        for line in player_two:\n",
    "            line = line.strip()\n",
    "            player_two_list.append(line)\n",
    "\n",
    "            \n",
    "# print(player_one_list)\n",
    "# print()\n",
    "# print(player_two_list)\n",
    "\n",
    "for i in range(0, len(player_one_list)):\n",
    "    if (player_one_list[i] == player_two_list[i]):\n",
    "        draws += 1\n",
    "    elif((player_one_list[i] == \"R\" and player_two_list[i] == \"S\") or (player_one_list[i] == \"S\" and player_two_list[i] == \"P\") or (player_one_list[i] == \"P\" and player_two_list[i] == \"R\")):\n",
    "        player_one_score += 1\n",
    "    elif((player_two_list[i] == \"R\" and player_one_list[i] == \"S\") or (player_two_list[i] == \"S\" and player_one_list[i] == \"P\") or (player_two_list[i] == \"P\" and player_one_list[i] == \"R\")):\n",
    "        player_two_score += 1    \n",
    "\n",
    "print(\"Player1 wins:\", player_one_score)\n",
    "print(\"Player2 wins:\", player_two_score)\n",
    "print(\"Draws:\", draws)\n",
    "print(\"Total Games Played:\", player_one_score + player_two_score + draws)    \n",
    "    \n",
    "with open(\"result.txt\", \"w\") as result:\n",
    "    result.write(\"Player1 wins:\" + str(player_one_score) + \"\\n\")\n",
    "    result.write(\"Player2 wins:\" + str(player_two_score) + \"\\n\")\n",
    "    result.write(\"Draws:\" + str(draws) + \"\\n\")"
   ]
  }
 ],
 "metadata": {
  "kernelspec": {
   "display_name": "Python 3 (ipykernel)",
   "language": "python",
   "name": "python3"
  },
  "language_info": {
   "codemirror_mode": {
    "name": "ipython",
    "version": 3
   },
   "file_extension": ".py",
   "mimetype": "text/x-python",
   "name": "python",
   "nbconvert_exporter": "python",
   "pygments_lexer": "ipython3",
   "version": "3.10.2"
  }
 },
 "nbformat": 4,
 "nbformat_minor": 5
}
