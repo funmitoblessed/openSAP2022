{
 "cells": [
  {
   "cell_type": "markdown",
   "id": "4c8fce83-3b20-40b0-8f75-e1a8a8faf363",
   "metadata": {},
   "source": [
    "# Assignment Week 4 (Part 2 - Exercise)"
   ]
  },
  {
   "cell_type": "markdown",
   "id": "c03bb78a-77f6-47db-8233-8b0e8a89afc2",
   "metadata": {},
   "source": [
    "### Instructions:\n",
    "\n",
    "There is a file `secret.txt`, which contains one character per line. There is a second file `key.txt`, which contains two lines with one number per line (the number could have several digits).\n",
    "The first number `col` represents the number of columns of a grid, the second number `row` represents the number of rows of the grid. The characters of the first file should now be filled into this grid. Take the characters one by one and fill them into a string until the string contains `col` characters. Append the string to a list. \\\n",
    "Then create a new string the same way. Continue, until the number of strings is equal to row. Now, write all the strings into a file `public.txt`. \\\n",
    "Open the the file and check the content.\n",
    "\n",
    "Please note:\n",
    "When programming your solution in CodeOcean, files created by your program will not be visible. If you want to check the content of those files, we suggest to let your code run on your machine (e.g. in a Jupyter Notebook) and check the contents of the files there."
   ]
  }
 ],
 "metadata": {
  "kernelspec": {
   "display_name": "Python 3 (ipykernel)",
   "language": "python",
   "name": "python3"
  },
  "language_info": {
   "codemirror_mode": {
    "name": "ipython",
    "version": 3
   },
   "file_extension": ".py",
   "mimetype": "text/x-python",
   "name": "python",
   "nbconvert_exporter": "python",
   "pygments_lexer": "ipython3",
   "version": "3.10.2"
  }
 },
 "nbformat": 4,
 "nbformat_minor": 5
}
