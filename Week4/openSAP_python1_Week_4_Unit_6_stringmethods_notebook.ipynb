{
 "cells": [
  {
   "cell_type": "markdown",
   "metadata": {},
   "source": [
    "# [String methods](https://docs.python.org/3/library/stdtypes.html#string-methods)\n",
    "You already know some methods to modify strings in Python. In this unit, you will get to know some more possible string\n",
    "operations. Shown in the table below is a selection of common methods and a short description. They will be explained\n",
    "more detailed below.\n",
    "\n",
    "\n",
    "| Method         | Description                                                                                  |\n",
    "| -------------- | -------------------------------------------------------------------------------------------- |\n",
    "| `count()`      | Count occurrences of substrings                                                              |\n",
    "| `replace()`    | Replace a substring                                                                          |\n",
    "| `strip()`      | Deletes spaces, tabs, linebreaks and similar at the beginning and the end of a string        |\n",
    "| `split()`      | Return a list of the string elements, separated by given separator                           |\n",
    "| `join()`       | Join input strings, separated by string invoking the method                                  |\n",
    "| `upper()`      | Make all characters *UPPERCASE*                                                              |\n",
    "| `lower()`      | Make all characters *lowercase*                                                              |\n",
    "| `title()`      | Make the first letter of every *word* in the **string** *UPPERCASE* and the rest *lowercase* |\n",
    "| `capitalize()` | Change the first *letter* of a **string** to *UPPERCASE* while making the rest *lowercase*   |\n",
    "\n",
    "\n",
    "The following explanations are based on the notation of the\n",
    "[official Python documentation](https://docs.python.org/3/library/stdtypes.html#string-methods) where:\n",
    "- *str* is just a placeholder for the `String` object, from which the method is invoked\n",
    "- arguments in square brackets *[ ]* are optional\n",
    "- default values for arguments (if any) are notated with an *equal sign* ( = )"
   ]
  },
  {
   "cell_type": "markdown",
   "metadata": {},
   "source": [
    "# Counting with *`str.count(sub[,start][,end])`*\n",
    "Using this method you get the number of times *`sub`* is contained in *`str`*. You can use the 2 optional arguments to\n",
    "restrict counting to specific parts of the string using the same notation for slicing as in week 2, unit 7.  \n",
    "Try out different arguments for this method. Can you spot anything special about line 5?"
   ]
  },
  {
   "cell_type": "code",
   "execution_count": 3,
   "metadata": {},
   "outputs": [
    {
     "name": "stdout",
     "output_type": "stream",
     "text": [
      "1\n",
      "1\n"
     ]
    }
   ],
   "source": [
    "test_string = \"This this is a string containing some letters: xyxyx and a few numbers: 123 456 778899\"\n",
    "print(test_string.count(\"T\"))\n",
    "print(test_string.count(\"xyx\"))"
   ]
  },
  {
   "cell_type": "markdown",
   "metadata": {},
   "source": [
    "# Replacing parts of a string using *`str.replace(old, new[,count])`*\n",
    "If you want to replace parts of a string, you can use the method mentioned above. It will replace *old* by *new* and you\n",
    "can specify to do it only *count* times. However, it is important to notice that the method will return a copy of the\n",
    "modified string and not modify the original one."
   ]
  },
  {
   "cell_type": "code",
   "execution_count": 5,
   "metadata": {},
   "outputs": [
    {
     "name": "stdout",
     "output_type": "stream",
     "text": [
      "The string (This this is a string containing some letters: xyxyx and a few numbers: 123 456 778899) looks like this after modifying: Look here, this is a string containing some letters: xyxyx and a few numbers: 123 456 778899\n",
      "This this is a string containing some letters: xyzxyx and a few numbers: 123 456 778899\n"
     ]
    }
   ],
   "source": [
    "string_modified = test_string.replace(\"This this\", \"Look here, this\")\n",
    "print(f\"The string ({test_string}) looks like this after modifying: {string_modified}\")\n",
    "\n",
    "print(test_string.replace(\"xy\", \"xyz\", 1))"
   ]
  },
  {
   "cell_type": "markdown",
   "metadata": {},
   "source": [
    "# Splitting strings or lines of files with *`str.split(sep=None[,maxsplit=-1])`*\n",
    "\n",
    "When reading data from a file, you may come across `.csv` files, for example from measured data or exporting a list of\n",
    "students from a web tool. The data is written in a text file with a special ending (`.csv`) where rows are separated by\n",
    "line breaks and the columns are separated by a delimiter - usually the comma, hence the name\n",
    "*[(csv - comma-separated-values)](https://en.wikipedia.org/wiki/Comma-separated_values)*.\n",
    "Usually commas (`,`) are used to isolate the data sets from each other, but also a semicolon (`;`) or other signs like\n",
    "spaces or even tab stops (`\\t`) can be used. So be sure to take a look at your input data to determine the delimiter\n",
    "beforehand.  \n",
    "With the method `.split()` you can extract the values from the lines in the file and assign them to separate list items\n",
    "like shown below."
   ]
  },
  {
   "cell_type": "code",
   "execution_count": 11,
   "metadata": {},
   "outputs": [
    {
     "name": "stdin",
     "output_type": "stream",
     "text": [
      "Which student do you want to show?  0\n"
     ]
    },
    {
     "name": "stdout",
     "output_type": "stream",
     "text": [
      "Specified student in list: ['Potter', 'Harry', '477264', 'harry.potter@hogwarts.wiz', 'Study of Ancient Runes']\n"
     ]
    }
   ],
   "source": [
    "list_of_students = []\n",
    "with open(\"students.csv\", \"r\") as f:\n",
    "    for line in f:\n",
    "        line = line.strip()\n",
    "        student = line.split(\";\")\n",
    "        list_of_students.append(student)\n",
    "\n",
    "line_number = int(input(\"Which student do you want to show? \"))\n",
    "\n",
    "print(f\"Specified student in list: {list_of_students[line_number]}\")"
   ]
  },
  {
   "cell_type": "code",
   "execution_count": 8,
   "metadata": {},
   "outputs": [
    {
     "data": {
      "text/plain": [
       "[['Potter',\n",
       "  'Harry',\n",
       "  '477264',\n",
       "  'harry.potter@hogwarts.wiz',\n",
       "  'Study of Ancient Runes'],\n",
       " ['Weasley',\n",
       "  'Ron',\n",
       "  '490134',\n",
       "  'ron.weasley@hogwarts.wiz',\n",
       "  'Care of Magical Creatures'],\n",
       " ['Granger',\n",
       "  'Hermione',\n",
       "  '471617',\n",
       "  'hermione.granger@hogwarts.wiz',\n",
       "  'Ghoul Studies'],\n",
       " ['Creevey', 'Colin', '432646', 'colin.creevey@hogwarts.wiz', 'Music'],\n",
       " ['Finnigan',\n",
       "  'Seamus',\n",
       "  '481989',\n",
       "  'seamus.finnigan@hogwarts.wiz',\n",
       "  'Ancient Studies'],\n",
       " ['Abbott', 'Hannah', '488962', 'hannah.abbott@hogwarts.wiz', 'Apparition'],\n",
       " ['Parkinson', 'Pansy', '482103', 'pansy.parkinson@hogwarts.wiz', 'Dark Arts'],\n",
       " ['Smith',\n",
       "  'Zacharias',\n",
       "  '494380',\n",
       "  'zacharias.smith@hogwarts.wiz',\n",
       "  'Care of Magical Creatures'],\n",
       " ['Zabini', 'Blaise', '408761', 'blaise.zabini@hogwarts.wiz', 'Muggle Music'],\n",
       " ['Malfoy', 'Draco', '492010', 'draco.malfoy@hogwarts.wiz', 'Charms'],\n",
       " ['Thomas', 'Dean', '447924', 'dean.thomas@hogwarts.wiz', 'Divination'],\n",
       " ['Bulstrode',\n",
       "  'Millicent',\n",
       "  '467061',\n",
       "  'millicent.bulstrode@hogwarts.wiz',\n",
       "  'Ghoul Studies'],\n",
       " ['Boot', 'Terry', '462460', 'terry.boot@hogwarts.wiz', 'Herbology'],\n",
       " ['Macmillan', 'Ernie', '414813', 'ernie.macmillan@hogwarts.wiz', 'Alchemy'],\n",
       " ['Crabbe',\n",
       "  'Vincent',\n",
       "  '458755',\n",
       "  'vincent.crabbe@hogwarts.wiz',\n",
       "  'Ghoul Studies'],\n",
       " ['Goyle', 'Gregory', '496383', 'gregory.goyle@hogwarts.wiz', 'Art'],\n",
       " ['Brown',\n",
       "  'Lavender',\n",
       "  '484286',\n",
       "  'lavender.brown@hogwarts.wiz',\n",
       "  'Muggle Studies'],\n",
       " ['Bell', 'Katie', '428172', 'katie.bell@hogwarts.wiz', 'Ancient Studies'],\n",
       " ['Patil', 'Parvati', '471843', 'parvati.patil@hogwarts.wiz', 'Herbology'],\n",
       " ['Creevey',\n",
       "  'Dennis',\n",
       "  '410995',\n",
       "  'dennis.creevey@hogwarts.wiz',\n",
       "  'Magical Theory'],\n",
       " ['Midgen', 'Eloise', '461091', 'eloise.midgen@hogwarts.wiz', 'Astronomy'],\n",
       " ['Coote', 'Ritchie', '491225', 'ritchie.coote@hogwarts.wiz', 'Arithmancy'],\n",
       " ['Sloper', 'Jack', '453788', 'jack.sloper@hogwarts.wiz', 'Astronomy'],\n",
       " ['Frobisher',\n",
       "  'Victoria',\n",
       "  '439399',\n",
       "  'victoria.frobisher@hogwarts.wiz',\n",
       "  'Care of Magical Creatures'],\n",
       " ['Hooper',\n",
       "  'Geoffrey',\n",
       "  '411888',\n",
       "  'geoffrey.hooper@hogwarts.wiz',\n",
       "  'Arithmancy'],\n",
       " ['Kirke', 'Andrew', '424853', 'andrew.kirke@hogwarts.wiz', 'Potions'],\n",
       " ['Robins', 'Demelza', '498334', 'demelza.robins@hogwarts.wiz', 'Herbology'],\n",
       " ['McLaggen',\n",
       "  'Cormac',\n",
       "  '461722',\n",
       "  'cormac.mclaggen@hogwarts.wiz',\n",
       "  'Muggle Studies'],\n",
       " ['Longbottom',\n",
       "  'Neville',\n",
       "  '495877',\n",
       "  'neville.longbottom@hogwarts.wiz',\n",
       "  'Divination'],\n",
       " ['Weasley', 'Ginny', '446927', 'ginny.weasley@hogwarts.wiz', 'Dark Arts'],\n",
       " ['Vane', 'Romilda', '428960', 'romilda.vane@hogwarts.wiz', 'Astronomy'],\n",
       " ['McDonald', 'Natalie', '473337', 'natalie.mcdonald@hogwarts.wiz', 'Potions'],\n",
       " ['Peakes', 'Jimmy', '498139', 'jimmy.peakes@hogwarts.wiz', 'Xylomancy'],\n",
       " ['Abercrombie', 'Euan', '412113', 'euan.abercrombie@hogwarts.wiz', 'Charms'],\n",
       " ['MacDonald', 'Mary', '464948', 'mary.macdonald@hogwarts.wiz', 'Muggle Art'],\n",
       " ['Clearwater',\n",
       "  'Penelope',\n",
       "  '489821',\n",
       "  'penelope.clearwater@hogwarts.wiz',\n",
       "  'Potions'],\n",
       " ['Davies', 'Roger', '423682', 'roger.davies@hogwarts.wiz', 'Charms'],\n",
       " ['Carmichael',\n",
       "  'Eddie',\n",
       "  '409795',\n",
       "  'eddie.carmichael@hogwarts.wiz',\n",
       "  'Muggle Studies'],\n",
       " ['Chang', 'Cho', '432914', 'cho.chang@hogwarts.wiz', 'Music'],\n",
       " ['Edgecombe',\n",
       "  'Marietta',\n",
       "  '479707',\n",
       "  'marietta.edgecombe@hogwarts.wiz',\n",
       "  'Divination'],\n",
       " ['Brocklehurst',\n",
       "  'Mandy',\n",
       "  '424573',\n",
       "  'mandy.brocklehurst@hogwarts.wiz',\n",
       "  'Astronomy'],\n",
       " ['Corner',\n",
       "  'Michael',\n",
       "  '427861',\n",
       "  'michael.corner@hogwarts.wiz',\n",
       "  'Transfiguration'],\n",
       " ['Cornfoot',\n",
       "  'Stephen',\n",
       "  '409205',\n",
       "  'stephen.cornfoot@hogwarts.wiz',\n",
       "  'Muggle Art'],\n",
       " ['Entwhistle',\n",
       "  'Kevin',\n",
       "  '491893',\n",
       "  'kevin.entwhistle@hogwarts.wiz',\n",
       "  'Magical Theory'],\n",
       " ['Goldstein',\n",
       "  'Anthony',\n",
       "  '429693',\n",
       "  'anthony.goldstein@hogwarts.wiz',\n",
       "  'Charms'],\n",
       " ['Li', 'Su', '460737', 'su.li@hogwarts.wiz', 'Music'],\n",
       " ['McDougal', 'Morag', '410362', 'morag.mcdougal@hogwarts.wiz', 'Charms'],\n",
       " ['Patil', 'Padma', '438399', 'padma.patil@hogwarts.wiz', 'Muggle Music'],\n",
       " ['Turpin', 'Lisa', '410297', 'lisa.turpin@hogwarts.wiz', 'Dark Arts'],\n",
       " ['Lovegood', 'Luna', '465190', 'luna.lovegood@hogwarts.wiz', 'Astronomy'],\n",
       " ['Quirke', 'Orla', '442039', 'orla.quirke@hogwarts.wiz', 'Art'],\n",
       " ['Ackerley',\n",
       "  'Stewart',\n",
       "  '457577',\n",
       "  'stewart.ackerley@hogwarts.wiz',\n",
       "  'Ghoul Studies'],\n",
       " ['Bones', 'Susan', '458723', 'susan.bones@hogwarts.wiz', 'Divination'],\n",
       " ['Branstone',\n",
       "  'Eleanor',\n",
       "  '462681',\n",
       "  'eleanor.branstone@hogwarts.wiz',\n",
       "  'Muggle Art'],\n",
       " ['Cauldwell', 'Owen', '442580', 'owen.cauldwell@hogwarts.wiz', 'Alchemy'],\n",
       " ['Finch-Fletchley',\n",
       "  'Justin',\n",
       "  '459220',\n",
       "  'justin.finch-fletchley@hogwarts.wiz',\n",
       "  'Charms'],\n",
       " ['Hopkins', 'Wayne', '490995', 'wayne.hopkins@hogwarts.wiz', 'Herbology'],\n",
       " ['Jones', 'Megan', '432783', 'megan.jones@hogwarts.wiz', 'Divination'],\n",
       " ['Madley',\n",
       "  'Laura',\n",
       "  '414597',\n",
       "  'laura.madley@hogwarts.wiz',\n",
       "  'Defence Against the Dark Arts'],\n",
       " ['Whitby', 'Kevin', '406080', 'kevin.whitby@hogwarts.wiz', 'Divination'],\n",
       " ['Zeller', 'Rose', '422984', 'rose.zeller@hogwarts.wiz', 'Music'],\n",
       " ['Higgs',\n",
       "  'Terence',\n",
       "  '411820',\n",
       "  'terence.higgs@hogwarts.wiz',\n",
       "  'Study of Ancient Runes'],\n",
       " ['Pucey', 'Adrian', '486169', 'adrian.pucey@hogwarts.wiz', 'Muggle Studies'],\n",
       " ['Davis',\n",
       "  'Tracey',\n",
       "  '453450',\n",
       "  'tracey.davis@hogwarts.wiz',\n",
       "  'Advanced Arithmancy Studies'],\n",
       " ['Moon', 'Lilian', '479394', 'lilian.moon@hogwarts.wiz', 'Herbology'],\n",
       " ['Greengrass',\n",
       "  'Daphne',\n",
       "  '445288',\n",
       "  'daphne.greengrass@hogwarts.wiz',\n",
       "  'Charms'],\n",
       " ['Nott',\n",
       "  'Theodore',\n",
       "  '496659',\n",
       "  'theodore.nott@hogwarts.wiz',\n",
       "  'Muggle Studies'],\n",
       " ['Greengrass',\n",
       "  'Astoria',\n",
       "  '458180',\n",
       "  'astoria.greengrass@hogwarts.wiz',\n",
       "  'Muggle Art'],\n",
       " ['Baddock',\n",
       "  'Malcolm',\n",
       "  '483666',\n",
       "  'malcolm.baddock@hogwarts.wiz',\n",
       "  'Transfiguration'],\n",
       " ['Pritchard',\n",
       "  'Graham',\n",
       "  '419203',\n",
       "  'graham.pritchard@hogwarts.wiz',\n",
       "  'Ghoul Studies']]"
      ]
     },
     "execution_count": 8,
     "metadata": {},
     "output_type": "execute_result"
    }
   ],
   "source": [
    "list_of_students"
   ]
  },
  {
   "cell_type": "markdown",
   "metadata": {},
   "source": [
    "# Joining strings or lines again using *`str.join(iterable)`*\n",
    "If you would like to add your previously split student list together again, you can use `join()` to concatenate any\n",
    "*iterable* (e.g. list, tuple) of strings. You will get an output string which is separated by the string the method is\n",
    "invoked from."
   ]
  },
  {
   "cell_type": "code",
   "execution_count": 12,
   "metadata": {},
   "outputs": [
    {
     "name": "stdout",
     "output_type": "stream",
     "text": [
      "Hey - Ho - Let's - Go\n",
      "Potter * Harry * 477264 * harry.potter@hogwarts.wiz * Study of Ancient Runes\n"
     ]
    }
   ],
   "source": [
    "separator_string = \" - \"\n",
    "\n",
    "string_list = [\"Hey\", \"Ho\", \"Let's\", \"Go\"]\n",
    "print(separator_string.join(string_list))\n",
    "\n",
    "print(\" * \".join(list_of_students[0]))"
   ]
  },
  {
   "cell_type": "markdown",
   "metadata": {},
   "source": [
    "# Changing the letter case\n",
    "## *`str.upper()`* and *`str.lower()`*\n",
    "Whenever you want to change the case of a string, you can use `.upper()` or `.lower()` to make your string all\n",
    "*UPPERCASE* or completely lowercase. It will return a modified copy of the string.  \n",
    "This may be interesting when you want to design your program independent from case-sensitive search terms for example"
   ]
  },
  {
   "cell_type": "markdown",
   "metadata": {},
   "source": [
    "## *`str.title()`*\n",
    "With `.title()` you can capitalize every first letter of a word in a string whereas `.capitalize()` only makes the first\n",
    "letter in a string *UPPERCASE*."
   ]
  },
  {
   "cell_type": "code",
   "execution_count": 13,
   "metadata": {},
   "outputs": [
    {
     "name": "stdout",
     "output_type": "stream",
     "text": [
      "THIS IS A TESTSTRING IN DIFFERENT CASES\n",
      "this is a teststring in different cases\n",
      "This Is A Teststring In Different Cases\n",
      "This is a teststring in different cases\n"
     ]
    }
   ],
   "source": [
    "case_string = \"tHIS Is a TeSTString in different caSES\"\n",
    "\n",
    "print(case_string.upper())\n",
    "print(case_string.lower())\n",
    "print(case_string.title())\n",
    "print(case_string.capitalize())"
   ]
  },
  {
   "cell_type": "markdown",
   "metadata": {},
   "source": [
    "# Self Test"
   ]
  },
  {
   "cell_type": "markdown",
   "metadata": {},
   "source": [
    "### Question 1\n",
    "`1.0 Pts`\n",
    "\n",
    "What is the result of the following statement?\n",
    "\n",
    "THE WORLD IS GREAT \n",
    "\n",
    "the world is great \n",
    "\n",
    "The world is great \n",
    "\n",
    "The World Is Great"
   ]
  },
  {
   "cell_type": "code",
   "execution_count": 1,
   "metadata": {},
   "outputs": [
    {
     "data": {
      "text/plain": [
       "'THE WORLD IS GREAT'"
      ]
     },
     "execution_count": 1,
     "metadata": {},
     "output_type": "execute_result"
    }
   ],
   "source": [
    "\"The world is great\".upper()"
   ]
  },
  {
   "cell_type": "markdown",
   "metadata": {},
   "source": [
    "### Question 2\n",
    "`1.0 Pts`\n",
    "\n",
    "What is the result of the following statement?\n",
    "\n",
    "\"YESTERDAY\", \"LET IT BE\", \"HELP\", \"SOMETHING\" \n",
    "\n",
    "AttributeError \n",
    "\n",
    "['YESTERDAY'; 'LET IT BE', 'HELP', 'SOMETHING'] \n",
    "\n",
    "['Yesterday', 'Let It Be', 'Help', 'Something']"
   ]
  },
  {
   "cell_type": "code",
   "execution_count": 2,
   "metadata": {},
   "outputs": [
    {
     "ename": "AttributeError",
     "evalue": "'list' object has no attribute 'upper'",
     "output_type": "error",
     "traceback": [
      "\u001b[1;31m------------------------------------------------------------\u001b[0m",
      "\u001b[1;31mAttributeError\u001b[0m             Traceback (most recent call last)",
      "Input \u001b[1;32mIn [2]\u001b[0m, in \u001b[0;36m<cell line: 3>\u001b[1;34m()\u001b[0m\n\u001b[0;32m      1\u001b[0m t \u001b[38;5;241m=\u001b[39m \u001b[38;5;124m\"\u001b[39m\u001b[38;5;124mYesterday, Let it be, Help, Something\u001b[39m\u001b[38;5;124m\"\u001b[39m\n\u001b[0;32m      2\u001b[0m t \u001b[38;5;241m=\u001b[39m t\u001b[38;5;241m.\u001b[39msplit()\n\u001b[1;32m----> 3\u001b[0m t \u001b[38;5;241m=\u001b[39m \u001b[43mt\u001b[49m\u001b[38;5;241;43m.\u001b[39;49m\u001b[43mupper\u001b[49m()\n",
      "\u001b[1;31mAttributeError\u001b[0m: 'list' object has no attribute 'upper'"
     ]
    }
   ],
   "source": [
    "t = \"Yesterday, Let it be, Help, Something\"\n",
    "t = t.split()\n",
    "t = t.upper()"
   ]
  }
 ],
 "metadata": {
  "interpreter": {
   "hash": "b89b5cfaba6639976dc87ff2fec6d58faec662063367e2c229c520fe71072417"
  },
  "kernelspec": {
   "display_name": "Python 3 (ipykernel)",
   "language": "python",
   "name": "python3"
  },
  "language_info": {
   "codemirror_mode": {
    "name": "ipython",
    "version": 3
   },
   "file_extension": ".py",
   "mimetype": "text/x-python",
   "name": "python",
   "nbconvert_exporter": "python",
   "pygments_lexer": "ipython3",
   "version": "3.10.2"
  }
 },
 "nbformat": 4,
 "nbformat_minor": 4
}
