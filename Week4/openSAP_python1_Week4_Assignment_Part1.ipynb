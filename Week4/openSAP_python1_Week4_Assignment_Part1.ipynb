{
 "cells": [
  {
   "cell_type": "markdown",
   "id": "da1d6551-ac3d-41c5-bb8e-1464828383bc",
   "metadata": {},
   "source": [
    "# Assignment Week 4 (Part 1 - Questions)"
   ]
  },
  {
   "cell_type": "markdown",
   "id": "5d58e8cf-ff69-46d1-90bd-61b6fc7885e7",
   "metadata": {},
   "source": [
    "### Question 1\n",
    "`2.0 Pts`\n",
    "\n",
    "Which of the following statements about file handling in Python are correct?\n",
    "\n",
    "*Note: There are 3 correct answers to this question.*\n",
    "\n",
    "Files must have a name, otherwise they are not \"callable\".`correct` \n",
    "\n",
    "The rules for naming a file are the same as the rules for naming variables. \n",
    "\n",
    "Files can be used to share data between different programs.`correct` \n",
    "\n",
    "Using files, data can be stored persistently, in other words, when the program is stopped or when the computer is switched off, the data is still available.`correct` \n",
    "\n",
    "Files must only contain the normal characters and digits."
   ]
  },
  {
   "cell_type": "markdown",
   "id": "6b40383e-af16-4a50-8521-75cf0545cc74",
   "metadata": {},
   "source": [
    "### Question 2\n",
    "`2.0 Pts`\n",
    "\n",
    "Which statements about the following code are correct?\n",
    "\n",
    "*Note: There are 2 correct answers to this question.*\n",
    "\n",
    "Using the `with` statement in combination with the `open` function limits the number of faults, as the closing of the file is done implicitly. `correct` \n",
    "\n",
    "The file will not be stored correctly at the end of the program because it is not closed correctly. \n",
    "\n",
    "In this case, it does not matter that the `.close()` method is not executed, as the file is read only. \n",
    "\n",
    "Using the `with` statement, it does not matter if the file `first_file.txt` exists. In case there is no such file, the program will simply continue and does not raise an error. \n",
    "\n",
    "When a file is opened with the `with` statement, it is not necessary to close it. This is done automatically at the end of the `with` block. `correct`"
   ]
  },
  {
   "cell_type": "code",
   "execution_count": 1,
   "id": "9ba3f373-4c1f-4075-9e7b-71d1b03b4277",
   "metadata": {},
   "outputs": [
    {
     "ename": "FileNotFoundError",
     "evalue": "[Errno 2] No such file or directory: 'first_file.txt'",
     "output_type": "error",
     "traceback": [
      "\u001b[1;31m------------------------------------------------------------\u001b[0m",
      "\u001b[1;31mFileNotFoundError\u001b[0m          Traceback (most recent call last)",
      "Input \u001b[1;32mIn [1]\u001b[0m, in \u001b[0;36m<cell line: 1>\u001b[1;34m()\u001b[0m\n\u001b[1;32m----> 1\u001b[0m \u001b[38;5;28;01mwith\u001b[39;00m \u001b[38;5;28;43mopen\u001b[39;49m\u001b[43m(\u001b[49m\u001b[38;5;124;43m\"\u001b[39;49m\u001b[38;5;124;43mfirst_file.txt\u001b[39;49m\u001b[38;5;124;43m\"\u001b[39;49m\u001b[43m,\u001b[49m\u001b[43m \u001b[49m\u001b[38;5;124;43m\"\u001b[39;49m\u001b[38;5;124;43mr\u001b[39;49m\u001b[38;5;124;43m\"\u001b[39;49m\u001b[43m)\u001b[49m \u001b[38;5;28;01mas\u001b[39;00m file:\n\u001b[0;32m      2\u001b[0m     \u001b[38;5;28;01mfor\u001b[39;00m line \u001b[38;5;129;01min\u001b[39;00m file:\n\u001b[0;32m      3\u001b[0m         \u001b[38;5;28mprint\u001b[39m(line)\n",
      "\u001b[1;31mFileNotFoundError\u001b[0m: [Errno 2] No such file or directory: 'first_file.txt'"
     ]
    }
   ],
   "source": [
    "with open(\"first_file.txt\", \"r\") as file:\n",
    "    for line in file:\n",
    "        print(line)"
   ]
  },
  {
   "cell_type": "markdown",
   "id": "061b8206-a376-41fa-8ea7-4a42b1f7c476",
   "metadata": {},
   "source": [
    "### Question 3\n",
    "`2.0 Pts`\n",
    "\n",
    "Which statements regarding the following program are correct?\n",
    "\n",
    "*Note: There are 2 correct answers to this question.*\n",
    "\n",
    "The file is not closed correctly at the end of the program. \n",
    "\n",
    "Only the first line of the file is read into the variable `line`. \n",
    "\n",
    "After the program is executed, the variable `line` is a list. `correct` \n",
    "\n",
    "If the file \"lorem_ipsum.txt\" does not exist, the program stops with an error. `correct` \n",
    "\n",
    "The line breaks `\\n` at the end of each line in the file are automatically deleted by the ‘with’ statement."
   ]
  },
  {
   "cell_type": "code",
   "execution_count": 7,
   "id": "703822c0-eecb-4a3f-aee3-d4de2031a440",
   "metadata": {},
   "outputs": [],
   "source": [
    "with open(\"lorem_ipsum.txt\", \"r\") as file:\n",
    "    line = file.readlines()"
   ]
  },
  {
   "cell_type": "code",
   "execution_count": 4,
   "id": "2ed645b4-4b21-4609-b005-5146fea8cf7d",
   "metadata": {},
   "outputs": [
    {
     "data": {
      "text/plain": [
       "['Lorem ipsum dolor sit amet, consectetur adipiscing elit,\\n',\n",
       " 'sed do eiusmod tempor incididunt ut labore et dolore magna aliqua.\\n',\n",
       " 'Ut enim ad minim veniam, quis nostrud exercitation ullamco laboris\\n',\n",
       " 'nisi ut aliquip ex ea commodo consequat. Duis aute irure dolor in\\n',\n",
       " 'reprehenderit in voluptate velit esse cillum dolore eu fugiat nulla\\n',\n",
       " 'pariatur. Excepteur sint occaecat cupidatat non proident, sunt in\\n',\n",
       " 'culpa qui officia deserunt mollit anim id est laborum.']"
      ]
     },
     "execution_count": 4,
     "metadata": {},
     "output_type": "execute_result"
    }
   ],
   "source": [
    "line"
   ]
  },
  {
   "cell_type": "markdown",
   "id": "9a46646f-db15-4962-821d-71420bf6871e",
   "metadata": {},
   "source": [
    "### Question 4\n",
    "`2.0 Pts`\n",
    "\n",
    "Which of the following statements about the .strip() method are correct?\n",
    "\n",
    "*Note: There are 2 correct answers to this question.*\n",
    "\n",
    "To loop through the lines of a file and first `.strip()` the line is a common pattern when dealing with files. `correct` \n",
    "\n",
    "It is better to use the `.strip()` method multiple times (for example, `string.strip().strip())`, because then even double spaces are deleted. \n",
    "\n",
    "If a file contains only digits, the `.strip()` method cannot be used, as it only works on strings. \n",
    "\n",
    "The method `.lstrip()` can be used on integers to delete leading zeros. \n",
    "\n",
    "Using the string method `.strip()`, leading and ending spaces, tabs, line breaks, and so on, are deleted. `correct` "
   ]
  },
  {
   "cell_type": "markdown",
   "id": "2dfcf82f-9172-4c0b-a69a-5aa58fb10207",
   "metadata": {},
   "source": [
    "### Question 5\n",
    "`2.0 Pts`\n",
    "\n",
    "The following program is intended to write the numbers from 1 to 10 to a file. The numbers should be stored in subsequent lines. What mistakes does the program contain?\n",
    "\n",
    "*Note: There are 3 correct answers to this question.*\n",
    "\n",
    "The range has to be from 1 to 11 as the last value is not taken into account. `correct` \n",
    "\n",
    "All data is written to one line and not to subsequent lines. \n",
    "\n",
    "The mode \"w\" has to be a string; the quotation marks are missing. `correct` \n",
    "\n",
    "The variable `i` has to be converted into a string. `correct` \n",
    "\n",
    "The mode \"w+\" has to be used because new data is stored into the file."
   ]
  },
  {
   "cell_type": "code",
   "execution_count": 11,
   "id": "8c76cea9-e369-47e5-88d2-b7a20b1459f7",
   "metadata": {},
   "outputs": [
    {
     "ename": "NameError",
     "evalue": "name 'w' is not defined",
     "output_type": "error",
     "traceback": [
      "\u001b[1;31m------------------------------------------------------------\u001b[0m",
      "\u001b[1;31mNameError\u001b[0m                  Traceback (most recent call last)",
      "Input \u001b[1;32mIn [11]\u001b[0m, in \u001b[0;36m<cell line: 1>\u001b[1;34m()\u001b[0m\n\u001b[1;32m----> 1\u001b[0m \u001b[38;5;28;01mwith\u001b[39;00m \u001b[38;5;28mopen\u001b[39m(\u001b[38;5;124m\"\u001b[39m\u001b[38;5;124mnumbers0.txt\u001b[39m\u001b[38;5;124m\"\u001b[39m, \u001b[43mw\u001b[49m) \u001b[38;5;28;01mas\u001b[39;00m file:\n\u001b[0;32m      2\u001b[0m     \u001b[38;5;28;01mfor\u001b[39;00m i \u001b[38;5;129;01min\u001b[39;00m \u001b[38;5;28mrange\u001b[39m(\u001b[38;5;241m1\u001b[39m, \u001b[38;5;241m10\u001b[39m):\n\u001b[0;32m      3\u001b[0m         file\u001b[38;5;241m.\u001b[39mwrite(i \u001b[38;5;241m+\u001b[39m \u001b[38;5;124m\"\u001b[39m\u001b[38;5;130;01m\\n\u001b[39;00m\u001b[38;5;124m\"\u001b[39m)\n",
      "\u001b[1;31mNameError\u001b[0m: name 'w' is not defined"
     ]
    }
   ],
   "source": [
    "with open(\"numbers0.txt\", w) as file:\n",
    "    for i in range(1, 10):\n",
    "        file.write(i + \"\\n\")"
   ]
  },
  {
   "cell_type": "markdown",
   "id": "1dbd63dd-58de-4911-95b5-81b82b9eb2c5",
   "metadata": {},
   "source": [
    "### Question 6\n",
    "`1.0 Pts`\n",
    "\n",
    "What is the output of the following statements?\n",
    "\n",
    "Week4 Assignment Question 6 \n",
    "\n",
    "Week 4 – Assignment – Question 6 \n",
    "\n",
    "Week 4, Assignment, Question 6 \n",
    "\n",
    "Week4–Assignment–Question 6"
   ]
  },
  {
   "cell_type": "code",
   "execution_count": 16,
   "id": "61961912-a715-4ac7-88b8-0ce0db3ed4f7",
   "metadata": {},
   "outputs": [
    {
     "name": "stdout",
     "output_type": "stream",
     "text": [
      "Week 4 - Assignment - Question 6\n"
     ]
    }
   ],
   "source": [
    "print(\"Week 4\", \"Assignment\", \"Question 6\", sep = \" - \")"
   ]
  },
  {
   "cell_type": "markdown",
   "id": "ac82cfa8-9fc4-4162-a620-1087a6813513",
   "metadata": {},
   "source": [
    "### Question 7\n",
    "`1.0 Pts`\n",
    "\n",
    "What is the output of the following statements?\n",
    "\n",
    "Week 4 – Assignment – Question 7 \n",
    "\n",
    "Week 4 \n",
    "\n",
    "Assignment \n",
    "\n",
    "Question 7 \n",
    "\n",
    "Week 4 – Assignment – Question 7 – \n",
    "\n",
    "Week 4 – \n",
    "\n",
    "Assignment – \n",
    "\n",
    "Question 7 –"
   ]
  },
  {
   "cell_type": "code",
   "execution_count": 18,
   "id": "0707536c-e9fc-4862-bb01-74adb82e4ccc",
   "metadata": {},
   "outputs": [
    {
     "name": "stdout",
     "output_type": "stream",
     "text": [
      "Week 4 - Assignment - Question 7 - "
     ]
    }
   ],
   "source": [
    "print(\"Week 4\", end = \" - \")\n",
    "print(\"Assignment\", end = \" - \")\n",
    "print(\"Question 7\", end = \" - \")"
   ]
  },
  {
   "cell_type": "markdown",
   "id": "ff38a66d-4ae0-451c-bb63-758ec90a63b2",
   "metadata": {},
   "source": [
    "### Question 8\n",
    "`1.0 Pts`\n",
    "\n",
    "What is the result of the following statement?\n",
    "\n",
    "`4 * 3 = 12`\n",
    "\n",
    "`4 * 3 = 12:10d`\n",
    "\n",
    "`4 * 3 = 1.2`\n",
    "\n",
    "`4 * 3 =         12`"
   ]
  },
  {
   "cell_type": "code",
   "execution_count": 20,
   "id": "2a127121-bceb-4e65-a1b8-61e78e270ed5",
   "metadata": {},
   "outputs": [
    {
     "name": "stdout",
     "output_type": "stream",
     "text": [
      "4 * 3 =         12\n"
     ]
    }
   ],
   "source": [
    "print(f\"4 * 3 = {4 * 3:10d}\")"
   ]
  },
  {
   "cell_type": "markdown",
   "id": "1f6e3769-698c-4d8a-a357-be02b0238b23",
   "metadata": {},
   "source": [
    "### Question 9\n",
    "`1.0 Pts`\n",
    "\n",
    "What is the result of the following statement?\n",
    "\n",
    "John, Paul, George, Ringo \n",
    "\n",
    "Error \n",
    "\n",
    "John, Paul, George, Pete \n",
    "\n",
    "Ringo"
   ]
  },
  {
   "cell_type": "code",
   "execution_count": 21,
   "id": "2bc188d4-c7b7-42a9-ba1f-a4522c767b49",
   "metadata": {},
   "outputs": [
    {
     "data": {
      "text/plain": [
       "'John, Paul, George, Ringo'"
      ]
     },
     "execution_count": 21,
     "metadata": {},
     "output_type": "execute_result"
    }
   ],
   "source": [
    "\"John, Paul, George, Pete\".replace(\"Pete\", \"Ringo\")"
   ]
  },
  {
   "cell_type": "markdown",
   "id": "a56b7f7d-024d-4d64-9071-e7beb124c20d",
   "metadata": {},
   "source": [
    "### Question 10\n",
    "`1.0 Pts`\n",
    "\n",
    "What is the result of the following statement?\n",
    "\n",
    "['Yesterday', 'Let it be', 'Help', 'Something'] \n",
    "\n",
    "['Yesterday', 'Let', 'it', 'be', 'Help', 'Something'] \n",
    "\n",
    "['Yesterday,', 'Let', 'it', 'be,', 'Help,', 'Something'] \n",
    "\n",
    "\"Yesterday\", \"Let it be\", \"Help\", \"Something\""
   ]
  },
  {
   "cell_type": "code",
   "execution_count": 22,
   "id": "846658dc-5008-467c-a90b-8a9f88dacb23",
   "metadata": {},
   "outputs": [
    {
     "data": {
      "text/plain": [
       "['Yesterday,', 'Let', 'it', 'be,', 'Help,', 'Something']"
      ]
     },
     "execution_count": 22,
     "metadata": {},
     "output_type": "execute_result"
    }
   ],
   "source": [
    "\"Yesterday, Let it be, Help, Something\".split()"
   ]
  }
 ],
 "metadata": {
  "kernelspec": {
   "display_name": "Python 3 (ipykernel)",
   "language": "python",
   "name": "python3"
  },
  "language_info": {
   "codemirror_mode": {
    "name": "ipython",
    "version": 3
   },
   "file_extension": ".py",
   "mimetype": "text/x-python",
   "name": "python",
   "nbconvert_exporter": "python",
   "pygments_lexer": "ipython3",
   "version": "3.10.2"
  }
 },
 "nbformat": 4,
 "nbformat_minor": 5
}
