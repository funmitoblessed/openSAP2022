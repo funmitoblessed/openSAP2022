{
 "cells": [
  {
   "cell_type": "markdown",
   "id": "a9489c99-8dc8-462c-97c9-89d6d06d7df6",
   "metadata": {},
   "source": [
    "# Bonus Exercise Week 4"
   ]
  },
  {
   "cell_type": "markdown",
   "id": "13a5c1e5-19b7-4f02-80f6-bcf089275ad6",
   "metadata": {},
   "source": [
    "### Instructions:\n",
    "    \n",
    "You probably know the game “Paper, Scissors, Rock”. A game for two players. Each player has three options, namely paper, scissors, rock which are formed by the player’s hand. The rules are quite easy: rock beats scissors, scissors beats paper, paper beats rock. If both players have chosen the same object, it’s a draw.\n",
    "\n",
    "In the following, we play 100 consecutive games. Each player has to hand in a file consisting of one letter per line. The letters are either “R”, “P” or “S”.\n",
    "\n",
    "Write a Python Program that reads two files `player1.txt` and `player2.txt`. These files are organized according to the above rules. The program should compare both inputs and calculate how many games have been won by player1, by player2 and how many games ended in a draw. The results are written into a file `result.txt` which looks as follows:\n",
    "\n",
    "`Player1 wins: 23` \\\n",
    "`Player2 wins: 48` \\\n",
    "`Draws: 29`\n",
    "\n",
    "The sum should always be 100.\n",
    "\n",
    "Please note: \\\n",
    "When programming your solution in CodeOcean, files created by your program will not be visible. If you want to check the content of those files, we suggest to let your code run on your machine (e.g. in a Jupyter Notebook) and check the contents of the files there."
   ]
  }
 ],
 "metadata": {
  "kernelspec": {
   "display_name": "Python 3 (ipykernel)",
   "language": "python",
   "name": "python3"
  },
  "language_info": {
   "codemirror_mode": {
    "name": "ipython",
    "version": 3
   },
   "file_extension": ".py",
   "mimetype": "text/x-python",
   "name": "python",
   "nbconvert_exporter": "python",
   "pygments_lexer": "ipython3",
   "version": "3.10.2"
  }
 },
 "nbformat": 4,
 "nbformat_minor": 5
}
