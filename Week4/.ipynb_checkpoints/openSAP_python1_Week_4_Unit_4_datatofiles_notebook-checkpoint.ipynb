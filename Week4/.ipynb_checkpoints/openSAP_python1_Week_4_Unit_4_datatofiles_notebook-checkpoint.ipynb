{
 "cells": [
  {
   "cell_type": "markdown",
   "metadata": {},
   "source": [
    "# Writing random numbers to a text file\n",
    "To be able to write to a file it must be opened in a mode that allows writing (e.g. the `w` mode). Then data can be\n",
    "written to the file using the `write()` method. This is shown in the following cell."
   ]
  },
  {
   "cell_type": "code",
   "execution_count": 1,
   "metadata": {},
   "outputs": [],
   "source": [
    "with open(\"numbers.txt\", \"w\") as file:\n",
    "    for i in range(100):\n",
    "        line = str(i) + \"\\n\"\n",
    "        file.write(line)"
   ]
  },
  {
   "cell_type": "markdown",
   "metadata": {},
   "source": [
    "Check the result in the file \"numbers.txt\" with a text editor. \n",
    "\n",
    "There are two things to be mentioned:\n",
    "\n",
    "- You can only write strings into a file. That's why the integer stored in `i` is casted with the `str()` function before it is written into the file\n",
    "- If you do not add the linebreak `\\n` to the string, then there will be no linebreak in the file.\n",
    "\n",
    "Give it a try and leave the casting or the linebreak away and check the result.\n",
    "\n",
    "\n",
    "# Saving a list of students into a file\n",
    "\n",
    "The example below includes the list of students we already used in a previous unit. Let's assume you have\n",
    "created this list by letting the user input the data. Now, you want to save the data permanently for later usage. Every\n",
    "tuple in the list represents a student and you want to save them to a file called *students.txt*:"
   ]
  },
  {
   "cell_type": "code",
   "execution_count": 2,
   "metadata": {},
   "outputs": [],
   "source": [
    "list_of_students = [\n",
    "    (\"Potter\", \"Harry\", 477264, \"harry@hogwarts.wiz\", \"Defence Against the Dark Arts\"),\n",
    "    (\"Weasley\", \"Ron\", 490134, \"ron@hogwarts.wiz\", \"Care of Magical Creatures\"),\n",
    "    (\"Granger\", \"Hermione\", 471617, \"hermione@hogwarts.wiz\", \"Alchemy\"),\n",
    "    (\"Creevey\", \"Colin\", 432646, \"colin@hogwarts.wiz\", \"Music\"),\n",
    "    (\"Finnigan\", \"Seamus\", 481989, \"seamus@hogwarts.wiz\", \"Ancient Studies\"),\n",
    "    (\"Abbott\", \"Hannah\", 488962, \"hannah@hogwarts.wiz\", \"Apparition\"),\n",
    "    (\"Parkinson\", \"Pansy\", 482103, \"pansy@hogwarts.wiz\", \"Dark Arts\"),\n",
    "    (\"Malfoy\", \"Draco\", 492010, \"draco@hogwarts.wiz\", \"Defence Against the Dark Arts\"),\n",
    "    (\"Thomas\", \"Dean\", 447924, \"dean.thomas@hogwarts.wiz\", \"Divination\"),\n",
    "]\n",
    "\n",
    "with open(\"students.txt\", \"w\") as file:\n",
    "    for student in list_of_students:\n",
    "        line = \"\"\n",
    "\n",
    "        for attribute in student:\n",
    "            line = line + str(attribute) + \", \"\n",
    "\n",
    "        file.write(line + \"\\n\")"
   ]
  },
  {
   "cell_type": "markdown",
   "metadata": {},
   "source": [
    "You should have noticed that the `\\n` will add a line break after each number or student. Otherwise the file would just\n",
    "contain one long and confusing line. You can try this out by omitting the `\\n`."
   ]
  },
  {
   "cell_type": "markdown",
   "metadata": {},
   "source": [
    "# Exercise: Writing letters from a-z to a file\n",
    "Create a program (similar to the previous one) that writes all letters from a-z into one line of a file each.  \n",
    "*Note*: The function `chr()` converts a number into a letter. Here, the number 97 corresponds to an a, the number 98 to\n",
    "a b, and so on. (see next code cell).  \n",
    "The reason of this assignment is the [ASCII table](https://en.wikipedia.org/wiki/ASCII#Control_code_chart). ASCII is a\n",
    "coding standard that assigns the characters and commands of a typewriter to bit combinations. The bit combinations are\n",
    "usually specified as numbers from 0 to 127."
   ]
  },
  {
   "cell_type": "code",
   "execution_count": 3,
   "metadata": {},
   "outputs": [
    {
     "name": "stdout",
     "output_type": "stream",
     "text": [
      "a\n",
      "b\n"
     ]
    }
   ],
   "source": [
    "### Task: Writing letters from a-z to a file test cell\n",
    "letter = chr(97)\n",
    "print(letter)\n",
    "letter = chr(98)\n",
    "print(letter)"
   ]
  },
  {
   "cell_type": "code",
   "execution_count": 4,
   "metadata": {},
   "outputs": [],
   "source": [
    "with open(\"letters.txt\", \"w\") as file:\n",
    "    for number in range(97, 97+26):\n",
    "        line = chr(number) + \"\\n\"\n",
    "        file.write(line)"
   ]
  },
  {
   "cell_type": "markdown",
   "metadata": {},
   "source": [
    "# Exercise: Copy a file\n",
    "Create a program that copies a file. First create a program that creates a copy of \"lorem_ipsum.txt\". Then extend the\n",
    "program, so that it first asks for the file name of the file to be copied, then for the name of the new file. Then the\n",
    "file is copied. Assume that the file actually exists."
   ]
  },
  {
   "cell_type": "code",
   "execution_count": null,
   "metadata": {},
   "outputs": [],
   "source": []
  },
  {
   "cell_type": "markdown",
   "metadata": {},
   "source": [
    "# Self Test"
   ]
  },
  {
   "cell_type": "markdown",
   "metadata": {},
   "source": [
    "### Question 1\n",
    "`2.0 Pts`\n",
    "\n",
    "Which of the following statements about writing data to a file are correct?\n",
    "\n",
    "*Note: There are 3 correct answers to this question.*\n",
    "\n",
    "When writing new data to a file, it is not necessary to close the file. \\\n",
    "To not store all data in one line, line breaks \\n have to be added explicitly. `correct` \\\n",
    "Before writing data to a file, the `.strip()` method should be used to avoid unnecessary spaces. \\\n",
    "The only data type which can be written to a file is string. All other data types have to be converted first. `correct` \\\n",
    "If complex data stored in a tuple is to be written to a file, then all elements of the tuple first have to be converted into strings. In a second step, these strings are concatenated into one string so that the complete tuple is in one line of the file. `correct`"
   ]
  },
  {
   "cell_type": "markdown",
   "metadata": {},
   "source": [
    "# Unit 4: Exercise"
   ]
  },
  {
   "cell_type": "markdown",
   "metadata": {},
   "source": [
    "### Instructions:\n",
    "\n",
    "The file `numbers.txt` contains numbers. (Actually, the same numbers from the last exercise.) There is exactly one number per line. Read the numbers from the file and write only the even numbers into a new file named `even_numbers.txt`. Again, there should be one number per line. The order of the numbers shall be unchanged. To indicate that the program is finished, print the following output: “List of even numbers created!”\n",
    "\n",
    "**Hint** \\\n",
    "First read all the numbers as explained in the last exercise and put them into a list. Open the new file for writing. Go through the list and check if a number is even. If this is the case, change the integer into a string and do not forget to add a line break. Write this string into the file. Finally implement the print statement.\n",
    "\n",
    "**Please note:** \\\n",
    "When programming your solution in CodeOcean, files created by your program will not be visible. If you want to check the content of those files, we suggest to let your code run on your machine (e.g. in a Jupyter Notebook) and check the contents of the files there."
   ]
  },
  {
   "cell_type": "code",
   "execution_count": 40,
   "metadata": {},
   "outputs": [
    {
     "name": "stdout",
     "output_type": "stream",
     "text": [
      "List of even numbers created!\n"
     ]
    }
   ],
   "source": [
    "# My solution\n",
    "\n",
    "with open(\"even_numbers.txt\", \"w\") as even_file:\n",
    "    \n",
    "    with open(\"numbers.txt\", \"r\") as file:\n",
    "        for line in file:\n",
    "            line = int(line)\n",
    "            if line % 2 == 0:\n",
    "                even_no = line\n",
    "                even_file.write(str(even_no) + \"\\n\")\n",
    "        print(\"List of even numbers created!\")"
   ]
  },
  {
   "cell_type": "code",
   "execution_count": 39,
   "metadata": {},
   "outputs": [
    {
     "name": "stdout",
     "output_type": "stream",
     "text": [
      "List of even numbers created!\n"
     ]
    }
   ],
   "source": [
    "# Peer Review\n",
    "\n",
    "list_of_even_numbers = []\n",
    "\n",
    "# Open file\n",
    "with open(\"numbers.txt\", \"r\") as file:\n",
    "    # read file line by line, strip from  and output the lines\n",
    "    for line in file:\n",
    "        line = line.strip()\n",
    "        line = int(line)\n",
    "        if line%2 == 0:\n",
    "            list_of_even_numbers.append(line)\n",
    "\n",
    "# Write new fiel for even numbers\n",
    "with open(\"even_numbers.txt\", \"w\") as file:\n",
    "    for number in list_of_even_numbers:\n",
    "        line = str(number) + \"\\n\"\n",
    "        file.write(line)\n",
    "    \n",
    "print(\"List of even numbers created!\")\n",
    "# for number in list_of_even_numbers:\n",
    "#     print(number)\n",
    "\n",
    "# Review\n",
    "# The last two lines of code are not needed to run"
   ]
  }
 ],
 "metadata": {
  "file_extension": ".py",
  "kernelspec": {
   "display_name": "Python 3 (ipykernel)",
   "language": "python",
   "name": "python3"
  },
  "language_info": {
   "codemirror_mode": {
    "name": "ipython",
    "version": 3
   },
   "file_extension": ".py",
   "mimetype": "text/x-python",
   "name": "python",
   "nbconvert_exporter": "python",
   "pygments_lexer": "ipython3",
   "version": "3.10.2"
  },
  "mimetype": "text/x-python",
  "name": "python",
  "npconvert_exporter": "python",
  "pygments_lexer": "ipython3",
  "version": 3
 },
 "nbformat": 4,
 "nbformat_minor": 4
}
