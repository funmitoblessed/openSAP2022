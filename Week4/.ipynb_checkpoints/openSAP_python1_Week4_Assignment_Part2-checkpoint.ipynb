{
 "cells": [
  {
   "cell_type": "markdown",
   "id": "4c8fce83-3b20-40b0-8f75-e1a8a8faf363",
   "metadata": {},
   "source": [
    "# Assignment Week 4 (Part 2 - Exercise)"
   ]
  },
  {
   "cell_type": "markdown",
   "id": "c03bb78a-77f6-47db-8233-8b0e8a89afc2",
   "metadata": {},
   "source": [
    "### Instructions:\n",
    "\n",
    "There is a file `secret.txt`, which contains one character per line. There is a second file `key.txt`, which contains two lines with one number per line (the number could have several digits).\n",
    "The first number `col` represents the number of columns of a grid, the second number `row` represents the number of rows of the grid. \n",
    "\n",
    "The characters of the first file should now be filled into this grid. Take the characters one by one and fill them into a string until the string contains `col` characters. Append the string to a list. Then create a new string the same way. Continue, until the number of strings is equal to row. Now, write all the strings into a file `public.txt`.\n",
    "\n",
    "Open the the file and check the content.\n",
    "\n",
    "**Please note:**\n",
    "When programming your solution in CodeOcean, files created by your program will not be visible. If you want to check the content of those files, we suggest to let your code run on your machine (e.g. in a Jupyter Notebook) and check the contents of the files there.\n",
    "\n",
    "**Example**\n",
    "If the file `secret.txt` contains the following input:\n",
    "\n",
    "`#` \\\n",
    "`#` \\\n",
    "`#` \\\n",
    "`.` \\\n",
    "`#` \\\n",
    "`.` \\\n",
    "`.` \\\n",
    "`#` \\\n",
    "`.` \\\n",
    "`.` \\\n",
    "`#` \\\n",
    "`.`\n",
    "\n",
    "\n",
    "and the file `key.txt` contains the following numbers:\n",
    "\n",
    "`3` \\\n",
    "`4`\n",
    "\n",
    "then the content in the file `public.txt` should be as follows:\n",
    "\n",
    "`###` \\\n",
    "`.#.` \\\n",
    "`.#.` \\\n",
    "`.#.`"
   ]
  },
  {
   "cell_type": "code",
   "execution_count": 23,
   "id": "782b8084-eccb-4105-adbe-ea9d88e2f4f6",
   "metadata": {},
   "outputs": [
    {
     "name": "stdout",
     "output_type": "stream",
     "text": [
      "#\n",
      "#\n",
      "#\n",
      ".\n",
      "#\n",
      ".\n",
      ".\n",
      "#\n",
      ".\n",
      ".\n",
      "#\n",
      ".\n",
      "\n",
      "\n",
      "3\n",
      "4\n"
     ]
    }
   ],
   "source": [
    "grid = []\n",
    "\n",
    "with open(\"public_ex.txt\", \"w\") as write_file:\n",
    "\n",
    "    with open(\"secret_ex.txt\", \"r\") as text_one:\n",
    "        for line in text_one:\n",
    "            line = line.strip()\n",
    "            print(line)\n",
    "            \n",
    "        with open(\"key_ex.txt\", \"r\") as text_two:\n",
    "            for line in text_two:\n",
    "                line = int(line.strip())\n",
    "                grid.append(line)\n",
    "                print(line)"
   ]
  },
  {
   "cell_type": "code",
   "execution_count": 22,
   "id": "79ffd2f2-e450-414d-8053-27cd7e030ba2",
   "metadata": {},
   "outputs": [
    {
     "data": {
      "text/plain": [
       "[49, 20]"
      ]
     },
     "execution_count": 22,
     "metadata": {},
     "output_type": "execute_result"
    }
   ],
   "source": [
    "grid"
   ]
  }
 ],
 "metadata": {
  "kernelspec": {
   "display_name": "Python 3 (ipykernel)",
   "language": "python",
   "name": "python3"
  },
  "language_info": {
   "codemirror_mode": {
    "name": "ipython",
    "version": 3
   },
   "file_extension": ".py",
   "mimetype": "text/x-python",
   "name": "python",
   "nbconvert_exporter": "python",
   "pygments_lexer": "ipython3",
   "version": "3.10.2"
  }
 },
 "nbformat": 4,
 "nbformat_minor": 5
}
