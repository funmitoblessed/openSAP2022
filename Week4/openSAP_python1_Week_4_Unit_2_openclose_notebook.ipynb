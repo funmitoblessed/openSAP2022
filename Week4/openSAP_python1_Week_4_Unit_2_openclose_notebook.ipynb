{
 "cells": [
  {
   "cell_type": "markdown",
   "metadata": {},
   "source": [
    "# Opening and closing files\n",
    "## Where is the file?\n",
    "Nowadays the programs and apps store the files \"somewhere\" on the computers or smartphones. You as a user should not\n",
    "worry about where the files are located. (Do you know where your music files are located on the smartphone?).  \n",
    "If you want to access files with programs, you need to know **where** exactly those files are located. \n",
    "\n",
    "\n",
    "## Important for this notebook\n",
    "The following applies to this and the other notebooks: Unless stated otherwise, the file that is accessed is located in\n",
    "the same directory (folder) as the notebook. If you download a notebook, then you must also download the associated files and save them in\n",
    "the same folder. Otherwise some things will not work."
   ]
  },
  {
   "cell_type": "markdown",
   "metadata": {},
   "source": [
    "# Accessing files in Python\n",
    "The basic handling of a file always consists of the following three steps:\n",
    "- Opening the file and assigning the file to a variable\n",
    "- Accessing the file\n",
    "    - Reading from the file (read access)\n",
    "    - Writing to the file (write access)\n",
    "- Closing the file\n",
    "\n",
    "To open a file there is the function `open()`. For further operations on the file there are methods like `.write()`,\n",
    "`.read()` or `.close()`. Furthermore there are libraries which offer additional functions for special file formats like\n",
    ".csv, .json for example (will be subject of week 6).\n",
    "\n",
    "\n",
    "## Open files\n",
    "The Python function `open()` can be used to open a file. The function expects the name of a file as parameter. (This can\n",
    "be extended by the path to the file if necessary, should the file not lie in the same directory as the program).\n",
    "Additionally, the mode in which the file is to be opened can be specified optionally. The available modes are listed in\n",
    "the [Python documentation](https://docs.python.org/3.8/library/functions.html#open). The most\n",
    "important modes are:\n",
    "\n",
    "| Mode | Description                                       | Error, when                      | Warning                 |\n",
    "| :--- | :------------------------------------------------ | :------------------------------- | :--------------------------------- |\n",
    "| r    | Read-only                                         | Write access & file non-existent |  |\n",
    "| w    | Write-only; new file, if no file present          | Read access                      | Overwrites existing content       |\n",
    "| a    | Append new content to old content                 | &nbsp;                           |   |\n",
    "| r+   | Read & write access                               | File non-existent                |                                   |\n",
    "| w+   | Write & read access; new file, if no file present | &nbsp;                           | Overwrites existing content       |\n",
    "\n",
    "When adding a *b* to a mode, the file will be created as a binary file and not a text file. If no mode is specified, the\n",
    "default value is `\"r\"`.\n",
    "\n",
    "**Recommendation:** *Always* specify a mode. This simplifies the maintenance of the program. The mode is always entered as\n",
    "a string, i.e. `\"r\"` or `'r'`, not `r`."
   ]
  },
  {
   "cell_type": "markdown",
   "metadata": {},
   "source": [
    "# More details on reading and writing files\n",
    "In the following tasks and examples, the \"r\" and \"w\" modes are discussed in more detail.\n",
    "\n",
    "\n",
    "## Creating a file in write mode\n",
    "In the following program, a file is opened in write mode. Since the file (presumably) does not yet exist on your\n",
    "computer, this file is created. The program does not write anything to the file, but the file still exists.  \n",
    "(**Important**: If no other path is given, the file will be created in the same folder where the notebook is located).\n",
    "\n",
    "Run the program and then check if the file was created. "
   ]
  },
  {
   "cell_type": "code",
   "execution_count": 7,
   "metadata": {},
   "outputs": [],
   "source": [
    "# Program 1\n",
    "# file is opened for writing\n",
    "file = open(\"new_file.txt\", \"w\")\n",
    "# The file is closed again\n",
    "file.close()"
   ]
  },
  {
   "cell_type": "markdown",
   "metadata": {},
   "source": [
    "## Opening a file in read mode\n",
    "In the next program, the file from the first program is opened in read mode and closed again. Let the program run.\n",
    "**Delete** the file \"new_file.txt\" afterwards and run the program again. What happens?"
   ]
  },
  {
   "cell_type": "code",
   "execution_count": 3,
   "metadata": {},
   "outputs": [
    {
     "ename": "FileNotFoundError",
     "evalue": "[Errno 2] No such file or directory: 'new_file.txt'",
     "output_type": "error",
     "traceback": [
      "\u001b[1;31m------------------------------------------------------------\u001b[0m",
      "\u001b[1;31mFileNotFoundError\u001b[0m          Traceback (most recent call last)",
      "Input \u001b[1;32mIn [3]\u001b[0m, in \u001b[0;36m<cell line: 3>\u001b[1;34m()\u001b[0m\n\u001b[0;32m      1\u001b[0m \u001b[38;5;66;03m# Program 2\u001b[39;00m\n\u001b[0;32m      2\u001b[0m \u001b[38;5;66;03m# file is opened for reading\u001b[39;00m\n\u001b[1;32m----> 3\u001b[0m file \u001b[38;5;241m=\u001b[39m \u001b[38;5;28;43mopen\u001b[39;49m\u001b[43m(\u001b[49m\u001b[38;5;124;43m\"\u001b[39;49m\u001b[38;5;124;43mnew_file.txt\u001b[39;49m\u001b[38;5;124;43m\"\u001b[39;49m\u001b[43m,\u001b[49m\u001b[43m \u001b[49m\u001b[38;5;124;43m\"\u001b[39;49m\u001b[38;5;124;43mr\u001b[39;49m\u001b[38;5;124;43m\"\u001b[39;49m\u001b[43m)\u001b[49m\n\u001b[0;32m      4\u001b[0m \u001b[38;5;66;03m# The file is closed again\u001b[39;00m\n\u001b[0;32m      5\u001b[0m file\u001b[38;5;241m.\u001b[39mclose()\n",
      "\u001b[1;31mFileNotFoundError\u001b[0m: [Errno 2] No such file or directory: 'new_file.txt'"
     ]
    }
   ],
   "source": [
    "# Program 2\n",
    "# file is opened for reading\n",
    "file = open(\"new_file.txt\", \"r\")\n",
    "# The file is closed again\n",
    "file.close()"
   ]
  },
  {
   "cell_type": "markdown",
   "metadata": {},
   "source": [
    "## Opening an already existing file in write mode\n",
    "Open the file \"new_file.txt\" with a text editor, enter a few characters and lines, save this file and close the text\n",
    "editor again. Now run program 1 (see above) again. Then check the contents of the file with the text editor. What\n",
    "happened?"
   ]
  },
  {
   "cell_type": "markdown",
   "metadata": {},
   "source": [
    "The file is overwritten"
   ]
  },
  {
   "cell_type": "markdown",
   "metadata": {},
   "source": [
    "## Open files using `with`\n",
    "As seen in the previous examples, files must always be closed after opening. Since forgetting to close a file is a\n",
    "common cause of errors, Python provides the `with` statement. After leaving the `with` block, the file is closed\n",
    "automatically. This way you can work on the file inside this block and be sure that opened files are always closed\n",
    "correctly.  \n",
    "How to iterate over files will be explained in detail in the next unit."
   ]
  },
  {
   "cell_type": "code",
   "execution_count": 8,
   "metadata": {},
   "outputs": [
    {
     "name": "stdout",
     "output_type": "stream",
     "text": [
      "Lorem ipsum dolor sit amet, consectetur adipiscing elit,\n",
      "\n",
      "sed do eiusmod tempor incididunt ut labore et dolore magna aliqua.\n",
      "\n",
      "Ut enim ad minim veniam, quis nostrud exercitation ullamco laboris\n",
      "\n",
      "nisi ut aliquip ex ea commodo consequat. Duis aute irure dolor in\n",
      "\n",
      "reprehenderit in voluptate velit esse cillum dolore eu fugiat nulla\n",
      "\n",
      "pariatur. Excepteur sint occaecat cupidatat non proident, sunt in\n",
      "\n",
      "culpa qui officia deserunt mollit anim id est laborum.\n"
     ]
    }
   ],
   "source": [
    "# open file\n",
    "with open(\"lorem_ipsum.txt\", \"r\") as file:\n",
    "    # read file line by line and output the lines\n",
    "    for line in file:\n",
    "        print(line)\n",
    "\n",
    "# file will be closed automatically"
   ]
  },
  {
   "cell_type": "markdown",
   "metadata": {},
   "source": [
    "# Self Test"
   ]
  },
  {
   "cell_type": "markdown",
   "metadata": {},
   "source": [
    "### Question 1\n",
    "`1.0 Pts`\n",
    "\n",
    "What are the three main steps when working with files?\n",
    "\n",
    "open file; access file; close file `correct` \n",
    "\n",
    "open file; access file; store file \n",
    "\n",
    "select file type; name file; store file \n",
    "\n",
    "write file; change file; read file"
   ]
  },
  {
   "cell_type": "markdown",
   "metadata": {},
   "source": [
    "### Question 2\n",
    "`2.0 Pts`\n",
    "\n",
    "Which of the following statements about the different modes used when opening a file are correct?\n",
    "\n",
    "*Note: There are 3 correct answers to this question.*\n",
    "\n",
    "In mode \"w\", a new file is created. If another file with the same name exists, this file is deleted. `correct` \n",
    "\n",
    "In mode \"a\", you can read data from the file. \n",
    "\n",
    "In mode \"w+\", you can read data from the file. `correct` \n",
    "\n",
    "In mode \"r\", you can read the file, but you cannot change data. `correct` \n",
    "\n",
    "In mode \"r+\", a new file is created."
   ]
  }
 ],
 "metadata": {
  "file_extension": ".py",
  "kernelspec": {
   "display_name": "Python 3 (ipykernel)",
   "language": "python",
   "name": "python3"
  },
  "language_info": {
   "codemirror_mode": {
    "name": "ipython",
    "version": 3
   },
   "file_extension": ".py",
   "mimetype": "text/x-python",
   "name": "python",
   "nbconvert_exporter": "python",
   "pygments_lexer": "ipython3",
   "version": "3.10.2"
  },
  "mimetype": "text/x-python",
  "name": "python",
  "npconvert_exporter": "python",
  "pygments_lexer": "ipython3",
  "version": 3
 },
 "nbformat": 4,
 "nbformat_minor": 4
}
