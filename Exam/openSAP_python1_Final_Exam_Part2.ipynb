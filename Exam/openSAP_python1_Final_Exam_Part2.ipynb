{
 "cells": [
  {
   "cell_type": "markdown",
   "id": "584c42dc-07a1-491a-be9f-4e2241c1715c",
   "metadata": {},
   "source": [
    "# Final Exam (Part 2 - Exercise)"
   ]
  },
  {
   "cell_type": "markdown",
   "id": "4add8d36-3716-45b9-a8dc-34a6c7985998",
   "metadata": {},
   "source": [
    "### Instructions:\n",
    "\n",
    "**Wordle in Python**\n",
    "\n",
    "Your task for the final assignment is to implement a [Wordle](https://en.wikipedia.org/wiki/Wordle) clone in Python. The basis for your version of Wordle is the file `5_letter_words.txt` [1](https://www-cs-faculty.stanford.edu/~knuth/sgb.html). It contains more than 5.700 five letter words. In order to build your version of Wordle perform the following steps:\n",
    "\n",
    "1. Implement a function `word_list()` that reads the `5_letter_words.txt` file and returns a list of the words in the file.\n",
    "2. Implement a function `random_word()` that takes a list of words as a parameter and returns a random word from this list.\n",
    "3. Implement a function `is_real_word()` that takes two parameters, a guess and a word list and returns `True` if the word is in the word list and `False` otherwise.\n",
    "4. Implement a function `check_guess()`that takes two parameters. The first is the guessed word and the second is the word the user has to find. `check_guess()` returns a string containing the following characters:\n",
    "    <ul>\n",
    "    <li> X for each character in the guess that is at the correct position. </li>\n",
    "    \n",
    "    <li> O for each character in the guess that is in the word but not at the correct position. </li>\n",
    "    \n",
    "    <li> _ for each character in the guess that is not part of the word. For example, check_guess(\"birds\", \"words\") should return __XXX. </li>\n",
    "    <li> If a letter is used twice in the guessed word and exists only once in the word to be found, then only one letter in the return string is marked. In case one of the two letters is positioned correctly, then this letter is marked with an X in the return string. For example, check_guess(\"carat\", \"train\") should return _OO_O. Another example, check_guess(\"taunt\", \"train\") should return XO_O_ </li>\n",
    "     </ul>\n",
    "5. Implement a function next_guess() that takes a word list as a parameter. The function asks the user for a guess, converts the guess to lower case and checks if the guess is in the word list. If this is the case, the guess is returned. Otherwise, the function asks the user for another guess.\n",
    "6. Implement a function play() that:\n",
    "    <ul>\n",
    "    <li> Uses the functions word_list and `random_word` to select a random 5 letter word. </li>\n",
    "    <li> Asks the user for a guess using the `next_guess` function. </li>\n",
    "    <li> Checks each guess using the `check_guess` function and shows the result to the user. </li>\n",
    "    <li> Checks if the users guessed the right word with six guesses or less. If yes, the user wins and the function prints `You won!`. Otherwise the user loses and the function prints `You lost!` as well as `The word was:` followed by word the user had to find. </li>\n",
    "    </ul>\n",
    "\n",
    "Below is an example execution of the program:\n",
    "\n",
    "`Please enter a guess: aaaaa.` \\\n",
    "`That's not a real word!` \\\n",
    "`Please enter a guess: bbbbb` \\\n",
    "`That's not a real word!` \\\n",
    "`Please enter a guess: hello` \\\n",
    "`____O` \\\n",
    "`Please enter a guess: world` \\\n",
    "`_OO__` \\\n",
    "`Please enter a guess: story` \\\n",
    "`O_OO_` \\\n",
    "`Please enter a guess: hours` \\\n",
    "`_O_OO` \\\n",
    "`Please enter a guess: works` \\\n",
    "`_OO_O` \\\n",
    "`Please enter a guess: crops` \\\n",
    "`_OO_O` \\\n",
    "`You lost!` \\\n",
    "`The word was: visor`"
   ]
  },
  {
   "cell_type": "markdown",
   "id": "74d42ab9-1149-4208-9011-b92c6861602d",
   "metadata": {},
   "source": [
    "And here is another example execution of the program:\n",
    "\n",
    "`Please enter a guess: hello` \\\n",
    "`OO___` \\\n",
    "`Please enter a guess: there` \\\n",
    "`XXX_X` \\\n",
    "`Please enter a guess: these` \\\n",
    "`XXXXX` \\\n",
    "`You won!`"
   ]
  },
  {
   "cell_type": "code",
   "execution_count": 4,
   "id": "8c2ad969-ebe4-4ed3-9662-3734a0d580f8",
   "metadata": {},
   "outputs": [],
   "source": [
    "# 1. Implement a function word_list() that reads the 5_letter_words.txt file and returns a list of the words in the file.\n",
    "\n",
    "def word_list(filename):\n",
    "    \"\"\"\n",
    "    This function word_list() reads any text file passed in and returns a list of the words in the file.\n",
    "    \"\"\"\n",
    "    list_of_words = []\n",
    "    with open(filename, \"r\") as file:\n",
    "    # read file line by line and append each line to word list\n",
    "        for line in file:\n",
    "            line = line.strip()\n",
    "            list_of_words.append(line)\n",
    "    \n",
    "    return list_of_words\n",
    "\n",
    "# print(len(word_list(\"5_letter_words.txt\")))"
   ]
  },
  {
   "cell_type": "code",
   "execution_count": 2,
   "id": "83d2ee44-d258-43c0-a590-527f4b1b33a4",
   "metadata": {},
   "outputs": [
    {
     "name": "stdout",
     "output_type": "stream",
     "text": [
      "['which', 'there', 'their', 'about', 'would', 'these', 'other', 'words', 'could', 'write', 'first', 'water', 'after', 'where', 'right', 'think', 'three', 'years', 'place', 'sound', 'great', 'again', 'still', 'every', 'small', 'found', 'those', 'never', 'under', 'might', 'while', 'house', 'world', 'below', 'asked', 'going', 'large', 'until', 'along', 'shall', 'being', 'often', 'earth', 'began', 'since', 'study', 'night', 'light', 'above', 'paper']\n"
     ]
    }
   ],
   "source": [
    "print(word_list(\"5_letter_words.txt\")[:50])"
   ]
  },
  {
   "cell_type": "code",
   "execution_count": 5,
   "id": "4a066f1f-5f1f-4382-b079-1de9d301a2c7",
   "metadata": {},
   "outputs": [],
   "source": [
    "# 2. Implement a function random_word() that takes a list of words as a parameter and returns a random word from this list.\n",
    "import random as r\n",
    "\n",
    "def random_word(list_of_words):\n",
    "    \"\"\"\n",
    "    this function random_word() takes a list of words as a parameter and returns a random word from this list.\n",
    "    \"\"\"\n",
    "    random_int = r.randint(1, len(list_of_words))\n",
    "    # print(random_int)\n",
    "    return list_of_words[random_int]\n",
    " \n",
    "list_of_words = word_list(\"5_letter_words.txt\")\n",
    "# print(random_word(list_of_words))"
   ]
  },
  {
   "cell_type": "code",
   "execution_count": 6,
   "id": "e219843b-14e2-4964-9c49-bdeeef9f1c08",
   "metadata": {},
   "outputs": [
    {
     "data": {
      "text/plain": [
       "False"
      ]
     },
     "execution_count": 6,
     "metadata": {},
     "output_type": "execute_result"
    }
   ],
   "source": [
    "# 3. Implement a function is_real_word() that takes two parameters, a guess and a word list and returns True if the word is in the word list and False otherwise.\n",
    "\n",
    "def is_real_word(guess, list_of_words):\n",
    "    \"\"\"\n",
    "    This function is_real_word() takes two parameters, a guess and a word list and returns True if the word is in the word list and False otherwise.\n",
    "    \"\"\"\n",
    "    if guess in list_of_words:\n",
    "        return True\n",
    "    else:\n",
    "        return False\n",
    "\n",
    "guess = \"mobil\"\n",
    "is_real_word(guess, list_of_words)"
   ]
  },
  {
   "cell_type": "code",
   "execution_count": 7,
   "id": "bb757db8-96d9-428e-a933-379e554c7017",
   "metadata": {},
   "outputs": [],
   "source": [
    "# 4. Implement a function check_guess() that takes two parameters. The first is the guessed word and the second is the word the user has to find. check_guess() returns a string containing the following characters:\n",
    "\n",
    "def check_guess(guess, random_word):\n",
    "    \"\"\"\n",
    "    The function check_guess() takes two parameters. The first is the guessed word and the second is the \n",
    "    word the user has to find. check_guess() returns a string containing the following characters:\n",
    "    X for each character in the guess that is at the correct position.\n",
    "    O for each character in the guess that is in the word but not at the correct position.\n",
    "    _ for each character in the guess that is not part of the word. \n",
    "    For example, check_guess(\"birds\", \"words\") returns __XXX.\n",
    "    If a letter is used twice in the guessed word and exists only once in the word to be found,\n",
    "    then only one letter in the return string is marked. In case one of the two letters is positioned correctly, \n",
    "    then this letter is marked with an X in the return string. For example, check_guess(\"carat\", \"train\") returns _OO_O.\n",
    "    Another example, check_guess(\"taunt\", \"train\") returns XO_O_\n",
    "    \"\"\"\n",
    "    return_string = \"_____\"\n",
    "    for i in range(5):\n",
    "        if guess[i] in random_word[i]:\n",
    "            return_string = return_string[:i] + \"X\" + return_string[i+1:]\n",
    "        elif guess[i] in random_word:\n",
    "            return_string = return_string[:i] + \"O\" + return_string[i+1:]\n",
    "    return return_string\n",
    "\n",
    "# r_word = random_word(list_of_words)\n",
    "# print(r_word)"
   ]
  },
  {
   "cell_type": "code",
   "execution_count": 69,
   "id": "42ee3d96-eb1e-4b23-aa32-0bee4c089699",
   "metadata": {},
   "outputs": [
    {
     "data": {
      "text/plain": [
       "'mobil'"
      ]
     },
     "execution_count": 69,
     "metadata": {},
     "output_type": "execute_result"
    }
   ],
   "source": [
    "guess"
   ]
  },
  {
   "cell_type": "code",
   "execution_count": 70,
   "id": "27da91c4-21f1-4cec-9e9b-37a09c2f759a",
   "metadata": {},
   "outputs": [
    {
     "data": {
      "text/plain": [
       "'O____'"
      ]
     },
     "execution_count": 70,
     "metadata": {},
     "output_type": "execute_result"
    }
   ],
   "source": [
    "check_guess(guess, random_word(list_of_words))"
   ]
  },
  {
   "cell_type": "code",
   "execution_count": 38,
   "id": "f0006694-8c98-42f8-bb9d-e8f36d320a66",
   "metadata": {},
   "outputs": [
    {
     "data": {
      "text/plain": [
       "'XOXXX'"
      ]
     },
     "execution_count": 38,
     "metadata": {},
     "output_type": "execute_result"
    }
   ],
   "source": [
    "check_guess(\"mamma\", \"momma\")"
   ]
  },
  {
   "cell_type": "code",
   "execution_count": 14,
   "id": "cd5d712a-b805-4712-bddb-45054113df62",
   "metadata": {},
   "outputs": [
    {
     "data": {
      "text/plain": [
       "'_OOOO'"
      ]
     },
     "execution_count": 14,
     "metadata": {},
     "output_type": "execute_result"
    }
   ],
   "source": [
    "check_guess(\"carat\", \"train\")"
   ]
  },
  {
   "cell_type": "code",
   "execution_count": 12,
   "id": "0c96204d-a4d9-43b5-ae78-a03915107b58",
   "metadata": {},
   "outputs": [
    {
     "data": {
      "text/plain": [
       "'XO_OO'"
      ]
     },
     "execution_count": 12,
     "metadata": {},
     "output_type": "execute_result"
    }
   ],
   "source": [
    "check_guess(\"taunt\", \"train\")"
   ]
  },
  {
   "cell_type": "code",
   "execution_count": 9,
   "id": "f654755c-84ca-46b5-88df-6b68ed90c502",
   "metadata": {},
   "outputs": [
    {
     "name": "stdin",
     "output_type": "stream",
     "text": [
      "Please enter a guess: phone\n"
     ]
    },
    {
     "data": {
      "text/plain": [
       "'phone'"
      ]
     },
     "execution_count": 9,
     "metadata": {},
     "output_type": "execute_result"
    }
   ],
   "source": [
    "# 5. Implement a function next_guess() that takes a word list as a parameter. The function asks the user for a guess, converts the guess to lower case and checks if the guess is in the word list. If this is the case, the guess is returned. Otherwise, the function asks the user for another guess.\n",
    "\n",
    "def next_guess(list_of_words):\n",
    "    \"\"\"\n",
    "    function next_guess() that takes a word list as a parameter. \n",
    "    The function asks the user for a guess, converts the guess to lower case \n",
    "    and checks if the guess is in the word list. If this is the case, the guess is returned. \n",
    "    Otherwise, the function asks the user for another guess.\n",
    "\n",
    "    \"\"\"\n",
    "    i = 0\n",
    "    # for i in range(6):\n",
    "    guess = input(\"Please enter a guess:\").lower()\n",
    "    i += 1\n",
    "    if guess in list_of_words:\n",
    "        return guess\n",
    "    else:\n",
    "        guess = input(\"Please enter a guess:\").lower()\n",
    "    \n",
    "    \n",
    "next_guess(list_of_words)"
   ]
  },
  {
   "cell_type": "code",
   "execution_count": 23,
   "id": "309af70b-64ce-4ed3-9cd4-fbcaf54c3caa",
   "metadata": {},
   "outputs": [
    {
     "name": "stdin",
     "output_type": "stream",
     "text": [
      "Please enter a guess: early\n"
     ]
    },
    {
     "name": "stdout",
     "output_type": "stream",
     "text": [
      "ammos\n"
     ]
    },
    {
     "data": {
      "text/plain": [
       "'_O___'"
      ]
     },
     "execution_count": 23,
     "metadata": {},
     "output_type": "execute_result"
    }
   ],
   "source": [
    "# Implement a function play() that:\n",
    "# Uses the functions word_list and random_word to select a random 5 letter word.\n",
    "# Asks the user for a guess using the next_guess function.\n",
    "# Checks each guess using the check_guess function and shows the result to the user.\n",
    "# Checks if the users guessed the right word with six guesses or less. \n",
    "# If yes, the user wins and the function prints You won!. \n",
    "# Otherwise the user loses and the function prints You lost! as well as The word was: followed by word the user had to find.\n",
    "\n",
    "def play():\n",
    "    \"\"\"\n",
    "    The function play():\n",
    "    uses the functions word_list and random_word to select a random 5 letter word.\n",
    "    Asks the user for a guess using the next_guess function.\n",
    "    Checks each guess using the check_guess function and shows the result to the user.\n",
    "    Checks if the users guessed the right word with six guesses or less. \n",
    "    If yes, the user wins and the function prints You won!. \n",
    "    Otherwise the user loses and the function prints You lost! as well as The word was: followed by word the user had to find.\n",
    "    \"\"\"\n",
    "    # generate a random 5 letter word\n",
    "    r_word = random_word(word_list(\"5_letter_words.txt\"))\n",
    "    # ask user for a guess\n",
    "    guess = next_guess(list_of_words)\n",
    "    # check the guessed word to see if it matches random word\n",
    "    print(r_word)\n",
    "    return check_guess(guess, r_word)\n",
    "    \n",
    "# print(r_word)\n",
    "play()"
   ]
  },
  {
   "cell_type": "code",
   "execution_count": null,
   "id": "cfabc5cf-7ba7-4fc1-b38e-3d6087b0083c",
   "metadata": {},
   "outputs": [],
   "source": []
  }
 ],
 "metadata": {
  "kernelspec": {
   "display_name": "Python 3 (ipykernel)",
   "language": "python",
   "name": "python3"
  },
  "language_info": {
   "codemirror_mode": {
    "name": "ipython",
    "version": 3
   },
   "file_extension": ".py",
   "mimetype": "text/x-python",
   "name": "python",
   "nbconvert_exporter": "python",
   "pygments_lexer": "ipython3",
   "version": "3.10.2"
  }
 },
 "nbformat": 4,
 "nbformat_minor": 5
}
