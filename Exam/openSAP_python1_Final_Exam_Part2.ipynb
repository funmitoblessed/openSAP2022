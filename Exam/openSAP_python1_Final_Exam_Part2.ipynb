{
 "cells": [
  {
   "cell_type": "markdown",
   "id": "584c42dc-07a1-491a-be9f-4e2241c1715c",
   "metadata": {},
   "source": [
    "# Final Exam (Part 2 - Exercise)"
   ]
  },
  {
   "cell_type": "markdown",
   "id": "4add8d36-3716-45b9-a8dc-34a6c7985998",
   "metadata": {},
   "source": [
    "### Instructions:\n",
    "\n",
    "**Wordle in Python**\n",
    "\n",
    "Your task for the final assignment is to implement a [Wordle](https://en.wikipedia.org/wiki/Wordle) clone in Python. The basis for your version of Wordle is the file `5_letter_words.txt` [1](https://www-cs-faculty.stanford.edu/~knuth/sgb.html). It contains more than 5.700 five letter words. In order to build your version of Wordle perform the following steps:\n",
    "\n",
    "1. Implement a function `word_list()` that reads the `5_letter_words.txt` file and returns a list of the words in the file.\n",
    "2. Implement a function `random_word()` that takes a list of words as a parameter and returns a random word from this list.\n",
    "3. Implement a function `is_real_word()` that takes two parameters, a guess and a word list and returns `True` if the word is in the word list and `False` otherwise.\n",
    "4. Implement a function `check_guess()`that takes two parameters. The first is the guessed word and the second is the word the user has to find. `check_guess()` returns a string containing the following characters:\n",
    "    <ul>\n",
    "    <li> X for each character in the guess that is at the correct position. </li>\n",
    "    \n",
    "    <li> O for each character in the guess that is in the word but not at the correct position. </li>\n",
    "    \n",
    "    <li> _ for each character in the guess that is not part of the word. For example, `check_guess(\"birds\", \"words\")` should return __XXX. </li>\n",
    "    <li> If a letter is used twice in the guessed word and exists only once in the word to be found, then only one letter in the return string is marked. In case one of the two letters is positioned correctly, then this letter is marked with an `X` in the return string. For example, `check_guess(\"carat\", \"train\")` should return `_OO_O`. Another example, `check_guess(\"taunt\", \"train\")` should return `XO_O_` </li>\n",
    "     </ul>\n",
    "5. Implement a function `next_guess()` that takes a word list as a parameter. The function asks the user for a guess, converts the guess to lower case and checks if the guess is in the word list. If this is the case, the guess is returned. Otherwise, the function asks the user for another guess.\n",
    "6. Implement a function `play()` that:\n",
    "    <ul>\n",
    "    <li> Uses the functions word_list and `random_word` to select a random 5 letter word. </li>\n",
    "    <li> Asks the user for a guess using the `next_guess` function. </li>\n",
    "    <li> Checks each guess using the `check_guess` function and shows the result to the user. </li>\n",
    "    <li> Checks if the users guessed the right word with six guesses or less. If yes, the user wins and the function prints `You won!`. Otherwise the user loses and the function prints `You lost!` as well as `The word was:` followed by word the user had to find. </li>\n",
    "    </ul>\n",
    "\n",
    "Below is an example execution of the program:\n",
    "\n",
    "`Please enter a guess: aaaaa.` \\\n",
    "`That's not a real word!` \\\n",
    "`Please enter a guess: bbbbb` \\\n",
    "`That's not a real word!` \\\n",
    "`Please enter a guess: hello` \\\n",
    "`____O` \\\n",
    "`Please enter a guess: world` \\\n",
    "`_OO__` \\\n",
    "`Please enter a guess: story` \\\n",
    "`O_OO_` \\\n",
    "`Please enter a guess: hours` \\\n",
    "`_O_OO` \\\n",
    "`Please enter a guess: works` \\\n",
    "`_OO_O` \\\n",
    "`Please enter a guess: crops` \\\n",
    "`_OO_O` \\\n",
    "`You lost!` \\\n",
    "`The word was: visor`"
   ]
  },
  {
   "cell_type": "markdown",
   "id": "74d42ab9-1149-4208-9011-b92c6861602d",
   "metadata": {},
   "source": [
    "And here is another example execution of the program:\n",
    "\n",
    "`Please enter a guess: hello` \\\n",
    "`OO___` \\\n",
    "`Please enter a guess: there` \\\n",
    "`XXX_X` \\\n",
    "`Please enter a guess: these` \\\n",
    "`XXXXX` \\\n",
    "`You won!`"
   ]
  }
 ],
 "metadata": {
  "kernelspec": {
   "display_name": "Python 3 (ipykernel)",
   "language": "python",
   "name": "python3"
  },
  "language_info": {
   "codemirror_mode": {
    "name": "ipython",
    "version": 3
   },
   "file_extension": ".py",
   "mimetype": "text/x-python",
   "name": "python",
   "nbconvert_exporter": "python",
   "pygments_lexer": "ipython3",
   "version": "3.10.2"
  }
 },
 "nbformat": 4,
 "nbformat_minor": 5
}
