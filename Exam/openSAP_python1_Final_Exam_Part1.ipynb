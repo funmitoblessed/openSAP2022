{
 "cells": [
  {
   "cell_type": "markdown",
   "id": "9397f770-7c61-4d71-8bb1-65702dad6967",
   "metadata": {},
   "source": [
    "### Question 1\n",
    "`1.0 Pts`\n",
    "\n",
    "What is the result of the following operation `9 % 4`?\n",
    "\n",
    "2.25\n",
    "\n",
    "2.0\n",
    "\n",
    "1\n",
    "\n",
    "2"
   ]
  },
  {
   "cell_type": "code",
   "execution_count": 19,
   "id": "5dbe7d91-ae8b-423f-a367-ca9f99cd7392",
   "metadata": {},
   "outputs": [
    {
     "data": {
      "text/plain": [
       "1"
      ]
     },
     "execution_count": 19,
     "metadata": {},
     "output_type": "execute_result"
    }
   ],
   "source": [
    "9 % 4"
   ]
  },
  {
   "cell_type": "markdown",
   "id": "ea3043b7-d465-45f8-813d-6724e46e25f8",
   "metadata": {},
   "source": [
    "### Question 2\n",
    "`1.0 Pts`\n",
    "What is the value of variable `b` after the execution of the following statements?\n",
    "\n",
    "15\n",
    "\n",
    "(5, 10)\n",
    "\n",
    "10\n",
    "\n",
    "5"
   ]
  },
  {
   "cell_type": "code",
   "execution_count": 20,
   "id": "0a22cb83-61da-4a86-987e-fa6199dacf8a",
   "metadata": {},
   "outputs": [
    {
     "name": "stdout",
     "output_type": "stream",
     "text": [
      "10\n"
     ]
    }
   ],
   "source": [
    "b = 5\n",
    "a = 10\n",
    "b = a\n",
    "\n",
    "print(b)"
   ]
  },
  {
   "cell_type": "markdown",
   "id": "e4107e03-a564-49a8-8786-468e529a9ce6",
   "metadata": {},
   "source": [
    "### Question 3\n",
    "`2.0 Pts`\n",
    "The result of which of the following mathematical operations has the data type integer?\n",
    "\n",
    "*Note: There are 2 correct answers to this question.*\n",
    "\n",
    "2 / 3\n",
    "\n",
    "2 // 3\n",
    "\n",
    "2 % 3\n",
    "\n",
    "2.0 + 3\n",
    "\n",
    "9 ** 0.5"
   ]
  },
  {
   "cell_type": "code",
   "execution_count": 22,
   "id": "39bed764-357d-4164-9e68-be4da459ecd8",
   "metadata": {},
   "outputs": [
    {
     "name": "stdout",
     "output_type": "stream",
     "text": [
      "<class 'float'>\n",
      "<class 'int'>\n",
      "<class 'int'>\n",
      "<class 'float'>\n",
      "<class 'float'>\n"
     ]
    }
   ],
   "source": [
    "print(type(2 / 3))\n",
    "\n",
    "print(type(2 // 3))\n",
    "\n",
    "print(type(2 % 3))\n",
    "\n",
    "print(type(2.0 + 3))\n",
    "\n",
    "print(type(9 ** 0.5))"
   ]
  },
  {
   "cell_type": "markdown",
   "id": "fbfbc5e8-55f7-4655-ae7f-b8700c245837",
   "metadata": {},
   "source": [
    "### Question 4\n",
    "`1.0 Pts`\n",
    "What is the result of the following statement?\n",
    "\n",
    "print(\"12\" + \"34\")\n",
    "\n",
    "\"12\", \"34\"\n",
    "\n",
    "46\n",
    "\n",
    "1234\n",
    "\n",
    "12 34"
   ]
  },
  {
   "cell_type": "code",
   "execution_count": 23,
   "id": "458a4249-a280-4234-a0c5-cfd0cd64069b",
   "metadata": {},
   "outputs": [
    {
     "name": "stdout",
     "output_type": "stream",
     "text": [
      "1234\n"
     ]
    }
   ],
   "source": [
    "print(\"12\" + \"34\")"
   ]
  },
  {
   "cell_type": "markdown",
   "id": "356c9e00-2300-4247-85cf-5948f9b9d9df",
   "metadata": {},
   "source": [
    "### Question 5\n",
    "`1.0 Pts`\n",
    "\n",
    "What is the value of a after the following statements have been executed?\n",
    "\n",
    "\"123\"\n",
    "\n",
    "\"1230\"\n",
    "\n",
    "\"127\"\n",
    "\n",
    "\"1234\""
   ]
  },
  {
   "cell_type": "code",
   "execution_count": 25,
   "id": "2b6dd6d1-f155-47aa-8720-e82a7ad659e4",
   "metadata": {},
   "outputs": [
    {
     "data": {
      "text/plain": [
       "'1230'"
      ]
     },
     "execution_count": 25,
     "metadata": {},
     "output_type": "execute_result"
    }
   ],
   "source": [
    "a = \"123\"\n",
    "if a > \"a\":\n",
    "    a += \"4\"\n",
    "else:\n",
    "    a += \"0\"\n",
    "    \n",
    "a"
   ]
  },
  {
   "cell_type": "markdown",
   "id": "43e3babd-e915-4ba7-8784-352dcbaed888",
   "metadata": {},
   "source": [
    "### Question 6\n",
    "`1.0 Pts`\n",
    "\n",
    "According to the following code, what is the drink?\n",
    "\n",
    "Cola\n",
    "\n",
    "Beer\n",
    "\n",
    "Whiskey\n",
    "\n",
    "Milk"
   ]
  },
  {
   "cell_type": "code",
   "execution_count": 26,
   "id": "ad086cb7-1165-42fc-b907-8e079495f6e0",
   "metadata": {},
   "outputs": [
    {
     "data": {
      "text/plain": [
       "'Cola'"
      ]
     },
     "execution_count": 26,
     "metadata": {},
     "output_type": "execute_result"
    }
   ],
   "source": [
    "age = 18\n",
    "\n",
    "if age > 10:\n",
    "    drink = \"Cola\"\n",
    "elif age > 16:\n",
    "    drink = \"Beer\"\n",
    "elif age > 18:\n",
    "    drink = \"Whiskey\"\n",
    "else:\n",
    "    drinknk = \"Milk\"\n",
    "    \n",
    "drink"
   ]
  },
  {
   "cell_type": "markdown",
   "id": "35dc5cfb-4317-4604-bc93-1ae4da659429",
   "metadata": {},
   "source": [
    "### Question 7\n",
    "`2.0 Pts`\n",
    "\n",
    "Which of the following numbers assigned to the variable a makes the following expression True?\n",
    "\n",
    "*Note: There are 2 correct answers to this question.*\n",
    "\n",
    "16\n",
    "\n",
    "17\n",
    "\n",
    "18\n",
    "\n",
    "14\n",
    "\n",
    "15"
   ]
  },
  {
   "cell_type": "code",
   "execution_count": 33,
   "id": "9aaf2616-d2f6-4c1f-9a3b-dcd7cc7fc211",
   "metadata": {},
   "outputs": [
    {
     "data": {
      "text/plain": [
       "True"
      ]
     },
     "execution_count": 33,
     "metadata": {},
     "output_type": "execute_result"
    }
   ],
   "source": [
    "a = 14\n",
    "a > 10 and not(a > 20) and a % 2 == 0 and a % 3 != 0 "
   ]
  },
  {
   "cell_type": "code",
   "execution_count": 34,
   "id": "d0849b8f-b1ec-442a-a656-838af2f46869",
   "metadata": {},
   "outputs": [
    {
     "data": {
      "text/plain": [
       "True"
      ]
     },
     "execution_count": 34,
     "metadata": {},
     "output_type": "execute_result"
    }
   ],
   "source": [
    "a = 16\n",
    "a > 10 and not(a > 20) and a % 2 == 0 and a % 3 != 0 "
   ]
  },
  {
   "cell_type": "markdown",
   "id": "9661c858-c687-4249-beae-ca74e10fddf3",
   "metadata": {},
   "source": [
    "### Question 8\n",
    "`2.0 Pts`\n",
    "Which of the following statements about lists are correct?\n",
    "\n",
    "*Note: There are 3 correct answers to this question.*\n",
    "\n",
    "The keyword `in` is used to check if a given element is part of a list. `correct`\n",
    "\n",
    "Lists can be multiplied with integers. The result is again a list. `correct`\n",
    "\n",
    "The elements of a list are separated by semicolons ;.\n",
    "\n",
    "Lists can contain elements of all data types. That means there can be lists of integers or list of strings. `correct`\n",
    "\n",
    "All elements within a list must have the same data type."
   ]
  },
  {
   "cell_type": "markdown",
   "id": "c5cccc86-8e8c-4e30-8c2f-4ba6d3c19773",
   "metadata": {},
   "source": [
    "### Question 9\n",
    "`1.0 Pts`\n",
    "\n",
    "What is the content of variable `list1` after the following statement has been executed?\n",
    "\n",
    "[1, 2, 3, 4, 5, 6]\n",
    "\n",
    "[[1, 3, 5], [2, 4, 6]]\n",
    "\n",
    "[1, 3, 5, 2, 4, 6]\n",
    "\n",
    "[3, 7, 11]"
   ]
  },
  {
   "cell_type": "code",
   "execution_count": 36,
   "id": "c8b97329-f87e-4e2d-a4d4-dc41a57a41df",
   "metadata": {},
   "outputs": [
    {
     "data": {
      "text/plain": [
       "[1, 3, 5, 2, 4, 6]"
      ]
     },
     "execution_count": 36,
     "metadata": {},
     "output_type": "execute_result"
    }
   ],
   "source": [
    "list1 = [1, 3, 5] + [2, 4, 6]\n",
    "\n",
    "list1"
   ]
  },
  {
   "cell_type": "markdown",
   "id": "01b48252-60dd-4553-93ca-42cdbfe8c672",
   "metadata": {},
   "source": [
    "### Question 10\n",
    "`1.0 Pts`\n",
    "\n",
    "What is the value of variable `list1` after the following statements have been executed?\n",
    "\n",
    "[1, 1, 3]\n",
    "\n",
    "[1, 1, 2, 2, 2, 3]\n",
    "\n",
    "[1, 1, 1, 2, 2, 3]\n",
    "\n",
    "[1, 1, 1, 2, 3]"
   ]
  },
  {
   "cell_type": "code",
   "execution_count": 40,
   "id": "54283fdb-316a-409e-993a-1043483f36bb",
   "metadata": {},
   "outputs": [
    {
     "data": {
      "text/plain": [
       "[1, 1, 1, 2, 2, 3]"
      ]
     },
     "execution_count": 40,
     "metadata": {},
     "output_type": "execute_result"
    }
   ],
   "source": [
    "list1 = [1, 1, 1, 2, 2, 2, 3]\n",
    "\n",
    "list1.remove(2)\n",
    "\n",
    "list1"
   ]
  },
  {
   "cell_type": "markdown",
   "id": "c0bd4d5f-63d9-49d7-b1de-f49c07b20374",
   "metadata": {},
   "source": [
    "### Question 11\n",
    "`1.0 Pts`\n",
    "\n",
    "What is the value of `x` after the following statements have been executed?\n",
    "\n",
    "4\n",
    "\n",
    "7\n",
    "\n",
    "1\n",
    "\n",
    "9"
   ]
  },
  {
   "cell_type": "code",
   "execution_count": 42,
   "id": "889d2a43-9c05-4af4-bfd3-1a9f9953848c",
   "metadata": {},
   "outputs": [
    {
     "data": {
      "text/plain": [
       "4"
      ]
     },
     "execution_count": 42,
     "metadata": {},
     "output_type": "execute_result"
    }
   ],
   "source": [
    "list1 = [1, 4, 7, 9]\n",
    "for i in list1:\n",
    "    if i % 2 == 0:\n",
    "        x = i\n",
    "\n",
    "x"
   ]
  },
  {
   "cell_type": "markdown",
   "id": "2b5999be-51f7-4b71-aeca-45b108f61eed",
   "metadata": {},
   "source": [
    "### Question 12\n",
    "`1.0 Pts`\n",
    "\n",
    "Which sequence is generated by the following range? range(1, 9, 2)"
   ]
  },
  {
   "cell_type": "code",
   "execution_count": 48,
   "id": "f966b215-85e6-46e1-9130-9854017d9828",
   "metadata": {},
   "outputs": [
    {
     "name": "stdout",
     "output_type": "stream",
     "text": [
      "1\n",
      "3\n",
      "5\n",
      "7\n"
     ]
    }
   ],
   "source": [
    "for i in range(1, 9, 2):\n",
    "    print(i)"
   ]
  },
  {
   "cell_type": "markdown",
   "id": "e51577d0-49a3-4a9c-8a94-23cb64b46679",
   "metadata": {},
   "source": [
    "### Question 13\n",
    "`1.0 Pts`\n",
    "\n",
    "What is the value of variable `list2` after the following statements have been executed?\n",
    "\n",
    "[3, 1]\n",
    "\n",
    "[6, 4, 2, 0]\n",
    "\n",
    "[4, 2, 0]\n",
    "\n",
    "[0, 2, 4]"
   ]
  },
  {
   "cell_type": "code",
   "execution_count": 2,
   "id": "29826a21-87c3-4267-a955-da4702bffa89",
   "metadata": {},
   "outputs": [
    {
     "data": {
      "text/plain": [
       "[4, 2, 0]"
      ]
     },
     "execution_count": 2,
     "metadata": {},
     "output_type": "execute_result"
    }
   ],
   "source": [
    "list1 = list(range(5))\n",
    "\n",
    "list2 = [x for x in list1 if x % 2 == 0]\n",
    "\n",
    "list2 = list2[::-1]\n",
    "\n",
    "list2"
   ]
  },
  {
   "cell_type": "markdown",
   "id": "d3352b89-a437-4770-97ce-741d172da658",
   "metadata": {},
   "source": [
    "### Question 14\n",
    "`1.0 Pts`\n",
    "\n",
    "What is the value of variable `a` after the following statements have been executed?\n",
    "\n",
    "(1980, \"July\", 31)\n",
    "\n",
    "Potter\n",
    "\n",
    "1980\n",
    "\n",
    "Error"
   ]
  },
  {
   "cell_type": "code",
   "execution_count": 51,
   "id": "64bbb104-ba0d-4e32-af6a-d28ccc05f62a",
   "metadata": {},
   "outputs": [
    {
     "data": {
      "text/plain": [
       "1980"
      ]
     },
     "execution_count": 51,
     "metadata": {},
     "output_type": "execute_result"
    }
   ],
   "source": [
    "student = (\"Potter\", \n",
    "           \"Harry\", \n",
    "           \"Gryffindor\",\n",
    "           \"Hogwarts\",\n",
    "           (1980, \"July\", 31)\n",
    ")\n",
    "\n",
    "a = student[-1][0]\n",
    "\n",
    "a"
   ]
  },
  {
   "cell_type": "markdown",
   "id": "0e5c1edd-6d77-44cd-a69d-9d58977670c7",
   "metadata": {},
   "source": [
    "### Question 15\n",
    "`1.0 Pts`\n",
    "\n",
    "What is the effect of the following statements?\n",
    "\n",
    "The key-value pair \"Peter\" : 234 is added to the dictionary.\n",
    "\n",
    "As the key is already available, this code runs into an error.\n",
    "\n",
    "The key-value pair \"Peter\" : 123 is replaced by \"Peter\" : 234 `correct`\n",
    "\n",
    "As the key is already available, the dictionary is unchanged."
   ]
  },
  {
   "cell_type": "code",
   "execution_count": 53,
   "id": "7143a6cb-9f14-4ec4-b48f-d5dcdac62bbb",
   "metadata": {},
   "outputs": [
    {
     "data": {
      "text/plain": [
       "{'Peter': 234, 'Paul': 456, 'Mary': 789}"
      ]
     },
     "execution_count": 53,
     "metadata": {},
     "output_type": "execute_result"
    }
   ],
   "source": [
    "tel = {\"Peter\" : 123, \"Paul\" : 456, \"Mary\" : 789}\n",
    "tel[\"Peter\"] = 234\n",
    "\n",
    "tel"
   ]
  },
  {
   "cell_type": "markdown",
   "id": "440459a9-c651-4d4d-b1d0-48fc03d2eafe",
   "metadata": {},
   "source": [
    "### Question 16\n",
    "`1.0 Pts`\n",
    "\n",
    "What is the result of the following statements?\n",
    "\n",
    "Variable a contains the value `\"Hermione\"`\n",
    "\n",
    "Index Error\n",
    "\n",
    "Key Error\n",
    "\n",
    "Variable a contains the value `\"Harry\"`"
   ]
  },
  {
   "cell_type": "code",
   "execution_count": 54,
   "id": "68b28fad-6f6f-45ca-87d3-a069b5630134",
   "metadata": {},
   "outputs": [
    {
     "ename": "KeyError",
     "evalue": "1",
     "output_type": "error",
     "traceback": [
      "\u001b[1;31m---------------------------------------------------------------------------\u001b[0m",
      "\u001b[1;31mKeyError\u001b[0m                                  Traceback (most recent call last)",
      "Input \u001b[1;32mIn [54]\u001b[0m, in \u001b[0;36m<cell line: 5>\u001b[1;34m()\u001b[0m\n\u001b[0;32m      1\u001b[0m studs \u001b[38;5;241m=\u001b[39m {\u001b[38;5;241m123\u001b[39m : \u001b[38;5;124m\"\u001b[39m\u001b[38;5;124mHarry\u001b[39m\u001b[38;5;124m\"\u001b[39m,\n\u001b[0;32m      2\u001b[0m         \u001b[38;5;241m234\u001b[39m : \u001b[38;5;124m\"\u001b[39m\u001b[38;5;124mHermione\u001b[39m\u001b[38;5;124m\"\u001b[39m,\n\u001b[0;32m      3\u001b[0m         \u001b[38;5;241m345\u001b[39m : \u001b[38;5;124m\"\u001b[39m\u001b[38;5;124mRon\u001b[39m\u001b[38;5;124m\"\u001b[39m}\n\u001b[1;32m----> 5\u001b[0m a \u001b[38;5;241m=\u001b[39m \u001b[43mstuds\u001b[49m\u001b[43m[\u001b[49m\u001b[38;5;241;43m1\u001b[39;49m\u001b[43m]\u001b[49m\n\u001b[0;32m      7\u001b[0m a\n",
      "\u001b[1;31mKeyError\u001b[0m: 1"
     ]
    }
   ],
   "source": [
    "studs = {123 : \"Harry\",\n",
    "        234 : \"Hermione\",\n",
    "        345 : \"Ron\"}\n",
    "\n",
    "a = studs[1]\n",
    "\n",
    "a"
   ]
  },
  {
   "cell_type": "markdown",
   "id": "d3f28916-1920-4c69-a843-5c3c483c342b",
   "metadata": {},
   "source": [
    "### Question 17\n",
    "`2.0 Pts`\n",
    "Which of the following statements about the while loop are correct?\n",
    "\n",
    "*Note: There are 3 correct answers to this question.*\n",
    "\n",
    "while loops should be preferred over for loops.\n",
    "\n",
    "while loops execute the while block (that is, the conditional statements belonging to the loop) at least once. \n",
    "\n",
    "while loops can end up in infinite loops. `correct`\n",
    "\n",
    "If the iteration is to be done over a sequence, for loops are preferred. If it is not clear how many iterations are required, then a while loop is (often) the better choice. `correct`\n",
    "\n",
    "The while block (that is, the conditional statements belonging to the loop) must contain at least one statement. `correct`"
   ]
  },
  {
   "cell_type": "markdown",
   "id": "2bf7e026-4fef-4e90-99b9-60f78a3d13a9",
   "metadata": {},
   "source": [
    "### Question 18\n",
    "`1.0 Pts`\n",
    "\n",
    "What is the value of variable `a` after the following code has been executed?\n",
    "\n",
    "54\n",
    "\n",
    "55\n",
    "\n",
    "65\n",
    "\n",
    "66"
   ]
  },
  {
   "cell_type": "code",
   "execution_count": 57,
   "id": "9a9d0083-6e75-4c1a-b02b-0750eef5ffc0",
   "metadata": {},
   "outputs": [
    {
     "data": {
      "text/plain": [
       "54"
      ]
     },
     "execution_count": 57,
     "metadata": {},
     "output_type": "execute_result"
    }
   ],
   "source": [
    "a = 0\n",
    "i = 1\n",
    "while i < 10:\n",
    "    i += 1\n",
    "    a += i\n",
    "\n",
    "a"
   ]
  },
  {
   "cell_type": "markdown",
   "id": "e3019b90-684d-4e24-bb7a-853642560ade",
   "metadata": {},
   "source": [
    "### Question 19\n",
    "`2.0 Pts`\n",
    "\n",
    "Which of the following statements about the modes used to open a file are correct?\n",
    "\n",
    "*Note: There are 3 correct answers to this question.*\n",
    "\n",
    "In mode \"r+\", it is possible to read data from a file, but also to write data to the file. `correct`\n",
    "\n",
    "A file opened in mode \"r+\" has first to be read. In a second step, data can be written to the file. A file opened in mode \"w+\" must first have data written to the file before data can be read. \n",
    "\n",
    "In mode \"r\", the file must exist. If an attempt is made to access a file that is not available, the FileNotFoundError is triggered. `correct`\n",
    "\n",
    "If data is written to a file that is opened in mode \"r\", an error is triggered. `correct`\n",
    "\n",
    "In mode \"w+\", an existing file will be opened."
   ]
  },
  {
   "cell_type": "markdown",
   "id": "286c62ef-3810-4ad8-b6ed-b6dbe4cd0d02",
   "metadata": {},
   "source": [
    "### Question 20\n",
    "`2.0 Pts`\n",
    "\n",
    "Which of the following statements about reading from a file are correct?\n",
    "\n",
    "*Note: There are 3 correct answers to this question.*\n",
    "\n",
    "Files are organized sequentially, therefore a for loop can be used to iterate over the lines of a file. `correct`\n",
    "\n",
    "If a file is read with .readlines(), it is not necessary to close it at the end of the program.\n",
    "\n",
    "It is possible to read the complete file into a list in one go, without a for loop, using the method .readlines() `correct`\n",
    "\n",
    "As files are organized sequentially, they can easily be converted into a list, as a list is a sequence type as well. `correct`\n",
    "\n",
    "If a file is read from the beginning to the end, the read cursor is automatically positioned at the beginning of the file again."
   ]
  },
  {
   "cell_type": "markdown",
   "id": "1f895bc4-d3de-46b2-9b57-6db4cbcfb58e",
   "metadata": {},
   "source": [
    "### Question 21\n",
    "`2.0 Pts`\n",
    "\n",
    "Which of the following statements about f-strings are correct?\n",
    "\n",
    "*Note: There are 3 correct answers to this question.*\n",
    "\n",
    "To indicate that a string should be treated as an f-string, an \"f\" simply has to be placed before the string. `correct`\n",
    "\n",
    "Using f-strings, the programmer has the opportunity to specify the layout. For example, the output could be in different colors, or bold, or italic.\n",
    "\n",
    "It is possible to add additional information into the braces, which supports the alignment of the output. `correct`\n",
    "\n",
    "When using an f-string, curly braces { } can be used. Variables or function calls can be placed within these braces. `correct`\n",
    "\n",
    "f-strings have been available in Python since version 3.0. "
   ]
  },
  {
   "cell_type": "markdown",
   "id": "81923588-c247-42f9-8b0d-2bd658f0af1f",
   "metadata": {},
   "source": [
    "### Question 22\n",
    "`1.0 Pts`\n",
    "\n",
    "What is the result of the following statement?\n",
    "\n",
    "['Yesterday', 'Let it be', 'Help', 'Something']\n",
    "\n",
    "['Yesterday,', 'Let', 'it', 'be,', 'Help,', 'Something']\n",
    "\n",
    "\"Yesterday\", \" Let it be\", \" Help\", \" Something\"\n",
    "\n",
    "\"Yesterday, Let it be, Help, Something\""
   ]
  },
  {
   "cell_type": "code",
   "execution_count": 58,
   "id": "646ff013-9eb2-4e23-919c-4c2510819883",
   "metadata": {},
   "outputs": [
    {
     "data": {
      "text/plain": [
       "['Yesterday,', 'Let', 'it', 'be,', 'Help,', 'Something']"
      ]
     },
     "execution_count": 58,
     "metadata": {},
     "output_type": "execute_result"
    }
   ],
   "source": [
    "\"Yesterday, Let it be, Help, Something\".split()"
   ]
  },
  {
   "cell_type": "markdown",
   "id": "83b1e4d9-922e-4c89-b0ee-072d5a426a03",
   "metadata": {},
   "source": [
    "### Question 23\n",
    "`2.0 Pts`\n",
    "\n",
    "Which of the following are built-in-functions in Python?\n",
    "\n",
    "*Note: There are 2 correct answers to this question.*\n",
    "\n",
    "for\n",
    "\n",
    ".isdecimal()\n",
    "\n",
    "int() `correct`\n",
    "\n",
    "print() `correct`\n",
    "\n",
    ".strip()"
   ]
  },
  {
   "cell_type": "markdown",
   "id": "d94ed898-f803-42e6-b156-1f6e3cb3fac5",
   "metadata": {},
   "source": [
    "### Question 24\n",
    "`2.0 Pts`\n",
    "\n",
    "Which of the following statements about the syntax of functions in Python are correct?\n",
    "\n",
    "*Note: There are 2 correct answers to this question.*\n",
    "\n",
    "The docstring is a mandatory part of the function.\n",
    "\n",
    "The function body can consist of zero, one, or many statements.\n",
    "\n",
    "A function must have a return value.\n",
    "\n",
    "The definition of a function always starts with the keyword `def`. `correct`\n",
    "\n",
    "Functions can have none, one or more input parameters. `correct`"
   ]
  },
  {
   "cell_type": "markdown",
   "id": "a98bfb66-3339-4a81-a27a-83fb318d482b",
   "metadata": {},
   "source": [
    "### Question 25\n",
    "`1.0 Pts`\n",
    "\n",
    "What is the return value of the following function?\n",
    "\n",
    "None\n",
    "\n",
    "9\n",
    "\n",
    "7\n",
    "\n",
    "Error"
   ]
  },
  {
   "cell_type": "code",
   "execution_count": 61,
   "id": "50cfed21-8ca9-4188-bd9c-f9a1d55c5b82",
   "metadata": {},
   "outputs": [
    {
     "name": "stdout",
     "output_type": "stream",
     "text": [
      "7\n"
     ]
    }
   ],
   "source": [
    "def f1():\n",
    "    return 7\n",
    "    return 8\n",
    "    return 9\n",
    "\n",
    "print(f1())"
   ]
  },
  {
   "cell_type": "markdown",
   "id": "606bc6da-4db4-4cf6-9a01-133ba161f8f7",
   "metadata": {},
   "source": [
    "### Question 26\n",
    "`1.0 Pts`\n",
    "\n",
    "What is the output of the following program?\n",
    "\n",
    "\n",
    "```\n",
    "4\n",
    "4\n",
    "6\n",
    "```\n",
    "\n",
    "```\n",
    "6\n",
    "4\n",
    "4\n",
    "```\n",
    "\n",
    "```\n",
    "6\n",
    "```\n",
    "\n",
    "```\n",
    "6\n",
    "8\n",
    "```"
   ]
  },
  {
   "cell_type": "code",
   "execution_count": 62,
   "id": "e2767196-caa6-41d5-93c3-d734db058bcd",
   "metadata": {},
   "outputs": [
    {
     "name": "stdout",
     "output_type": "stream",
     "text": [
      "6\n"
     ]
    }
   ],
   "source": [
    "def f5():\n",
    "    return 3\n",
    "    print (4)\n",
    "    \n",
    "print(f5() + f5())"
   ]
  },
  {
   "cell_type": "markdown",
   "id": "4e54481b-9da0-4f1d-8173-4ee6e2999ab5",
   "metadata": {},
   "source": [
    "### Question 27\n",
    "`1.0 Pts`\n",
    "\n",
    "What is the outcome of the following program?\n",
    "\n",
    "\n",
    "```\n",
    "6 12 24 40\n",
    "```\n",
    "\n",
    "```\n",
    "6 12 24 10\n",
    "```\n",
    "\n",
    "```\n",
    "6 12 16 10\n",
    "```\n",
    "\n",
    "```\n",
    "6 6 24 10\n",
    "```"
   ]
  },
  {
   "cell_type": "code",
   "execution_count": 63,
   "id": "57201ebc-cc4b-4f3b-861d-9399b97d6c77",
   "metadata": {},
   "outputs": [
    {
     "name": "stdout",
     "output_type": "stream",
     "text": [
      "6 12 24 10\n"
     ]
    }
   ],
   "source": [
    "def f1(x =2, y = 3):\n",
    "    return x * y\n",
    "\n",
    "print(f1(), f1(3, 4), f1(8), f1(y = 5))"
   ]
  },
  {
   "cell_type": "markdown",
   "id": "e82b3e79-706d-404c-98e7-bff1bb05735e",
   "metadata": {},
   "source": [
    "### Question 28\n",
    "`1.0 Pts`\n",
    "\n",
    "What is the outcome of the following program?\n",
    "\n",
    "\n",
    "```\n",
    "13\n",
    "3\n",
    "```\n",
    "\n",
    "```\n",
    "13\n",
    "14\n",
    "```\n",
    "\n",
    "```\n",
    "13\n",
    "4\n",
    "```\n",
    "\n",
    "```\n",
    "14\n",
    "14\n",
    "```"
   ]
  },
  {
   "cell_type": "code",
   "execution_count": 64,
   "id": "627bf111-852e-4345-936b-02415d7ad19b",
   "metadata": {},
   "outputs": [
    {
     "name": "stdout",
     "output_type": "stream",
     "text": [
      "13\n",
      "4\n"
     ]
    }
   ],
   "source": [
    "def f3(x):\n",
    "    x += 10\n",
    "    print(x)\n",
    "    \n",
    "x = 3\n",
    "f3(x)\n",
    "print(x + 1)"
   ]
  },
  {
   "cell_type": "markdown",
   "id": "2a87d28a-4ef5-4c53-8b1e-cd34a64ab7e4",
   "metadata": {},
   "source": [
    "### Question 29\n",
    "`1.0 Pts`\n",
    "\n",
    "What is the output of the following program?\n",
    "\n",
    "8\n",
    "\n",
    "9\n",
    "\n",
    "16\n",
    "\n",
    "25"
   ]
  },
  {
   "cell_type": "code",
   "execution_count": 65,
   "id": "bde8a442-1894-455b-8c2f-a29539c48cae",
   "metadata": {},
   "outputs": [
    {
     "name": "stdout",
     "output_type": "stream",
     "text": [
      "16\n"
     ]
    }
   ],
   "source": [
    "def f1(i):\n",
    "    return i ** 2\n",
    "\n",
    "def f2(j):\n",
    "    return (f1(j + 1))\n",
    "\n",
    "print(f2(3))"
   ]
  },
  {
   "cell_type": "markdown",
   "id": "c98264f5-a345-4af8-b6ff-49a697286ae2",
   "metadata": {},
   "source": [
    "### Question 30\n",
    "`2.0 Pts`\n",
    "\n",
    "Which of the following statements about methods and functions are correct?\n",
    "\n",
    "*Note: There are 3 correct answers to this question.*\n",
    "\n",
    "Methods and functions are synonyms. Their meaning is exactly the same.\n",
    "\n",
    "Methods are related to object-oriented programming; functions are related to procedural programming. `correct`\n",
    "\n",
    "Methods are invoked by calling `objectname.methodname`. Important: The method must be defined for the corresponding object. `correct`\n",
    "\n",
    "Methods can be used together with the corresponding object or without the object.\n",
    "\n",
    "Methods can have input parameters and return values. `correct`"
   ]
  }
 ],
 "metadata": {
  "kernelspec": {
   "display_name": "Python 3 (ipykernel)",
   "language": "python",
   "name": "python3"
  },
  "language_info": {
   "codemirror_mode": {
    "name": "ipython",
    "version": 3
   },
   "file_extension": ".py",
   "mimetype": "text/x-python",
   "name": "python",
   "nbconvert_exporter": "python",
   "pygments_lexer": "ipython3",
   "version": "3.10.2"
  }
 },
 "nbformat": 4,
 "nbformat_minor": 5
}
