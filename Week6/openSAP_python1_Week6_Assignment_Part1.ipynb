{
 "cells": [
  {
   "cell_type": "markdown",
   "id": "e47846d8-eb2e-4cac-8e78-a1a5fff52d9e",
   "metadata": {},
   "source": [
    "# Assignment Week 6 (Part 1 - Questions)"
   ]
  },
  {
   "cell_type": "markdown",
   "id": "2604aaeb-4af1-44a9-b8b8-b25a2f948ef0",
   "metadata": {},
   "source": [
    "### Question 1\n",
    "`2.0 Pts`\n",
    "\n",
    "Which of the following statements about libraries are correct?\n",
    "\n",
    "*Note: There are 3 correct answers to this question.*\n",
    "\n",
    "Python libraries contain lots of books about snakes and other reptiles.\n",
    "\n",
    "The Python Standard Library is the first library you have to install on top of your Python installation to follow this week's units.\n",
    "\n",
    "Today's software is very large. Libraries ensure maintainability and reusability. `correct`\n",
    "\n",
    "There are similar objectives behind using libraries and functions, just on a different scale. `correct`\n",
    "\n",
    "Software is one of the most complex artefacts that has ever been developed. `correct`"
   ]
  },
  {
   "cell_type": "markdown",
   "id": "1e095a35-ae48-4793-a55a-9e7d59b66e02",
   "metadata": {},
   "source": [
    "### Question 2\n",
    "`2.0 Pts`\n",
    "\n",
    "Which of the following statements about importing libraries are correct?\n",
    "\n",
    "*Note: There are 3 correct answers to this question.*\n",
    "\n",
    "If a full library is imported by `import library`, then the functions of this library can only be called by using the library's name as a qualifier before the name of the function. `correct`\n",
    "\n",
    "Libraries can only be imported if they are already installed. `correct`\n",
    "\n",
    "Importing a complete library enables the programmer to use all the functions from this library. `correct`\n",
    "\n",
    "Although there are several ways to import libraries (import, import as, from …) the recommended way to import is `import as ….`\n",
    "\n",
    "If a library is implemented in Python, the namespace remains unchanged as the library uses the same programming language. Potential conflicts with the namespace only occur if libraries implemented in another programming language (such as C) are imported."
   ]
  },
  {
   "cell_type": "markdown",
   "id": "9ec650c6-18b8-4cd4-88bd-8cf452e38394",
   "metadata": {},
   "source": [
    "### Question 3\n",
    "`1.0 Pts`\n",
    "\n",
    "To which of the following libraries does the function `dist()` belong? (Look up in the respective documentation. Or import the libraries and check the docstring. Or import the libraries and simply check if the function is found.)\n",
    "\n",
    "agriculture\n",
    "\n",
    "statistics\n",
    "\n",
    "math `correct`\n",
    "\n",
    "random"
   ]
  },
  {
   "cell_type": "markdown",
   "id": "736b1e83-969a-4799-89fb-e75e961012b2",
   "metadata": {},
   "source": [
    "### Question 4\n",
    "`1.0 Pts`\n",
    "\n",
    "What is the csv library used for?\n",
    "\n",
    "CSV is an abbreviation for \"Circuit Switched Voice\". The library is used for the simulation of old circuit switched telephones.\n",
    "\n",
    "CSV is an abbreviation for \"Counter Strike Veterans\". The library is used by the gaming industry to administer gamer of age.\n",
    "\n",
    "CSV is an abbreviation for \"Community Service Volunteer\". The library was developed by the US government to administer these volunteers.\n",
    "\n",
    "CSV is an abbreviation for \"Comma Separated Values\". The library is used for the handling of files using this format. `correct`"
   ]
  },
  {
   "cell_type": "markdown",
   "id": "08d27468-4de6-4400-ae1c-06c229b39481",
   "metadata": {},
   "source": [
    "### Question 5\n",
    "`1.0 Pts`\n",
    "\n",
    "What does the abbreviation PyPI stand for?\n",
    "\n",
    "Python Programming Interface\n",
    "\n",
    "Python Popular Inventory\n",
    "\n",
    "Python Package Index `correct`\n",
    "\n",
    "Python Public Involvement"
   ]
  },
  {
   "cell_type": "markdown",
   "id": "93107e6b-e165-4291-b0e7-3aff54759f46",
   "metadata": {},
   "source": [
    "### Question 6\n",
    "`1.0 Pts`\n",
    "\n",
    "Where does the name \"BeautifulSoup\" come fro\n",
    "\n",
    "In the terminology of the world wide web, wording from cuisines has often been used to name artefacts. The most prominent example is cookies. Following this trend, the library to analyze webpages was named Beautiful Soup.\n",
    "\n",
    "Webpages contain content which is beautified by adding layout and formatting in the browser. The result of this beautification process is sometimes called beautiful soup.\n",
    "\n",
    "The name Python goes back to the comedians Monty Python. In one of their videos, there is a scene about a \"beautiful soup\". The name for the library was taken from this scene.\n",
    "\n",
    "Malformed webpages are sometimes called \"soup of tags\". The BeautifulSoup function transforms such webpages (soups) into beautiful, well-formed objects, which can be analyzed by a Python program. It has therefore created a “beautiful soup”. `correct`"
   ]
  },
  {
   "cell_type": "markdown",
   "id": "53ff3274-306e-4d8e-ace1-ad26cdea107f",
   "metadata": {},
   "source": [
    "### Question 7\n",
    "`1.0 Pts`\n",
    "\n",
    "The term GUI is an abbreviation for what?\n",
    "\n",
    "Georgia University Intern\n",
    "\n",
    "General Unemployment Insurance\n",
    "\n",
    "Global Unique Identifier\n",
    "\n",
    "Graphical User Interface `correct`"
   ]
  },
  {
   "cell_type": "markdown",
   "id": "e33f6c10-8c74-4016-b447-93f8c1e99803",
   "metadata": {},
   "source": [
    "### Question 8\n",
    "`2.0 Pts`\n",
    "\n",
    "Which statements about the library `requests` are correct?\n",
    "\n",
    "*Note: There are 3 correct answers to this question.*\n",
    "\n",
    "`requests` simulates the behavior of a browser communicating to a web server. The responses of the web server, such as the content of the web page, can then be further analyzed by a Python program. `correct`\n",
    "\n",
    "`requests` is a library to build up a connection to web servers. `correct`\n",
    "\n",
    "`requests` takes care of all communication between the Python program and the web server, including the handling of cookies and the content negotiation. `correct`\n",
    "\n",
    "`requests` enables communication towards the web server, email server, and ftp server.\n",
    "\n",
    "To fetch a web page from a web server, `requests` offers the method `.download()`."
   ]
  },
  {
   "cell_type": "markdown",
   "id": "848a8d07-8896-498d-9d4d-ac27d666b5c0",
   "metadata": {},
   "source": [
    "### Question 9\n",
    "`2.0 Pts`\n",
    "\n",
    "Which of the following statements about BeautifulSoup are correct?\n",
    "\n",
    "*Note: There are 3 correct answers to this question.*\n",
    "\n",
    "`BeautifulSoup` enables the creation of new HTML documents.\n",
    "\n",
    "`BeautifulSoup` supports the analysis of all types of documents like pdf, docx, and HTML.\n",
    "\n",
    "`BeautifulSoup` supports the analysis of HTML documents. `correct`\n",
    "\n",
    "`BeautifulSou`p enables the identification of external links from an HTML page. `correct`\n",
    "\n",
    "To use `BeautifulSoup` requires some knowledge of HTML. `correct`"
   ]
  },
  {
   "cell_type": "markdown",
   "id": "37973971-6ce3-4091-bf49-0a9e45dfc3e7",
   "metadata": {},
   "source": [
    "### Question 10\n",
    "`2.0 Pts`\n",
    "Which of the following statements about `pandas` are correct?\n",
    "\n",
    "*Note: There are 3 correct answers to this question.*\n",
    "\n",
    "The term `pandas` goes back to the animals from Tibet.\n",
    "\n",
    "As software in the field of machine learning requires big data sets, `pandas` is often used in combination with machine learning libraries. `correct`\n",
    "\n",
    "`pandas` is a library to efficiently handle large data sets. `correct`\n",
    "\n",
    "`pandas` is well suited to handle images and audio data.\n",
    "\n",
    "To visualize the data from `pandas`, the library `matplotlib` is often used. `correct`"
   ]
  }
 ],
 "metadata": {
  "kernelspec": {
   "display_name": "Python 3 (ipykernel)",
   "language": "python",
   "name": "python3"
  },
  "language_info": {
   "codemirror_mode": {
    "name": "ipython",
    "version": 3
   },
   "file_extension": ".py",
   "mimetype": "text/x-python",
   "name": "python",
   "nbconvert_exporter": "python",
   "pygments_lexer": "ipython3",
   "version": "3.10.2"
  }
 },
 "nbformat": 4,
 "nbformat_minor": 5
}
