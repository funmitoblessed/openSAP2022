{
 "cells": [
  {
   "cell_type": "markdown",
   "id": "e47846d8-eb2e-4cac-8e78-a1a5fff52d9e",
   "metadata": {},
   "source": [
    "# Assignment Week 6 (Part 1 - Questions)"
   ]
  },
  {
   "cell_type": "code",
   "execution_count": null,
   "id": "4eee7b51-2c7f-4594-8445-f5a797cea3be",
   "metadata": {},
   "outputs": [],
   "source": []
  }
 ],
 "metadata": {
  "kernelspec": {
   "display_name": "Python 3 (ipykernel)",
   "language": "python",
   "name": "python3"
  },
  "language_info": {
   "codemirror_mode": {
    "name": "ipython",
    "version": 3
   },
   "file_extension": ".py",
   "mimetype": "text/x-python",
   "name": "python",
   "nbconvert_exporter": "python",
   "pygments_lexer": "ipython3",
   "version": "3.10.2"
  }
 },
 "nbformat": 4,
 "nbformat_minor": 5
}
