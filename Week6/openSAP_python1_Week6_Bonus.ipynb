{
 "cells": [
  {
   "cell_type": "markdown",
   "id": "0c032289-d98d-4af0-a6e2-3afee0c0d06f",
   "metadata": {},
   "source": [
    "# Bonus Exercise Week 6"
   ]
  },
  {
   "attachments": {
    "05ef22c8-8e1d-4a1c-8d20-305e0a41a575.png": {
     "image/png": "[encoded data removed]"
    },
    "f2f64d9d-877f-4537-96d1-d0afd953295a.png": {
     "image/png": "[encoded data removed]"
    }
   },
   "cell_type": "markdown",
   "id": "02bb88d0-db7d-449e-a57c-553ee9843d5d",
   "metadata": {
    "tags": []
   },
   "source": [
    "### Instructions:\n",
    "    \n",
    "**Compute π using a random number generator**\n",
    "\n",
    "The number *π (Pi)* can be calculated using random numbers. Suppose you have a circle with radius 1 which is inscribed in a square with a side length of 2 (see figure below). Then the square has an area of *4 (2 * 2)* and the circle has an area of *π (r = 1, thus π * r² = π)*.\n",
    "\n",
    "![image.png](attachment:f2f64d9d-877f-4537-96d1-d0afd953295a.png)\n",
    "\n",
    "If thousands of points are randomly created within the square, then some points are inside the square *and* inside the circle, others are inside the square and *not* inside the circle. The situation can be simplified if you just consider the upper right quadrant of the above figure. This square has a side length of 1. Each point within the square can be described by the coordinates *x* and *y* where *(0 < x, y < 1)*. If *x² + y² < 1*, then a point specified by *(x, y)* lies within the circle.\n",
    "\n",
    "![image.png](attachment:05ef22c8-8e1d-4a1c-8d20-305e0a41a575.png)\n",
    "\n",
    "As the relation between the sizes of circle and square is *π/4*, the relation between the points in the circle and the points in the square must be *π/4* as well. Using this formula, one can now use a random number generator to calculate *π*.\n",
    "\n",
    "**Your Task**\n",
    "\n",
    "Using the library `random` create 10,000 random points inside the square. That means generate 10,000 random pairs of values for x and y. The random value must be between 0 and 1 in order for a point to be inside the square. For each point check if *x² + y² is < 1*. If this is the case, then the point is within the circle. Count the total number of points and the points which are in the circle. Use these numbers to calculate *π* Finally compare your calculated value of *π* with the value of *π* found in the `math` library. Do this by printing the calculated value of *π*, the value from the `math` library as well as the difference.\n",
    "\n",
    "Below is an example execution of the program. Note that your values might be different.\n",
    "\n",
    "```\n",
    "Calculated value of π: 3.1396\n",
    "Value of π from math library: 3.141592653589793\n",
    "Difference: -0.0019926535897929476\n",
    "```\n",
    "\n",
    "**Additional Challenge**\n",
    "\n",
    "Can you solve the bonus exercise without a for loop using list comprehension?"
   ]
  },
  {
   "cell_type": "code",
   "execution_count": 1,
   "id": "5e958231-cfa6-4a87-b80b-d616d9f97193",
   "metadata": {},
   "outputs": [
    {
     "name": "stdout",
     "output_type": "stream",
     "text": [
      "[0.9312109139118725, 0.014160390918308008, 0.06600489813222643, 0.8569823071214308, 0.8510374488085917]\n",
      "[0.7139635331824128, 0.13189604376269326, 0.8564182189786707, 0.411736792837327, 0.40674583141529774]\n"
     ]
    }
   ],
   "source": [
    "# Import the random and math libraries and generate random numbers \n",
    "import random as r\n",
    "import math as m\n",
    "\n",
    "random_list_x = [r.random() for _ in range(10000)]\n",
    "\n",
    "random_list_y = [r.random() for _ in range(10000)]\n",
    "\n",
    "# print samples\n",
    "print(random_list_x[:5])\n",
    "print(random_list_y[:5])"
   ]
  },
  {
   "cell_type": "code",
   "execution_count": 2,
   "id": "44f6ed32-c4ca-49ce-b90a-d49831b5b33f",
   "metadata": {},
   "outputs": [
    {
     "name": "stdout",
     "output_type": "stream",
     "text": [
      "Calculated value of π: 3.144\n",
      "Value of π from math library: 3.141592653589793\n",
      "Difference: 0.002407346410207012\n"
     ]
    }
   ],
   "source": [
    "# Calculate x² + y² for each value of x and y generated\n",
    "\n",
    "# Initialize counter and empty list\n",
    "count = 0\n",
    "circle_list_x = []\n",
    "circle_list_y = []\n",
    "random_points = 10000\n",
    "\n",
    "for i in range(random_points):\n",
    "    if random_list_x[i] ** 2 + random_list_y[i] ** 2 < 1:\n",
    "        count += 1\n",
    "        circle_list_x.append(i)\n",
    "        circle_list_y.append(i)\n",
    "\n",
    "# calculate pi\n",
    "calculated_pi = (4 * count) / random_points\n",
    "\n",
    "print(\"Calculated value of π:\", calculated_pi)\n",
    "print(\"Value of π from math library:\", m.pi)\n",
    "print(\"Difference:\", calculated_pi - m.pi)"
   ]
  },
  {
   "cell_type": "code",
   "execution_count": 3,
   "id": "62f90560-97f3-42c6-8c1d-7de17a0c8502",
   "metadata": {},
   "outputs": [
    {
     "name": "stdout",
     "output_type": "stream",
     "text": [
      "Calculated value of π: 3.148\n",
      "Value of π from math library: 3.141592653589793\n",
      "Difference: 0.0064073464102070155\n"
     ]
    }
   ],
   "source": [
    "# Refactored solution\n",
    "# Import the random and math libraries and generate random numbers \n",
    "import random as r\n",
    "import math as m\n",
    "\n",
    "random_list_x = [r.random() for _ in range(10000)]\n",
    "\n",
    "random_list_y = [r.random() for _ in range(10000)]\n",
    "\n",
    "# Calculate x² + y² for each value of x and y generated\n",
    "\n",
    "# Set number of points\n",
    "random_points = 10000\n",
    "\n",
    "# Calculate number of points within circle\n",
    "circle_comp_x = [random_list_x[i] for i in range(random_points) if random_list_x[i] ** 2 + random_list_y[i] ** 2 < 1]\n",
    "circle_comp_y = [random_list_y[i] for i in range(random_points) if random_list_x[i] ** 2 + random_list_y[i] ** 2 < 1]\n",
    "\n",
    "# calculate pi\n",
    "calculated_pi = (4 * len(circle_comp_x)) / random_points\n",
    "\n",
    "print(\"Calculated value of π:\", calculated_pi)\n",
    "print(\"Value of π from math library:\", m.pi)\n",
    "print(\"Difference:\", calculated_pi - m.pi)"
   ]
  },
  {
   "cell_type": "code",
   "execution_count": 4,
   "id": "d6c4bfda-2037-4977-aebf-8caf3e7f61b9",
   "metadata": {},
   "outputs": [
    {
     "name": "stdout",
     "output_type": "stream",
     "text": [
      "Calculated value of π: 3.1556\n",
      "Value of π from math library: 3.141592653589793\n",
      "Difference: 0.014007346410207067\n"
     ]
    }
   ],
   "source": [
    "# Peer review\n",
    "\n",
    "from random import random\n",
    "# from math import pi\n",
    "import math\n",
    "anzahl = 10000\n",
    "liste = []\n",
    "for n in range(anzahl):\n",
    "    tup = [random(), random()]\n",
    "    liste += [tup]\n",
    "\n",
    "wert = 0\n",
    "for tup in liste:\n",
    "    x = tup[0]\n",
    "    y = tup[1]\n",
    "    # print(\"x=\", x, \"y=\", y)\n",
    "    if (x*x + y*y < 1):\n",
    "        wert += 1\n",
    "# print(\"Anzahl:\", anzahl)\n",
    "# print(\"Wert=\", wert)\n",
    "# print(\"Verhältnis=\", wert/anzahl)\n",
    "pi_calc = wert/anzahl * 4\n",
    "print(\"Calculated value of π:\", pi_calc)\n",
    "print(\"Value of π from math library:\", math.pi)\n",
    "print(\"Difference:\", pi_calc-math.pi)"
   ]
  },
  {
   "cell_type": "markdown",
   "id": "7fbf383e-81b5-4677-b422-c8f0a08570dc",
   "metadata": {},
   "source": [
    "Review: \n",
    "\n",
    "Code passes the functional tests. Only issue is with the parens on line 14 which was deemed unnecessary"
   ]
  },
  {
   "cell_type": "code",
   "execution_count": 5,
   "id": "51b772fb-14c6-4c0b-844e-9659a58e0e16",
   "metadata": {},
   "outputs": [
    {
     "name": "stdout",
     "output_type": "stream",
     "text": [
      "Calculated value of π: 3.144\n",
      "Value of π from math library: 3.141592653589793\n",
      "Difference:  0.002407346410207012\n"
     ]
    }
   ],
   "source": [
    "# Peer Review 2\n",
    "\n",
    "import math\n",
    "import random\n",
    "\n",
    "listx = []\n",
    "listy = []\n",
    "count = 0\n",
    "\n",
    "for i in range(10000):\n",
    "    listx.append(random.uniform(0, 1))\n",
    "    listy.append(random.uniform(0, 1))\n",
    "\n",
    "for j in range(10000):\n",
    "    if math.pow(listx[j], 2)+math.pow(listy[j], 2) < 1:\n",
    "        count += 1\n",
    "\n",
    "out = (4*count)/10000\n",
    "\n",
    "print(\"Calculated value of π:\", out)\n",
    "print(\"Value of π from math library:\", math.pi)\n",
    "print(\"Difference: \", out - math.pi)"
   ]
  },
  {
   "cell_type": "markdown",
   "id": "0cc2594f-c97f-4054-a669-95c3b38be1ce",
   "metadata": {},
   "source": [
    "Review: \n",
    "\n",
    "The random variable is not used on a global state. It should not seat in a loop"
   ]
  }
 ],
 "metadata": {
  "kernelspec": {
   "display_name": "Python 3 (ipykernel)",
   "language": "python",
   "name": "python3"
  },
  "language_info": {
   "codemirror_mode": {
    "name": "ipython",
    "version": 3
   },
   "file_extension": ".py",
   "mimetype": "text/x-python",
   "name": "python",
   "nbconvert_exporter": "python",
   "pygments_lexer": "ipython3",
   "version": "3.10.2"
  }
 },
 "nbformat": 4,
 "nbformat_minor": 5
}
