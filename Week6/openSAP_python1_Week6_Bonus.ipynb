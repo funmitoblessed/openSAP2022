{
 "cells": [
  {
   "cell_type": "markdown",
   "id": "0c032289-d98d-4af0-a6e2-3afee0c0d06f",
   "metadata": {},
   "source": [
    "# Bonus Exercise Week 6"
   ]
  },
  {
   "attachments": {
    "05ef22c8-8e1d-4a1c-8d20-305e0a41a575.png": {
     "image/png": "[encoded data removed]"
    },
    "f2f64d9d-877f-4537-96d1-d0afd953295a.png": {
     "image/png": "[encoded data removed]"
    }
   },
   "cell_type": "markdown",
   "id": "02bb88d0-db7d-449e-a57c-553ee9843d5d",
   "metadata": {},
   "source": [
    "### Instructions:\n",
    "    \n",
    "**Compute π using a random number generator**\n",
    "\n",
    "The number *π (Pi)* can be calculated using random numbers. Suppose you have a circle with radius 1 which is inscribed in a square with a side length of 2 (see figure below). Then the square has an area of *4 (2 * 2)* and the circle has an area of *π (r = 1, thus π * r² = π)*.\n",
    "\n",
    "![image.png](attachment:f2f64d9d-877f-4537-96d1-d0afd953295a.png)\n",
    "\n",
    "If thousands of points are randomly created within the square, then some points are inside the square *and* inside the circle, others are inside the square and *not* inside the circle. The situation can be simplified if you just consider the upper right quadrant of the above figure. This square has a side length of 1. Each point within the square can be described by the coordinates *x* and *y* where *(0 < x, y < 1)*. If *x² + y² < 1*, then a point specified by *(x, y)* lies within the circle.\n",
    "\n",
    "![image.png](attachment:05ef22c8-8e1d-4a1c-8d20-305e0a41a575.png)\n",
    "\n",
    "As the relation between the sizes of circle and square is *π/4*, the relation between the points in the circle and the points in the square must be *π/4* as well. Using this formula, one can now use a random number generator to calculate *π*.\n",
    "\n",
    "**Your Task**\n",
    "\n",
    "Using the library `random` create 10,000 random points inside the square. That means generate 10,000 random pairs of values for x and y. The random value must be between 0 and 1 in order for a point to be inside the square. For each point check if *x² + y² is < 1*. If this is the case, then the point is within the circle. Count the total number of points and the points which are in the circle. Use these numbers to calculate *π* Finally compare your calculated value of *π* with the value of *π* found in the `math` library. Do this by printing the calculated value of *π*, the value from the `math` library as well as the difference.\n",
    "\n",
    "Below is an example execution of the program. Note that your values might be different.\n",
    "\n",
    "```\n",
    "Calculated value of π: 3.1396\n",
    "Value of π from math library: 3.141592653589793\n",
    "Difference: -0.0019926535897929476\n",
    "```\n",
    "\n",
    "**Additional Challenge**\n",
    "\n",
    "Can you solve the bonus exercise without a for loop using list comprehension?"
   ]
  }
 ],
 "metadata": {
  "kernelspec": {
   "display_name": "Python 3 (ipykernel)",
   "language": "python",
   "name": "python3"
  },
  "language_info": {
   "codemirror_mode": {
    "name": "ipython",
    "version": 3
   },
   "file_extension": ".py",
   "mimetype": "text/x-python",
   "name": "python",
   "nbconvert_exporter": "python",
   "pygments_lexer": "ipython3",
   "version": "3.10.2"
  }
 },
 "nbformat": 4,
 "nbformat_minor": 5
}
