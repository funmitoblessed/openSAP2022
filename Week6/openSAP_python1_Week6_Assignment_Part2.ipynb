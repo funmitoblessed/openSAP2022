{
 "cells": [
  {
   "cell_type": "markdown",
   "id": "3a51764f-d7c7-4de3-8cde-abcbe0cc3bcb",
   "metadata": {},
   "source": [
    "# Assignment Week 6 (Part 2 - Exercise)"
   ]
  },
  {
   "cell_type": "markdown",
   "id": "577dd037-9568-4965-962b-1bcae5ca4f10",
   "metadata": {},
   "source": [
    "### Instructions:\n",
    "\n",
    "**Accessing the [Apple iTunes Search Service](https://developer.apple.com/library/archive/documentation/AudioVideo/Conceptual/iTuneSearchAPI/Searching.html)**\n",
    "\n",
    "In this assignment you are going to build a Python program to access the Apple iTunes Search Service. This service can be used to search information about musicians, albums, songs and so on.\n",
    "\n",
    "Using the following URL, a search for the term ramones and for the entity type album is performed: https://itunes.apple.com/search?term=ramones&entity=album\n",
    "\n",
    "Other possible entity types are musicArtist, musicTrack or song. Below is an (abbreviated) example result of the service:\n",
    "\n",
    "```\n",
    "{\n",
    "\"resultCount\": 1,\n",
    "\"results\": [\n",
    "    {\n",
    "    \"wrapperType\": \"collection\",\n",
    "    \"collectionType\": \"Album\",\n",
    "    \"artistId\": 60715,\n",
    "    \"amgArtistId\": 5223,\n",
    "    \"artistName\": \"Ramones\",\n",
    "    \"collectionName\": \"Ramones\",\n",
    "    \"collectionPrice\": 9.99,\n",
    "    \"collectionExplicitness\": \"notExplicit\",\n",
    "    \"trackCount\": 14,\n",
    "    \"copyright\": \"℗ 1976 Sire Records. Marketed by Rhino Entertainment Company, a Warner Music Group Company.\",\n",
    "    \"country\": \"USA\",\n",
    "    \"currency\": \"USD\",\n",
    "    \"releaseDate\": \"1976-04-23T08:00:00Z\",\n",
    "    \"primaryGenreName\": \"Punk\"\n",
    "    }\n",
    "]\n",
    "}\n",
    "```\n",
    "\n",
    "The response in the example above consists of one result (`resultCount` is 1). This result is the album \"Ramones\" (element `collectionName`) by the artist \"Ramones\" (element `artistName`). The response is in [JSON](https://en.wikipedia.org/wiki/JSON) format.\n",
    "\n",
    "The [Requests](https://docs.python-requests.org/en/latest/) library can be used to invoke the Apple iTunes Search Service. In order to perform a search a [GET request](https://en.wikipedia.org/wiki/Hypertext_Transfer_Protocol#Request_methods) needs to be performed. This is done using the `get()` function of the Requests library. After that, the method `json()` of the Requests library can be used to map the response from [JSON](https://en.wikipedia.org/wiki/JSON) to the Python 🐍 data types `dict` and `list`.\n",
    "\n",
    "**Assignment**\n",
    "\n",
    "Write a program that asks the user for a search term. Perform a search using the iTunes search service for the entity type album. The program should then print how many search results where returned. For each result print the artist name, the album name and track count.\n",
    "\n",
    "Below is an example execution of the program. Note that the output is abbreviated.\n",
    "\n",
    "```\n",
    "Please enter a search term: cash\n",
    "The search returned 50 results.\n",
    "Artist: Luke Bryan - Album: Crash My Party - Track Count: 13\n",
    "Artist: Johnny Cash - Album: The Essential Johnny Cash - Track Count: 36\n",
    "Artist: Dave Matthews Band - Album: Crash - Track Count: 12\n",
    "```\n",
    "\n",
    "**Hints**\n",
    "\n",
    "1. In Code Ocean it is not possible to access the iTunes search API. Therefore you should write and test your program on your own computer e.g. in a Jupyter notebook.\n",
    "2. Our tests in Code Ocean use a [mock object](https://en.wikipedia.org/wiki/Mock_object) to check your program. Therefore only the `get()` function and the `json()` method are supported. All other functions and methods of the Requests library will not work."
   ]
  }
 ],
 "metadata": {
  "kernelspec": {
   "display_name": "",
   "name": ""
  },
  "language_info": {
   "name": ""
  }
 },
 "nbformat": 4,
 "nbformat_minor": 5
}
