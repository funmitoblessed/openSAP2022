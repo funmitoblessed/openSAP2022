{
 "cells": [
  {
   "cell_type": "markdown",
   "metadata": {},
   "source": [
    "# Examples of non-standard libraries\n",
    "\n",
    "There are many popular libraries which are not part of the default Python installation. You learned how to find and\n",
    "install them in the previous unit. Now a few libraries are presented. Note that this unit will not give \n",
    "a complete introduction in any of these libraries. Instead the goal of this unit is to give an overview \n",
    "of the large variety of available libraries. \n",
    "\n",
    "\n",
    "## [requests](https://docs.python-requests.org/en/latest/) - HTTP for Humans\n",
    "\n",
    "Using the `requests` library, you can connect to web servers and fetch their content.\n",
    "The [Quickstart Guide](https://docs.python-requests.org/en/latest/user/quickstart/)\n",
    "contains examples on how to use it and what you can do with it."
   ]
  },
  {
   "cell_type": "code",
   "execution_count": 1,
   "metadata": {},
   "outputs": [
    {
     "name": "stdout",
     "output_type": "stream",
     "text": [
      "The word 'Python' is used 1387 times in its Wikipedia entry!\n"
     ]
    }
   ],
   "source": [
    "import requests\n",
    "\n",
    "r = requests.get(\"https://en.wikipedia.org/wiki/Python_(programming_language)\")\n",
    "print(\n",
    "    f\"The word 'Python' is used {r.text.count('Python')} times in its Wikipedia entry!\"\n",
    ")"
   ]
  },
  {
   "cell_type": "markdown",
   "metadata": {},
   "source": [
    "## [BeautifulSoup](https://www.crummy.com/software/BeautifulSoup/bs4/doc/) - Analyzing Webpages\n",
    "\n",
    "BeautifulSoup is a library which perfectly complements requests, the library just introduced. Whereas requests offers the possibility to download webpages, BeautifulSoup supports the analysis of these webpages. (Actually, the name *BeautifulSoup* goes back to syntactically incorrect webpages containing just a \"soup of tags\"). \n",
    "\n",
    "In the following cell, the web-page from [The Guardian](https://www.theguardian.com) is first downloaded with `request.get()`. The content is then analyzed using `BeautifulSoup()`. With the help of the method `.find_all()` all headings of type `h3` are then listed and printed out."
   ]
  },
  {
   "cell_type": "code",
   "execution_count": 2,
   "metadata": {},
   "outputs": [
    {
     "name": "stdout",
     "output_type": "stream",
     "text": [
      "Live  Russia-Ukraine war: Russia has ‘completely destroyed’ Donbas and turned region into ‘hell’, says Zelenskiy \n",
      "Live  Russia-Ukraine war: Russia has ‘completely destroyed’ Donbas and turned region into ‘hell’, says Zelenskiy \n",
      "Supply crisis  US accuses Russia of weaponising food and holding global supplies ‘hostage’ \n",
      "Supply crisis  US accuses Russia of weaponising food and holding global supplies ‘hostage’ \n",
      "Vladimir Putin  Daughter flew to Munich ‘more than 50 times’ in two years, leaks reveal \n",
      "Vladimir Putin  Daughter flew to Munich ‘more than 50 times’ in two years, leaks reveal \n",
      "At a glance  What we know on day 86 of the invasion \n",
      "At a glance  What we know on day 86 of the invasion \n",
      "Exclusive   Pete Buttigieg says US backs new Marshall plan to rebuild Ukraine \n",
      "‘Now we get hit too’  Belgorod, the Russian city on the Ukraine frontline \n",
      "Ukraine  Zelenskiy compares Russian laser threat to nonexistent Nazi ‘wonder weapon’ \n",
      "Germany  Gerhard Schröder to be stripped of privileges for not cutting ties with Russia \n",
      "Australian election  Voters to go to polls in battle of ‘bulldozer’ and ‘builder’ \n",
      "Partygate  Name ministers fined, Dominic Raab urges Sue Gray \n",
      "Coronavirus   North Korea’s caseload passes 2 million amid global concern about pandemic plan \n",
      "Northern Ireland  US delegation arrives in Europe for talks on Northern Ireland and Brexit \n",
      "Alexandria Ocasio-Cortez  Congresswoman gets engaged to longtime partner Riley Roberts \n",
      "US  FBI failing to address white supremacist violence, warns former special agent \n",
      "'Greatest respect for you'  Tucker Carlson tried to use Hunter Biden to get son into Georgetown \n",
      "Spain  Country braces for heat wave of ‘extraordinary intensity’ \n",
      "Why the long face?   Artist pilloried after creating half-horse, half-man sculpture \n",
      "The plop thickens  Stonehenge builders feasted on undercooked offal, ancient faeces reveals \n",
      "‘We can forgive even bad fathers’  Mia Hansen-Løve on making a movie haunted by Ingmar Bergman \n",
      "You be the judge  Should my husband stop dusting with a dry cloth? \n",
      "‘It was a crazy thing to do’  Alex Camilleri on how he made ordinary fishers the stars of Luzzu \n",
      "‘I wish I was very good-looking and very stupid’  Director Terence Davies on sex, death and Benediction \n",
      "Venezuela  Maduro glimpses political lifeline as US rethinks its policy \n",
      "Ranked  Fleetwood Mac’s 30 greatest songs  \n",
      "‘Each little thing in my life is precious’  Ken Watanabe on cancer, childhood and Hollywood cliches \n",
      "The shaming of Whitehall  How the Partygate scandal unfolded \n",
      "  \n",
      "\n",
      "\n",
      "  Boris Johnson and I agreed on Northern Ireland. What happened to that good faith?  \n",
      "  \n",
      "\n",
      "\n",
      "  Boris Johnson’s obesity U-turn is a total Eton mess \n",
      "  \n",
      "\n",
      "\n",
      "  New Zealand budget might disappoint left but could help Labour win re-election \n",
      "  \n",
      "\n",
      "\n",
      "  Jake Daniels can inspire next generation of footballers to be whoever they are \n",
      "  \n",
      "\n",
      "\n",
      "  Linkedin is a place full of polite people being nice to you - so why am I drawn to the war zone that is Twitter? \n",
      "  \n",
      "\n",
      "\n",
      "  Trump claims immigrants are voting illegally. The real problem is foreign fat cats funding US campaigns \n",
      "Premier League  10 things to look out for on final day of the season \n",
      "Golf  McIlroy leads US PGA after first round as Woods struggles with leg pain \n",
      "Everton 3-2 Crystal Palace  Lampard revels in 'best moment' after great escape \n",
      "French Open  Djokovic may face Nadal in quarters, Raducanu draws qualifier \n",
      "Draymond Green  Basketball’s biggest troll and the Warriors’ heart and soul \n",
      "Chess  Carlsen goes head to head with Ding Liren as world top two meet  \n",
      "  \n",
      "\n",
      "\n",
      "  Daniels can inspire next generation of footballers to be whoever they are \n",
      "Commonwealth Games  Perry in Australia’s cricket squad but may bat only \n",
      "Pollution  Environmental toxins are worsening obesity pandemic, say scientists \n",
      "'It was so upsetting'  Suicides indicate wave of ‘doomerism’ over escalating climate crisis \n",
      "Our unequal earth  More than 3,000 potentially harmful chemicals found in food packaging \n",
      "Global heating  Extreme Indian heatwaves 100 times more likely – study \n",
      "Canada  Premier abruptly quits amid surge in far-right influences \n",
      "Exclusive  Environmental toxins are worsening obesity pandemic, say scientists \n",
      "5G  Canada to ban Huawei and ZTE, risking China tensions \n",
      "Budapest  Viktor Orbán tells CPAC the path to power is to ‘have your own media’ \n",
      "Live  Business: Bank of England chief economist says further interest rate rises need to cool inflation \n",
      "Financial sector  City scheme aims to close class pay gap \n",
      "Rihanna  Pop star and A$AP Rocky welcome their first child – report \n",
      "Sri Lanka  Crisis fears as country defaults on debts for first time  \n",
      "January 6  Evidence suggests members led ‘reconnaissance tours’ before attack \n",
      "Oklahoma  Republican-led legislature passes nation’s strictest abortion ban  \n",
      "Night Sky review  Sissy Spacek and JK Simmons need their own eight-hour show \n",
      "Book of the day  Time Shelter by Georgi Gospodinov review – the dangers of dwelling in the past \n",
      "Prehistoric Planet  Attenborough series sinks teeth into fruits of ‘dinosaur revolution’ \n",
      "Film  One Fine Morning review – Léa Seydoux sparkles in poignant drama \n",
      "Music  Cave In: Heavy Pendulum review – an unapologetically fierce beast \n",
      "Global album of the month  Auntie Flo & Sarathy Korwar: Shruti Dances review – India meets Ibiza \n",
      "‘Some things can’t be repaired’  How do you recover when a friend betrays you? \n",
      "'Not waterproof’  Gucci £1,300 umbrella mocked in China  \n",
      "‘How is that a real job?’   Parents struggle to keep up with children’s career options \n",
      "Dining across the divide  \n",
      "\n",
      "\n",
      "  I found myself considering my life in a way I haven’t before \n",
      "‘Really cool, day or night’  Readers’ top modern European architecture \n",
      "Watch  Why bike lanes don't make traffic worse \n",
      "Abortion  El Salvador’s jailed women offer US glimpse of post-Roe future \n",
      "Seth Meyers on Madison Cawthorn’s loss  \n",
      "\n",
      "\n",
      "  A rare treat to watch Republicans tear each other apart \n",
      "‘I’m not blond’  Afghan surgeon who fled Ukraine says he was treated differently at Polish border \n",
      "‘A catastrophic failure’  Computer scientist Hany Farid on why violent videos circulate on the internet \n",
      "‘Think you can do what you want with your body?’  Vintage pro-choice ads  \n",
      "‘This can’t be real’  Grubhub promotion turns New York City restaurants into a ‘war zone’ \n",
      "Finland and Sweden  How do you feel about your countries and Nato membership? \n",
      "Russians  Tell us what the mood is like in your country \n",
      "Tell us  How have you been affected by the situation in Ukraine? \n",
      "Get in touch  Share a story with the Guardian \n",
      "Mariupol  Rain of munition cascades on to Azovstal steelworks \n",
      "'Any victory is important'  Ukraine wins Eurovision 2022 \n",
      "'Half of America deprived of hope'  Thousands rally for abortion rights across the US \n",
      "'Historic day'  Finland's leaders confirm intention to join Nato \n",
      "Palestinian territories  Israeli police ​attack funeral procession of killed journalist Shireen Abu Aqleh \n",
      "Philippines  Protests erupt as son of late dictator wins presidency \n",
      "Putin's Russia  From KGB agent to Kremlin operator  \n",
      "‘They want to destroy our culture’  Russian strike hits museum in Ukrainian town \n",
      "Made in London  Solidarity Britannia \n",
      "Photography  Contemporary African Photography prize – a shortlist selection \n",
      "Environment  The week in wildlife \n",
      "Flags, floods and flamingos  Thursday’s best photos \n",
      "Science  Milky Way photographer of the year 2022 \n",
      "Wednesday’s best photos  Cannes, floods and a penguin chick \n",
      "Climate crisis  Heatwave in south Asia \n",
      "  Putin’s daughter flew to Munich ‘more than 50 times’ in two years, leaks reveal \n",
      "  Spain braces for heatwave of ‘extraordinary intensity’ \n",
      "  US accuses Russia of weaponising food in Ukraine crisis and holding global supplies ‘hostage’ \n",
      "Live  Russia-Ukraine war: Russia has ‘completely destroyed’ Donbas and turned region into ‘hell’, says Zelenskiy – live \n",
      "  ‘Now we get hit too’: Belgorod, the Russian city on the Ukraine frontline \n",
      "  Zelenskiy compares Russian laser threat to nonexistent Nazi ‘wonder weapon’ \n",
      "  Gerhard Schröder to be stripped of privileges for not cutting ties with Russia \n",
      "  North Korea’s Covid caseload passes 2 million amid global concern about regime’s pandemic plan \n",
      "  Pete Buttigieg says US backs new Marshall plan to rebuild Ukraine \n",
      "  Russian soldier asks Ukrainian widow to forgive him during first war crimes trial \n"
     ]
    }
   ],
   "source": [
    "import requests\n",
    "from bs4 import BeautifulSoup\n",
    "\n",
    "r = requests.get(\"http://www.theguardian.com\")\n",
    "soup = BeautifulSoup(r.text)\n",
    "\n",
    "for title in soup.find_all(\"h3\"):\n",
    "    print(title.text)"
   ]
  },
  {
   "cell_type": "markdown",
   "metadata": {},
   "source": [
    "## [tkinter](https://docs.python.org/3/library/tkinter.html) - Python interface to Tcl/Tk\n",
    "\n",
    "With `tkinter` you can create a graphical user interface (*GUI*) to extend your program. The\n",
    "[documentation](https://tkdocs.com/index.html) offers a detailed description how to start and how to use it. In the\n",
    "example below, a very basic program is shown to create a window containing a text and a button to close it."
   ]
  },
  {
   "cell_type": "code",
   "execution_count": 3,
   "metadata": {},
   "outputs": [
    {
     "name": "stdout",
     "output_type": "stream",
     "text": [
      "Button was pressed\n",
      "Button was pressed\n"
     ]
    }
   ],
   "source": [
    "from tkinter import *\n",
    " \n",
    "window = Tk()\n",
    "window.title(\"GUI created with tkinter\")\n",
    "window.geometry(\"400x300\")\n",
    "\n",
    "def function_button_1():\n",
    "    print(\"Button was pressed\")\n",
    "    \n",
    "def function_button_2():\n",
    "    window.destroy()\n",
    "\n",
    "btn_1 = Button(window, \n",
    "             text=\"This is a Button\", \n",
    "             background = \"yellow\", \n",
    "             command = function_button_1)\n",
    "btn_1.grid(column=0, row=1)\n",
    "\n",
    "btn_2 = Button(window, \n",
    "             text=\"Quit\", \n",
    "             background = \"red\", \n",
    "             command = function_button_2)\n",
    "btn_2.grid(column=1, row=1)\n",
    "             \n",
    "window.mainloop()"
   ]
  },
  {
   "cell_type": "markdown",
   "metadata": {},
   "source": [
    "## Working with large data sets\n",
    "\n",
    "### [Pandas](https://pandas.pydata.org/) - Python Data Analysis Library\n",
    "\n",
    "The Python module `pandas` can be used to process data sets, which size is only limited by the memory of your computer.\n",
    "It provides methods and functions to analyze and visualize these data sets. \n",
    "\n",
    "In the next cells, you can see some brief basic usage examples how to use `pandas`. The data used in this example\n",
    "contains angular rate and acceleration measurements from an IMU *(Intertial Measuremnt Unit)* which \n",
    "was sampled with 1 kHz (1.000 measurements per second).\n",
    "\n",
    "With `head(`*`x`*`)` and `tail(`*`x`*`)`, you can return the first/last *x* lines of your data."
   ]
  },
  {
   "cell_type": "code",
   "execution_count": 4,
   "metadata": {},
   "outputs": [
    {
     "name": "stdout",
     "output_type": "stream",
     "text": [
      "<class 'pandas.core.frame.DataFrame'>\n",
      "RangeIndex: 100000 entries, 0 to 99999\n",
      "Data columns (total 6 columns):\n",
      " #   Column           Non-Null Count   Dtype  \n",
      "---  ------           --------------   -----  \n",
      " 0   X_GYRO (32 bit)  100000 non-null  float64\n",
      " 1   Y_GYRO (32 bit)  100000 non-null  float64\n",
      " 2   Z_GYRO (32 bit)  100000 non-null  float64\n",
      " 3   X_ACCL (32 bit)  100000 non-null  float64\n",
      " 4   Y_ACCL (32 bit)  100000 non-null  float64\n",
      " 5   Z_ACCL (32 bit)  100000 non-null  float64\n",
      "dtypes: float64(6)\n",
      "memory usage: 4.6 MB\n",
      "None\n",
      "   X_GYRO (32 bit)  Y_GYRO (32 bit)  Z_GYRO (32 bit)  X_ACCL (32 bit)  \\\n",
      "0        -0.153669         0.135971         0.012654        -0.014472   \n",
      "1        -0.151507        -0.060998         0.032467        -0.012555   \n",
      "\n",
      "   Y_ACCL (32 bit)  Z_ACCL (32 bit)  \n",
      "0        -0.008335         1.000984  \n",
      "1        -0.010355         1.002156  \n"
     ]
    }
   ],
   "source": [
    "import pandas as pd\n",
    "\n",
    "dataframe = pd.read_csv(\"gyro_accel.csv\", sep=\";\")\n",
    "\n",
    "print(dataframe.info())\n",
    "\n",
    "print(dataframe.head(2))"
   ]
  },
  {
   "cell_type": "markdown",
   "metadata": {},
   "source": [
    "Or you can just select and print one specific column of your data:"
   ]
  },
  {
   "cell_type": "code",
   "execution_count": 5,
   "metadata": {},
   "outputs": [
    {
     "name": "stdout",
     "output_type": "stream",
     "text": [
      "0        1.000984\n",
      "1        1.002156\n",
      "2        1.003313\n",
      "3        1.002596\n",
      "4        1.003230\n",
      "           ...   \n",
      "99995    1.003572\n",
      "99996    1.002047\n",
      "99997    1.002171\n",
      "99998    1.002084\n",
      "99999    1.002361\n",
      "Name: Z_ACCL (32 bit), Length: 100000, dtype: float64\n"
     ]
    }
   ],
   "source": [
    "print(dataframe[\"Z_ACCL (32 bit)\"])"
   ]
  },
  {
   "cell_type": "markdown",
   "metadata": {},
   "source": [
    "You could calculate the mean value of your columns iterating through your data yourself, but with `pandas`, this takes\n",
    "just one function call:"
   ]
  },
  {
   "cell_type": "code",
   "execution_count": 6,
   "metadata": {},
   "outputs": [
    {
     "name": "stdout",
     "output_type": "stream",
     "text": [
      "X_GYRO (32 bit)   -0.158268\n",
      "Y_GYRO (32 bit)   -0.002482\n",
      "Z_GYRO (32 bit)   -0.032981\n",
      "X_ACCL (32 bit)   -0.013359\n",
      "Y_ACCL (32 bit)   -0.009486\n",
      "Z_ACCL (32 bit)    1.001941\n",
      "dtype: float64\n"
     ]
    }
   ],
   "source": [
    "mean_values = dataframe.mean()\n",
    "print(mean_values)"
   ]
  },
  {
   "cell_type": "markdown",
   "metadata": {},
   "source": [
    "## [Matplotlib](https://matplotlib.org/) - Visualization with Python\n",
    "\n",
    "With `matplotlib` you can create graphs to visualize your data. It works seamlessly with `pandas`\n",
    "and is set as a default library for plotting graphs in pandas. Have a look at the next cell to see an example visualizing\n",
    "the angular rate with a dashed line indicating the mean value."
   ]
  },
  {
   "cell_type": "code",
   "execution_count": 7,
   "metadata": {},
   "outputs": [
    {
     "data": {
      "image/png": "[encoded data removed]",
      "text/plain": [
       "<Figure size 864x432 with 1 Axes>"
      ]
     },
     "metadata": {
      "needs_background": "light"
     },
     "output_type": "display_data"
    }
   ],
   "source": [
    "import matplotlib.pyplot as plt\n",
    "\n",
    "# set plot size for good visibility\n",
    "plt.figure(figsize=(12, 6))\n",
    "\n",
    "dataframe[\"Z_GYRO (32 bit)\"].plot(color=\"blue\")\n",
    "\n",
    "# plot mean line for z_gyro values and show plot\n",
    "plt.axhline(y=mean_values[2], color=\"red\", linewidth=2, linestyle=\"--\")\n",
    "plt.show()"
   ]
  },
  {
   "cell_type": "markdown",
   "metadata": {},
   "source": [
    "Of course, it is also possible to use `matplotlib` directly. in the following cell a large number of normally \n",
    "distribute values are generated. These values are then displayed using a histogram."
   ]
  },
  {
   "cell_type": "code",
   "execution_count": 8,
   "metadata": {},
   "outputs": [
    {
     "name": "stdout",
     "output_type": "stream",
     "text": [
      "[135.0171103618879, 100.62153991178285, 121.20223990270614, 103.45794256915403, 103.54990539616861, 86.84109913311886, 88.57783984913489, 126.05339188285518, 93.44690347839226, 153.19296920202814]\n"
     ]
    },
    {
     "data": {
      "image/png": "[encoded data removed]",
      "text/plain": [
       "<Figure size 432x288 with 1 Axes>"
      ]
     },
     "metadata": {
      "needs_background": "light"
     },
     "output_type": "display_data"
    }
   ],
   "source": [
    "import random\n",
    "import matplotlib.pyplot as plt\n",
    "\n",
    "random_values = []\n",
    "for _ in range(100000):\n",
    "    random_values.append(random.gauss(mu=100, sigma=20))\n",
    "\n",
    "print(random_values[:10])\n",
    "\n",
    "plt.hist(random_values, bins=500, alpha=0.5)\n",
    "plt.ylabel(\"count\")\n",
    "plt.grid(True)"
   ]
  },
  {
   "cell_type": "markdown",
   "metadata": {},
   "source": [
    "# Self Test"
   ]
  },
  {
   "cell_type": "markdown",
   "metadata": {},
   "source": [
    "### Question 1\n",
    "`2.0 Pts`\n",
    "\n",
    "Which of the following statements about tkinter are correct?\n",
    "\n",
    "*Note: There are 3 correct answers to this question.*\n",
    "\n",
    "tkinter is the only Python library to implement GUIs (graphical user interfaces).\n",
    "\n",
    "tkinter is an interface to Tcl/Tk which enables the implementation of GUIs (graphical user interfaces) in other programming languages. `correct`\n",
    "\n",
    "tkinter enables the creation of buttons, scrollbars, checkboxes, and so on. `correct`\n",
    "\n",
    "tkinter offers the possibility to implement GUIs (graphical user interfaces).`correct`\n",
    "\n",
    "tkinter is well suited to implement video games."
   ]
  }
 ],
 "metadata": {
  "interpreter": {
   "hash": "b89b5cfaba6639976dc87ff2fec6d58faec662063367e2c229c520fe71072417"
  },
  "kernelspec": {
   "display_name": "Python 3 (ipykernel)",
   "language": "python",
   "name": "python3"
  },
  "language_info": {
   "codemirror_mode": {
    "name": "ipython",
    "version": 3
   },
   "file_extension": ".py",
   "mimetype": "text/x-python",
   "name": "python",
   "nbconvert_exporter": "python",
   "pygments_lexer": "ipython3",
   "version": "3.10.2"
  }
 },
 "nbformat": 4,
 "nbformat_minor": 4
}
