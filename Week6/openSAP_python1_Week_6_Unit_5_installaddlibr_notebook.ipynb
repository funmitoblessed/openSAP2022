{
 "cells": [
  {
   "cell_type": "markdown",
   "metadata": {},
   "source": [
    "# Finding more libraries for specific purposes\n",
    "\n",
    "Now that you know some common libraries, you might want to know how to use more libraries for your own\n",
    "code or projects. There may be some libraries pre-installed on your OS, but most of the available libraries will not be\n",
    "on your computer.  \n",
    "Here are some hints where you can look for libraries:\n",
    "\n",
    "- [20 Great Python Libraries You Must Know](https://blog.stoneriverelearning.com/20-great-python-libraries-you-must-know/)\n",
    "- [The 30 Best Python Libraries and Packages for Beginners](https://www.ubuntupit.com/best-python-libraries-and-packages-for-beginners/)\n",
    "- [The Python Package Index (PyPI)](https://pypi.org/)\n",
    "- A search engine of your choice. Works best with a precise search term, e.g.\n",
    "  [*python library for gui*](https://www.ecosia.org/search?q=python+library+for+gui)\n",
    "\n",
    "When looking for libraries in the PyPI, you can either search for a specific name or [browse](https://pypi.org/search/)\n",
    "all packages and filter by categories. To see packages for (grahpical) user interfaces for example you can filter by\n",
    "*Topic* and select *Software Development* -> *User Interfaces*.\n",
    "\n",
    "\n",
    "# [Installing](https://packaging.python.org/en/latest/guides/tool-recommendations/#installation-tool-recommendations) additional libraries - [pip](https://pip.pypa.io/en/stable/)\n",
    "\n",
    "The package **pip** (***p**ip **i**nstalls **p**ackages*) can be used to install packages from package indices like the\n",
    "*Python Package Index* mentioned before. Using the command\n",
    "\n",
    "> pip install *package_name*\n",
    "\n",
    "you can install any package from any indices and use it in your programs."
   ]
  },
  {
   "cell_type": "markdown",
   "metadata": {},
   "source": [
    "# Self Test"
   ]
  },
  {
   "cell_type": "markdown",
   "metadata": {},
   "source": [
    "### Question 1\n",
    "`2.0 Pts`\n",
    "\n",
    "Which of the following statements about the `pip` command are correct?\n",
    "\n",
    "*Note: There are 3 correct answers to this question.*\n",
    "\n",
    "`pip` can only be executed by a system administrator\n",
    "\n",
    "`pip` is an abbreviation for \"Pip installs packages” `correct`\n",
    "\n",
    "`pip` ensures the consistency of all installed packages. If, for example, you want to install library A which requires library B, then B is automatically installed as well. `correct`\n",
    "\n",
    "The `pip` command is usually executed in the cmd-shell or in a terminal. `correct`\n",
    "\n",
    "`pip` downloads the packages from Google's Play Store"
   ]
  },
  {
   "cell_type": "markdown",
   "metadata": {},
   "source": [
    "# Unit 5: Exercise"
   ]
  },
  {
   "cell_type": "markdown",
   "metadata": {},
   "source": [
    "The non-standard library [py-sudoku](https://pypi.org/project/py-sudoku/) offers the possibility to create your own sudokus.\n",
    "\n",
    "Follow the above link and have a look how to install and use the library. Install the library and create a new sudoku with a difficulty of 0.7.\n",
    "\n",
    "Display the sudoku and the solution of the sudoku.\n",
    "\n",
    "**Hint**\n",
    "\n",
    "In CodeOcean we already installed the library for you. You only need to install the library on your local computer."
   ]
  },
  {
   "cell_type": "code",
   "execution_count": 1,
   "metadata": {},
   "outputs": [],
   "source": [
    "# import sudoku\n",
    "\n",
    "from sudoku import Sudoku"
   ]
  },
  {
   "cell_type": "code",
   "execution_count": 2,
   "metadata": {},
   "outputs": [
    {
     "name": "stdout",
     "output_type": "stream",
     "text": [
      "+-------+-------+-------+\n",
      "| 8     | 2     |   1   |\n",
      "|   5 7 | 1 3   |   2   |\n",
      "| 2     |       | 4     |\n",
      "+-------+-------+-------+\n",
      "|     8 |       |       |\n",
      "|       |   8 2 | 5   4 |\n",
      "|       |       |   8   |\n",
      "+-------+-------+-------+\n",
      "| 7 2   |       |   3 1 |\n",
      "|       |   2 3 | 7     |\n",
      "|     3 |       | 2     |\n",
      "+-------+-------+-------+\n",
      "\n"
     ]
    }
   ],
   "source": [
    "# Initializes a Sudoku puzzle with 3 x 3 sub-grid and\n",
    "# generates a puzzle with half of the cells empty\n",
    "puzzle = Sudoku(3).difficulty(0.7)\n",
    "puzzle.show()"
   ]
  },
  {
   "cell_type": "code",
   "execution_count": 3,
   "metadata": {},
   "outputs": [
    {
     "name": "stdout",
     "output_type": "stream",
     "text": [
      "+-------+-------+-------+\n",
      "| 8 3 4 | 2 7 9 | 6 1 5 |\n",
      "| 6 5 7 | 1 3 4 | 8 2 9 |\n",
      "| 2 1 9 | 6 5 8 | 4 7 3 |\n",
      "+-------+-------+-------+\n",
      "| 3 4 8 | 5 9 7 | 1 6 2 |\n",
      "| 1 7 6 | 3 8 2 | 5 9 4 |\n",
      "| 5 9 2 | 4 6 1 | 3 8 7 |\n",
      "+-------+-------+-------+\n",
      "| 7 2 5 | 8 4 6 | 9 3 1 |\n",
      "| 4 6 1 | 9 2 3 | 7 5 8 |\n",
      "| 9 8 3 | 7 1 5 | 2 4 6 |\n",
      "+-------+-------+-------+\n",
      "\n"
     ]
    }
   ],
   "source": [
    "solution = puzzle.solve()\n",
    "\n",
    "solution.show()"
   ]
  },
  {
   "cell_type": "code",
   "execution_count": 4,
   "metadata": {},
   "outputs": [
    {
     "data": {
      "text/plain": [
       "[[8, 3, 4, 2, 7, 9, 6, 1, 5],\n",
       " [6, 5, 7, 1, 3, 4, 8, 2, 9],\n",
       " [2, 1, 9, 6, 5, 8, 4, 7, 3],\n",
       " [3, 4, 8, 5, 9, 7, 1, 6, 2],\n",
       " [1, 7, 6, 3, 8, 2, 5, 9, 4],\n",
       " [5, 9, 2, 4, 6, 1, 3, 8, 7],\n",
       " [7, 2, 5, 8, 4, 6, 9, 3, 1],\n",
       " [4, 6, 1, 9, 2, 3, 7, 5, 8],\n",
       " [9, 8, 3, 7, 1, 5, 2, 4, 6]]"
      ]
     },
     "execution_count": 4,
     "metadata": {},
     "output_type": "execute_result"
    }
   ],
   "source": [
    "solution.board"
   ]
  },
  {
   "cell_type": "code",
   "execution_count": 5,
   "metadata": {},
   "outputs": [
    {
     "data": {
      "text/plain": [
       "3"
      ]
     },
     "execution_count": 5,
     "metadata": {},
     "output_type": "execute_result"
    }
   ],
   "source": [
    "solution.width\n",
    "# 3"
   ]
  },
  {
   "cell_type": "code",
   "execution_count": 6,
   "metadata": {},
   "outputs": [
    {
     "data": {
      "text/plain": [
       "3"
      ]
     },
     "execution_count": 6,
     "metadata": {},
     "output_type": "execute_result"
    }
   ],
   "source": [
    "solution.height\n",
    "# 3"
   ]
  }
 ],
 "metadata": {
  "interpreter": {
   "hash": "b89b5cfaba6639976dc87ff2fec6d58faec662063367e2c229c520fe71072417"
  },
  "kernelspec": {
   "display_name": "Python 3 (ipykernel)",
   "language": "python",
   "name": "python3"
  },
  "language_info": {
   "codemirror_mode": {
    "name": "ipython",
    "version": 3
   },
   "file_extension": ".py",
   "mimetype": "text/x-python",
   "name": "python",
   "nbconvert_exporter": "python",
   "pygments_lexer": "ipython3",
   "version": "3.10.2"
  }
 },
 "nbformat": 4,
 "nbformat_minor": 4
}
