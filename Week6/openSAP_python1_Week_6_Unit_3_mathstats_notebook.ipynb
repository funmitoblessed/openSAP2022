{
 "cells": [
  {
   "cell_type": "markdown",
   "metadata": {},
   "source": [
    "# The `math`, the `random` and the `statistics` libraries \n",
    "This unit focuses on using different functionalities provided by the `math`, `random` and `statistics` libraries. \n",
    "These libraries are part of the [Python Standard Library](https://docs.python.org/3/library/index.html).\n",
    "In order to explore these libraries two exercises are used. To familiarize yourself with the Python Standard Library and\n",
    "the documentation it is highly recommended that you try to solve the exercises yourself before looking at the solutions.\n",
    "\n",
    "\n",
    "## Exercises\n",
    "\n",
    "### Exercise 1 - The `math` library\n",
    "\n",
    "Write a program that performs the following tasks:\n",
    "1. Get a integer number from the user\n",
    "1. Calculate the factorial ($x!$) of this number\n",
    "1. Calculate the natural logarithm and the logarithm to the base 10 of the number\n",
    "\n",
    "Explore the [documentation](https://docs.python.org/3/library/math.html) of the `math` library to find suitable\n",
    "functions."
   ]
  },
  {
   "cell_type": "code",
   "execution_count": 66,
   "metadata": {},
   "outputs": [],
   "source": [
    "# Implement your solution here\n",
    "import math as m"
   ]
  },
  {
   "cell_type": "code",
   "execution_count": 72,
   "metadata": {},
   "outputs": [
    {
     "name": "stdin",
     "output_type": "stream",
     "text": [
      "Please enter an integer: 7\n"
     ]
    },
    {
     "name": "stdout",
     "output_type": "stream",
     "text": [
      "The factorial of 7, 7! = 5040, the natural logarithm, log(7) = 1.946, and the base 10 logarithm, log10(7) = 0.845\n"
     ]
    }
   ],
   "source": [
    "num = int(input(\"Please enter an integer:\"))\n",
    "\n",
    "fact = m.factorial(num)\n",
    "nat_log = m.log(num)\n",
    "log_ten = m.log10(num)\n",
    "\n",
    "print(f\"The factorial of {num}, {num}! = {fact}, the natural logarithm, log({num}) = {round(nat_log, 3)}, and the base 10 logarithm, log10({num}) = {round(log_ten, 3)}\")"
   ]
  },
  {
   "cell_type": "markdown",
   "metadata": {},
   "source": [
    "### Exercise 2 - The `random` and `statistics` libraries\n",
    "\n",
    "Use functions from the `random` and `statistics` libraries to\n",
    "- generate a list of 100 random integer numbers between 1 and 10\n",
    "- calculate the mean of this list\n",
    "- calculate the median of this list\n",
    "- calculate the variance of this list\n",
    "\n",
    "Explore the documentation of the [`random`](https://docs.python.org/3/library/random.html) and the\n",
    "[`statistics`](https://docs.python.org/3/library/statistics.html) libraries to find suitable functions. "
   ]
  },
  {
   "cell_type": "code",
   "execution_count": 64,
   "metadata": {},
   "outputs": [],
   "source": [
    "# Implement your solution here\n",
    "import random as r\n",
    "import statistics as st\n",
    "random_list = []"
   ]
  },
  {
   "cell_type": "code",
   "execution_count": 101,
   "metadata": {},
   "outputs": [
    {
     "name": "stdout",
     "output_type": "stream",
     "text": [
      "The mean of the randomly generated list = 4.66, the median = 4.0, and the variance = 6.26\n"
     ]
    }
   ],
   "source": [
    "for i in range(1, 101):\n",
    "    random_list.append(r.randrange(1, 10))\n",
    "    \n",
    "print(f\"The mean of the randomly generated list = {round(st.mean(random_list), 2)}, the median = {st.median(random_list)}, and the variance = {round(st.variance(random_list), 2)}\")"
   ]
  },
  {
   "cell_type": "code",
   "execution_count": 95,
   "metadata": {},
   "outputs": [
    {
     "name": "stdout",
     "output_type": "stream",
     "text": [
      "[10, 3, 9, 7, 8, 5, 4, 5, 8, 4, 2, 1, 5, 3, 10, 2, 8, 5, 7, 1, 2, 8, 2, 3, 6, 5, 5, 4, 2, 7, 8, 7, 4, 2, 3, 7, 6, 2, 1, 7, 4, 6, 2, 7, 6, 8, 2, 2, 10, 10, 8, 2, 6, 9, 8, 5, 6, 1, 3, 2, 3, 3, 8, 8, 6, 2, 6, 4, 2, 6, 5, 1, 1, 3, 5, 1, 8, 2, 4, 6, 1, 7, 7, 9, 7, 10, 2, 3, 5, 4, 9, 9, 2, 1, 5, 3, 2, 7, 9, 10]\n"
     ]
    },
    {
     "data": {
      "text/plain": [
       "100"
      ]
     },
     "execution_count": 95,
     "metadata": {},
     "output_type": "execute_result"
    }
   ],
   "source": [
    "# Instructor solution\n",
    "\n",
    "random_numbers = [r.randint(1,10) for _ in range(100)]\n",
    "\n",
    "print(random_numbers)\n",
    "len(random_numbers)"
   ]
  },
  {
   "cell_type": "code",
   "execution_count": 100,
   "metadata": {},
   "outputs": [
    {
     "name": "stdout",
     "output_type": "stream",
     "text": [
      "The mean value of the list is 5.01\n",
      "The median value of the list is 5.0\n",
      "The variance value of the list is 7.61\n"
     ]
    }
   ],
   "source": [
    "print(\"The mean value of the list is\", st.mean(random_numbers))\n",
    "print(\"The median value of the list is\", st.median(random_numbers))\n",
    "print(\"The variance value of the list is\", round(st.variance(random_numbers), 2))"
   ]
  },
  {
   "cell_type": "markdown",
   "metadata": {},
   "source": [
    "# Self Test"
   ]
  },
  {
   "cell_type": "markdown",
   "metadata": {},
   "source": [
    "### Question 1\n",
    "`1.0 Pts`\n",
    "\n",
    "What are the libraries `random`, `math` and `statistics` part of?\n",
    "\n",
    "Python Standard Library \\\n",
    "Python Common Library \\\n",
    "Python Basic Library \\\n",
    "Python Regular Library"
   ]
  },
  {
   "cell_type": "markdown",
   "metadata": {},
   "source": [
    "# Unit 3: Exercise"
   ]
  },
  {
   "cell_type": "markdown",
   "metadata": {},
   "source": [
    "Import the `random` library and have a look at the function `gauss()` which gives back a random float number. Which parameters are required? Write a function `gaussian_distribution()` that returns a list of 1000 random numbers with a mean of 100 and a standard deviation of 10. Invoke this function.\n",
    "\n",
    "For the resulting list calculate and print the mean and the standard deviation using the respective functions from the `statistics` library. Re-run the program and observe, if the values change.\n",
    "\n",
    "Below is the output of an example execution of the program. Note that the values of the standard derivation and the mean might be different in your case.\n",
    "\n",
    "`Mean: 100.15215154056546` \\\n",
    "`Standard Deviation: 9.93532937167394`"
   ]
  },
  {
   "cell_type": "code",
   "execution_count": 103,
   "metadata": {},
   "outputs": [],
   "source": [
    "# import library\n",
    "import random as r"
   ]
  },
  {
   "cell_type": "code",
   "execution_count": 107,
   "metadata": {},
   "outputs": [
    {
     "data": {
      "text/plain": [
       "\u001b[1;31mSignature:\u001b[0m \u001b[0mr\u001b[0m\u001b[1;33m.\u001b[0m\u001b[0mgauss\u001b[0m\u001b[1;33m(\u001b[0m\u001b[0mmu\u001b[0m\u001b[1;33m,\u001b[0m \u001b[0msigma\u001b[0m\u001b[1;33m)\u001b[0m\u001b[1;33m\u001b[0m\u001b[1;33m\u001b[0m\u001b[0m\n",
       "\u001b[1;31mDocstring:\u001b[0m\n",
       "Gaussian distribution.\n",
       "\n",
       "mu is the mean, and sigma is the standard deviation.  This is\n",
       "slightly faster than the normalvariate() function.\n",
       "\n",
       "Not thread-safe without a lock around calls.\n",
       "\u001b[1;31mFile:\u001b[0m      c:\\python310\\lib\\random.py\n",
       "\u001b[1;31mType:\u001b[0m      method\n"
      ]
     },
     "metadata": {},
     "output_type": "display_data"
    }
   ],
   "source": [
    "r.gauss?"
   ]
  },
  {
   "cell_type": "code",
   "execution_count": 126,
   "metadata": {},
   "outputs": [
    {
     "data": {
      "text/plain": [
       "92.17741147400217"
      ]
     },
     "execution_count": 126,
     "metadata": {},
     "output_type": "execute_result"
    }
   ],
   "source": [
    "r.gauss(100, 10)"
   ]
  },
  {
   "cell_type": "code",
   "execution_count": 176,
   "metadata": {},
   "outputs": [
    {
     "name": "stdout",
     "output_type": "stream",
     "text": [
      "Mean: 99.95741452785232\n",
      "Standard Deviation: 10.087024823253277\n"
     ]
    }
   ],
   "source": [
    "import random as r\n",
    "import statistics as st\n",
    "\n",
    "def gaussian_distribution():\n",
    "    ran_list2 = []\n",
    "    for _ in range(1000):\n",
    "        ran_list2.append(r.gauss(100, 10))\n",
    "        \n",
    "    return ran_list2\n",
    "\n",
    "print(\"Mean:\", st.mean(gaussian_distribution()))\n",
    "print(\"Standard Deviation:\", st.stdev(gaussian_distribution()))"
   ]
  },
  {
   "cell_type": "code",
   "execution_count": 180,
   "metadata": {},
   "outputs": [
    {
     "name": "stdout",
     "output_type": "stream",
     "text": [
      "Mean: 100.20420695822644 \n",
      "Standard Deviation: 9.941620901217588 \n"
     ]
    }
   ],
   "source": [
    "# Peer Review\n",
    "\n",
    "import random\n",
    "import statistics\n",
    "nums = []\n",
    "\n",
    "def gaussian_distribution():\n",
    "    mu = 100\n",
    "    sigma = 10\n",
    "    return random.gauss(mu, sigma)\n",
    "\n",
    "for i in range(1000):\n",
    "    temp = gaussian_distribution()\n",
    "    nums.append(temp)\n",
    "\n",
    "print(\"Mean: % s \" % statistics.mean(nums), \"Standard Deviation: % s \" % statistics.stdev(nums), sep=\"\\n\")"
   ]
  },
  {
   "cell_type": "code",
   "execution_count": 181,
   "metadata": {},
   "outputs": [
    {
     "data": {
      "text/plain": [
       "1000"
      ]
     },
     "execution_count": 181,
     "metadata": {},
     "output_type": "execute_result"
    }
   ],
   "source": [
    "len(nums)"
   ]
  }
 ],
 "metadata": {
  "interpreter": {
   "hash": "9fd0e282e2343d8b38b390b803aabc7fcea80a18eee8e5bd23ce64f6435b30a1"
  },
  "kernelspec": {
   "display_name": "Python 3 (ipykernel)",
   "language": "python",
   "name": "python3"
  },
  "language_info": {
   "codemirror_mode": {
    "name": "ipython",
    "version": 3
   },
   "file_extension": ".py",
   "mimetype": "text/x-python",
   "name": "python",
   "nbconvert_exporter": "python",
   "pygments_lexer": "ipython3",
   "version": "3.10.2"
  }
 },
 "nbformat": 4,
 "nbformat_minor": 4
}
