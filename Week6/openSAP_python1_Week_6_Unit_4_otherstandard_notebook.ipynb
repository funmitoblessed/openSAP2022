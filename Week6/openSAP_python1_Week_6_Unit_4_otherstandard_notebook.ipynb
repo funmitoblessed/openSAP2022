{
 "cells": [
  {
   "cell_type": "markdown",
   "metadata": {},
   "source": [
    "# More standard libraries\n",
    "\n",
    "There are many more helpful libraries and modules even in the\n",
    "[Python Standard Library](https://docs.python.org/3/library/index.html), of which 3 common ones will be presented in\n",
    "this unit:\n",
    "- [calendar](https://docs.python.org/3/library/calendar.html)\n",
    "- [csv](https://docs.python.org/3/library/csv.html)\n",
    "\n",
    "\n",
    "## [`calendar`](https://docs.python.org/3/library/calendar.html) - General calendar related functions\n",
    "\n",
    "With the `calendar` library, you can use many calendar-related functions like\n",
    "[getting the day of the week](https://docs.python.org/3/library/calendar.html#calendar.weekday)\n",
    "for a specific date for example."
   ]
  },
  {
   "cell_type": "code",
   "execution_count": 1,
   "metadata": {},
   "outputs": [
    {
     "name": "stdout",
     "output_type": "stream",
     "text": [
      "1\n"
     ]
    }
   ],
   "source": [
    "import calendar\n",
    "\n",
    "print(calendar.weekday(2022, 3, 1))"
   ]
  },
  {
   "cell_type": "code",
   "execution_count": 2,
   "metadata": {},
   "outputs": [
    {
     "name": "stdout",
     "output_type": "stream",
     "text": [
      "The year 2022 began with a: Saturday\n"
     ]
    }
   ],
   "source": [
    "print(f\"The year 2022 began with a: {calendar.day_name[calendar.weekday(2022,1,1)]}\")"
   ]
  },
  {
   "cell_type": "markdown",
   "metadata": {},
   "source": [
    "With one method call you can also print a calendar of a month or even a complete year to the terminal window directly:"
   ]
  },
  {
   "cell_type": "code",
   "execution_count": 5,
   "metadata": {},
   "outputs": [
    {
     "name": "stdout",
     "output_type": "stream",
     "text": [
      "      May 2022\n",
      "Mo Tu We Th Fr Sa Su\n",
      "                   1\n",
      " 2  3  4  5  6  7  8\n",
      " 9 10 11 12 13 14 15\n",
      "16 17 18 19 20 21 22\n",
      "23 24 25 26 27 28 29\n",
      "30 31\n",
      "                                  2022\n",
      "\n",
      "      January                   February                   March\n",
      "Mo Tu We Th Fr Sa Su      Mo Tu We Th Fr Sa Su      Mo Tu We Th Fr Sa Su\n",
      "                1  2          1  2  3  4  5  6          1  2  3  4  5  6\n",
      " 3  4  5  6  7  8  9       7  8  9 10 11 12 13       7  8  9 10 11 12 13\n",
      "10 11 12 13 14 15 16      14 15 16 17 18 19 20      14 15 16 17 18 19 20\n",
      "17 18 19 20 21 22 23      21 22 23 24 25 26 27      21 22 23 24 25 26 27\n",
      "24 25 26 27 28 29 30      28                        28 29 30 31\n",
      "31\n",
      "\n",
      "       April                      May                       June\n",
      "Mo Tu We Th Fr Sa Su      Mo Tu We Th Fr Sa Su      Mo Tu We Th Fr Sa Su\n",
      "             1  2  3                         1             1  2  3  4  5\n",
      " 4  5  6  7  8  9 10       2  3  4  5  6  7  8       6  7  8  9 10 11 12\n",
      "11 12 13 14 15 16 17       9 10 11 12 13 14 15      13 14 15 16 17 18 19\n",
      "18 19 20 21 22 23 24      16 17 18 19 20 21 22      20 21 22 23 24 25 26\n",
      "25 26 27 28 29 30         23 24 25 26 27 28 29      27 28 29 30\n",
      "                          30 31\n",
      "\n",
      "        July                     August                  September\n",
      "Mo Tu We Th Fr Sa Su      Mo Tu We Th Fr Sa Su      Mo Tu We Th Fr Sa Su\n",
      "             1  2  3       1  2  3  4  5  6  7                1  2  3  4\n",
      " 4  5  6  7  8  9 10       8  9 10 11 12 13 14       5  6  7  8  9 10 11\n",
      "11 12 13 14 15 16 17      15 16 17 18 19 20 21      12 13 14 15 16 17 18\n",
      "18 19 20 21 22 23 24      22 23 24 25 26 27 28      19 20 21 22 23 24 25\n",
      "25 26 27 28 29 30 31      29 30 31                  26 27 28 29 30\n",
      "\n",
      "      October                   November                  December\n",
      "Mo Tu We Th Fr Sa Su      Mo Tu We Th Fr Sa Su      Mo Tu We Th Fr Sa Su\n",
      "                1  2          1  2  3  4  5  6                1  2  3  4\n",
      " 3  4  5  6  7  8  9       7  8  9 10 11 12 13       5  6  7  8  9 10 11\n",
      "10 11 12 13 14 15 16      14 15 16 17 18 19 20      12 13 14 15 16 17 18\n",
      "17 18 19 20 21 22 23      21 22 23 24 25 26 27      19 20 21 22 23 24 25\n",
      "24 25 26 27 28 29 30      28 29 30                  26 27 28 29 30 31\n",
      "31\n"
     ]
    }
   ],
   "source": [
    "calendar.prmonth(2022, 5)\n",
    "calendar.prcal(2022)"
   ]
  },
  {
   "cell_type": "markdown",
   "metadata": {},
   "source": [
    "When looking at the\n",
    "[source code of the `calendar` module for Python version 3.10](https://github.com/python/cpython/blob/3.10/Lib/calendar.py),\n",
    "you can see that the method\n",
    "[`prmonth()`](https://github.com/python/cpython/blob/34895f694ccddbd4c9320a625c1b4b139c9c3bb3/Lib/calendar.py#L348) for example also\n",
    "[uses another built-in function itself](https://github.com/python/cpython/blob/34895f694ccddbd4c9320a625c1b4b139c9c3bb3/Lib/calendar.py#L352) - the\n",
    "well-known function [`print`](https://docs.python.org/3/library/functions.html#print).\n",
    "\n",
    "\n",
    "Try out more methods yourself!"
   ]
  },
  {
   "cell_type": "markdown",
   "metadata": {},
   "source": [
    "### Using `calendar.isleap(year)` to check for a leap year easily\n",
    "\n",
    "You might remember the exercise from week 1, unit 7. There your task was to write a program which\n",
    "calculates if a given year is a leap year. As you might expect by now, this can also be done \n",
    "using the method `.isleap(year)` of the integrated\n",
    "`calendar` library as the following cell shows."
   ]
  },
  {
   "cell_type": "code",
   "execution_count": 7,
   "metadata": {},
   "outputs": [
    {
     "name": "stdin",
     "output_type": "stream",
     "text": [
      "From which year do you want to know if it is a leap year? 2000\n"
     ]
    },
    {
     "name": "stdout",
     "output_type": "stream",
     "text": [
      "It is True that 2000 is/was a leap year.\n"
     ]
    }
   ],
   "source": [
    "import calendar\n",
    "\n",
    "check_year = int(input(\"From which year do you want to know if it is a leap year?\"))\n",
    "\n",
    "print(f\"It is {calendar.isleap(check_year)} that {check_year} is/was a leap year.\")"
   ]
  },
  {
   "cell_type": "markdown",
   "metadata": {},
   "source": [
    "## [`csv`](https://docs.python.org/3/library/csv.html) - CSV File Reading and Writing\n",
    "\n",
    "You have already used `.csv` files in previous units of this course. Those files are also\n",
    "often used as exports from spreadsheets and databases. As mentioned earlier, the data is \n",
    "written into a text file where rows are\n",
    "separated by line breaks and the columns are separated by a delimiter - usually the comma.\n",
    "\n",
    "In week 4, unit 6, you used a file where a semicolon was used as a delimiter instead of a simple comma.\n",
    "That file was created using a german localized version of Windows, which made Excel use the semicolon as separator (the comma is already used as a decimal mark). The file also contained no line \n",
    "with column headers, which will usually be the first line in such files. Of course this can \n",
    "happen to you in the real world, too! So make sure to check the contents of your files for the delimiter.  \n",
    "The file used in this unit was exported using an English\n",
    "[locale](https://en.wikipedia.org/wiki/Locale_(computer_software)) which defines commas\n",
    "as separation marks and it contains names for the different columns as the first line of the file.\n",
    "\n",
    "\n",
    "### Reading file contents into a list\n",
    "\n",
    "In unit 6 of week 4, `.split()` was used to break the content of the lines into individual list elements.\n",
    "This can be done using `reader()` from the `csv` module as well."
   ]
  },
  {
   "cell_type": "code",
   "execution_count": 8,
   "metadata": {},
   "outputs": [
    {
     "name": "stdout",
     "output_type": "stream",
     "text": [
      "['Surname', 'First Name', 'Matriculation number', 'Mail', 'Enrolled study course']\n",
      "['Potter', 'Harry', '479579', 'harry.potter@hogwarts.wiz', 'History of Magic']\n",
      "['Weasley', 'Ron', '413714', 'ron.weasley@hogwarts.wiz', 'History of Magic']\n",
      "['Granger', 'Hermione', '492257', 'hermione.granger@hogwarts.wiz', 'Art']\n",
      "['Creevey', 'Colin', '406015', 'colin.creevey@hogwarts.wiz', 'Charms']\n",
      "['Finnigan', 'Seamus', '437859', 'seamus.finnigan@hogwarts.wiz', 'Flying']\n",
      "['Abbott', 'Hannah', '493893', 'hannah.abbott@hogwarts.wiz', 'Muggle Music']\n",
      "['Parkinson', 'Pansy', '461331', 'pansy.parkinson@hogwarts.wiz', 'Dark Arts']\n",
      "['Smith', 'Zacharias', '464333', 'zacharias.smith@hogwarts.wiz', 'Charms']\n",
      "['Zabini', 'Blaise', '485575', 'blaise.zabini@hogwarts.wiz', 'Charms']\n",
      "['Malfoy', 'Draco', '451855', 'draco.malfoy@hogwarts.wiz', 'Herbology']\n",
      "['Thomas', 'Dean', '423607', 'dean.thomas@hogwarts.wiz', 'Apparition']\n",
      "['Bulstrode', 'Millicent', '457161', 'millicent.bulstrode@hogwarts.wiz', 'Art']\n",
      "['Boot', 'Terry', '498659', 'terry.boot@hogwarts.wiz', 'Ancient Studies']\n",
      "['Macmillan', 'Ernie', '434539', 'ernie.macmillan@hogwarts.wiz', 'Potions']\n",
      "['Crabbe', 'Vincent', '419612', 'vincent.crabbe@hogwarts.wiz', 'Alchemy']\n",
      "['Goyle', 'Gregory', '420680', 'gregory.goyle@hogwarts.wiz', 'Potions']\n",
      "['Brown', 'Lavender', '492639', 'lavender.brown@hogwarts.wiz', 'Charms']\n",
      "['Bell', 'Katie', '461728', 'katie.bell@hogwarts.wiz', 'Ghoul Studies']\n",
      "['Patil', 'Parvati', '495908', 'parvati.patil@hogwarts.wiz', 'Art']\n",
      "['Creevey', 'Dennis', '463467', 'dennis.creevey@hogwarts.wiz', 'Dark Arts']\n",
      "['Midgen', 'Eloise', '450089', 'eloise.midgen@hogwarts.wiz', 'Dark Arts']\n",
      "['Coote', 'Ritchie', '465718', 'ritchie.coote@hogwarts.wiz', 'Art']\n",
      "['Sloper', 'Jack', '443715', 'jack.sloper@hogwarts.wiz', 'Ancient Studies']\n",
      "['Frobisher', 'Victoria', '496255', 'victoria.frobisher@hogwarts.wiz', 'Divination']\n",
      "['Hooper', 'Geoffrey', '453056', 'geoffrey.hooper@hogwarts.wiz', 'Dark Arts']\n",
      "['Kirke', 'Andrew', '477805', 'andrew.kirke@hogwarts.wiz', 'Dark Arts']\n",
      "['Robins', 'Demelza', '425953', 'demelza.robins@hogwarts.wiz', 'Charms']\n",
      "['McLaggen', 'Cormac', '481977', 'cormac.mclaggen@hogwarts.wiz', 'Advanced Arithmancy Studies']\n",
      "['Longbottom', 'Neville', '494628', 'neville.longbottom@hogwarts.wiz', 'Ancient Studies']\n",
      "['Weasley', 'Ginny', '434597', 'ginny.weasley@hogwarts.wiz', 'Magical Theory']\n",
      "['Vane', 'Romilda', '445402', 'romilda.vane@hogwarts.wiz', 'Transfiguration']\n",
      "['McDonald', 'Natalie', '483493', 'natalie.mcdonald@hogwarts.wiz', 'Transfiguration']\n",
      "['Peakes', 'Jimmy', '483136', 'jimmy.peakes@hogwarts.wiz', 'Xylomancy']\n",
      "['Abercrombie', 'Euan', '435537', 'euan.abercrombie@hogwarts.wiz', 'Alchemy']\n",
      "['MacDonald', 'Mary', '464402', 'mary.macdonald@hogwarts.wiz', 'Ghoul Studies']\n",
      "['Clearwater', 'Penelope', '464194', 'penelope.clearwater@hogwarts.wiz', 'Muggle Music']\n",
      "['Davies', 'Roger', '493782', 'roger.davies@hogwarts.wiz', 'Apparition']\n",
      "['Carmichael', 'Eddie', '478155', 'eddie.carmichael@hogwarts.wiz', 'Muggle Studies']\n",
      "['Chang', 'Cho', '469994', 'cho.chang@hogwarts.wiz', 'Flying']\n",
      "['Edgecombe', 'Marietta', '461804', 'marietta.edgecombe@hogwarts.wiz', 'Ancient Studies']\n",
      "['Brocklehurst', 'Mandy', '499839', 'mandy.brocklehurst@hogwarts.wiz', 'Magical Theory']\n",
      "['Corner', 'Michael', '462539', 'michael.corner@hogwarts.wiz', 'Flying']\n",
      "['Cornfoot', 'Stephen', '416049', 'stephen.cornfoot@hogwarts.wiz', 'Advanced Arithmancy Studies']\n",
      "['Entwhistle', 'Kevin', '416805', 'kevin.entwhistle@hogwarts.wiz', 'Muggle Art']\n",
      "['Goldstein', 'Anthony', '421211', 'anthony.goldstein@hogwarts.wiz', 'Transfiguration']\n",
      "['Li', 'Su', '414258', 'su.li@hogwarts.wiz', 'Dark Arts']\n",
      "['McDougal', 'Morag', '486309', 'morag.mcdougal@hogwarts.wiz', 'Advanced Arithmancy Studies']\n",
      "['Patil', 'Padma', '476737', 'padma.patil@hogwarts.wiz', 'Apparition']\n",
      "['Turpin', 'Lisa', '432575', 'lisa.turpin@hogwarts.wiz', 'Ghoul Studies']\n",
      "['Lovegood', 'Luna', '420034', 'luna.lovegood@hogwarts.wiz', 'Muggle Music']\n",
      "['Quirke', 'Orla', '418697', 'orla.quirke@hogwarts.wiz', 'Arithmancy']\n",
      "['Ackerley', 'Stewart', '447385', 'stewart.ackerley@hogwarts.wiz', 'Advanced Arithmancy Studies']\n",
      "['Bones', 'Susan', '496970', 'susan.bones@hogwarts.wiz', 'Astronomy']\n",
      "['Branstone', 'Eleanor', '431036', 'eleanor.branstone@hogwarts.wiz', 'History of Magic']\n",
      "['Cauldwell', 'Owen', '422552', 'owen.cauldwell@hogwarts.wiz', 'Charms']\n",
      "['Finch-Fletchley', 'Justin', '450827', 'justin.finch-fletchley@hogwarts.wiz', 'Astronomy']\n",
      "['Hopkins', 'Wayne', '482275', 'wayne.hopkins@hogwarts.wiz', 'Muggle Art']\n",
      "['Jones', 'Megan', '436091', 'megan.jones@hogwarts.wiz', 'Advanced Arithmancy Studies']\n",
      "['Madley', 'Laura', '481830', 'laura.madley@hogwarts.wiz', 'Defence Against the Dark Arts']\n",
      "['Whitby', 'Kevin', '430394', 'kevin.whitby@hogwarts.wiz', 'Flying']\n",
      "['Zeller', 'Rose', '455237', 'rose.zeller@hogwarts.wiz', 'Magical Theory']\n",
      "['Higgs', 'Terence', '481967', 'terence.higgs@hogwarts.wiz', 'Muggle Art']\n",
      "['Pucey', 'Adrian', '484881', 'adrian.pucey@hogwarts.wiz', 'Arithmancy']\n",
      "['Davis', 'Tracey', '430141', 'tracey.davis@hogwarts.wiz', 'Flying']\n",
      "['Moon', 'Lilian', '449985', 'lilian.moon@hogwarts.wiz', 'Art']\n",
      "['Greengrass', 'Daphne', '481904', 'daphne.greengrass@hogwarts.wiz', 'Dark Arts']\n",
      "['Nott', 'Theodore', '446223', 'theodore.nott@hogwarts.wiz', 'Potions']\n",
      "['Greengrass', 'Astoria', '469932', 'astoria.greengrass@hogwarts.wiz', 'Dark Arts']\n",
      "['Baddock', 'Malcolm', '442966', 'malcolm.baddock@hogwarts.wiz', 'Art']\n",
      "['Pritchard', 'Graham', '412620', 'graham.pritchard@hogwarts.wiz', 'Divination']\n"
     ]
    }
   ],
   "source": [
    "import csv\n",
    "\n",
    "with open(\"students_excel.csv\", \"r\") as f:\n",
    "    reader = csv.reader(f)\n",
    "    for row in reader:\n",
    "        print(row)"
   ]
  },
  {
   "cell_type": "markdown",
   "metadata": {},
   "source": [
    "You may have noticed that the first row containing the column headers was also split into a list. It is possible to\n",
    "either throw it away or - more useful - use it to create a dictionary utilizing the column headers as keys.\n",
    "\n",
    "\n",
    "### `DictReader` creates a `dictionary` for every line in a `.csv` file\n",
    "\n",
    "As mentioned before, dictionaries, which may be more useful than a plain list, can be constructed of the imported data.\n",
    "Have a look how you can use the `csv` library to make your life easier when constructing a `dictionary` for every\n",
    "student in the `.csv` file using `DictReader()`."
   ]
  },
  {
   "cell_type": "code",
   "execution_count": 9,
   "metadata": {},
   "outputs": [
    {
     "name": "stdout",
     "output_type": "stream",
     "text": [
      "{'Surname': 'Potter', 'First Name': 'Harry', 'Matriculation number': '479579', 'Mail': 'harry.potter@hogwarts.wiz', 'Enrolled study course': 'History of Magic'}\n",
      "{'Surname': 'Weasley', 'First Name': 'Ron', 'Matriculation number': '413714', 'Mail': 'ron.weasley@hogwarts.wiz', 'Enrolled study course': 'History of Magic'}\n",
      "{'Surname': 'Granger', 'First Name': 'Hermione', 'Matriculation number': '492257', 'Mail': 'hermione.granger@hogwarts.wiz', 'Enrolled study course': 'Art'}\n",
      "{'Surname': 'Creevey', 'First Name': 'Colin', 'Matriculation number': '406015', 'Mail': 'colin.creevey@hogwarts.wiz', 'Enrolled study course': 'Charms'}\n",
      "{'Surname': 'Finnigan', 'First Name': 'Seamus', 'Matriculation number': '437859', 'Mail': 'seamus.finnigan@hogwarts.wiz', 'Enrolled study course': 'Flying'}\n",
      "{'Surname': 'Abbott', 'First Name': 'Hannah', 'Matriculation number': '493893', 'Mail': 'hannah.abbott@hogwarts.wiz', 'Enrolled study course': 'Muggle Music'}\n",
      "{'Surname': 'Parkinson', 'First Name': 'Pansy', 'Matriculation number': '461331', 'Mail': 'pansy.parkinson@hogwarts.wiz', 'Enrolled study course': 'Dark Arts'}\n",
      "{'Surname': 'Smith', 'First Name': 'Zacharias', 'Matriculation number': '464333', 'Mail': 'zacharias.smith@hogwarts.wiz', 'Enrolled study course': 'Charms'}\n",
      "{'Surname': 'Zabini', 'First Name': 'Blaise', 'Matriculation number': '485575', 'Mail': 'blaise.zabini@hogwarts.wiz', 'Enrolled study course': 'Charms'}\n",
      "{'Surname': 'Malfoy', 'First Name': 'Draco', 'Matriculation number': '451855', 'Mail': 'draco.malfoy@hogwarts.wiz', 'Enrolled study course': 'Herbology'}\n",
      "{'Surname': 'Thomas', 'First Name': 'Dean', 'Matriculation number': '423607', 'Mail': 'dean.thomas@hogwarts.wiz', 'Enrolled study course': 'Apparition'}\n",
      "{'Surname': 'Bulstrode', 'First Name': 'Millicent', 'Matriculation number': '457161', 'Mail': 'millicent.bulstrode@hogwarts.wiz', 'Enrolled study course': 'Art'}\n",
      "{'Surname': 'Boot', 'First Name': 'Terry', 'Matriculation number': '498659', 'Mail': 'terry.boot@hogwarts.wiz', 'Enrolled study course': 'Ancient Studies'}\n",
      "{'Surname': 'Macmillan', 'First Name': 'Ernie', 'Matriculation number': '434539', 'Mail': 'ernie.macmillan@hogwarts.wiz', 'Enrolled study course': 'Potions'}\n",
      "{'Surname': 'Crabbe', 'First Name': 'Vincent', 'Matriculation number': '419612', 'Mail': 'vincent.crabbe@hogwarts.wiz', 'Enrolled study course': 'Alchemy'}\n",
      "{'Surname': 'Goyle', 'First Name': 'Gregory', 'Matriculation number': '420680', 'Mail': 'gregory.goyle@hogwarts.wiz', 'Enrolled study course': 'Potions'}\n",
      "{'Surname': 'Brown', 'First Name': 'Lavender', 'Matriculation number': '492639', 'Mail': 'lavender.brown@hogwarts.wiz', 'Enrolled study course': 'Charms'}\n",
      "{'Surname': 'Bell', 'First Name': 'Katie', 'Matriculation number': '461728', 'Mail': 'katie.bell@hogwarts.wiz', 'Enrolled study course': 'Ghoul Studies'}\n",
      "{'Surname': 'Patil', 'First Name': 'Parvati', 'Matriculation number': '495908', 'Mail': 'parvati.patil@hogwarts.wiz', 'Enrolled study course': 'Art'}\n",
      "{'Surname': 'Creevey', 'First Name': 'Dennis', 'Matriculation number': '463467', 'Mail': 'dennis.creevey@hogwarts.wiz', 'Enrolled study course': 'Dark Arts'}\n",
      "{'Surname': 'Midgen', 'First Name': 'Eloise', 'Matriculation number': '450089', 'Mail': 'eloise.midgen@hogwarts.wiz', 'Enrolled study course': 'Dark Arts'}\n",
      "{'Surname': 'Coote', 'First Name': 'Ritchie', 'Matriculation number': '465718', 'Mail': 'ritchie.coote@hogwarts.wiz', 'Enrolled study course': 'Art'}\n",
      "{'Surname': 'Sloper', 'First Name': 'Jack', 'Matriculation number': '443715', 'Mail': 'jack.sloper@hogwarts.wiz', 'Enrolled study course': 'Ancient Studies'}\n",
      "{'Surname': 'Frobisher', 'First Name': 'Victoria', 'Matriculation number': '496255', 'Mail': 'victoria.frobisher@hogwarts.wiz', 'Enrolled study course': 'Divination'}\n",
      "{'Surname': 'Hooper', 'First Name': 'Geoffrey', 'Matriculation number': '453056', 'Mail': 'geoffrey.hooper@hogwarts.wiz', 'Enrolled study course': 'Dark Arts'}\n",
      "{'Surname': 'Kirke', 'First Name': 'Andrew', 'Matriculation number': '477805', 'Mail': 'andrew.kirke@hogwarts.wiz', 'Enrolled study course': 'Dark Arts'}\n",
      "{'Surname': 'Robins', 'First Name': 'Demelza', 'Matriculation number': '425953', 'Mail': 'demelza.robins@hogwarts.wiz', 'Enrolled study course': 'Charms'}\n",
      "{'Surname': 'McLaggen', 'First Name': 'Cormac', 'Matriculation number': '481977', 'Mail': 'cormac.mclaggen@hogwarts.wiz', 'Enrolled study course': 'Advanced Arithmancy Studies'}\n",
      "{'Surname': 'Longbottom', 'First Name': 'Neville', 'Matriculation number': '494628', 'Mail': 'neville.longbottom@hogwarts.wiz', 'Enrolled study course': 'Ancient Studies'}\n",
      "{'Surname': 'Weasley', 'First Name': 'Ginny', 'Matriculation number': '434597', 'Mail': 'ginny.weasley@hogwarts.wiz', 'Enrolled study course': 'Magical Theory'}\n",
      "{'Surname': 'Vane', 'First Name': 'Romilda', 'Matriculation number': '445402', 'Mail': 'romilda.vane@hogwarts.wiz', 'Enrolled study course': 'Transfiguration'}\n",
      "{'Surname': 'McDonald', 'First Name': 'Natalie', 'Matriculation number': '483493', 'Mail': 'natalie.mcdonald@hogwarts.wiz', 'Enrolled study course': 'Transfiguration'}\n",
      "{'Surname': 'Peakes', 'First Name': 'Jimmy', 'Matriculation number': '483136', 'Mail': 'jimmy.peakes@hogwarts.wiz', 'Enrolled study course': 'Xylomancy'}\n",
      "{'Surname': 'Abercrombie', 'First Name': 'Euan', 'Matriculation number': '435537', 'Mail': 'euan.abercrombie@hogwarts.wiz', 'Enrolled study course': 'Alchemy'}\n",
      "{'Surname': 'MacDonald', 'First Name': 'Mary', 'Matriculation number': '464402', 'Mail': 'mary.macdonald@hogwarts.wiz', 'Enrolled study course': 'Ghoul Studies'}\n",
      "{'Surname': 'Clearwater', 'First Name': 'Penelope', 'Matriculation number': '464194', 'Mail': 'penelope.clearwater@hogwarts.wiz', 'Enrolled study course': 'Muggle Music'}\n",
      "{'Surname': 'Davies', 'First Name': 'Roger', 'Matriculation number': '493782', 'Mail': 'roger.davies@hogwarts.wiz', 'Enrolled study course': 'Apparition'}\n",
      "{'Surname': 'Carmichael', 'First Name': 'Eddie', 'Matriculation number': '478155', 'Mail': 'eddie.carmichael@hogwarts.wiz', 'Enrolled study course': 'Muggle Studies'}\n",
      "{'Surname': 'Chang', 'First Name': 'Cho', 'Matriculation number': '469994', 'Mail': 'cho.chang@hogwarts.wiz', 'Enrolled study course': 'Flying'}\n",
      "{'Surname': 'Edgecombe', 'First Name': 'Marietta', 'Matriculation number': '461804', 'Mail': 'marietta.edgecombe@hogwarts.wiz', 'Enrolled study course': 'Ancient Studies'}\n",
      "{'Surname': 'Brocklehurst', 'First Name': 'Mandy', 'Matriculation number': '499839', 'Mail': 'mandy.brocklehurst@hogwarts.wiz', 'Enrolled study course': 'Magical Theory'}\n",
      "{'Surname': 'Corner', 'First Name': 'Michael', 'Matriculation number': '462539', 'Mail': 'michael.corner@hogwarts.wiz', 'Enrolled study course': 'Flying'}\n",
      "{'Surname': 'Cornfoot', 'First Name': 'Stephen', 'Matriculation number': '416049', 'Mail': 'stephen.cornfoot@hogwarts.wiz', 'Enrolled study course': 'Advanced Arithmancy Studies'}\n",
      "{'Surname': 'Entwhistle', 'First Name': 'Kevin', 'Matriculation number': '416805', 'Mail': 'kevin.entwhistle@hogwarts.wiz', 'Enrolled study course': 'Muggle Art'}\n",
      "{'Surname': 'Goldstein', 'First Name': 'Anthony', 'Matriculation number': '421211', 'Mail': 'anthony.goldstein@hogwarts.wiz', 'Enrolled study course': 'Transfiguration'}\n",
      "{'Surname': 'Li', 'First Name': 'Su', 'Matriculation number': '414258', 'Mail': 'su.li@hogwarts.wiz', 'Enrolled study course': 'Dark Arts'}\n",
      "{'Surname': 'McDougal', 'First Name': 'Morag', 'Matriculation number': '486309', 'Mail': 'morag.mcdougal@hogwarts.wiz', 'Enrolled study course': 'Advanced Arithmancy Studies'}\n",
      "{'Surname': 'Patil', 'First Name': 'Padma', 'Matriculation number': '476737', 'Mail': 'padma.patil@hogwarts.wiz', 'Enrolled study course': 'Apparition'}\n",
      "{'Surname': 'Turpin', 'First Name': 'Lisa', 'Matriculation number': '432575', 'Mail': 'lisa.turpin@hogwarts.wiz', 'Enrolled study course': 'Ghoul Studies'}\n",
      "{'Surname': 'Lovegood', 'First Name': 'Luna', 'Matriculation number': '420034', 'Mail': 'luna.lovegood@hogwarts.wiz', 'Enrolled study course': 'Muggle Music'}\n",
      "{'Surname': 'Quirke', 'First Name': 'Orla', 'Matriculation number': '418697', 'Mail': 'orla.quirke@hogwarts.wiz', 'Enrolled study course': 'Arithmancy'}\n",
      "{'Surname': 'Ackerley', 'First Name': 'Stewart', 'Matriculation number': '447385', 'Mail': 'stewart.ackerley@hogwarts.wiz', 'Enrolled study course': 'Advanced Arithmancy Studies'}\n",
      "{'Surname': 'Bones', 'First Name': 'Susan', 'Matriculation number': '496970', 'Mail': 'susan.bones@hogwarts.wiz', 'Enrolled study course': 'Astronomy'}\n",
      "{'Surname': 'Branstone', 'First Name': 'Eleanor', 'Matriculation number': '431036', 'Mail': 'eleanor.branstone@hogwarts.wiz', 'Enrolled study course': 'History of Magic'}\n",
      "{'Surname': 'Cauldwell', 'First Name': 'Owen', 'Matriculation number': '422552', 'Mail': 'owen.cauldwell@hogwarts.wiz', 'Enrolled study course': 'Charms'}\n",
      "{'Surname': 'Finch-Fletchley', 'First Name': 'Justin', 'Matriculation number': '450827', 'Mail': 'justin.finch-fletchley@hogwarts.wiz', 'Enrolled study course': 'Astronomy'}\n",
      "{'Surname': 'Hopkins', 'First Name': 'Wayne', 'Matriculation number': '482275', 'Mail': 'wayne.hopkins@hogwarts.wiz', 'Enrolled study course': 'Muggle Art'}\n",
      "{'Surname': 'Jones', 'First Name': 'Megan', 'Matriculation number': '436091', 'Mail': 'megan.jones@hogwarts.wiz', 'Enrolled study course': 'Advanced Arithmancy Studies'}\n",
      "{'Surname': 'Madley', 'First Name': 'Laura', 'Matriculation number': '481830', 'Mail': 'laura.madley@hogwarts.wiz', 'Enrolled study course': 'Defence Against the Dark Arts'}\n",
      "{'Surname': 'Whitby', 'First Name': 'Kevin', 'Matriculation number': '430394', 'Mail': 'kevin.whitby@hogwarts.wiz', 'Enrolled study course': 'Flying'}\n",
      "{'Surname': 'Zeller', 'First Name': 'Rose', 'Matriculation number': '455237', 'Mail': 'rose.zeller@hogwarts.wiz', 'Enrolled study course': 'Magical Theory'}\n",
      "{'Surname': 'Higgs', 'First Name': 'Terence', 'Matriculation number': '481967', 'Mail': 'terence.higgs@hogwarts.wiz', 'Enrolled study course': 'Muggle Art'}\n",
      "{'Surname': 'Pucey', 'First Name': 'Adrian', 'Matriculation number': '484881', 'Mail': 'adrian.pucey@hogwarts.wiz', 'Enrolled study course': 'Arithmancy'}\n",
      "{'Surname': 'Davis', 'First Name': 'Tracey', 'Matriculation number': '430141', 'Mail': 'tracey.davis@hogwarts.wiz', 'Enrolled study course': 'Flying'}\n",
      "{'Surname': 'Moon', 'First Name': 'Lilian', 'Matriculation number': '449985', 'Mail': 'lilian.moon@hogwarts.wiz', 'Enrolled study course': 'Art'}\n",
      "{'Surname': 'Greengrass', 'First Name': 'Daphne', 'Matriculation number': '481904', 'Mail': 'daphne.greengrass@hogwarts.wiz', 'Enrolled study course': 'Dark Arts'}\n",
      "{'Surname': 'Nott', 'First Name': 'Theodore', 'Matriculation number': '446223', 'Mail': 'theodore.nott@hogwarts.wiz', 'Enrolled study course': 'Potions'}\n",
      "{'Surname': 'Greengrass', 'First Name': 'Astoria', 'Matriculation number': '469932', 'Mail': 'astoria.greengrass@hogwarts.wiz', 'Enrolled study course': 'Dark Arts'}\n",
      "{'Surname': 'Baddock', 'First Name': 'Malcolm', 'Matriculation number': '442966', 'Mail': 'malcolm.baddock@hogwarts.wiz', 'Enrolled study course': 'Art'}\n",
      "{'Surname': 'Pritchard', 'First Name': 'Graham', 'Matriculation number': '412620', 'Mail': 'graham.pritchard@hogwarts.wiz', 'Enrolled study course': 'Divination'}\n"
     ]
    }
   ],
   "source": [
    "import csv\n",
    "\n",
    "with open(\"students_excel.csv\", \"r\") as f:\n",
    "    dict_reader = csv.DictReader(f)\n",
    "    for row in dict_reader:\n",
    "        print(row)"
   ]
  },
  {
   "cell_type": "markdown",
   "metadata": {},
   "source": [
    "`DictReader` needs just one argument - the input file object. Besides that some optional are possible.\n",
    "When you look at the [documentation](https://docs.python.org/3/library/csv.html#csv.DictReader) you will notice an\n",
    "optional argument called `dialect`. Its default value is `excel` and it defines properties of common `csv` formats like\n",
    "delimiter signs and line breaks (c.f. [the source code of the module](https://github.com/python/cpython/blob/34895f694ccddbd4c9320a625c1b4b139c9c3bb3/Lib/csv.py#L54)). This fits the file format used in the `.csv` file of the current unit.\n",
    "\n",
    "The cell below converts the data from the reader into a dictionary using the matriculation number as a key.\n",
    "This is similar to the example in week 3, unit 2."
   ]
  },
  {
   "cell_type": "code",
   "execution_count": 10,
   "metadata": {},
   "outputs": [
    {
     "name": "stdout",
     "output_type": "stream",
     "text": [
      "{'479579': {'Surname': 'Potter', 'First Name': 'Harry', 'Mail': 'harry.potter@hogwarts.wiz', 'Enrolled study course': 'History of Magic'}, '413714': {'Surname': 'Weasley', 'First Name': 'Ron', 'Mail': 'ron.weasley@hogwarts.wiz', 'Enrolled study course': 'History of Magic'}, '492257': {'Surname': 'Granger', 'First Name': 'Hermione', 'Mail': 'hermione.granger@hogwarts.wiz', 'Enrolled study course': 'Art'}, '406015': {'Surname': 'Creevey', 'First Name': 'Colin', 'Mail': 'colin.creevey@hogwarts.wiz', 'Enrolled study course': 'Charms'}, '437859': {'Surname': 'Finnigan', 'First Name': 'Seamus', 'Mail': 'seamus.finnigan@hogwarts.wiz', 'Enrolled study course': 'Flying'}, '493893': {'Surname': 'Abbott', 'First Name': 'Hannah', 'Mail': 'hannah.abbott@hogwarts.wiz', 'Enrolled study course': 'Muggle Music'}, '461331': {'Surname': 'Parkinson', 'First Name': 'Pansy', 'Mail': 'pansy.parkinson@hogwarts.wiz', 'Enrolled study course': 'Dark Arts'}, '464333': {'Surname': 'Smith', 'First Name': 'Zacharias', 'Mail': 'zacharias.smith@hogwarts.wiz', 'Enrolled study course': 'Charms'}, '485575': {'Surname': 'Zabini', 'First Name': 'Blaise', 'Mail': 'blaise.zabini@hogwarts.wiz', 'Enrolled study course': 'Charms'}, '451855': {'Surname': 'Malfoy', 'First Name': 'Draco', 'Mail': 'draco.malfoy@hogwarts.wiz', 'Enrolled study course': 'Herbology'}, '423607': {'Surname': 'Thomas', 'First Name': 'Dean', 'Mail': 'dean.thomas@hogwarts.wiz', 'Enrolled study course': 'Apparition'}, '457161': {'Surname': 'Bulstrode', 'First Name': 'Millicent', 'Mail': 'millicent.bulstrode@hogwarts.wiz', 'Enrolled study course': 'Art'}, '498659': {'Surname': 'Boot', 'First Name': 'Terry', 'Mail': 'terry.boot@hogwarts.wiz', 'Enrolled study course': 'Ancient Studies'}, '434539': {'Surname': 'Macmillan', 'First Name': 'Ernie', 'Mail': 'ernie.macmillan@hogwarts.wiz', 'Enrolled study course': 'Potions'}, '419612': {'Surname': 'Crabbe', 'First Name': 'Vincent', 'Mail': 'vincent.crabbe@hogwarts.wiz', 'Enrolled study course': 'Alchemy'}, '420680': {'Surname': 'Goyle', 'First Name': 'Gregory', 'Mail': 'gregory.goyle@hogwarts.wiz', 'Enrolled study course': 'Potions'}, '492639': {'Surname': 'Brown', 'First Name': 'Lavender', 'Mail': 'lavender.brown@hogwarts.wiz', 'Enrolled study course': 'Charms'}, '461728': {'Surname': 'Bell', 'First Name': 'Katie', 'Mail': 'katie.bell@hogwarts.wiz', 'Enrolled study course': 'Ghoul Studies'}, '495908': {'Surname': 'Patil', 'First Name': 'Parvati', 'Mail': 'parvati.patil@hogwarts.wiz', 'Enrolled study course': 'Art'}, '463467': {'Surname': 'Creevey', 'First Name': 'Dennis', 'Mail': 'dennis.creevey@hogwarts.wiz', 'Enrolled study course': 'Dark Arts'}, '450089': {'Surname': 'Midgen', 'First Name': 'Eloise', 'Mail': 'eloise.midgen@hogwarts.wiz', 'Enrolled study course': 'Dark Arts'}, '465718': {'Surname': 'Coote', 'First Name': 'Ritchie', 'Mail': 'ritchie.coote@hogwarts.wiz', 'Enrolled study course': 'Art'}, '443715': {'Surname': 'Sloper', 'First Name': 'Jack', 'Mail': 'jack.sloper@hogwarts.wiz', 'Enrolled study course': 'Ancient Studies'}, '496255': {'Surname': 'Frobisher', 'First Name': 'Victoria', 'Mail': 'victoria.frobisher@hogwarts.wiz', 'Enrolled study course': 'Divination'}, '453056': {'Surname': 'Hooper', 'First Name': 'Geoffrey', 'Mail': 'geoffrey.hooper@hogwarts.wiz', 'Enrolled study course': 'Dark Arts'}, '477805': {'Surname': 'Kirke', 'First Name': 'Andrew', 'Mail': 'andrew.kirke@hogwarts.wiz', 'Enrolled study course': 'Dark Arts'}, '425953': {'Surname': 'Robins', 'First Name': 'Demelza', 'Mail': 'demelza.robins@hogwarts.wiz', 'Enrolled study course': 'Charms'}, '481977': {'Surname': 'McLaggen', 'First Name': 'Cormac', 'Mail': 'cormac.mclaggen@hogwarts.wiz', 'Enrolled study course': 'Advanced Arithmancy Studies'}, '494628': {'Surname': 'Longbottom', 'First Name': 'Neville', 'Mail': 'neville.longbottom@hogwarts.wiz', 'Enrolled study course': 'Ancient Studies'}, '434597': {'Surname': 'Weasley', 'First Name': 'Ginny', 'Mail': 'ginny.weasley@hogwarts.wiz', 'Enrolled study course': 'Magical Theory'}, '445402': {'Surname': 'Vane', 'First Name': 'Romilda', 'Mail': 'romilda.vane@hogwarts.wiz', 'Enrolled study course': 'Transfiguration'}, '483493': {'Surname': 'McDonald', 'First Name': 'Natalie', 'Mail': 'natalie.mcdonald@hogwarts.wiz', 'Enrolled study course': 'Transfiguration'}, '483136': {'Surname': 'Peakes', 'First Name': 'Jimmy', 'Mail': 'jimmy.peakes@hogwarts.wiz', 'Enrolled study course': 'Xylomancy'}, '435537': {'Surname': 'Abercrombie', 'First Name': 'Euan', 'Mail': 'euan.abercrombie@hogwarts.wiz', 'Enrolled study course': 'Alchemy'}, '464402': {'Surname': 'MacDonald', 'First Name': 'Mary', 'Mail': 'mary.macdonald@hogwarts.wiz', 'Enrolled study course': 'Ghoul Studies'}, '464194': {'Surname': 'Clearwater', 'First Name': 'Penelope', 'Mail': 'penelope.clearwater@hogwarts.wiz', 'Enrolled study course': 'Muggle Music'}, '493782': {'Surname': 'Davies', 'First Name': 'Roger', 'Mail': 'roger.davies@hogwarts.wiz', 'Enrolled study course': 'Apparition'}, '478155': {'Surname': 'Carmichael', 'First Name': 'Eddie', 'Mail': 'eddie.carmichael@hogwarts.wiz', 'Enrolled study course': 'Muggle Studies'}, '469994': {'Surname': 'Chang', 'First Name': 'Cho', 'Mail': 'cho.chang@hogwarts.wiz', 'Enrolled study course': 'Flying'}, '461804': {'Surname': 'Edgecombe', 'First Name': 'Marietta', 'Mail': 'marietta.edgecombe@hogwarts.wiz', 'Enrolled study course': 'Ancient Studies'}, '499839': {'Surname': 'Brocklehurst', 'First Name': 'Mandy', 'Mail': 'mandy.brocklehurst@hogwarts.wiz', 'Enrolled study course': 'Magical Theory'}, '462539': {'Surname': 'Corner', 'First Name': 'Michael', 'Mail': 'michael.corner@hogwarts.wiz', 'Enrolled study course': 'Flying'}, '416049': {'Surname': 'Cornfoot', 'First Name': 'Stephen', 'Mail': 'stephen.cornfoot@hogwarts.wiz', 'Enrolled study course': 'Advanced Arithmancy Studies'}, '416805': {'Surname': 'Entwhistle', 'First Name': 'Kevin', 'Mail': 'kevin.entwhistle@hogwarts.wiz', 'Enrolled study course': 'Muggle Art'}, '421211': {'Surname': 'Goldstein', 'First Name': 'Anthony', 'Mail': 'anthony.goldstein@hogwarts.wiz', 'Enrolled study course': 'Transfiguration'}, '414258': {'Surname': 'Li', 'First Name': 'Su', 'Mail': 'su.li@hogwarts.wiz', 'Enrolled study course': 'Dark Arts'}, '486309': {'Surname': 'McDougal', 'First Name': 'Morag', 'Mail': 'morag.mcdougal@hogwarts.wiz', 'Enrolled study course': 'Advanced Arithmancy Studies'}, '476737': {'Surname': 'Patil', 'First Name': 'Padma', 'Mail': 'padma.patil@hogwarts.wiz', 'Enrolled study course': 'Apparition'}, '432575': {'Surname': 'Turpin', 'First Name': 'Lisa', 'Mail': 'lisa.turpin@hogwarts.wiz', 'Enrolled study course': 'Ghoul Studies'}, '420034': {'Surname': 'Lovegood', 'First Name': 'Luna', 'Mail': 'luna.lovegood@hogwarts.wiz', 'Enrolled study course': 'Muggle Music'}, '418697': {'Surname': 'Quirke', 'First Name': 'Orla', 'Mail': 'orla.quirke@hogwarts.wiz', 'Enrolled study course': 'Arithmancy'}, '447385': {'Surname': 'Ackerley', 'First Name': 'Stewart', 'Mail': 'stewart.ackerley@hogwarts.wiz', 'Enrolled study course': 'Advanced Arithmancy Studies'}, '496970': {'Surname': 'Bones', 'First Name': 'Susan', 'Mail': 'susan.bones@hogwarts.wiz', 'Enrolled study course': 'Astronomy'}, '431036': {'Surname': 'Branstone', 'First Name': 'Eleanor', 'Mail': 'eleanor.branstone@hogwarts.wiz', 'Enrolled study course': 'History of Magic'}, '422552': {'Surname': 'Cauldwell', 'First Name': 'Owen', 'Mail': 'owen.cauldwell@hogwarts.wiz', 'Enrolled study course': 'Charms'}, '450827': {'Surname': 'Finch-Fletchley', 'First Name': 'Justin', 'Mail': 'justin.finch-fletchley@hogwarts.wiz', 'Enrolled study course': 'Astronomy'}, '482275': {'Surname': 'Hopkins', 'First Name': 'Wayne', 'Mail': 'wayne.hopkins@hogwarts.wiz', 'Enrolled study course': 'Muggle Art'}, '436091': {'Surname': 'Jones', 'First Name': 'Megan', 'Mail': 'megan.jones@hogwarts.wiz', 'Enrolled study course': 'Advanced Arithmancy Studies'}, '481830': {'Surname': 'Madley', 'First Name': 'Laura', 'Mail': 'laura.madley@hogwarts.wiz', 'Enrolled study course': 'Defence Against the Dark Arts'}, '430394': {'Surname': 'Whitby', 'First Name': 'Kevin', 'Mail': 'kevin.whitby@hogwarts.wiz', 'Enrolled study course': 'Flying'}, '455237': {'Surname': 'Zeller', 'First Name': 'Rose', 'Mail': 'rose.zeller@hogwarts.wiz', 'Enrolled study course': 'Magical Theory'}, '481967': {'Surname': 'Higgs', 'First Name': 'Terence', 'Mail': 'terence.higgs@hogwarts.wiz', 'Enrolled study course': 'Muggle Art'}, '484881': {'Surname': 'Pucey', 'First Name': 'Adrian', 'Mail': 'adrian.pucey@hogwarts.wiz', 'Enrolled study course': 'Arithmancy'}, '430141': {'Surname': 'Davis', 'First Name': 'Tracey', 'Mail': 'tracey.davis@hogwarts.wiz', 'Enrolled study course': 'Flying'}, '449985': {'Surname': 'Moon', 'First Name': 'Lilian', 'Mail': 'lilian.moon@hogwarts.wiz', 'Enrolled study course': 'Art'}, '481904': {'Surname': 'Greengrass', 'First Name': 'Daphne', 'Mail': 'daphne.greengrass@hogwarts.wiz', 'Enrolled study course': 'Dark Arts'}, '446223': {'Surname': 'Nott', 'First Name': 'Theodore', 'Mail': 'theodore.nott@hogwarts.wiz', 'Enrolled study course': 'Potions'}, '469932': {'Surname': 'Greengrass', 'First Name': 'Astoria', 'Mail': 'astoria.greengrass@hogwarts.wiz', 'Enrolled study course': 'Dark Arts'}, '442966': {'Surname': 'Baddock', 'First Name': 'Malcolm', 'Mail': 'malcolm.baddock@hogwarts.wiz', 'Enrolled study course': 'Art'}, '412620': {'Surname': 'Pritchard', 'First Name': 'Graham', 'Mail': 'graham.pritchard@hogwarts.wiz', 'Enrolled study course': 'Divination'}}\n"
     ]
    }
   ],
   "source": [
    "import csv\n",
    "\n",
    "dict_of_students = {}\n",
    "\n",
    "with open(\"students_excel.csv\", \"r\") as f:\n",
    "    dict_reader = csv.DictReader(f)\n",
    "\n",
    "    for student in dict_reader:\n",
    "        mat_nr = student[\"Matriculation number\"]\n",
    "        del student[\"Matriculation number\"]\n",
    "        dict_of_students[mat_nr] = student\n",
    "\n",
    "print(dict_of_students)"
   ]
  },
  {
   "cell_type": "markdown",
   "metadata": {},
   "source": [
    "## Writing `dictionary` data to a `.csv` file\n",
    "\n",
    "Of course writing data back to a `.csv` file can be as important as reading. If you want to export a list of specific\n",
    "students from the above `dict_of_students`, you can use the *reverse* method `DictWriter` like shown below. Have a look\n",
    "at the code in the next cell, look at the [documentation](https://docs.python.org/3/library/csv.html#csv.DictWriter)\n",
    "of the function and try to make a prediction of what it will do.  \n",
    "Why are the arguments `newline` and `extrasaction` used?"
   ]
  },
  {
   "cell_type": "code",
   "execution_count": null,
   "metadata": {},
   "outputs": [
    {
     "name": "stdin",
     "output_type": "stream",
     "text": [
      "Please enter a matriculation number of a student you want to add to the exported file:  138762\n",
      "Please enter a matriculation number of a student you want to add to the exported file:  412620\n",
      "Please enter a matriculation number of a student you want to add to the exported file:  479579\n"
     ]
    }
   ],
   "source": [
    "import csv\n",
    "\n",
    "some_students = []\n",
    "\n",
    "for i in range(5):\n",
    "    stud_id = input(\n",
    "        \"Please enter a matriculation number of a student you want to add to the exported file: \"\n",
    "    )\n",
    "    if stud_id in dict_of_students:\n",
    "        some_students.append(dict_of_students[stud_id])\n",
    "\n",
    "# print(some_students)\n",
    "\n",
    "with open(\"some_students.csv\", \"w\", newline=\"\") as output_file:\n",
    "    field_names = [\"Surname\", \"First Name\", \"Mail\"]\n",
    "    writer = csv.DictWriter(output_file, field_names, extrasaction=\"ignore\")\n",
    "    writer.writerows(some_students)"
   ]
  }
 ],
 "metadata": {
  "interpreter": {
   "hash": "b89b5cfaba6639976dc87ff2fec6d58faec662063367e2c229c520fe71072417"
  },
  "kernelspec": {
   "display_name": "Python 3 (ipykernel)",
   "language": "python",
   "name": "python3"
  },
  "language_info": {
   "codemirror_mode": {
    "name": "ipython",
    "version": 3
   },
   "file_extension": ".py",
   "mimetype": "text/x-python",
   "name": "python",
   "nbconvert_exporter": "python",
   "pygments_lexer": "ipython3",
   "version": "3.10.2"
  }
 },
 "nbformat": 4,
 "nbformat_minor": 4
}
