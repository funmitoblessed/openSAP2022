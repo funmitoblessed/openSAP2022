{
 "cells": [
  {
   "cell_type": "markdown",
   "id": "2101aa60-ad56-4afc-9972-553c5904a906",
   "metadata": {},
   "source": [
    "# Bonus Exercise Week 3"
   ]
  },
  {
   "cell_type": "markdown",
   "id": "bcc74bb0-2209-4f2b-a452-482d3c9ad873",
   "metadata": {},
   "source": [
    "## Instructions:\n",
    "The bonus exercise builds upon the assignment of this week. Here is the description of this weeks exercise again:\n",
    "\n",
    "A Caesar cipher is a simple encryption technique. The encryption using a Ceasar cipher replaces a letter in the plain text with a letter that is a fixed number down in the alphabet. For example, with a shift of 5 the following substitutions would take place:\n",
    "\n",
    "a → f \\\n",
    "b → g \\\n",
    "c → h \\\n",
    "… \\\n",
    "v → a \\\n",
    "w → b \\\n",
    "… \\\n",
    "z → e\n",
    "\n",
    "Using this substitutions, a plain text can be encrypted:\n",
    "\n",
    "Plaintext: programming python is fun!\n",
    "Encrypted text: uwtlwfrrnsl udymts nx kzs!\n",
    "\n",
    "Your task for the bonus exercise is the implementation of a Caesar cipher with a variable shift. The program should ask the user for a number of characters for the shift first. Next the program should ask the user for a plain text sentence and print the encrypted text. Here is an example execution of the program:\n",
    "\n",
    "`Please enter the number of places to shift: 5` \\\n",
    "`Please enter a sentence: python is fun!` \\\n",
    "`The encrypted sentence is: udymts nx kzs!`\n",
    "\n",
    "Here is another execution of the program\n",
    "\n",
    "`Please enter the number of places to shift: 10` \\\n",
    "`Please enter a sentence: python is fun!` \\\n",
    "`The encrypted sentence is: zidryx sc pex!`\n",
    "\n",
    "And yet another one\n",
    "\n",
    "`Please enter the number of places to shift: 0` \\\n",
    "`Please enter a sentence: python is fun!` \\\n",
    "`The encrypted sentence is: python is fun!`\n",
    "\n",
    "Your program should check that only numbers between 0 and 25 are entered for the number of places to shift!\n",
    "\n",
    "`Please enter the number of places to shift: 60` \\\n",
    "`You need to enter a number between 0 and 25!`\n",
    "\n",
    "**Hints**\n",
    "\n",
    "The simple solution using a dictionary will not work for this exercise. Instead you need to build the substitution dynamically. This can be done using the find method and some calculations: abc = “abcdefghijklmnopqrstuvw” char_index = abc.find(“f”) encrypted_char = abc[char_index + 5]\n",
    "\n",
    "Note that in the example above there will be an error if char_index +5 is larger then 25. You need to use the modulo (%) operator to take care of this situation.\n",
    "\n",
    "In order to check if the user entered a number, the method isdecimal() can be used.\n",
    "\n",
    "To avoid handling upper and lower case letters it is best to first convert the user input to lower case. After that you only need to take into account lower case letters. A string can be converted into lower case using the .lower() method."
   ]
  },
  {
   "cell_type": "code",
   "execution_count": 3,
   "id": "80a21bca-7a88-452c-b7e1-285b7da5f943",
   "metadata": {},
   "outputs": [
    {
     "name": "stdin",
     "output_type": "stream",
     "text": [
      "Please enter the number of places to shift: 5\n",
      "Please enter a sentence: Python is fun!\n"
     ]
    },
    {
     "name": "stdout",
     "output_type": "stream",
     "text": [
      "The encrypted sentence is: udymts nx kzs! \n"
     ]
    }
   ],
   "source": [
    "letters = \"abcdefghijklmnopqrstuvwxyz\"\n",
    "letters_dict = {}\n",
    "shift_char = 0\n",
    "\n",
    "shift = input(\"Please enter the number of places to shift:\")\n",
    "\n",
    "if shift.isdecimal():\n",
    "    shift_char = int(shift)\n",
    "    \n",
    "    if shift_char > 25 or shift_char < 0:\n",
    "        print(\"You need to enter a number between 0 and 25!\")\n",
    "    elif shift_char == 0:\n",
    "        for letter in letters:\n",
    "            letters_dict[letter] = letters[letters.index(letter)]\n",
    "        sentence = input(\"Please enter a sentence:\").lower()\n",
    "        words = sentence.split()\n",
    "        new_word = []\n",
    "        for word in words:\n",
    "            for letter in word:\n",
    "                new_let = letters_dict.get(letter, letter)\n",
    "                new_word.append(new_let)\n",
    "            new_word.append(\" \")\n",
    "        print(\"The encrypted sentence is:\", \"\".join(new_word))\n",
    "    else:\n",
    "        for letter in letters:\n",
    "            letters_dict[letter] = letters[letters.index(letter) - 26 + shift_char]\n",
    "        sentence = input(\"Please enter a sentence:\").lower()\n",
    "        words = sentence.split()\n",
    "        new_word = []\n",
    "\n",
    "        for word in words:\n",
    "            for letter in word:\n",
    "                new_let = letters_dict.get(letter, letter)\n",
    "                new_word.append(new_let)\n",
    "            new_word.append(\" \")\n",
    "\n",
    "        print(\"The encrypted sentence is:\", \"\".join(new_word))   \n",
    "    \n",
    "else:\n",
    "    print(\"You need to enter a number between 0 and 25!\")"
   ]
  },
  {
   "cell_type": "code",
   "execution_count": 34,
   "id": "62924cfc-baea-45a1-b247-d290c1d972f2",
   "metadata": {},
   "outputs": [
    {
     "data": {
      "text/plain": [
       "{'a': 'f',\n",
       " 'b': 'g',\n",
       " 'c': 'h',\n",
       " 'd': 'i',\n",
       " 'e': 'j',\n",
       " 'f': 'k',\n",
       " 'g': 'l',\n",
       " 'h': 'm',\n",
       " 'i': 'n',\n",
       " 'j': 'o',\n",
       " 'k': 'p',\n",
       " 'l': 'q',\n",
       " 'm': 'r',\n",
       " 'n': 's',\n",
       " 'o': 't',\n",
       " 'p': 'u',\n",
       " 'q': 'v',\n",
       " 'r': 'w',\n",
       " 's': 'x',\n",
       " 't': 'y',\n",
       " 'u': 'z',\n",
       " 'v': 'a',\n",
       " 'w': 'b',\n",
       " 'x': 'c',\n",
       " 'y': 'd',\n",
       " 'z': 'e'}"
      ]
     },
     "execution_count": 34,
     "metadata": {},
     "output_type": "execute_result"
    }
   ],
   "source": [
    "letters_dict"
   ]
  },
  {
   "cell_type": "code",
   "execution_count": 35,
   "id": "678b9954-6722-4e37-857a-fc8880af8674",
   "metadata": {},
   "outputs": [
    {
     "data": {
      "text/plain": [
       "5"
      ]
     },
     "execution_count": 35,
     "metadata": {},
     "output_type": "execute_result"
    }
   ],
   "source": [
    "shift_char"
   ]
  },
  {
   "cell_type": "code",
   "execution_count": 36,
   "id": "67f1a26e-e8bd-4fb1-b516-7412d58474d5",
   "metadata": {},
   "outputs": [
    {
     "data": {
      "text/plain": [
       "'5'"
      ]
     },
     "execution_count": 36,
     "metadata": {},
     "output_type": "execute_result"
    }
   ],
   "source": [
    "shift"
   ]
  },
  {
   "cell_type": "code",
   "execution_count": 37,
   "id": "9ba3db5a-c39d-4d1c-9ba2-20c4f086fed1",
   "metadata": {},
   "outputs": [
    {
     "data": {
      "text/plain": [
       "['u', 'd', 'y', 'm', 't', 's', ' ', 'n', 'x', ' ', 'k', 'z', 's', '!', ' ']"
      ]
     },
     "execution_count": 37,
     "metadata": {},
     "output_type": "execute_result"
    }
   ],
   "source": [
    "new_word"
   ]
  },
  {
   "cell_type": "code",
   "execution_count": 38,
   "id": "6ea1de66-295f-4b21-bfd8-17b090d1e091",
   "metadata": {},
   "outputs": [
    {
     "data": {
      "text/plain": [
       "'!'"
      ]
     },
     "execution_count": 38,
     "metadata": {},
     "output_type": "execute_result"
    }
   ],
   "source": [
    "new_let"
   ]
  },
  {
   "cell_type": "code",
   "execution_count": 1,
   "id": "50175090-fd5d-4455-8e38-fe138f1ada68",
   "metadata": {},
   "outputs": [
    {
     "name": "stdin",
     "output_type": "stream",
     "text": [
      "Please enter the number of places to shift: 5\n",
      "Please enter a sentence:  Python is fun!\n"
     ]
    },
    {
     "name": "stdout",
     "output_type": "stream",
     "text": [
      "The encrypted sentence is:  udymts nx kzs!\n"
     ]
    }
   ],
   "source": [
    "# Review\n",
    "\n",
    "alfabet = \"abcdefghijklmnopqrstuvwxyz\"\n",
    "shift = \"x\"\n",
    "while not (shift.isdecimal()):\n",
    "    shift = input(\"Please enter the number of places to shift:\")\n",
    "\n",
    "shift = int(shift)\n",
    "if shift >= 0 and shift <= 25:\n",
    "    sentence = input(\"Please enter a sentence: \")\n",
    "    sentence = sentence.lower()\n",
    "    encrypted_sentence = \"\"\n",
    "    for letter in sentence:\n",
    "        char_index = alfabet.find(letter)\n",
    "        if char_index == -1:\n",
    "            encrypted_sentence += letter\n",
    "        else:\n",
    "            #shift_index = (char_index + shift)%25\n",
    "            encrypted_sentence += alfabet[(char_index + shift)%26]\n",
    "    print(\"The encrypted sentence is: \", encrypted_sentence)\n",
    "else:    \n",
    "    print(\"You need to enter a number between 0 and 25!\")"
   ]
  },
  {
   "cell_type": "markdown",
   "id": "4f510e05-f856-4734-8b65-6745095891b5",
   "metadata": {},
   "source": [
    "The code produces the right result, but got a functional error that there was no shift_value test at the start of the code. The solution will be to place the test right at the start of the program"
   ]
  }
 ],
 "metadata": {
  "kernelspec": {
   "display_name": "Python 3 (ipykernel)",
   "language": "python",
   "name": "python3"
  },
  "language_info": {
   "codemirror_mode": {
    "name": "ipython",
    "version": 3
   },
   "file_extension": ".py",
   "mimetype": "text/x-python",
   "name": "python",
   "nbconvert_exporter": "python",
   "pygments_lexer": "ipython3",
   "version": "3.10.2"
  }
 },
 "nbformat": 4,
 "nbformat_minor": 5
}
