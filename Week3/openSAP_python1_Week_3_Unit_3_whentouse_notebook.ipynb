{
 "cells": [
  {
   "cell_type": "markdown",
   "metadata": {},
   "source": [
    "# When to use lists, tuples and dictionaries\n",
    "\n",
    "So far, we have introduced three complex data types, i.e. `list`, `tuple`, and `dictionary`. In principal, these data\n",
    "types are interchangeable.[<sup id=\"fn1-back\">1</sup>](#fn1)\n",
    "\n",
    "For example, every list could be simulated with a dictionary. To achieve this, one could use the index of a list item as\n",
    "the key of a dictionary. However, this approach would make some operations very difficult. E.g. if you delete an item in\n",
    "a list, all subsequent indices will be decreased by one. You could simulate that behaviour with a dictionary, however it\n",
    "will require a complex operation. The same is true for lists and tuples. You could simulate each tuple with a list.\n",
    "Actually, you will gain some more freedom as the immutability, which is part of a `tuple`, will disappear. So why not\n",
    "use a list right from the beginning, if it offers more possibilities? What is the advantage of having different complex\n",
    "data types? Or when should which data type be used?\n",
    "\n",
    "The following proposals are based on personal experiences and personal programming styles. They should not be taken as\n",
    "*the truth* but simply as a recommendation.\n",
    "These recommendation might not be shared by other programmers.[<sup id=\"fn2-back\">2</sup>](#fn2) But that is okay ...\n",
    "\n",
    "\n",
    "## Lists should be used for many objects\n",
    "\n",
    "It is possible to have completely different items, i.e. items with different data types in one list. For example,\n",
    "`[23, \"abc\", True, (\"a\", \"b\", \"c\")]` is a well defined list in Python. But handling these kind of lists is very\n",
    "difficult. If, however, all elements have the same data type, handling of the list is simplified. In the latter case,\n",
    "the programmer can be sure which data type is contained in the list and which functions and methods can be used. Take\n",
    "the telephone list from the previous notebook as an example. If you go through the list and process each element, then\n",
    "you know it is a telephone number (i.e. an integer). So limiting yourself in NOT having elements of different data types\n",
    "simplifies your life as a programmer.\n",
    "\n",
    "In the following example, the list `numbers` just contains integer. The following 'for' loop makes use of this knowledge\n",
    "and divides (integer division `//`) all values by 2. If the list would contain other data types like strings or lists,\n",
    "this operation would lead to an error."
   ]
  },
  {
   "cell_type": "code",
   "execution_count": 1,
   "metadata": {},
   "outputs": [
    {
     "name": "stdout",
     "output_type": "stream",
     "text": [
      "1\n",
      "2\n",
      "4\n",
      "8\n",
      "16\n",
      "32\n"
     ]
    }
   ],
   "source": [
    "numbers = [2, 4, 8, 16, 32, 64]\n",
    "for i in numbers:\n",
    "    print(i // 2)"
   ]
  },
  {
   "cell_type": "markdown",
   "metadata": {},
   "source": [
    "## Tuples should be used for complex objects\n",
    "\n",
    "As argued in the first notebook of this week, tuples should be used for complex objects. I.e. for objects which require\n",
    "several attributes to be described. Take the students as an example: Each student is described by name, first name,\n",
    "e-mail, student-ID, course of study, address, etc. For each student, these attributes are the same. So a tuple can be\n",
    "used to represent each student. \n",
    "\n",
    "If the program needs to handle multiple students, the tuples representing each student can be stored in a list. So the\n",
    "combination of lists and tuples, i.e. lists of tuples is a good means to handle multiple complex objects of the same\n",
    "type.\n",
    "\n",
    "This combination, list of tuples, works nicely to access data data from csv files (*csv = comma separated values*), a\n",
    "common data format."
   ]
  },
  {
   "cell_type": "code",
   "execution_count": 2,
   "metadata": {},
   "outputs": [
    {
     "name": "stdout",
     "output_type": "stream",
     "text": [
      "Philosophy\n",
      "Mechanical Engineering\n",
      "Medicine\n"
     ]
    }
   ],
   "source": [
    "student_1 = (\"Dylan\", \"Bob\", 334455, \"Philosophy\")\n",
    "student_2 = (\"Cobain\", \"Kurt\", 987654, \"Mechanical Engineering\")\n",
    "student_3 = (\"Winehouse\", \"Amy\", 123321, \"Medicine\")\n",
    "list_of_students = [student_1, student_2, student_3]\n",
    "\n",
    "for s in list_of_students:\n",
    "    print(s[3])"
   ]
  },
  {
   "cell_type": "markdown",
   "metadata": {},
   "source": [
    "## If there is an ID, take a dictionary instead of a list\n",
    "\n",
    "If the objects that need to be handled have a unique ID, a dictionary might be an option. In this case, the objects can\n",
    "then directly be accessed by their IDs. It is therefore not necessary to search through the object you are looking for. \n",
    "\n",
    "Again take the students as an example. Each student has a unique student-ID. Often, handling of students is done by\n",
    "using the student-ID rather then the name of the student. This helps for example to avoid mixing up students having the\n",
    "same name. In contrast to names, student-IDs are (by definition) unique. So in case of the students, better take a\n",
    "dictionary of tuples.\n",
    "\n",
    "A dictionary of tuples might be an option if you get your data from a relational databases. These databases are\n",
    "organized in the same way. Each data record has the same structure. Each record has a unique ID. This ID can be used as\n",
    "the key in a dictionary, the rest of the record is stored into a tuple which becomes the value of the key-value pair."
   ]
  },
  {
   "cell_type": "code",
   "execution_count": 3,
   "metadata": {},
   "outputs": [
    {
     "name": "stdout",
     "output_type": "stream",
     "text": [
      "334455 Philosophy\n",
      "987654 Mechanical Engineering\n",
      "123321 Medicine\n"
     ]
    }
   ],
   "source": [
    "student_1 = (\"Dylan\", \"Bob\", \"Philosophy\")\n",
    "student_2 = (\"Cobain\", \"Kurt\", \"Mechanical Engineering\")\n",
    "student_3 = (\"Winehouse\", \"Amy\", \"Medicine\")\n",
    "\n",
    "dict_of_students = {}\n",
    "dict_of_students[334455] = student_1\n",
    "dict_of_students[987654] = student_2\n",
    "dict_of_students[123321] = student_3\n",
    "\n",
    "for student_ID in dict_of_students:\n",
    "    print(student_ID, dict_of_students[student_ID][2])"
   ]
  },
  {
   "cell_type": "markdown",
   "metadata": {},
   "source": [
    "## If complex objects differ in their attributes, take a dictionary instead of the tuple\n",
    "\n",
    "In contrast to tuples, dictionaries offer more flexibility to describe objects. Again take the students as an example.\n",
    "If you have students from different departments, then they will take different classes and get marks in different\n",
    "modules. In this case, dictionaries could be used instead of tuples. If there is no ID, then a list of dictionaries\n",
    "could be taken, if a student-ID is available, then a dictionary of dictionaries could be an option. \n",
    "\n",
    "But even more complex combinations could be a choice. Take again the students as an example. There are lots of students,\n",
    "which all have the same attributes like name, first-name, e-mail, ... Here a tuple would be fine. However, these\n",
    "students are studying different courses. The taken modules and the achieved results are different from student to\n",
    "student. Here a dictionary would be preferable. However, tuple and dictionary could be combined as follows: The student\n",
    "data is stored in a tuple, however one element of the tuple, containing the marks of this student, is a dictionary. So\n",
    "you end up with a list of tuples, where one element of the tuple is a dictionary. Puuh.\n",
    "\n",
    "You see, there are lot of different options. But choosing a well suited data structure often simplifies your life as\n",
    "programmer. So, better think twice when deciding how to structure your data."
   ]
  },
  {
   "cell_type": "code",
   "execution_count": 4,
   "metadata": {},
   "outputs": [
    {
     "name": "stdout",
     "output_type": "stream",
     "text": [
      "('Dylan', 'Bob', 334455, 'Philosophy', {'Logic': 'A', 'Ethics': 'B'})\n",
      "('Cobain', 'Kurt', 987654, 'Mechanical Engineering', {'Math': 'B'})\n",
      "('Winehouse', 'Amy', 123321, 'Medicine', {'Math': 'B', 'Chemistry': 'C'})\n"
     ]
    }
   ],
   "source": [
    "s1 = (\"Dylan\", \"Bob\", 334455, \"Philosophy\", {\"Logic\": \"A\", \"Ethics\": \"B\"})\n",
    "s2 = (\"Cobain\", \"Kurt\", 987654, \"Mechanical Engineering\", {\"Math\": \"B\"})\n",
    "s3 = (\"Winehouse\", \"Amy\", 123321, \"Medicine\", {\"Math\": \"B\", \"Chemistry\": \"C\"})\n",
    "\n",
    "l_of_students = [s1, s2, s3]\n",
    "for s in l_of_students:\n",
    "    print(s)"
   ]
  },
  {
   "cell_type": "markdown",
   "metadata": {},
   "source": [
    "# Exercise 1: List of Tuples\n",
    "\n",
    "In the following cell, a list of students is given. All students are defined using a tuple. Implement some `input()`\n",
    "statements asking for the data of a new student. All the data is combined into a tuple, the tuple is then appended to\n",
    "the `list_of_students`. Finally the whole list is printed out using a `for` loop, which iterates over the list.\n",
    "\n",
    "Example Input:\n",
    "```\n",
    "    Name: Weasley\n",
    "    Firstname: Ginney\n",
    "    ...\n",
    "```\n",
    "\n",
    "Example Output:\n",
    "```\n",
    "    (\"Potter\", \"Harry\", 477264, \"harry@hogwarts.wiz\", \"Defence Against the Dark Arts\")\n",
    "    (\"Weasley\", \"Ron\", 490134, \"ron@hogwarts.wiz\", \"Care of Magical Creatures\")\n",
    "    ...\n",
    "```\n",
    "    "
   ]
  },
  {
   "cell_type": "code",
   "execution_count": 5,
   "metadata": {},
   "outputs": [],
   "source": [
    "list_of_students = [\n",
    "    (\"Potter\", \"Harry\", 477264, \"harry@hogwarts.wiz\", \"Defence Against the Dark Arts\"),\n",
    "    (\"Weasley\", \"Ron\", 490134, \"ron@hogwarts.wiz\", \"Care of Magical Creatures\"),\n",
    "    (\"Granger\", \"Hermione\", 471617, \"hermione@hogwarts.wiz\", \"Alchemy\"),\n",
    "    (\"Creevey\", \"Colin\", 432646, \"colin@hogwarts.wiz\", \"Music\"),\n",
    "    (\"Finnigan\", \"Seamus\", 481989, \"seamus@hogwarts.wiz\", \"Ancient Studies\"),\n",
    "    (\"Abbott\", \"Hannah\", 488962, \"hannah@hogwarts.wiz\", \"Apparition\"),\n",
    "    (\"Parkinson\", \"Pansy\", 482103, \"pansy@hogwarts.wiz\", \"Dark Arts\"),\n",
    "    (\"Malfoy\", \"Draco\", 492010, \"draco@hogwarts.wiz\", \"Defence Against the Dark Arts\"),\n",
    "    (\"Thomas\", \"Dean\", 447924, \"dean.thomas@hogwarts.wiz\", \"Divination\"),\n",
    "]"
   ]
  },
  {
   "cell_type": "code",
   "execution_count": 6,
   "metadata": {},
   "outputs": [
    {
     "name": "stdin",
     "output_type": "stream",
     "text": [
      "Name:  Odefemi\n",
      "First Name:  Oluwafunmito\n",
      "Student ID:  138762\n",
      "E-Mail:  funmitoblessed@texas.edu\n",
      "Module:  PHY 780\n"
     ]
    },
    {
     "name": "stdout",
     "output_type": "stream",
     "text": [
      "('Potter', 'Harry', 477264, 'harry@hogwarts.wiz', 'Defence Against the Dark Arts')\n",
      "('Weasley', 'Ron', 490134, 'ron@hogwarts.wiz', 'Care of Magical Creatures')\n",
      "('Granger', 'Hermione', 471617, 'hermione@hogwarts.wiz', 'Alchemy')\n",
      "('Creevey', 'Colin', 432646, 'colin@hogwarts.wiz', 'Music')\n",
      "('Finnigan', 'Seamus', 481989, 'seamus@hogwarts.wiz', 'Ancient Studies')\n",
      "('Abbott', 'Hannah', 488962, 'hannah@hogwarts.wiz', 'Apparition')\n",
      "('Parkinson', 'Pansy', 482103, 'pansy@hogwarts.wiz', 'Dark Arts')\n",
      "('Malfoy', 'Draco', 492010, 'draco@hogwarts.wiz', 'Defence Against the Dark Arts')\n",
      "('Thomas', 'Dean', 447924, 'dean.thomas@hogwarts.wiz', 'Divination')\n",
      "('Odefemi', 'Oluwafunmito', 138762, 'funmitoblessed@texas.edu', 'PHY 780')\n"
     ]
    }
   ],
   "source": [
    "name = input(\"Name: \")\n",
    "first_name = input(\"First Name: \")\n",
    "stud_ID = int(input(\"Student ID: \"))\n",
    "email = input(\"E-Mail: \")\n",
    "module = input(\"Module: \")\n",
    "\n",
    "student = (name, first_name, stud_ID, email, module)\n",
    "\n",
    "list_of_students.append(student)\n",
    "\n",
    "for student in list_of_students:\n",
    "    print(student)"
   ]
  },
  {
   "cell_type": "markdown",
   "metadata": {},
   "source": [
    "# Exercise 2: Transform the above list into a dictionary\n",
    "\n",
    "Take the `list_of_students` from the above exercise and transform it into a dictionary of tuples. Each student will\n",
    "still be stored as a `tuple`. However the third element - the ID - should be used as the key from the dictionary. That\n",
    "means a new `tuple` should be created, which contains all the elements from the old student `tuple`, but not the ID."
   ]
  },
  {
   "cell_type": "code",
   "execution_count": 7,
   "metadata": {},
   "outputs": [
    {
     "name": "stdout",
     "output_type": "stream",
     "text": [
      "477264 ('Potter', 'Harry', 'harry@hogwarts.wiz', 'Defence Against the Dark Arts')\n",
      "490134 ('Weasley', 'Ron', 'ron@hogwarts.wiz', 'Care of Magical Creatures')\n",
      "471617 ('Granger', 'Hermione', 'hermione@hogwarts.wiz', 'Alchemy')\n",
      "432646 ('Creevey', 'Colin', 'colin@hogwarts.wiz', 'Music')\n",
      "481989 ('Finnigan', 'Seamus', 'seamus@hogwarts.wiz', 'Ancient Studies')\n",
      "488962 ('Abbott', 'Hannah', 'hannah@hogwarts.wiz', 'Apparition')\n",
      "482103 ('Parkinson', 'Pansy', 'pansy@hogwarts.wiz', 'Dark Arts')\n",
      "492010 ('Malfoy', 'Draco', 'draco@hogwarts.wiz', 'Defence Against the Dark Arts')\n",
      "447924 ('Thomas', 'Dean', 'dean.thomas@hogwarts.wiz', 'Divination')\n",
      "138762 ('Odefemi', 'Oluwafunmito', 'funmitoblessed@texas.edu', 'PHY 780')\n"
     ]
    }
   ],
   "source": [
    "dict_of_students = {}\n",
    "\n",
    "for student in list_of_students:\n",
    "    new_student = (student[0], student[1], student[3], student[4])\n",
    "    dict_of_students[student[2]] = new_student\n",
    "    \n",
    "for stud_ID in dict_of_students:\n",
    "    print(stud_ID, dict_of_students[stud_ID])"
   ]
  },
  {
   "cell_type": "code",
   "execution_count": 8,
   "metadata": {},
   "outputs": [
    {
     "data": {
      "text/plain": [
       "{477264: ('Potter',\n",
       "  'Harry',\n",
       "  'harry@hogwarts.wiz',\n",
       "  'Defence Against the Dark Arts'),\n",
       " 490134: ('Weasley', 'Ron', 'ron@hogwarts.wiz', 'Care of Magical Creatures'),\n",
       " 471617: ('Granger', 'Hermione', 'hermione@hogwarts.wiz', 'Alchemy'),\n",
       " 432646: ('Creevey', 'Colin', 'colin@hogwarts.wiz', 'Music'),\n",
       " 481989: ('Finnigan', 'Seamus', 'seamus@hogwarts.wiz', 'Ancient Studies'),\n",
       " 488962: ('Abbott', 'Hannah', 'hannah@hogwarts.wiz', 'Apparition'),\n",
       " 482103: ('Parkinson', 'Pansy', 'pansy@hogwarts.wiz', 'Dark Arts'),\n",
       " 492010: ('Malfoy',\n",
       "  'Draco',\n",
       "  'draco@hogwarts.wiz',\n",
       "  'Defence Against the Dark Arts'),\n",
       " 447924: ('Thomas', 'Dean', 'dean.thomas@hogwarts.wiz', 'Divination'),\n",
       " 138762: ('Odefemi', 'Oluwafunmito', 'funmitoblessed@texas.edu', 'PHY 780')}"
      ]
     },
     "execution_count": 8,
     "metadata": {},
     "output_type": "execute_result"
    }
   ],
   "source": [
    "dict_of_students"
   ]
  },
  {
   "cell_type": "markdown",
   "metadata": {},
   "source": [
    "# Exercise 3: Transform the dictionary of tuples into a dictionary of dictionaries\n",
    "\n",
    "Again take the result of the last exercise. With a `for` loop iterate over the dictionary. The value is always a\n",
    "`tuple`. This `tuple` should be transformed into dictionary. Choose appropriate names for each entry."
   ]
  },
  {
   "cell_type": "code",
   "execution_count": 9,
   "metadata": {},
   "outputs": [
    {
     "name": "stdout",
     "output_type": "stream",
     "text": [
      "477264 {'name': 'Potter', 'first_name': 'Harry', 'E-Mail': 'harry@hogwarts.wiz', 'Module': 'Defence Against the Dark Arts'}\n",
      "490134 {'name': 'Weasley', 'first_name': 'Ron', 'E-Mail': 'ron@hogwarts.wiz', 'Module': 'Care of Magical Creatures'}\n",
      "471617 {'name': 'Granger', 'first_name': 'Hermione', 'E-Mail': 'hermione@hogwarts.wiz', 'Module': 'Alchemy'}\n",
      "432646 {'name': 'Creevey', 'first_name': 'Colin', 'E-Mail': 'colin@hogwarts.wiz', 'Module': 'Music'}\n",
      "481989 {'name': 'Finnigan', 'first_name': 'Seamus', 'E-Mail': 'seamus@hogwarts.wiz', 'Module': 'Ancient Studies'}\n",
      "488962 {'name': 'Abbott', 'first_name': 'Hannah', 'E-Mail': 'hannah@hogwarts.wiz', 'Module': 'Apparition'}\n",
      "482103 {'name': 'Parkinson', 'first_name': 'Pansy', 'E-Mail': 'pansy@hogwarts.wiz', 'Module': 'Dark Arts'}\n",
      "492010 {'name': 'Malfoy', 'first_name': 'Draco', 'E-Mail': 'draco@hogwarts.wiz', 'Module': 'Defence Against the Dark Arts'}\n",
      "447924 {'name': 'Thomas', 'first_name': 'Dean', 'E-Mail': 'dean.thomas@hogwarts.wiz', 'Module': 'Divination'}\n",
      "138762 {'name': 'Odefemi', 'first_name': 'Oluwafunmito', 'E-Mail': 'funmitoblessed@texas.edu', 'Module': 'PHY 780'}\n"
     ]
    }
   ],
   "source": [
    "for s_ID in dict_of_students:\n",
    "    dict_of_students[s_ID] = {\"name\" : dict_of_students[s_ID][0],\n",
    "                                \"first_name\" : dict_of_students[s_ID][1],\n",
    "                                \"E-Mail\" : dict_of_students[s_ID][2],\n",
    "                                \"Module\" : dict_of_students[s_ID][3]\n",
    "                             }\n",
    "    \n",
    "for s_ID in dict_of_students:\n",
    "    print(s_ID, dict_of_students[s_ID])"
   ]
  },
  {
   "cell_type": "markdown",
   "metadata": {},
   "source": [
    "# Footnote\n",
    "[<sup id=\"fn1\">1</sup>](#fn1-back) Of course using a list instead of a dictionary or vice versa might have severe\n",
    "implications on the performance and memory usage of your program. However, a detailed discussion of the advantages and\n",
    "disadvantages of the list, tuples and dictionaries is beyond the scope of this course. \n",
    "\n",
    "[<sup id=\"fn2\">2</sup>](#fn2-back) Stephan and Christian had quite a few discussions about these recommendations. And\n",
    "they still are not in a complete agreement 😉."
   ]
  },
  {
   "cell_type": "markdown",
   "metadata": {},
   "source": [
    "# Self Test"
   ]
  },
  {
   "cell_type": "markdown",
   "metadata": {},
   "source": [
    "### Question 1\n",
    "`2.0 Pts`\n",
    "\n",
    "Which of the following statements about lists, tuples, and dictionaries are correct?\n",
    "\n",
    "*Note: There are 3 correct answers to this question.*\n",
    "\n",
    "A dictionary should be chosen if there is a natural key like a student-ID or a unique number. `correct` \n",
    "\n",
    "The data type for complex data should be carefully chosen, as this decision has an impact on the implementation of the program. `correct` \n",
    "\n",
    "Tuples of lists is an often used pattern in programming. \n",
    "\n",
    "If you have data about students and each data set for a student is structured in the same way (e.g. name, firstname, e-mail), then a list of tuples can be used to handle this data. `correct` \n",
    "\n",
    "If there are many attributes to describe a complex object and these attributes vary from object to object (in other words, each object has slightly different attributes), then tuples are a good choice."
   ]
  },
  {
   "cell_type": "markdown",
   "metadata": {},
   "source": [
    "### Question 2\n",
    "`1.0 Pts`\n",
    "\n",
    "What is the value of variable `a` after the following statements have been executed?\n",
    "\n",
    "Harry \n",
    "\n",
    "Hermione \n",
    "\n",
    "Index error `correct` \n",
    "\n",
    "Key error"
   ]
  },
  {
   "cell_type": "code",
   "execution_count": 10,
   "metadata": {},
   "outputs": [
    {
     "ename": "IndexError",
     "evalue": "list index out of range",
     "output_type": "error",
     "traceback": [
      "\u001b[1;31m------------------------------------------------------------\u001b[0m",
      "\u001b[1;31mIndexError\u001b[0m                 Traceback (most recent call last)",
      "Input \u001b[1;32mIn [10]\u001b[0m, in \u001b[0;36m<cell line: 2>\u001b[1;34m()\u001b[0m\n\u001b[0;32m      1\u001b[0m studs \u001b[38;5;241m=\u001b[39m [(\u001b[38;5;241m123\u001b[39m, \u001b[38;5;124m\"\u001b[39m\u001b[38;5;124mHarry\u001b[39m\u001b[38;5;124m\"\u001b[39m), (\u001b[38;5;241m234\u001b[39m, \u001b[38;5;124m\"\u001b[39m\u001b[38;5;124mHermione\u001b[39m\u001b[38;5;124m\"\u001b[39m), (\u001b[38;5;241m345\u001b[39m, \u001b[38;5;124m\"\u001b[39m\u001b[38;5;124mRon\u001b[39m\u001b[38;5;124m\"\u001b[39m)]\n\u001b[1;32m----> 2\u001b[0m a \u001b[38;5;241m=\u001b[39m \u001b[43mstuds\u001b[49m\u001b[43m[\u001b[49m\u001b[38;5;241;43m123\u001b[39;49m\u001b[43m]\u001b[49m[\u001b[38;5;241m1\u001b[39m]\n\u001b[0;32m      4\u001b[0m \u001b[38;5;28mprint\u001b[39m(a)\n",
      "\u001b[1;31mIndexError\u001b[0m: list index out of range"
     ]
    }
   ],
   "source": [
    "studs = [(123, \"Harry\"), (234, \"Hermione\"), (345, \"Ron\")]\n",
    "a = studs[123][1]\n",
    "\n",
    "print(a)"
   ]
  },
  {
   "cell_type": "code",
   "execution_count": null,
   "metadata": {},
   "outputs": [],
   "source": []
  }
 ],
 "metadata": {
  "file_extension": ".py",
  "interpreter": {
   "hash": "ac59ebe37160ed0dfa835113d9b8498d9f09ceb179beaac4002f036b9467c963"
  },
  "kernelspec": {
   "display_name": "Python 3 (ipykernel)",
   "language": "python",
   "name": "python3"
  },
  "language_info": {
   "codemirror_mode": {
    "name": "ipython",
    "version": 3
   },
   "file_extension": ".py",
   "mimetype": "text/x-python",
   "name": "python",
   "nbconvert_exporter": "python",
   "pygments_lexer": "ipython3",
   "version": "3.10.2"
  },
  "mimetype": "text/x-python",
  "name": "python",
  "npconvert_exporter": "python",
  "pygments_lexer": "ipython3",
  "version": 3
 },
 "nbformat": 4,
 "nbformat_minor": 4
}
