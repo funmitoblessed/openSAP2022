{
 "cells": [
  {
   "cell_type": "markdown",
   "id": "48e031dd-cce9-4fb8-b66f-7e64faf41739",
   "metadata": {},
   "source": [
    "# Assignment Week 3 (Part 2 - Exercise)"
   ]
  },
  {
   "cell_type": "markdown",
   "id": "a96e95b7-91ed-4982-9984-b2f3832bea6a",
   "metadata": {},
   "source": [
    "## Instructions:\n",
    "A Caesar cipher is a simple encryption technique. The encryption using a Ceasar cipher replaces a letter in the plain text with a letter that is a fixed number down in the alphabet. For example, with a shift of 5 the following substitutions would take place:\n",
    "\n",
    "a → f \\\n",
    "b → g \\\n",
    "c → h \\\n",
    "… \\\n",
    "v → a \\\n",
    "w → b \\\n",
    "… \\\n",
    "z → e\n",
    "\n",
    "Using this substitutions, a plain text can be encrypted:\n",
    "\n",
    "Plaintext: programming python is fun!\n",
    "Encrypted text: uwtlwfrrnsl udymts nx kzs!\n",
    "\n",
    "Your task for the assignment is to implement a Caesar cipher with a shift of 5. The program should ask the user for a plain text sentence and print the encrypted text.\n",
    "\n",
    "Here is an example execution of the program:\n",
    "\n",
    "`Please enter a sentence: python is fun!` \\\n",
    "`The encrypted sentence is: udymts nx kzs!`\n",
    "\n",
    "Note that your program should not encrypt special characters like a space or an exclamation mark. If no substitution is defined for a character, the plain text character is used in the encryption as well (e.g. the ! in the example above).\n",
    "\n",
    "**Hint**\n",
    "1. There are several approaches to solve this exercise. The simplest solution would be to create a dictionary containing the necessary substitutions.\n",
    "2. To avoid handling upper and lower case letters it is best to first convert the user input to lower case. After that you only need to take into account lower case letters. A string can be converted into lower case using the `.lower()` method.\n",
    "\n",
    "The result of the following example\n",
    "\n",
    "`s = \"TEST\"` \\\n",
    "`s = s.lower()` \\\n",
    "`print(s)`\n",
    "\n",
    "is:\n",
    "\n",
    "`test`"
   ]
  },
  {
   "cell_type": "code",
   "execution_count": 150,
   "id": "3230a09b-18c5-4119-a92f-b55c2a013369",
   "metadata": {},
   "outputs": [
    {
     "name": "stdin",
     "output_type": "stream",
     "text": [
      "Please enter a sentence: Python is fun!\n"
     ]
    },
    {
     "name": "stdout",
     "output_type": "stream",
     "text": [
      "udymts nx kzs! \n"
     ]
    }
   ],
   "source": [
    "letters = \"abcdefghijklmnopqrstuvwxyz\"\n",
    "\n",
    "letters_dict = {}\n",
    "for letter in letters:\n",
    "    letters_dict[letter] = letters[letters.index(letter) - 21]\n",
    "    \n",
    "sentence = input(\"Please enter a sentence:\").lower()\n",
    "words = sentence.split()\n",
    "new_word = []\n",
    "\n",
    "for word in words:\n",
    "    for letter in word:\n",
    "        new_let = letters_dict.get(letter, letter)\n",
    "        new_word.append(new_let)\n",
    "    new_word.append(\" \")\n",
    "        \n",
    "print(\"\".join(new_word))"
   ]
  },
  {
   "cell_type": "code",
   "execution_count": null,
   "id": "9f4f56d1-4134-4341-8dfa-8862cb8f7b35",
   "metadata": {},
   "outputs": [],
   "source": []
  }
 ],
 "metadata": {
  "kernelspec": {
   "display_name": "Python 3 (ipykernel)",
   "language": "python",
   "name": "python3"
  },
  "language_info": {
   "codemirror_mode": {
    "name": "ipython",
    "version": 3
   },
   "file_extension": ".py",
   "mimetype": "text/x-python",
   "name": "python",
   "nbconvert_exporter": "python",
   "pygments_lexer": "ipython3",
   "version": "3.10.2"
  }
 },
 "nbformat": 4,
 "nbformat_minor": 5
}
