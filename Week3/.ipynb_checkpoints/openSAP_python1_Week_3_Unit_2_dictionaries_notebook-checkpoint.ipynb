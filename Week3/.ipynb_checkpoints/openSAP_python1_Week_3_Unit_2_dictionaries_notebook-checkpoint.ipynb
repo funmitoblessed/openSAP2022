{
 "cells": [
  {
   "cell_type": "markdown",
   "metadata": {},
   "source": [
    "# What are dictionaries?\n",
    "\n",
    "Within a `list` and a `tuple`, the elements are accessed using the index. This leads to the following drawback: If you\n",
    "want to access a specific element, you have to know at which index it is stored. Knowing the index of specific elements\n",
    "can become even more complicated when other element are deleted or added. In this case the index of all following\n",
    "elements changes. As a consequence, accessing elements using their index can make programming really cumbersome.\n",
    "\n",
    "\n",
    "## Accessing elements by name\n",
    "\n",
    "This problem is solved by *dictionaries*. Dictionaries are similar to lists and tuples in that they can handle multiple\n",
    "elements. The big difference is: Within a dictionary, the elements are not accessed by their index, but by *name*.\n",
    "\n",
    "What does this mean? Take the telephone book as an example. A telephone book collects lots of telephone numbers and each\n",
    "of this number is assigned to a name:\n",
    "\n",
    "| Name         | Telephone Number |\n",
    "| :----------- | ---------------: |\n",
    "| P. McCartney |          123 456 |\n",
    "| J. Lennon    |      987 654 321 |\n",
    "| G. Harrison  |       11 342 555 |\n",
    "| R. Starr     |       777 888 32 |\n",
    "\n",
    "Within the telephone book, you do **not** look for the third element but you look for the number belonging to *G. Harrison*.\n",
    "Actually, you want to get the number by just using the name. \n",
    "\n",
    "Accessing an element by name is what dictionaries are good for. Instead of *name*, the more general term *key* is used.\n",
    "\n",
    "\n",
    "# Using dictionaries\n",
    "\n",
    "A dictionary consists of so-called key-value pairs. Dictionaries are represented by curly braces `{}`. The braces\n",
    "contain the individual key-value pairs separated by commas. Each key-value pair is represented as follows: `key: value`.  \n",
    "A dictionary therefore looks like this: `{key1: value1, key2: value2, ..., keyN: valueN}`. Have a look at the following\n",
    "example:"
   ]
  },
  {
   "cell_type": "code",
   "execution_count": 1,
   "metadata": {},
   "outputs": [
    {
     "name": "stdout",
     "output_type": "stream",
     "text": [
      "{'P. McCartney': 123456, 'J. Lennon': 987654321, 'G. Harrison': 11342555, 'R. Starr': 77788832}\n"
     ]
    }
   ],
   "source": [
    "phone_book = {\n",
    "    \"P. McCartney\": 123456,\n",
    "    \"J. Lennon\": 987654321,\n",
    "    \"G. Harrison\": 11342555,\n",
    "    \"R. Starr\": 77788832,\n",
    "}\n",
    "print(phone_book)"
   ]
  },
  {
   "cell_type": "markdown",
   "metadata": {},
   "source": [
    "Now it is possible to access individual elements of `phone_book` by the key, i.e. by the name of the person. To do that,\n",
    "the key has to be placed in square brackets `[ ]` right after the name of the dictionary."
   ]
  },
  {
   "cell_type": "code",
   "execution_count": 2,
   "metadata": {},
   "outputs": [
    {
     "name": "stdout",
     "output_type": "stream",
     "text": [
      "11342555\n"
     ]
    }
   ],
   "source": [
    "print(phone_book[\"G. Harrison\"])"
   ]
  },
  {
   "cell_type": "markdown",
   "metadata": {},
   "source": [
    "To access the elements by index is *not* possible as the following example demonstrates."
   ]
  },
  {
   "cell_type": "code",
   "execution_count": null,
   "metadata": {},
   "outputs": [],
   "source": [
    "print(phone_book[2])"
   ]
  },
  {
   "cell_type": "markdown",
   "metadata": {},
   "source": [
    "It is not possible to access a dictionary using the index. Actually, the error message above does not argue against the\n",
    "usage of indices. It has just checked, that `2` is not a key in the given dictionary. Accessing a non-existing key\n",
    "leads to a key error.\n",
    "\n",
    "Generally speaking, accessing a dictionary with a key, which is not available, leads to an error. This is again\n",
    "demonstrated in the following example."
   ]
  },
  {
   "cell_type": "code",
   "execution_count": null,
   "metadata": {},
   "outputs": [],
   "source": [
    "print(phone_book[\"P. Best\"])"
   ]
  },
  {
   "cell_type": "markdown",
   "metadata": {},
   "source": [
    "## Adding key-value pairs to a dictionary\n",
    "A new key-value pair can be easily added to a dictionary using the following statement: `dictionary[key] = value`. In\n",
    "the following example, more telephone numbers are added to our telephone book."
   ]
  },
  {
   "cell_type": "code",
   "execution_count": 5,
   "metadata": {},
   "outputs": [
    {
     "name": "stdout",
     "output_type": "stream",
     "text": [
      "{'P. McCartney': 123456, 'J. Lennon': 987654321, 'G. Harrison': 11342555, 'R. Starr': 77788832, 'Y. Ono': 5463333, 'B. Epstein': 9998777}\n"
     ]
    }
   ],
   "source": [
    "phone_book[\"Y. Ono\"] = 5463333\n",
    "phone_book[\"B. Epstein\"] = 9998777\n",
    "print(phone_book)"
   ]
  },
  {
   "cell_type": "markdown",
   "metadata": {},
   "source": [
    "## Replacing the value for an existing key\n",
    "If a key already exists when it is assigned to a dictionary, the existing value is overwritten by the new value. This\n",
    "can be used to change or update entries in the dictionary. But you need to be careful not to overwrite the wrong entries\n",
    "in your dictionary!"
   ]
  },
  {
   "cell_type": "code",
   "execution_count": 6,
   "metadata": {},
   "outputs": [
    {
     "name": "stdout",
     "output_type": "stream",
     "text": [
      "{'P. McCartney': 654321, 'J. Lennon': 987654321, 'G. Harrison': 11342555, 'R. Starr': 77788832, 'Y. Ono': 5463333, 'B. Epstein': 9998777}\n"
     ]
    }
   ],
   "source": [
    "phone_book[\"P. McCartney\"] = 654321\n",
    "print(phone_book)"
   ]
  },
  {
   "cell_type": "markdown",
   "metadata": {},
   "source": [
    "## More about keys and values\n",
    "In the example of the telephone book, all keys have been strings and all values have been integer. This is not a\n",
    "requirement of dictionaries. In fact, the *values* can be of all data types including lists, tuples and dictionaries.\n",
    "The *keys* can be of nearly all data types (cf. the following explanation about immutability). And data types can be\n",
    "mixed within one dictionary as demonstrated in the following example."
   ]
  },
  {
   "cell_type": "code",
   "execution_count": 7,
   "metadata": {},
   "outputs": [
    {
     "name": "stdout",
     "output_type": "stream",
     "text": [
      "{123: 'blabla', True: 123.456, 'key': False, (123, 'abc'): 1000, 34.5: [0, 1, 1, 2, 3, 5]}\n"
     ]
    }
   ],
   "source": [
    "stupid_dict = {\n",
    "    123: \"blabla\",\n",
    "    True: 123.456,\n",
    "    \"key\": False,\n",
    "    (123, \"abc\"): 1000,\n",
    "    34.5: [0, 1, 1, 2, 3, 5],\n",
    "}\n",
    "print(stupid_dict)"
   ]
  },
  {
   "cell_type": "markdown",
   "metadata": {},
   "source": [
    "## The key in a dictionary is immutable\n",
    "Unlike values, which can be changed, keys must not be mutable in a dictionary. Therefore, a key can be e.g. an\n",
    "`integer`, a `string` or a `tuple`, but not a list, since a list could be modified. Just have a look at the following\n",
    "two examples, which are quite similar.[<sup id=\"fn1-back\">1</sup>](#fn1)"
   ]
  },
  {
   "cell_type": "code",
   "execution_count": 8,
   "metadata": {},
   "outputs": [
    {
     "name": "stdout",
     "output_type": "stream",
     "text": [
      "{('Paul', 'McCartney'): 123456}\n"
     ]
    }
   ],
   "source": [
    "new_phone_book = {(\"Paul\", \"McCartney\"): 123456}\n",
    "print(new_phone_book)"
   ]
  },
  {
   "cell_type": "code",
   "execution_count": null,
   "metadata": {},
   "outputs": [],
   "source": [
    "new_phone_book = {[\"Paul\", \"McCartney\"]: 123456}\n",
    "print(new_phone_book)"
   ]
  },
  {
   "cell_type": "markdown",
   "metadata": {},
   "source": [
    "## Deleting an element\n",
    "Of course, elements can be deleted from a dictionary. This can be done using the keyword `del`. Just check the following\n",
    "example. What happens, if you run the following cell twice? Why does this error occur?"
   ]
  },
  {
   "cell_type": "code",
   "execution_count": 15,
   "metadata": {},
   "outputs": [
    {
     "name": "stdout",
     "output_type": "stream",
     "text": [
      "{'J. Lennon': 987654321, 'G. Harrison': 11342555, 'R. Starr': 77788832, 'Y. Ono': 5463333, 'B. Epstein': 9998777}\n"
     ]
    }
   ],
   "source": [
    "# del phone_book[\"P. McCartney\"]\n",
    "print(phone_book)"
   ]
  },
  {
   "cell_type": "markdown",
   "metadata": {},
   "source": [
    "## Iterating over a dictionary with a `for` loop\n",
    "Just like a `list` and a `tuple`, you can also iterate over a `dictionary` with the `for` loop. The syntax for this\n",
    "is as follows:"
   ]
  },
  {
   "cell_type": "code",
   "execution_count": 13,
   "metadata": {},
   "outputs": [
    {
     "name": "stdout",
     "output_type": "stream",
     "text": [
      "J. Lennon 987654321\n",
      "G. Harrison 11342555\n",
      "R. Starr 77788832\n",
      "Y. Ono 5463333\n",
      "B. Epstein 9998777\n"
     ]
    }
   ],
   "source": [
    "for name in phone_book:\n",
    "    print(name, phone_book[name])"
   ]
  },
  {
   "cell_type": "markdown",
   "metadata": {},
   "source": [
    "# Usage of functions and methods with dictionaries\n",
    "Of course, there are some functions and methods to handle dictionaries.\n",
    "\n",
    "\n",
    "## General functions and methods\n",
    "\n",
    "| Function/Method | Return value                                |\n",
    "| --------------- | ------------------------------------------- |\n",
    "| `len()`         | Number of key-value pairs in the dictionary |\n",
    "| `.keys()`       | All keys of a dictionary                    |\n",
    "| `.values()`     | All values of a dictionary                  |\n",
    "| `.items()`      | All `key:value` pairs as tuples             |\n",
    "\n",
    "\n",
    "> **NOTE:** The data type of the output of the `.keys()` method is `dict_keys`. With the help of the function `list()`,\n",
    "this can be converted into a list."
   ]
  },
  {
   "cell_type": "code",
   "execution_count": 16,
   "metadata": {},
   "outputs": [
    {
     "name": "stdout",
     "output_type": "stream",
     "text": [
      "5\n"
     ]
    }
   ],
   "source": [
    "print(len(phone_book))"
   ]
  },
  {
   "cell_type": "code",
   "execution_count": 17,
   "metadata": {},
   "outputs": [
    {
     "name": "stdout",
     "output_type": "stream",
     "text": [
      "dict_keys(['J. Lennon', 'G. Harrison', 'R. Starr', 'Y. Ono', 'B. Epstein'])\n",
      "['J. Lennon', 'G. Harrison', 'R. Starr', 'Y. Ono', 'B. Epstein']\n"
     ]
    }
   ],
   "source": [
    "print(phone_book.keys())\n",
    "print(list(phone_book.keys()))"
   ]
  },
  {
   "cell_type": "code",
   "execution_count": 18,
   "metadata": {},
   "outputs": [
    {
     "name": "stdout",
     "output_type": "stream",
     "text": [
      "[987654321, 11342555, 77788832, 5463333, 9998777]\n"
     ]
    }
   ],
   "source": [
    "print(list(phone_book.values()))"
   ]
  },
  {
   "cell_type": "code",
   "execution_count": 19,
   "metadata": {},
   "outputs": [
    {
     "name": "stdout",
     "output_type": "stream",
     "text": [
      "dict_items([('J. Lennon', 987654321), ('G. Harrison', 11342555), ('R. Starr', 77788832), ('Y. Ono', 5463333), ('B. Epstein', 9998777)])\n"
     ]
    }
   ],
   "source": [
    "print(phone_book.items())"
   ]
  },
  {
   "cell_type": "markdown",
   "metadata": {},
   "source": [
    "# Typical applications of dictionaries\n",
    "\n",
    "In the following, two scenarios are given in which dictionaries are useful.\n",
    "\n",
    "\n",
    "## Example 1: Student Data\n",
    "\n",
    "In the telephone book example, the key-value pairs were always *name - telephone number*. In the following example, the\n",
    "data for a student consisting of name, first-name, ID, e-mail, city, etc. is represented using a dictionary. \n",
    "\n",
    "This is again a dictionary with keys and values. However, the keys and values are quite different in nature. All keys\n",
    "describe different attributes of the same student. The advantage of this representation is, that you do not have to\n",
    "remember at which index what kind of attribute is stored. Another advantage (in comparison to tuples) is that\n",
    "additional attributes can be added and not required attributes can be deleted."
   ]
  },
  {
   "cell_type": "code",
   "execution_count": 25,
   "metadata": {},
   "outputs": [
    {
     "name": "stdout",
     "output_type": "stream",
     "text": [
      "{'name': 'McCartney', 'firstname': 'Paul', 'subject': 'Music', 'musician': True, 'instruments': ['bass', 'guitar', 'piano'], 'bands': ['Beatles', 'Wings']}\n",
      "McCartney\n",
      "name McCartney\n",
      "firstname Paul\n",
      "subject Music\n",
      "musician True\n",
      "instruments ['bass', 'guitar', 'piano']\n",
      "bands ['Beatles', 'Wings']\n"
     ]
    }
   ],
   "source": [
    "student = {\n",
    "    \"name\": \"McCartney\",\n",
    "    \"firstname\": \"Paul\",\n",
    "    \"subject\": \"Music\",\n",
    "    \"musician\": True,\n",
    "    \"instruments\": [\"bass\", \"guitar\", \"piano\"],\n",
    "    \"bands\": [\"Beatles\", \"Wings\"],\n",
    "}\n",
    "print(student)\n",
    "print(student[\"name\"])\n",
    "\n",
    "for name in student:\n",
    "    print(name, student[name])"
   ]
  },
  {
   "cell_type": "markdown",
   "metadata": {},
   "source": [
    "## Example 2: Students and student IDs\n",
    "\n",
    "In the case of data that has a unique identifier (ID), this identifier can be used as the key of a dictionary. \n",
    "Consider the following example. Each student has a student-ID which is used as the key."
   ]
  },
  {
   "cell_type": "code",
   "execution_count": 26,
   "metadata": {},
   "outputs": [
    {
     "name": "stdout",
     "output_type": "stream",
     "text": [
      "{12345: 'Paul McCartney', 23456: 'John Lennon', 34567: 'George Harrison', 45678: 'Ringo Starr'}\n",
      "George Harrison\n"
     ]
    }
   ],
   "source": [
    "students = {\n",
    "    12345: \"Paul McCartney\",\n",
    "    23456: \"John Lennon\",\n",
    "    34567: \"George Harrison\",\n",
    "    45678: \"Ringo Starr\",\n",
    "}\n",
    "print(students)\n",
    "print(students[34567])"
   ]
  },
  {
   "cell_type": "markdown",
   "metadata": {},
   "source": [
    "# Exercise 1: Translation\n",
    "\n",
    "Create a dictionary which consists of the colors *red, green, blue, yellow* as keys and the German translation *rot,\n",
    "grün, blau, gelb* as values. Using `input()` ask for another English color and its German translation an add this pair\n",
    "to the dictionary."
   ]
  },
  {
   "cell_type": "code",
   "execution_count": 33,
   "metadata": {},
   "outputs": [
    {
     "name": "stdin",
     "output_type": "stream",
     "text": [
      "Enter English Color: Black \n",
      "Enter German Translation: Schwarz\n"
     ]
    },
    {
     "name": "stdout",
     "output_type": "stream",
     "text": [
      "{'red': 'rot', 'green': 'grün', 'blue': 'blau', 'yellow': 'gelb', 'Black ': 'Schwarz'}\n"
     ]
    }
   ],
   "source": [
    "colors = {\n",
    "    \"red\": \"rot\",\n",
    "    \"green\": \"grün\", \n",
    "    \"blue\": \"blau\",\n",
    "    \"yellow\": \"gelb\",\n",
    "}\n",
    "\n",
    "new_color = input(\"Enter English Color:\")\n",
    "new_trans = input(\"Enter German Translation:\")\n",
    "\n",
    "colors[new_color] = new_trans\n",
    "\n",
    "print(colors)"
   ]
  },
  {
   "cell_type": "markdown",
   "metadata": {},
   "source": [
    "# Exercise 2: Translate\n",
    "\n",
    "Now make use of the translation dictionary from the last exercise. Again, using `input()` ask for a color and give the\n",
    "translation as output. \n",
    "\n",
    "Example input:\n",
    "\n",
    "```\n",
    "Which color should be translated? red\n",
    "```\n",
    "\n",
    "\n",
    "Example output:\n",
    "\n",
    "```\n",
    "The German word for \"red\" is \"rot\".\n",
    "```"
   ]
  },
  {
   "cell_type": "code",
   "execution_count": 36,
   "metadata": {},
   "outputs": [
    {
     "name": "stdin",
     "output_type": "stream",
     "text": [
      "Enter Color to be translated: red\n"
     ]
    },
    {
     "name": "stdout",
     "output_type": "stream",
     "text": [
      "The German word for red is rot\n"
     ]
    }
   ],
   "source": [
    "trans_color = input(\"Enter Color to be translated:\")\n",
    "\n",
    "print(\"The German word for\", trans_color, \"is\", colors[trans_color])"
   ]
  },
  {
   "cell_type": "markdown",
   "metadata": {},
   "source": [
    "# Footnote\n",
    "[<sup id=\"fn1\">1</sup>](#fn1-back) Actually, the underlying requirement is that the key is hashable. All immutable types in\n",
    "Python 🐍 are also hashable. But the opposite is not necessarily true. However, a discussion of \n",
    "these details is beyond the scope of this course. "
   ]
  },
  {
   "cell_type": "markdown",
   "metadata": {},
   "source": [
    "# Self Test"
   ]
  },
  {
   "cell_type": "markdown",
   "metadata": {},
   "source": [
    "### Question 1\n",
    "`2.0 Pts`\n",
    "\n",
    "Which of the following statements about dictionaries are correct?\n",
    "\n",
    "*Note: There are 3 correct answers to this question.*\n",
    "\n",
    "It is possible to add and delete key-value pairs from a dictionary. `correct` \\\n",
    "Dictionaries are immutable. \\\n",
    "Within dictionaries, you can access the elements by index and by key. \\\n",
    "Within dictionaries, you can access the elements by key only. `correct` \\\n",
    "A tuple can be a key within a dictionary. A list cannot be a key of a dictionary. `correct`"
   ]
  },
  {
   "cell_type": "markdown",
   "metadata": {
    "tags": []
   },
   "source": [
    "# Unit 2: Exercise"
   ]
  },
  {
   "cell_type": "markdown",
   "metadata": {},
   "source": [
    "Instructions:\n",
    "    \n",
    "One of the nice features of Python is that it supports Unicode. Therefore it is possible to use emojis just like other characters in strings. In this exercise you will use this feature to build an emoji translator.\n",
    "\n",
    "Below is a dictionary that maps English terms to Emojis (broken into multiple lines for better readability).\n",
    "\n",
    "{ \\\n",
    "\"happy\": \"😃\", \\\n",
    "\"heart\": \"😍\", \\\n",
    "\"rotfl\": \"🤣\", \\\n",
    "\"smile\": \"😊\", \\\n",
    "\"crying\": \"😭\", \\\n",
    "\"kiss\": \"😘\", \\\n",
    "\"clap\": \"👏\", \\\n",
    "\"grin\": \"😁\", \\\n",
    "\"fire\": \"🔥\", \\\n",
    "\"broken\": \"💔\", \\\n",
    "\"think\": \"🤔\", \\\n",
    "\"excited\": \"🤩\", \\\n",
    "\"boring\": \"🙄\", \\\n",
    "\"winking\": \"😉\", \\\n",
    "\"ok\": \"👌\", \\\n",
    "\"hug\": \"🤗\", \\\n",
    "\"cool\": \"😎\", \\\n",
    "\"angry\": \"😠\", \\\n",
    "\"python\": \"🐍\" \\\n",
    "}\n",
    "\n",
    "Use this dictionary to build a program that:\n",
    "\n",
    "Reads a sentence from the user.\n",
    "Replaces all the words in the sentence with the corresponding Emoji.\n",
    "Below is an example execution of the program:\n",
    "\n",
    "`Please enter a sentence: I'm so excited to learn python` \\\n",
    "`I'm so 🤩 to finally learn 🐍`\n",
    "\n",
    "**Hint** \\\n",
    "Use the split() method to split a sentence into its words. The result of \\\n",
    "`sentence = \"This is a test\"` \\\n",
    "`words = sentence.split()` \\\n",
    "`print(words)`\n",
    "\n",
    "is\n",
    "\n",
    "`[\"This\", \"is\", \"a\", \"test\"]`\n",
    "\n",
    "You should also be careful about spaces in the resulting sentence."
   ]
  },
  {
   "cell_type": "code",
   "execution_count": 3,
   "metadata": {},
   "outputs": [
    {
     "data": {
      "text/plain": [
       "{'happy': '😃',\n",
       " 'heart': '😍',\n",
       " 'rotfl': '🤣',\n",
       " 'smile': '😊',\n",
       " 'crying': '😭',\n",
       " 'kiss': '😘',\n",
       " 'clap': '👏',\n",
       " 'grin': '😁',\n",
       " 'fire': '🔥',\n",
       " 'broken': '💔',\n",
       " 'think': '🤔',\n",
       " 'excited': '🤩',\n",
       " 'boring': '🙄',\n",
       " 'winking': '😉',\n",
       " 'ok': '👌',\n",
       " 'hug': '🤗',\n",
       " 'cool': '😎',\n",
       " 'angry': '😠',\n",
       " 'python': '🐍'}"
      ]
     },
     "execution_count": 3,
     "metadata": {},
     "output_type": "execute_result"
    }
   ],
   "source": [
    "emoji_dict = {\n",
    "    \"happy\": \"😃\",\n",
    "    \"heart\": \"😍\",\n",
    "    \"rotfl\": \"🤣\",\n",
    "    \"smile\": \"😊\",\n",
    "    \"crying\": \"😭\",\n",
    "    \"kiss\": \"😘\",\n",
    "    \"clap\": \"👏\",\n",
    "    \"grin\": \"😁\",\n",
    "    \"fire\": \"🔥\",\n",
    "    \"broken\": \"💔\",\n",
    "    \"think\": \"🤔\",\n",
    "    \"excited\": \"🤩\",\n",
    "    \"boring\": \"🙄\",\n",
    "    \"winking\": \"😉\",\n",
    "    \"ok\": \"👌\",\n",
    "    \"hug\": \"🤗\",\n",
    "    \"cool\": \"😎\",\n",
    "    \"angry\": \"😠\",\n",
    "    \"python\": \"🐍\",\n",
    "}\n",
    "\n",
    "emoji_dict"
   ]
  },
  {
   "cell_type": "code",
   "execution_count": 4,
   "metadata": {},
   "outputs": [
    {
     "name": "stdin",
     "output_type": "stream",
     "text": [
      "Please enter a sentence: I'm so excited to learn python\n"
     ]
    },
    {
     "name": "stdout",
     "output_type": "stream",
     "text": [
      "I'm so 🤩 to learn 🐍\n"
     ]
    }
   ],
   "source": [
    "sentence = input(\"Please enter a sentence:\")\n",
    "sentence_dict = {}\n",
    "words = sentence.split()\n",
    "new_sentence = []\n",
    "# print(words)\n",
    "\n",
    "for word in words:\n",
    "    sentence_dict[word] = word\n",
    "    if sentence_dict[word] in emoji_dict:\n",
    "        sentence_dict[word] = emoji_dict[word]\n",
    "\n",
    "for key in sentence_dict:\n",
    "    new_sentence.append(sentence_dict[key])\n",
    "    \n",
    "print(' '.join(new_sentence))"
   ]
  }
 ],
 "metadata": {
  "file_extension": ".py",
  "interpreter": {
   "hash": "ac59ebe37160ed0dfa835113d9b8498d9f09ceb179beaac4002f036b9467c963"
  },
  "kernelspec": {
   "display_name": "Python 3 (ipykernel)",
   "language": "python",
   "name": "python3"
  },
  "language_info": {
   "codemirror_mode": {
    "name": "ipython",
    "version": 3
   },
   "file_extension": ".py",
   "mimetype": "text/x-python",
   "name": "python",
   "nbconvert_exporter": "python",
   "pygments_lexer": "ipython3",
   "version": "3.10.2"
  },
  "mimetype": "text/x-python",
  "name": "python",
  "npconvert_exporter": "python",
  "pygments_lexer": "ipython3",
  "version": 3
 },
 "nbformat": 4,
 "nbformat_minor": 4
}
