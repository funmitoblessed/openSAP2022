{
 "cells": [
  {
   "cell_type": "markdown",
   "id": "3fb3ffab-de1c-4d83-b59e-8cdccf49f0aa",
   "metadata": {},
   "source": [
    "# Assignment Week 3 (Part 1 - Questions)"
   ]
  },
  {
   "cell_type": "markdown",
   "id": "6100bf97-3a32-4e30-9300-448a119655f9",
   "metadata": {},
   "source": [
    "### Question 1\n",
    "`2.0 Pts`\n",
    "\n",
    "Which of the following statements about tuples are correct?\n",
    "\n",
    "*Note: There are 3 correct answers to this question.*\n",
    "\n",
    "The elements within a tuple are ordered, but not necessarily sorted. `correct` \\\n",
    "The elements of a tuple can be accessed using an index. `correct` \\\n",
    "Tuples are sequences. for loops can therefore be used to access each element of a tuple. `correct` \\\n",
    "To add an element to a tuple, the method `.append()` can be used. \\\n",
    "Tuples are represented by parenthesis ( ). Consequently, the index of the tuples uses parenthesis as well."
   ]
  },
  {
   "cell_type": "code",
   "execution_count": 7,
   "id": "43e5e87d-6c33-4953-b531-6dd1593129fc",
   "metadata": {},
   "outputs": [
    {
     "name": "stdout",
     "output_type": "stream",
     "text": [
      "Funmito\n",
      "12\n",
      "Blessed\n"
     ]
    }
   ],
   "source": [
    "a = (\"Funmito\", 12, \"Blessed\")\n",
    "\n",
    "for it in a:\n",
    "    print(it)"
   ]
  },
  {
   "cell_type": "markdown",
   "id": "931a4002-9b9a-412f-884b-86a8da2b384b",
   "metadata": {},
   "source": [
    "### Question 2\n",
    "`1.0 Pts`\n",
    "\n",
    "What is the value of variable `a` after the following statements have been executed?\n",
    "\n",
    "3 `correct` \\\n",
    "4 \\\n",
    "1 \\\n",
    "10"
   ]
  },
  {
   "cell_type": "code",
   "execution_count": 5,
   "id": "8b3d24ee-9155-4772-a634-c3917c1d6282",
   "metadata": {},
   "outputs": [
    {
     "name": "stdout",
     "output_type": "stream",
     "text": [
      "3\n"
     ]
    }
   ],
   "source": [
    "date = (2022, \"April\", 5)\n",
    "a = len(date)\n",
    "\n",
    "print(a)"
   ]
  },
  {
   "cell_type": "markdown",
   "id": "bd1bb5cd-f652-40a5-99c3-ef6a107f2210",
   "metadata": {},
   "source": [
    "### Question 3\n",
    "`2.0 Pts`\n",
    "\n",
    "Which of the following statements about dictionaries are correct?\n",
    "\n",
    "*Note: There are 2 correct answers to this question.*\n",
    "\n",
    "Lists can be used as a key in a dictionary. \\\n",
    "It is possible to loop over a dictionary with the for loop. `correct` \\\n",
    "The output of the method `.keys()` has the data type list. \\\n",
    "If a key-value pair is added to a dictionary and the key already exists in this dictionary, an error occurs. \\\n",
    "Tuples can be used as a key in a dictionary. `correct`"
   ]
  },
  {
   "cell_type": "code",
   "execution_count": 11,
   "id": "39523d9c-1b60-4f8c-9b5c-60c3ae972505",
   "metadata": {},
   "outputs": [
    {
     "data": {
      "text/plain": [
       "dict_keys"
      ]
     },
     "execution_count": 11,
     "metadata": {},
     "output_type": "execute_result"
    }
   ],
   "source": [
    "a = {\"Funmito\" : 12, 12 : \"Blessed\"}\n",
    "\n",
    "type(a.keys())"
   ]
  },
  {
   "cell_type": "markdown",
   "id": "15fcc8a2-e09f-4b8e-b3d8-c1f66bfbf6cd",
   "metadata": {},
   "source": [
    "### Question 4\n",
    "`1.0 Pts`\n",
    "\n",
    "What is the value of the variable `a` after the following statements have been executed?\n",
    "\n",
    "Paul `correct` \\\n",
    "456 \\\n",
    "Error \\\n",
    "(\"Paul\", 456)"
   ]
  },
  {
   "cell_type": "code",
   "execution_count": 4,
   "id": "9310d7e8-5182-45b8-b41f-02d40967db4b",
   "metadata": {},
   "outputs": [
    {
     "name": "stdout",
     "output_type": "stream",
     "text": [
      "Paul\n"
     ]
    }
   ],
   "source": [
    "tel = {\"Peter\" : 123, \"Paul\" : 456, \"Mary\" : 789}\n",
    "a = list(tel.keys())[1]\n",
    "print(a)"
   ]
  },
  {
   "cell_type": "markdown",
   "id": "0f776633-0559-4e0d-963a-50600f0e1322",
   "metadata": {},
   "source": [
    "### Question 5\n",
    "`2.0 Pts`\n",
    "\n",
    "Although lists, tuples, and dictionaries are all sequence types, there are a few differences between them. Which of the following statements about these data types is correct?\n",
    "\n",
    "*Note: There are 3 correct answers to this question.*\n",
    "\n",
    "The function `len()` can be used for lists, tuples, and dictionaries. `correct` \\\n",
    "List and tuples are immutable, dictionaries are not. \\\n",
    "According to the recommendation in this unit, there should be just one data type used in a tuple. \\\n",
    "A well suited combination of lists, tuples, and dictionaries (for example, a list of tuples) makes programs easier to implement. `correct` \\\n",
    "Elements in lists and tuples are accessed by index, elements in dictionaries are accessed by key. `correct`"
   ]
  },
  {
   "cell_type": "markdown",
   "id": "08811f60-ea7d-4f4d-bec3-7af6da065beb",
   "metadata": {},
   "source": [
    "### Question 6\n",
    "`1.0 Pts`\n",
    "\n",
    "What is the result of the following statements?\n",
    "\n",
    "Harry is assigned to variable `a`. \\\n",
    "Index Error \\\n",
    "Key Error \\\n",
    "Syntax Error: Invalid Syntax"
   ]
  },
  {
   "cell_type": "code",
   "execution_count": 3,
   "id": "0b9476e3-6076-4cd3-85ee-8b5a26d8ca9d",
   "metadata": {},
   "outputs": [
    {
     "ename": "SyntaxError",
     "evalue": "invalid syntax (3869465770.py, line 2)",
     "output_type": "error",
     "traceback": [
      "\u001b[1;36m  Input \u001b[1;32mIn [3]\u001b[1;36m\u001b[0m\n\u001b[1;33m    (123 : \"Harry\"),\u001b[0m\n\u001b[1;37m         ^\u001b[0m\n\u001b[1;31mSyntaxError\u001b[0m\u001b[1;31m:\u001b[0m invalid syntax\n"
     ]
    }
   ],
   "source": [
    "studs = {\n",
    "    (123 : \"Harry\"),\n",
    "    (234 : \"Hermione\"),\n",
    "    (345 : \"Ron\")\n",
    "}\n",
    "a = studs[123][1]\n",
    "print(a)"
   ]
  },
  {
   "cell_type": "markdown",
   "id": "9a857276-cf3f-43a5-8df4-1310168e60c5",
   "metadata": {},
   "source": [
    "### Question 7\n",
    "`1.0 Pts`\n",
    "\n",
    "What is the value of variable `a` after the following statements have been executed?\n",
    "\n",
    "\"Harry\" \\\n",
    "Key Error \\\n",
    "123 : Harry \\\n",
    "Index Error"
   ]
  },
  {
   "cell_type": "code",
   "execution_count": 2,
   "id": "ccdde2af-53a6-4fe8-a20a-bce0dceaff7a",
   "metadata": {},
   "outputs": [
    {
     "ename": "KeyError",
     "evalue": "1",
     "output_type": "error",
     "traceback": [
      "\u001b[1;31m------------------------------------------------------------\u001b[0m",
      "\u001b[1;31mKeyError\u001b[0m                   Traceback (most recent call last)",
      "Input \u001b[1;32mIn [2]\u001b[0m, in \u001b[0;36m<cell line: 5>\u001b[1;34m()\u001b[0m\n\u001b[0;32m      1\u001b[0m studs \u001b[38;5;241m=\u001b[39m {\u001b[38;5;241m123\u001b[39m : \u001b[38;5;124m\"\u001b[39m\u001b[38;5;124mHarry\u001b[39m\u001b[38;5;124m\"\u001b[39m, \n\u001b[0;32m      2\u001b[0m         \u001b[38;5;241m234\u001b[39m : \u001b[38;5;124m\"\u001b[39m\u001b[38;5;124mHermione\u001b[39m\u001b[38;5;124m\"\u001b[39m,\n\u001b[0;32m      3\u001b[0m         \u001b[38;5;241m345\u001b[39m : \u001b[38;5;124m\"\u001b[39m\u001b[38;5;124mRon\u001b[39m\u001b[38;5;124m\"\u001b[39m}\n\u001b[1;32m----> 5\u001b[0m a \u001b[38;5;241m=\u001b[39m \u001b[43mstuds\u001b[49m\u001b[43m[\u001b[49m\u001b[38;5;241;43m1\u001b[39;49m\u001b[43m]\u001b[49m\n\u001b[0;32m      7\u001b[0m \u001b[38;5;28mprint\u001b[39m(a)\n",
      "\u001b[1;31mKeyError\u001b[0m: 1"
     ]
    }
   ],
   "source": [
    "studs = {123 : \"Harry\", \n",
    "        234 : \"Hermione\",\n",
    "        345 : \"Ron\"}\n",
    "\n",
    "a = studs[1]\n",
    "\n",
    "print(a)"
   ]
  },
  {
   "cell_type": "markdown",
   "id": "2dce21e7-00c3-4f05-bcff-afcf6534a56a",
   "metadata": {},
   "source": [
    "### Question 8\n",
    "`1.0 Pts`\n",
    "\n",
    "What is the value of variable `a` after the following statements have been executed?\n",
    "\n",
    "The variable `a` is undefined, because the program executes the else-part of the if-statement and the assignment of `a` is not executed (if there has been a value assigned to a before, this value is unchanged). `correct` \\\n",
    "The variable `a` is undefined, because the program crashes. \\\n",
    "(123, \"Harry) \\\n",
    "(123 : \"Harry\")"
   ]
  },
  {
   "cell_type": "code",
   "execution_count": 1,
   "id": "48498a66-31dc-4fa5-917a-7150e4cdf6bc",
   "metadata": {},
   "outputs": [
    {
     "name": "stdout",
     "output_type": "stream",
     "text": [
      "key does not exist\n"
     ]
    },
    {
     "ename": "NameError",
     "evalue": "name 'a' is not defined",
     "output_type": "error",
     "traceback": [
      "\u001b[1;31m------------------------------------------------------------\u001b[0m",
      "\u001b[1;31mNameError\u001b[0m                  Traceback (most recent call last)",
      "Input \u001b[1;32mIn [1]\u001b[0m, in \u001b[0;36m<cell line: 10>\u001b[1;34m()\u001b[0m\n\u001b[0;32m      7\u001b[0m \u001b[38;5;28;01melse\u001b[39;00m:\n\u001b[0;32m      8\u001b[0m     \u001b[38;5;28mprint\u001b[39m(\u001b[38;5;124m\"\u001b[39m\u001b[38;5;124mkey does not exist\u001b[39m\u001b[38;5;124m\"\u001b[39m)\n\u001b[1;32m---> 10\u001b[0m \u001b[38;5;28mprint\u001b[39m(\u001b[43ma\u001b[49m)\n",
      "\u001b[1;31mNameError\u001b[0m: name 'a' is not defined"
     ]
    }
   ],
   "source": [
    "studs = {123 : \"Harry\",\n",
    "         234 : \"Hermione\",\n",
    "         345 : \"Ron\"}\n",
    "\n",
    "if 1 in studs:\n",
    "    a = studs[1]\n",
    "else:\n",
    "    print(\"key does not exist\")\n",
    "    \n",
    "print(a)"
   ]
  },
  {
   "cell_type": "markdown",
   "id": "44acd3fa-7a12-4f8e-a720-e3af6de53311",
   "metadata": {},
   "source": [
    "### Question 9\n",
    "`2.0 Pts`\n",
    "\n",
    "Which of the following statements about functions and methods for complex data types are correct?\n",
    "\n",
    "*Note: There are 3 correct answers to this question.*\n",
    "\n",
    "The function `sorted()` can be used for tuples, as the original tuple is unchanged. The function creates a new list. `correct` \\\n",
    "The method `.sort()` cannot be used for tuples, because tuples are immutable. `correct` \\\n",
    "The functions `min(),` `max()`, and `sorted()` can only be used if the relation > is supported between all elements. `correct` \\\n",
    "If the method `.keys()` is used for lists, a list of all indices is given back. \\\n",
    "The method `.insert(i, x)` can only be used for lists and tuples but not for dictionaries, because an index is required. "
   ]
  },
  {
   "cell_type": "markdown",
   "id": "55ecd38c-58c2-4bb0-9bb6-b52ea2dbc606",
   "metadata": {},
   "source": [
    "### Question 10\n",
    "`2.0 Pts`\n",
    "\n",
    "Which of the following statements about while loops are correct?\n",
    "\n",
    "*Note: There are 3 correct answers to this question.*\n",
    "\n",
    "If the keyword break is reached, the loop is not exited directly. It is exited when the end of the conditional statements are reached the next time. \\\n",
    "All while loops require a counter variable. \\\n",
    "while loops can be stopped by the keyword break. `correct` \\\n",
    "You can nest for loops, while loops, and if statements. `correct` \\\n",
    "A while loop requires at least one statement, which is indented. `correct`"
   ]
  }
 ],
 "metadata": {
  "kernelspec": {
   "display_name": "Python 3 (ipykernel)",
   "language": "python",
   "name": "python3"
  },
  "language_info": {
   "codemirror_mode": {
    "name": "ipython",
    "version": 3
   },
   "file_extension": ".py",
   "mimetype": "text/x-python",
   "name": "python",
   "nbconvert_exporter": "python",
   "pygments_lexer": "ipython3",
   "version": "3.10.2"
  }
 },
 "nbformat": 4,
 "nbformat_minor": 5
}
