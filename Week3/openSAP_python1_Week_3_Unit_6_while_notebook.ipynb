{
 "cells": [
  {
   "cell_type": "markdown",
   "metadata": {},
   "source": [
    "# The [while](https://docs.python.org/3/reference/compound_stmts.html#while) loop\n",
    "\n",
    "You already know the `for` loop. There is a second loop, the `while` loop. The `while` loop offers more options, but is\n",
    "also a bit more complex in its usage.\n",
    "\n",
    "The `for` loop fits whenever you have a sequence, such as a list or a given number of elements like a `range`. However,\n",
    "there are also situations where no sequence is available and yet a certain operation needs to be repeated multiple times:\n",
    "- At the ATM a PIN has to be entered (again and again) until it is entered correctly\n",
    "- A number should be entered until it is actually a number and the input string can be converted to an integer\n",
    "- A user should answer questions until no new question comes up. In this case a `for` loop works only with \"trickery\",\n",
    "  it is better to use a `while` loop.\n",
    "\n",
    "\n",
    "## Syntax of the `while` loop\n",
    "\n",
    "A `while` loop is (in the simplest case) constructed as follows:\n",
    "\n",
    "```Python\n",
    "while condition:\n",
    "    statement1\n",
    "    statement2\n",
    "    ...\n",
    "    statementN\n",
    "```\n",
    "\n",
    "The loop begins with the keyword `while`, followed by a condition (like in an `if` branch) followed by a colon. The\n",
    "following block is indented as in all other control structures. When no more lines are indented, the `while` loop is\n",
    "finished and the program continues after the loop in the non-indented part.\n",
    "\n",
    "\n",
    "## Semantics of the `while` loop\n",
    "\n",
    "When the program reaches the loop, the condition behind the `while` keyword is checked. If this condition is `True`, the\n",
    "loop body is executed. At the end of the loop body, the program jumps back to the `while` and checks the condition\n",
    "again.  \n",
    "The loop is executed until the condition is `False`. After that, the program will continue after the\n",
    "loop.  \n",
    "What happens if the condition is `False` when the `while` loop is reached the first time? Then the loop body is simply\n",
    "skipped and the program continues directly after the loop.\n",
    "\n",
    "\n",
    "## Example: `input()` until a number is entered\n",
    "\n",
    "You know the problem: A number is to be entered via an `input()`. In order to execute calculations with the number, it\n",
    "must first be converted from a string to an number (e.g. an integer with the function `int()`). And if the user does\n",
    "not enter a number, the program crashes during the conversion."
   ]
  },
  {
   "cell_type": "code",
   "execution_count": null,
   "metadata": {},
   "outputs": [],
   "source": [
    "number = input(\"Please enter a number: \")\n",
    "number = int(number)"
   ]
  },
  {
   "cell_type": "markdown",
   "metadata": {},
   "source": [
    "This situation can be prevented with the help of a `while` loop: In the condition of the loop it is checked whether the\n",
    "input is a number (method `.isdecimal()`). As long as no number is entered, an `input()` must be entered again and\n",
    "again. Only when a number is finally entered, the conversion into a number takes place **after** the loop."
   ]
  },
  {
   "cell_type": "code",
   "execution_count": 9,
   "metadata": {},
   "outputs": [
    {
     "name": "stdin",
     "output_type": "stream",
     "text": [
      "Please enter number:  qwsd\n",
      "Please enter number:  qsas\n",
      "Please enter number:  sdwd\n",
      "Please enter number:  wsd\n",
      "Please enter number:  13\n"
     ]
    },
    {
     "name": "stdout",
     "output_type": "stream",
     "text": [
      "13\n"
     ]
    }
   ],
   "source": [
    "# The loop runs until a suitable input is available\n",
    "number = \"x\"\n",
    "while not (number.isdecimal()):\n",
    "    number = input(\"Please enter number: \")\n",
    "\n",
    "number = int(number)\n",
    "print(number)"
   ]
  },
  {
   "cell_type": "markdown",
   "metadata": {},
   "source": [
    "One *imperfection* of the loop can already be seen in the above example: In order for the condition to be checked, the\n",
    "variable `number` must have been initialized previously. However **not** with a number, of course. The statement `number\n",
    "= \"x\"` has the only purpose to initialize the variable with something else than an integer.\n",
    "\n",
    "Alternatively, the following variant would also be possible:"
   ]
  },
  {
   "cell_type": "code",
   "execution_count": 10,
   "metadata": {},
   "outputs": [
    {
     "name": "stdin",
     "output_type": "stream",
     "text": [
      "Please enter number:  ascx\n",
      "Please enter number:  \n",
      "Please enter number:  k;kL'.\n",
      "Please enter number:  j.km\n",
      "Please enter number:  125\n"
     ]
    },
    {
     "name": "stdout",
     "output_type": "stream",
     "text": [
      "125\n"
     ]
    }
   ],
   "source": [
    "# The loop runs until a suitable input is available\n",
    "number = input(\"Please enter number: \")\n",
    "while not (number.isdecimal()):\n",
    "    number = input(\"Please enter number: \")\n",
    "\n",
    "number = int(number)\n",
    "print(number)"
   ]
  },
  {
   "cell_type": "markdown",
   "metadata": {},
   "source": [
    "In this case, the statement in line two is not quite as \"meaningless\" as before. However, you now have an unpleasant\n",
    "code, since the same `input` statement appears twice in quick succession. This does not look like an elegant programming\n",
    "style either. Question: Why is the statement `int(number)` in both programs only allowed after the loop?\n",
    "\n",
    "\n",
    "## Example: Correct PIN\n",
    "In the following example a secret PIN is given. The user is supposed to enter a PIN and only gets further (i.e. past the\n",
    "`while` loop) when the correct PIN has been entered. Basically the program structure is very similar to the program\n",
    "above."
   ]
  },
  {
   "cell_type": "code",
   "execution_count": 12,
   "metadata": {},
   "outputs": [
    {
     "name": "stdin",
     "output_type": "stream",
     "text": [
      "Please enter PIN:  4542\n"
     ]
    },
    {
     "name": "stdout",
     "output_type": "stream",
     "text": [
      "The PIN was wrong.\n"
     ]
    },
    {
     "name": "stdin",
     "output_type": "stream",
     "text": [
      "Please enter PIN:  45\n"
     ]
    },
    {
     "name": "stdout",
     "output_type": "stream",
     "text": [
      "The PIN was wrong.\n"
     ]
    },
    {
     "name": "stdin",
     "output_type": "stream",
     "text": [
      "Please enter PIN:  45\n"
     ]
    },
    {
     "name": "stdout",
     "output_type": "stream",
     "text": [
      "The PIN was wrong.\n"
     ]
    },
    {
     "name": "stdin",
     "output_type": "stream",
     "text": [
      "Please enter PIN:  1234\n"
     ]
    },
    {
     "name": "stdout",
     "output_type": "stream",
     "text": [
      "1234 is correct\n"
     ]
    }
   ],
   "source": [
    "secret_pin = 1234\n",
    "\n",
    "pin = int(input(\"Please enter PIN: \"))\n",
    "\n",
    "while pin != secret_pin:\n",
    "    print(\"The PIN was wrong.\")\n",
    "    pin = int(input(\"Please enter PIN: \"))\n",
    "\n",
    "print(pin, \"is correct\")"
   ]
  },
  {
   "cell_type": "markdown",
   "metadata": {},
   "source": [
    "In reality, you may not try a PIN that often until you succeed. At the ATM, it typically ends after three attempts. How\n",
    "can this be represented in the loop?\n",
    "\n",
    "A more complicated condition is needed that checks if the PIN is ok but also checks the number of attempts. In the\n",
    "following example exactly this is realized."
   ]
  },
  {
   "cell_type": "code",
   "execution_count": 13,
   "metadata": {},
   "outputs": [
    {
     "name": "stdin",
     "output_type": "stream",
     "text": [
      "Please enter PIN:  210\n"
     ]
    },
    {
     "name": "stdout",
     "output_type": "stream",
     "text": [
      "The PIN was wrong.\n"
     ]
    },
    {
     "name": "stdin",
     "output_type": "stream",
     "text": [
      "Please enter PIN:  10\n"
     ]
    },
    {
     "name": "stdout",
     "output_type": "stream",
     "text": [
      "The PIN was wrong.\n"
     ]
    },
    {
     "name": "stdin",
     "output_type": "stream",
     "text": [
      "Please enter PIN:  10122\n"
     ]
    },
    {
     "name": "stdout",
     "output_type": "stream",
     "text": [
      "You entered the wrong PIN three times, your card will be confiscated.\n"
     ]
    }
   ],
   "source": [
    "secret_pin = 1234\n",
    "\n",
    "pin = int(input(\"Please enter PIN: \"))\n",
    "tries = 1\n",
    "\n",
    "while (pin != secret_pin) and (tries < 3):\n",
    "    print(\"The PIN was wrong.\")\n",
    "    pin = int(input(\"Please enter PIN: \"))\n",
    "    tries += 1\n",
    "\n",
    "if pin == secret_pin:\n",
    "    print(pin, \"is correct\")\n",
    "else:\n",
    "    print(\"You entered the wrong PIN three times, your card will be confiscated.\")"
   ]
  },
  {
   "cell_type": "markdown",
   "metadata": {},
   "source": [
    "This program has several *imperfections*, too. A second variable `attempts` is needed, which is initialized before the\n",
    "loop and must be incremented in the loop. After the loop it is not directly recognizable *why* the loop was terminated.\n",
    "Was the PIN correct or was the number of attempts exceeded? Since this is not directly clear, an `if` query must be used\n",
    "first."
   ]
  },
  {
   "cell_type": "markdown",
   "metadata": {},
   "source": [
    "# Example: Simple counter\n",
    "In the above example a counter (`tries`) was needed. This counting up of variables is relatively simple on the one hand,\n",
    "on the other hand very error-prone. \n",
    "\n",
    "In the following, the numbers 1 - 10 are to be output via `print()` with the help of a `while` loop."
   ]
  },
  {
   "cell_type": "code",
   "execution_count": 14,
   "metadata": {},
   "outputs": [
    {
     "name": "stdout",
     "output_type": "stream",
     "text": [
      "1\n",
      "2\n",
      "3\n",
      "4\n",
      "5\n",
      "6\n",
      "7\n",
      "8\n",
      "9\n",
      "10\n"
     ]
    }
   ],
   "source": [
    "# Simple counter\n",
    "# The following program is to count from 1 - 10\n",
    "i = 1\n",
    "while i <= 10:\n",
    "    print(i)\n",
    "    i += 1"
   ]
  },
  {
   "cell_type": "markdown",
   "metadata": {},
   "source": [
    "It looks pretty straightforward, and it actually is. **But** the trick is in the details: Depending on how the program\n",
    "is structured, it reacts differently in detail:\n",
    "- Should the i be initialized with 1 or with 0?\n",
    "- Should the condition be `i <= 10` or `i < 10`?\n",
    "- Should the i be compared with a 10 or with an 11?\n",
    "- Should the increment (`i += 1`) come before or after the `print()` in the loop body?\n",
    "\n",
    "All these small differences lead to different behaviours of the program. Therefore, when using `while` loops, especially\n",
    "the boundary values should always be checked. Try to manipulate the above program yourself with these changes and make a\n",
    "prediction what the output of the program will be.\n",
    "\n",
    "\n",
    "# A classic error: The infinite loop\n",
    "Another error that can occur is the loop that never stops - the infinite loop. Such a loop is present when the condition\n",
    "always remains `True`. In case of the above example, if the increment is forgotten in the loop body.  \n",
    "Note: To stop the endless loop, you must press the Stop button at the top."
   ]
  },
  {
   "cell_type": "code",
   "execution_count": null,
   "metadata": {},
   "outputs": [],
   "source": [
    "# The following program is to count from 1 - 10\n",
    "i = 1\n",
    "while i <= 10:\n",
    "    print(i)\n",
    "    # Because of the commented out (forgotten) increment, the loop runs endlessly.\n",
    "    # i += 1"
   ]
  },
  {
   "cell_type": "markdown",
   "metadata": {},
   "source": [
    "It is much easier to implement the previous two examples using a `for` loop. This implementation is more robust \n",
    "as no manual checking of the boundary cases is required. If possible you should always choose a `for` loop, it's simpler and less error prone.\n",
    "\n",
    "# Example: Guessing a random number\n",
    "\n",
    "An example where the `while` loop comes in handy is the following: A random number between 1 and 100 is generated.\n",
    "Unlike the PIN program, this secret number is not known to the reader of the program. The number should be guessed. If\n",
    "guessed incorrectly, there is a hint that the number searched for is either larger or smaller than the number just\n",
    "guessed. If the number is found, the loop terminates."
   ]
  },
  {
   "cell_type": "code",
   "execution_count": 17,
   "metadata": {},
   "outputs": [
    {
     "name": "stdin",
     "output_type": "stream",
     "text": [
      "Please guess a number:  23\n"
     ]
    },
    {
     "name": "stdout",
     "output_type": "stream",
     "text": [
      "The number 23 was too small.\n"
     ]
    },
    {
     "name": "stdin",
     "output_type": "stream",
     "text": [
      "Please guess a number:  56\n"
     ]
    },
    {
     "name": "stdout",
     "output_type": "stream",
     "text": [
      "The number 56 was too small.\n"
     ]
    },
    {
     "name": "stdin",
     "output_type": "stream",
     "text": [
      "Please guess a number:  78\n"
     ]
    },
    {
     "name": "stdout",
     "output_type": "stream",
     "text": [
      "The number 78 was too small.\n"
     ]
    },
    {
     "name": "stdin",
     "output_type": "stream",
     "text": [
      "Please guess a number:  69\n"
     ]
    },
    {
     "name": "stdout",
     "output_type": "stream",
     "text": [
      "The number 69 was too small.\n"
     ]
    },
    {
     "name": "stdin",
     "output_type": "stream",
     "text": [
      "Please guess a number:  98\n"
     ]
    },
    {
     "name": "stdout",
     "output_type": "stream",
     "text": [
      "The number 98 was too big.\n"
     ]
    },
    {
     "name": "stdin",
     "output_type": "stream",
     "text": [
      "Please guess a number:  97\n"
     ]
    },
    {
     "name": "stdout",
     "output_type": "stream",
     "text": [
      "The number 97 was too big.\n"
     ]
    },
    {
     "name": "stdin",
     "output_type": "stream",
     "text": [
      "Please guess a number:  90\n"
     ]
    },
    {
     "name": "stdout",
     "output_type": "stream",
     "text": [
      "The number 90 was too big.\n"
     ]
    },
    {
     "name": "stdin",
     "output_type": "stream",
     "text": [
      "Please guess a number:  85\n"
     ]
    },
    {
     "name": "stdout",
     "output_type": "stream",
     "text": [
      "The number 85 was too big.\n"
     ]
    },
    {
     "name": "stdin",
     "output_type": "stream",
     "text": [
      "Please guess a number:  80\n"
     ]
    },
    {
     "name": "stdout",
     "output_type": "stream",
     "text": [
      "The number 80 was too small.\n"
     ]
    },
    {
     "name": "stdin",
     "output_type": "stream",
     "text": [
      "Please guess a number:  82\n"
     ]
    },
    {
     "name": "stdout",
     "output_type": "stream",
     "text": [
      "Correct! 82 was the number you were looking for.\n"
     ]
    }
   ],
   "source": [
    "import random\n",
    "\n",
    "secret_number = random.randint(1, 100)\n",
    "\n",
    "guessed_number = int(input(\"Please guess a number: \"))\n",
    "\n",
    "while guessed_number != secret_number:\n",
    "    if guessed_number < secret_number:\n",
    "        print(\"The number\", guessed_number, \"was too small.\")\n",
    "    else:\n",
    "        print(\"The number\", guessed_number, \"was too big.\")\n",
    "\n",
    "    guessed_number = int(input(\"Please guess a number: \"))\n",
    "\n",
    "print(\"Correct!\", guessed_number, \"was the number you were looking for.\")"
   ]
  },
  {
   "cell_type": "markdown",
   "metadata": {},
   "source": [
    "# Exiting the loop with a `break`\n",
    "\n",
    "A `while` loop can be exited early using the `break` statement. If the `break` statement is executed, the\n",
    "loop is exited immediately. Also the condition is not checked any more. The `break`\n",
    "only makes sense in combination with an `if` query inside the loop.\n",
    "\n",
    "With the help of the `break` some things can be programmed surprisingly easy. Several students are to be read in (like\n",
    "in Unit 3-1 for tuples). Each student \"consists\" of matriculation number, name, first name. It is not clear how many\n",
    "students will be generated, so a `while` loop is appropriate. The loop should be terminated if an \"empty entry\" is made\n",
    "for the matriculation number, i.e. if the return key is simply pressed. The problem can be solved very nicely as\n",
    "follows."
   ]
  },
  {
   "cell_type": "code",
   "execution_count": 20,
   "metadata": {},
   "outputs": [
    {
     "name": "stdin",
     "output_type": "stream",
     "text": [
      "Enter matriculation number:  123\n",
      "Enter name:  dsde\n",
      "Enter first name:  ds\n",
      "Enter matriculation number:  123\n",
      "Enter name:  123\n",
      "Enter first name:  2sw\n",
      "Enter matriculation number:  \n"
     ]
    },
    {
     "name": "stdout",
     "output_type": "stream",
     "text": [
      "[('123', 'dsde', 'ds'), ('123', '123', '2sw')]\n"
     ]
    }
   ],
   "source": [
    "list_of_students = []\n",
    "\n",
    "while True:\n",
    "    matnr = input(\"Enter matriculation number: \")\n",
    "    if matnr == \"\":\n",
    "        break\n",
    "    name = input(\"Enter name: \")\n",
    "    firstname = input(\"Enter first name: \")\n",
    "    list_of_students.append((matnr, name, firstname))\n",
    "\n",
    "print(list_of_students)"
   ]
  },
  {
   "cell_type": "markdown",
   "metadata": {},
   "source": [
    "The beginning `while True:` actually ensures an endless loop, because `True` is always true. The loop can now only be\n",
    "exited with the `break` statement. After the first `input()`, it is checked whether there is a condition for ending the loop\n",
    "and if so, the `break` is called. That means the further `input()`s are not executed any more."
   ]
  },
  {
   "cell_type": "markdown",
   "metadata": {},
   "source": [
    "## Exercise: Increasing value\n",
    "The value of a property increases by *p* percent every year. Write a program that calculates the value of the property\n",
    "for each year until the value has doubled. Use `input()` to ask for the percentage and the initial value.  \n",
    "\n",
    "Example input:\n",
    "\n",
    "```\n",
    "What is the value of the property? 10000  \n",
    "By what percentages does the value increase per year? 5\n",
    "```\n",
    "\n",
    "\n",
    "Example output:\n",
    "\n",
    "```\n",
    "Year 0 - 10000.0  \n",
    "Year 1 - 10500.0 \n",
    "Year 2 - 11025.0\n",
    "Year 3 - 11576.25\n",
    "...\n",
    "```\n"
   ]
  },
  {
   "cell_type": "code",
   "execution_count": 46,
   "metadata": {},
   "outputs": [
    {
     "name": "stdin",
     "output_type": "stream",
     "text": [
      "What is the value of the property? 10000\n",
      "By what percentages does the value increase per year? 5\n"
     ]
    },
    {
     "name": "stdout",
     "output_type": "stream",
     "text": [
      "Year  0 - 10000\n",
      "Year  1 - 11025.0\n",
      "Year  2 - 11576.25\n",
      "Year  3 - 12155.06\n",
      "Year  4 - 12762.82\n",
      "Year  5 - 13400.96\n",
      "Year  6 - 14071.0\n",
      "Year  7 - 14774.55\n",
      "Year  8 - 15513.28\n",
      "Year  9 - 16288.95\n",
      "Year  10 - 17103.39\n",
      "Year  11 - 17958.56\n",
      "Year  12 - 18856.49\n",
      "Year  13 - 19799.32\n",
      "Year  14 - 20789.28\n",
      "It will take 14 Years for the initial value of 10000 to double\n"
     ]
    }
   ],
   "source": [
    "value = int(input(\"What is the value of the property?\"))\n",
    "interest = int(input(\"By what percentages does the value increase per year?\"))\n",
    "i = 0\n",
    "\n",
    "print(\"Year \", i, \"-\", round(value, 2))\n",
    "new_value = value + ((interest/100)*value)\n",
    "# print(new_value)\n",
    "while new_value < value * 2:\n",
    "    new_value += ((interest/100)*new_value)\n",
    "    i += 1\n",
    "    print(\"Year \", i, \"-\", round(new_value, 2))\n",
    "print (\"It will take\", i, \"Years for the initial value of\", value, \"to double\")"
   ]
  },
  {
   "cell_type": "code",
   "execution_count": 47,
   "metadata": {},
   "outputs": [
    {
     "name": "stdin",
     "output_type": "stream",
     "text": [
      "What is the value of the property? 10000\n",
      "Percentage:  5\n"
     ]
    },
    {
     "name": "stdout",
     "output_type": "stream",
     "text": [
      "Year 0 - 10500.0\n",
      "Year 1 - 11025.0\n",
      "Year 2 - 11576.25\n",
      "Year 3 - 12155.06\n",
      "Year 4 - 12762.82\n",
      "Year 5 - 13400.96\n",
      "Year 6 - 14071.0\n",
      "Year 7 - 14774.55\n",
      "Year 8 - 15513.28\n",
      "Year 9 - 16288.95\n",
      "Year 10 - 17103.39\n",
      "Year 11 - 17958.56\n",
      "Year 12 - 18856.49\n",
      "Year 13 - 19799.32\n",
      "Year 14 - 20789.28\n"
     ]
    }
   ],
   "source": [
    "# Instructor's Solution\n",
    "\n",
    "value = int(input(\"What is the value of the property?\"))\n",
    "percentage = int(input(\"Percentage: \"))\n",
    "year = 0\n",
    "\n",
    "init_value = value\n",
    "while value < 2 * init_value:\n",
    "    value = value * (1 + percentage/100)\n",
    "    print(\"Year\", year, \"-\", round(value, 2))\n",
    "    year += 1"
   ]
  },
  {
   "cell_type": "markdown",
   "metadata": {},
   "source": [
    "### Question 1\n",
    "`1.0 Pts`\n",
    "\n",
    "What is the value of variable `a` after the following statements have been executed?\n",
    "\n",
    "54 \\\n",
    "1 \\\n",
    "66 \\\n",
    "55"
   ]
  },
  {
   "cell_type": "code",
   "execution_count": 5,
   "metadata": {},
   "outputs": [
    {
     "name": "stdout",
     "output_type": "stream",
     "text": [
      "54\n"
     ]
    }
   ],
   "source": [
    "a = 0\n",
    "i = 1\n",
    "while i < 10:\n",
    "    i += 1\n",
    "    a += i\n",
    "    \n",
    "print(a)"
   ]
  },
  {
   "cell_type": "markdown",
   "metadata": {},
   "source": [
    "### Question 2\n",
    "`1.0 Pts`\n",
    "\n",
    "What is the value of variable `a` after the following statements have been executed?\n",
    "\n",
    "55 \\\n",
    "11 \\\n",
    "65 \\\n",
    "54"
   ]
  },
  {
   "cell_type": "code",
   "execution_count": 4,
   "metadata": {},
   "outputs": [
    {
     "name": "stdout",
     "output_type": "stream",
     "text": [
      "55\n"
     ]
    }
   ],
   "source": [
    "a = 0\n",
    "i = 1\n",
    "while i <= 10:\n",
    "    a += i\n",
    "    i += 1\n",
    "    \n",
    "print(a)"
   ]
  }
 ],
 "metadata": {
  "kernelspec": {
   "display_name": "Python 3 (ipykernel)",
   "language": "python",
   "name": "python3"
  },
  "language_info": {
   "codemirror_mode": {
    "name": "ipython",
    "version": 3
   },
   "file_extension": ".py",
   "mimetype": "text/x-python",
   "name": "python",
   "nbconvert_exporter": "python",
   "pygments_lexer": "ipython3",
   "version": "3.10.2"
  }
 },
 "nbformat": 4,
 "nbformat_minor": 4
}
