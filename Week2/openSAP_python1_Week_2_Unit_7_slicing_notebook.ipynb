{
 "cells": [
  {
   "cell_type": "markdown",
   "metadata": {},
   "source": [
    "# Slicing - basic usage\n",
    "Sometimes, you do not want to access just one element of a sequence but several elements at once. How to do that?\n",
    "\n",
    "With the help of the so-called slice operator - `:` - you can access parts of a sequence type. You can use\n",
    "`list[start:stop]` to create a new sub-list from the original one. For example, `list[1:3]` creates a sub-list that goes\n",
    "from the first (inclusive) to the third (exclusive) element of the original list. If the parameter *start* (before the `:`) is\n",
    "omitted, the sub-list starts at the beginning, if the parameter *stop* is omitted, the sub-list ends with the last\n",
    "element of the original sequence.  \n",
    "So, the *start* parameter denotes the first parameter included in the new sub-list while the *stop* parameter stands for\n",
    "the first element, which is **not** in the sub-list: `[first included element:first excluded element]`.\n",
    "\n",
    "\n",
    "To summarize the options:\n",
    "\n",
    "| Statement          | List items                                                             |\n",
    "| ------------------ | ---------------------------------------------------------------------- |\n",
    "| `list[start:stop]` | `start` **to** `stop-1`                                                |\n",
    "| `list[start:]`     | `start` **to** *end of list*                                           |\n",
    "| `list[:stop]`      | *beginning of list* **to** `stop-1`                                    |\n",
    "| `list[:]`          | *beginning of list* **to** *end of list*, basically a copy of the list |\n",
    "\n",
    "Before you execute the following cell, think about the results of the print-statements."
   ]
  },
  {
   "cell_type": "code",
   "execution_count": 1,
   "metadata": {},
   "outputs": [
    {
     "name": "stdout",
     "output_type": "stream",
     "text": [
      "[4, 6]\n",
      "[0, 2, 4]\n",
      "[6, 8, 10]\n",
      "[0, 2, 4, 6, 8, 10]\n",
      "lo Wo\n"
     ]
    }
   ],
   "source": [
    "even_numbers = [0, 2, 4, 6, 8, 10]\n",
    "print(even_numbers[2:4])\n",
    "print(even_numbers[:3])\n",
    "print(even_numbers[3:])\n",
    "print(even_numbers[:])\n",
    "\n",
    "greeting = \"Hello World!\"\n",
    "print(greeting[3:8])"
   ]
  },
  {
   "cell_type": "markdown",
   "metadata": {},
   "source": [
    "# Negative indexing\n",
    "You can use negative indices with the slice operator similar to the usual list indexing. As you might remember,\n",
    "`list[-1]` returns only the last item of a list. With the slicing operator you can use this to specify the start or end\n",
    "point of slicing. With `list[-3:]` you would start slicing at position `-3` and stop at *end of list*.\n",
    "\n",
    "Further examples:\n",
    "\n",
    "| Statement   | Return value                                        | comment                              |\n",
    "| ----------- | --------------------------------------------------- | ------------------------------------ |\n",
    "| `list[-1] ` | index of last list item                             | *recap*                              |\n",
    "| `list[-2:]` | items from *end of list`-2`* **to** *end of list*   | *last 2 items*                       |\n",
    "| `list[:-3]` | items from *start of list* **to** *end of list`-3`* | *everything except the last 3 items* |"
   ]
  },
  {
   "cell_type": "code",
   "execution_count": 2,
   "metadata": {},
   "outputs": [
    {
     "name": "stdout",
     "output_type": "stream",
     "text": [
      "8\n",
      "[7, 8]\n",
      "[1, 2, 3, 4, 5]\n"
     ]
    }
   ],
   "source": [
    "numbers = [1, 2, 3, 4, 5, 6, 7, 8]\n",
    "print(numbers[-1])\n",
    "print(numbers[-2:])\n",
    "print(numbers[:-3])"
   ]
  },
  {
   "cell_type": "markdown",
   "metadata": {},
   "source": [
    "# Step size\n",
    "The\n",
    "*step* parameter can be used to specify the increment while slicing. So the whole slicing operator becomes `list[start:stop:step]`. For example, using the increment `2` a sub-list can be created containing every second element of a list.\n",
    "\n",
    "*Note:* For a faster list creation, `range()` is used in the following example to create a list containing the numbers\n",
    "from `1` - `10`. The output of `range()` is then converted into a `list`  using the `list()` function."
   ]
  },
  {
   "cell_type": "code",
   "execution_count": 3,
   "metadata": {},
   "outputs": [
    {
     "name": "stdout",
     "output_type": "stream",
     "text": [
      "[1, 2, 3, 4, 5, 6, 7, 8, 9, 10]\n",
      "[2, 4, 6, 8, 10]\n"
     ]
    }
   ],
   "source": [
    "numbers = list(range(1, 11))\n",
    "print(numbers)\n",
    "\n",
    "every_second_number = numbers[1::2]\n",
    "print(every_second_number)"
   ]
  },
  {
   "cell_type": "markdown",
   "metadata": {},
   "source": [
    "# Reversing a sequence with a negative step size\n",
    "When using a negative step size, the returned list will be backwards, e.g `list[::-1]` will return the complete list,\n",
    "but in reversed order. This happens because Python will go to the sequence starting from the back, causing the\n",
    "sliced list to be reversed.  \n",
    "This has the side effect, that the *start* & *stop* parameters seem to be switched, which may seem counterintuitive at\n",
    "first. But in reality, the *start/stop* parameters can be seen as absolute markers of the list regardless of the\n",
    "indexing direction of the slicing operator.\n",
    "\n",
    "\n",
    "| Statement             | Returned items (from --> to)        | Example        | Returned items (Example)             |\n",
    "| --------------------- | ----------------------------------- | -------------- | ------------------------------------ |\n",
    "| `list[::-1]`          | all, reversed                       |                |                                      |\n",
    "| `list[::-2]`          | every second, reversed              |                |                                      |\n",
    "| `list[start::-1] `    | `start` **to** *beginning of list*  | `list[2::-1]`  | index `2` **to** *beginning of list* |\n",
    "| `list[:-stop:-1] `    | *end of list* **to** `stop`         | `list[:-4:-1]` | last 3 items, reversed               |\n",
    "| `list[-start::-1]`    | `-start` **to** *beginning of list* | `list[-3::-1]` | *all* except last 2, reversed        |\n",
    "| `list[start:stop:-1]` | `start` **to** `stop`, start > stop | `list[4:2:-1]` | index `4` **to** index `2`, reversed |\n",
    "| `list[3:4:-1]`        | empty list, cause invalid syntax    |                |                                      |\n",
    "\n",
    "Try using the different slicing methods yourself in the following cell."
   ]
  },
  {
   "cell_type": "code",
   "execution_count": 4,
   "metadata": {},
   "outputs": [
    {
     "name": "stdout",
     "output_type": "stream",
     "text": [
      "Original list: [1, 2, 3, 4, 5, 6, 7, 8, 9, 10, 11, 12, 13, 14, 15]\n",
      "Reversed list: [15, 14, 13, 12, 11, 10, 9, 8, 7, 6, 5, 4, 3, 2, 1]\n",
      "Only the last 3 items: [15, 14, 13]\n"
     ]
    }
   ],
   "source": [
    "numbers = list(range(1, 16))\n",
    "print(\"Original list:\", numbers)\n",
    "\n",
    "print(\"Reversed list:\", numbers[::-1])\n",
    "\n",
    "print(\"Only the last 3 items:\", numbers[:-4:-1])"
   ]
  },
  {
   "cell_type": "markdown",
   "metadata": {},
   "source": [
    "# Exercise - Output partial lists\n",
    "Create a list containing the elements `1` to `20`. \n",
    "\n",
    "Use the slicing operator to output elements at index 0-4, index 4-8 and index 8-10 of this list."
   ]
  },
  {
   "cell_type": "code",
   "execution_count": 8,
   "metadata": {},
   "outputs": [
    {
     "name": "stdout",
     "output_type": "stream",
     "text": [
      "[1, 2, 3, 4, 5, 6, 7, 8, 9, 10, 11, 12, 13, 14, 15, 16, 17, 18, 19, 20]\n"
     ]
    }
   ],
   "source": [
    "num = list(range(1,21))\n",
    "print(num)"
   ]
  },
  {
   "cell_type": "code",
   "execution_count": 17,
   "metadata": {},
   "outputs": [
    {
     "data": {
      "text/plain": [
       "[1, 2, 3, 4, 5]"
      ]
     },
     "execution_count": 17,
     "metadata": {},
     "output_type": "execute_result"
    }
   ],
   "source": [
    "# Print elements at index 0 to 4\n",
    "num[:5:1]"
   ]
  },
  {
   "cell_type": "code",
   "execution_count": 14,
   "metadata": {},
   "outputs": [
    {
     "data": {
      "text/plain": [
       "[5, 6, 7, 8, 9]"
      ]
     },
     "execution_count": 14,
     "metadata": {},
     "output_type": "execute_result"
    }
   ],
   "source": [
    "# Print elements at index 4 to 8\n",
    "num[4:9:1]"
   ]
  },
  {
   "cell_type": "code",
   "execution_count": 18,
   "metadata": {},
   "outputs": [
    {
     "data": {
      "text/plain": [
       "[9, 10, 11]"
      ]
     },
     "execution_count": 18,
     "metadata": {},
     "output_type": "execute_result"
    }
   ],
   "source": [
    "# Print elements at index 8 to 10\n",
    "num[8:11:1]"
   ]
  },
  {
   "cell_type": "code",
   "execution_count": 21,
   "metadata": {},
   "outputs": [
    {
     "name": "stdout",
     "output_type": "stream",
     "text": [
      "[1, 2, 3, 4, 5]\n",
      "[5, 6, 7, 8, 9]\n",
      "[9, 10, 11]\n"
     ]
    }
   ],
   "source": [
    "# Instructor Solution\n",
    "print(num[0:5])\n",
    "print(num[4:9])\n",
    "print(num[8:11])"
   ]
  },
  {
   "cell_type": "markdown",
   "metadata": {},
   "source": [
    "# Self Test"
   ]
  },
  {
   "cell_type": "markdown",
   "metadata": {},
   "source": [
    "### Question 1\n",
    "`2.0 Pts`\n",
    "\n",
    "Which of the following statements about slicing are correct?\n",
    "\n",
    "*Note: There are 3 correct answers to this question.*\n",
    "\n",
    "The following slice looks strange but is syntactically correct: `test_list[::]` `correct` \\\n",
    "A slice of a list can return a sub-list containing a single element of the original list. `correct` \\\n",
    "A slice of a list can return a single element of the list. \\\n",
    "It is possible to create slices of strings. `correct` \\\n",
    "A slice of a list can contain more elements than the original list."
   ]
  },
  {
   "cell_type": "markdown",
   "metadata": {},
   "source": [
    "### Question 2\n",
    "`1.0 Pts`\n",
    "\n",
    "What is the value of `list1` after the following statements have been executed?\n",
    "\n",
    "[1, 2, 3, 4, 5] \\\n",
    "[2, 6] \\\n",
    "[2, 3, 4, 5] \\\n",
    "[2, 3, 4, 5, 6]"
   ]
  },
  {
   "cell_type": "code",
   "execution_count": 24,
   "metadata": {},
   "outputs": [
    {
     "name": "stdout",
     "output_type": "stream",
     "text": [
      "[2, 3, 4, 5]\n"
     ]
    }
   ],
   "source": [
    "list1 = list(range(10))\n",
    "list1 = list1[2:6]\n",
    "print(list1)"
   ]
  }
 ],
 "metadata": {
  "file_extension": ".py",
  "interpreter": {
   "hash": "ac59ebe37160ed0dfa835113d9b8498d9f09ceb179beaac4002f036b9467c963"
  },
  "kernelspec": {
   "display_name": "Python 3 (ipykernel)",
   "language": "python",
   "name": "python3"
  },
  "language_info": {
   "codemirror_mode": {
    "name": "ipython",
    "version": 3
   },
   "file_extension": ".py",
   "mimetype": "text/x-python",
   "name": "python",
   "nbconvert_exporter": "python",
   "pygments_lexer": "ipython3",
   "version": "3.10.2"
  },
  "mimetype": "text/x-python",
  "name": "python",
  "npconvert_exporter": "python",
  "pygments_lexer": "ipython3",
  "version": 3
 },
 "nbformat": 4,
 "nbformat_minor": 4
}
