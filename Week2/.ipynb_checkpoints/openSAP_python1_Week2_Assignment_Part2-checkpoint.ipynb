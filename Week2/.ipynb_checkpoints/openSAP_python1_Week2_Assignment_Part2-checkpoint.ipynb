{
 "cells": [
  {
   "cell_type": "markdown",
   "id": "c97d491c-0c85-4972-bc38-fdef5f5030a4",
   "metadata": {
    "tags": []
   },
   "source": [
    "# Assignment Week 2 (Part 2 - Exercise)"
   ]
  },
  {
   "cell_type": "markdown",
   "id": "a5ef6242-842c-44c6-8823-ace36a3cf39b",
   "metadata": {},
   "source": [
    "Instructions:\n",
    "\n",
    "Now you have another chance to earn points towards your record of achievement. Click the button below to open CodeOcean and implement a solution for the assignment. If you want, you can also solve it in a Jupyter Notebook first and copy the solution to CodeOcean afterwards."
   ]
  },
  {
   "cell_type": "markdown",
   "id": "73e96c73-f027-41a0-be25-ec1fc25c630d",
   "metadata": {},
   "source": [
    "In this exercise you are going to simulate a sales and operations planning using the zero stock level strategy. Write a Python program that asks the user to enter the following data:\n",
    "\n",
    "An initial stock level for a product \\\n",
    "The number of month(s) to plan \\\n",
    "The planned sales quantity for each month \n",
    "\n",
    "Based on this data, calculate the required production quantity as follows:\n",
    "\n",
    "If the sales quantity is smaller than the stock level of the previous month, the production quantity is 0 \\\n",
    "If the sales quantity is larger than the stock level of the previous month, the production quantity is this difference\n",
    "\n",
    "Below is an example execution of the program:\n",
    "\n",
    "\n",
    "Please enter an initial stock level: 500 \\\n",
    "Please enter the number of month to plan: 5 \\\n",
    "Please enter the planned sales quantity: 300 \\\n",
    "Please enter the planned sales quantity: 250 \\\n",
    "Please enter the planned sales quantity: 200 \\\n",
    "Please enter the planned sales quantity: 400 \\\n",
    "Please enter the planned sales quantity: 100\n",
    "\n",
    "The resulting production quantities are: \\\n",
    "Production quantity month 1 - 0 \\\n",
    "Production quantity month 2 - 50 \\\n",
    "Production quantity month 3 - 200 \\\n",
    "Production quantity month 4 - 400 \\\n",
    "Production quantity month 5 - 100\n",
    "\n",
    "Why are those production quantities calculated? The initial stock level is 500. In the first month 300 pieces are sold. Therefore, nothing needs to be produced and the resulting stock is 200 (= 500 - 300). In the second month 250 pieces are sold. The stock level after the previous month is 200. Therefore 50 pieces need to be produced. The resulting stock level is 0 (= 200 + 50 - 250). In the third month 200 pieces are sold. The stock level after the previous month is 0. Therefore 200 pieces need to be produced. The resulting stock level is 0 (= 200 - 200)."
   ]
  },
  {
   "cell_type": "code",
   "execution_count": null,
   "id": "3a98229f-8306-4162-a72e-80980978e1f8",
   "metadata": {
    "jupyter": {
     "source_hidden": true
    },
    "tags": []
   },
   "outputs": [],
   "source": [
    "initial_stock = int(input(\"Please enter an initial stock level:\"))\n",
    "number_months = int(input(\"Please enter the number of month to plan:\"))\n",
    "sales_quantity = []\n",
    "balance = []\n",
    "\n",
    "if number_months != 0:\n",
    "    first_sale = int(input(\"Please enter the planned sales quantity:\"))\n",
    "    sales_quantity.append(first_sale)\n",
    "    first_balance = initial_stock - first_sale\n",
    "\n",
    "    for number in range(2, number_months+1):\n",
    "        planned_sales = int(input(\"Please enter the planned sales quantity:\"))\n",
    "        sales_quantity.append(planned_sales)\n",
    "\n",
    "    print(\"The resulting production quantities are:\")\n",
    "\n",
    "    if initial_stock > sales_quantity[0]:\n",
    "        print(\"Production quantity month 1\", \"-\", 0)\n",
    "        resulting_stock = initial_stock - sales_quantity[0]\n",
    "\n",
    "    if resulting_stock < sales_quantity[1]:\n",
    "        print(\"Production quantity month 2\", \"-\", sales_quantity[1] - resulting_stock)\n",
    "        resulting_stock = 0\n",
    "    else:\n",
    "        resulting_stock = sales_quantity[1] - resulting_stock\n",
    "\n",
    "    if resulting_stock < sales_quantity[2]:\n",
    "        print(\"Production quantity month 3\", \"-\", sales_quantity[2] - resulting_stock)\n",
    "        resulting_stock = 0\n",
    "    else:\n",
    "        resulting_stock = sales_quantity[2] - resulting_stock\n",
    "\n",
    "    if resulting_stock < sales_quantity[3]:\n",
    "        print(\"Production quantity month 4\", \"-\", sales_quantity[3] - resulting_stock)\n",
    "        resulting_stock = 0\n",
    "    else:\n",
    "        resulting_stock = sales_quantity[3] - resulting_stock\n",
    "\n",
    "    if resulting_stock < sales_quantity[4]:\n",
    "        print(\"Production quantity month 5\", \"-\", sales_quantity[4] - resulting_stock)\n",
    "        resulting_stock = 0\n",
    "    else:\n",
    "        resulting_stock = sales_quantity[4] - resulting_stock\n",
    "\n",
    "else:\n",
    "    print(\"Invalid\")\n",
    "# balance.append(initial_stock - sales_quantity[0])\n",
    "# balance.append(balance[0] - sales_quantity[1])\n",
    "# balance.append(balance[1] - sales_quantity[2])\n",
    "# balance.append(balance[2] - sales_quantity[3])\n",
    "# balance.append(balance[3] - sales_quantity[4])\n",
    "\n",
    "print(resulting_stock)\n",
    "print(sales_quantity)\n",
    "print(first_balance)\n",
    "print(balance)\n",
    "\n",
    "# print(\"The resulting production quantities are:\")\n",
    "# print(\"Production quantity month\", number_months, \"-\", initial_stock)"
   ]
  },
  {
   "cell_type": "code",
   "execution_count": 50,
   "id": "d973be8e-5ded-4dea-8b3e-4eb0f7bcb4b3",
   "metadata": {
    "tags": []
   },
   "outputs": [
    {
     "name": "stdin",
     "output_type": "stream",
     "text": [
      "Please enter an initial stock level: 500\n",
      "Please enter the number of month to plan: 5\n",
      "Please enter the planned sales quantity: 300\n",
      "Please enter the planned sales quantity: 250\n",
      "Please enter the planned sales quantity: 200\n",
      "Please enter the planned sales quantity: 400\n",
      "Please enter the planned sales quantity: 100\n"
     ]
    },
    {
     "name": "stdout",
     "output_type": "stream",
     "text": [
      "The resulting production quantities are:\n",
      "Production quantity month 1 - 0\n",
      "Production quantity month 2 - 50\n",
      "Production quantity month 3 - 200\n",
      "Production quantity month 4 - 400\n",
      "Production quantity month 5 - 100\n"
     ]
    }
   ],
   "source": [
    "initial_stock = int(input(\"Please enter an initial stock level:\"))\n",
    "months_to_plan = int(input(\"Please enter the number of month to plan:\"))\n",
    "sales_quantity = []\n",
    "\n",
    "for n in range(1, months_to_plan+1):\n",
    "    sales_quantity.append(int(input(\"Please enter the planned sales quantity:\")))\n",
    "\n",
    "print(\"The resulting production quantities are:\")\n",
    "if sales_quantity[0] < initial_stock:\n",
    "    print(\"Production quantity month 1 -\", \"0\")\n",
    "    balance = initial_stock - sales_quantity[0]\n",
    "else:\n",
    "    print(\"Production quantity month 1 -\", balance)\n",
    "    \n",
    "for n in range(2, months_to_plan+1):\n",
    "    if sales_quantity[n-1] > balance:\n",
    "        print(\"Production quantity month\", n, \"-\", sales_quantity[n-1] - balance)\n",
    "        balance = 0\n",
    "    else:\n",
    "        print(\"Production quantity month\", n, \"-\", balance - sales_quantity[n-1])"
   ]
  },
  {
   "cell_type": "markdown",
   "id": "cfe653dd-98ee-4556-944c-d14fc2b58a2c",
   "metadata": {},
   "source": [
    "This worked!!! Yay!!! 💃💃💃"
   ]
  },
  {
   "cell_type": "code",
   "execution_count": 55,
   "id": "caf1f334-adb9-4e53-9f36-d661778e6ad6",
   "metadata": {},
   "outputs": [
    {
     "name": "stdin",
     "output_type": "stream",
     "text": [
      "Please enter an initial stock level:  400\n",
      "Please enter the number of month to plan:  5\n",
      "Please enter the planned sales quantity:  300\n",
      "Please enter the planned sales quantity:  250\n",
      "Please enter the planned sales quantity:  200\n",
      "Please enter the planned sales quantity:  400\n",
      "Please enter the planned sales quantity:  100\n"
     ]
    },
    {
     "name": "stdout",
     "output_type": "stream",
     "text": [
      "The resulting production quantities are:\n",
      "Production quantity month 0 - 0\n",
      "Production quantity month 1 - 150\n",
      "Production quantity month 2 - 200\n",
      "Production quantity month 3 - 400\n",
      "Production quantity month 4 - 100\n"
     ]
    }
   ],
   "source": [
    "# Peer Review\n",
    "\n",
    "stock = int(input(\"Please enter an initial stock level: \"))\n",
    "month = int(input(\"Please enter the number of month to plan: \"))\n",
    "list1 = []\n",
    "for i in range(month):\n",
    "    quant = int(input(\"Please enter the planned sales quantity: \"))\n",
    "    list1.append(quant)\n",
    "    \n",
    "print(\"The resulting production quantities are:\")\n",
    "for i in range(month):\n",
    "    stock = stock - list1[i]\n",
    "    if stock >= 0:\n",
    "        produce = 0\n",
    "    else:\n",
    "        produce = 0 - stock\n",
    "        stock = 0\n",
    "    print(\"Production quantity month\", i, \"-\", produce)"
   ]
  },
  {
   "cell_type": "markdown",
   "id": "af432b26-33fc-4d37-bdcf-a68af0dd26e8",
   "metadata": {},
   "source": [
    "The issue with the above code is the month being output. It starts from 0 as against 1"
   ]
  }
 ],
 "metadata": {
  "kernelspec": {
   "display_name": "Python 3 (ipykernel)",
   "language": "python",
   "name": "python3"
  },
  "language_info": {
   "codemirror_mode": {
    "name": "ipython",
    "version": 3
   },
   "file_extension": ".py",
   "mimetype": "text/x-python",
   "name": "python",
   "nbconvert_exporter": "python",
   "pygments_lexer": "ipython3",
   "version": "3.10.2"
  }
 },
 "nbformat": 4,
 "nbformat_minor": 5
}
