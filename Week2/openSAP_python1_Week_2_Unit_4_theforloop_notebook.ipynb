{
 "cells": [
  {
   "cell_type": "markdown",
   "metadata": {},
   "source": [
    "# Iterating using the [for loop](https://docs.python.org/3/tutorial/controlflow.html#for-statements) - Basics\n",
    "\n",
    "Loops are needed in programming to run through a group of statements multiple times. The Python programming language has\n",
    "two types of loops: the `while` loop and the `for` loop. The `for` loop is a language element that is well suited for\n",
    "processing sequences like strings (character by character) and lists (element by element). Using a `for` loop a code\n",
    "block can be executed for every element of a list or every character of a string. \n",
    "\n",
    "\n",
    "# Syntax\n",
    "The general syntax of the `for` loop in Python is:\n",
    "\n",
    "```python\n",
    "for sequence-variable in sequence:\n",
    "    statement_1\n",
    "    statement_2\n",
    "    ...\n",
    "    statement_n\n",
    "```\n",
    "\n",
    "When processing a sequence with a `for` loop, one element of the sequence is assigned to a *sequence-variable* in each\n",
    "iteration. For example, when a `for` loop iterates over a string, one character is processed in each loop pass. What is\n",
    "done in the processing part of the loop is determined by the statements in the *loop body*. Just like `if-elif-else`,\n",
    "the loop body is specified by indenting. All statements in the loop body are then executed. \n",
    "\n",
    "The following graphic illustrates the execution of a `for` loop ![for_loop.png](./img/for_loop.png)"
   ]
  },
  {
   "cell_type": "markdown",
   "metadata": {},
   "source": [
    "To loop through a string letter by letter and output each letter for example the following Python code can be used:"
   ]
  },
  {
   "cell_type": "code",
   "execution_count": 1,
   "metadata": {},
   "outputs": [
    {
     "name": "stdout",
     "output_type": "stream",
     "text": [
      "H\n",
      "e\n",
      "l\n",
      "l\n",
      "o\n",
      " \n",
      "P\n",
      "y\n",
      "t\n",
      "h\n",
      "o\n",
      "n\n",
      " \n",
      "p\n",
      "r\n",
      "o\n",
      "g\n",
      "r\n",
      "a\n",
      "m\n",
      "m\n",
      "i\n",
      "n\n",
      "g\n"
     ]
    }
   ],
   "source": [
    "for char in \"Hello Python programming\":\n",
    "    print(char)"
   ]
  },
  {
   "cell_type": "markdown",
   "metadata": {},
   "source": [
    "You can iterate over a list in the same way:"
   ]
  },
  {
   "cell_type": "code",
   "execution_count": 2,
   "metadata": {},
   "outputs": [
    {
     "name": "stdout",
     "output_type": "stream",
     "text": [
      "3\n",
      "4\n",
      "234\n",
      "-12\n",
      "abc\n",
      "True\n"
     ]
    }
   ],
   "source": [
    "list1 = [3, 4, 234, -12, \"abc\", True]\n",
    "for element in list1:\n",
    "    print(element)"
   ]
  },
  {
   "cell_type": "markdown",
   "metadata": {},
   "source": [
    "## Find the smallest value in a list\n",
    "There is the function `min()` which gives you the smallest value of a list and you should always use this function\n",
    "instead of creating something on your own. However, how *could* you find the minimum value of a list with a for loop if\n",
    "there was no such function?  \n",
    "You could simply loop through the list step by step and compare the current sequence element to the minimum you found so\n",
    "far. If the current number is smaller than the minimum till now, the current sequence element, becomes the new minimum.\n",
    "If you reach the end of the list, the current minimum will also be the absolute minimum of the whole list.  \n",
    "\n",
    "**Important:** You have to define a variable for the *current minimum* in the beginning, but what value could you choose\n",
    "for the initialisation? If you choose a value which is too small and there is no smaller value in the list, you would\n",
    "get a wrong result in the end. In this particular case you can just initialise the variable with the first element of\n",
    "the list.  "
   ]
  },
  {
   "cell_type": "code",
   "execution_count": 4,
   "metadata": {},
   "outputs": [
    {
     "name": "stdout",
     "output_type": "stream",
     "text": [
      "The minimum of the list is: 68\n"
     ]
    }
   ],
   "source": [
    "# list1 contains some random values between 0 and 1000\n",
    "list1 = [\n",
    "    342,\n",
    "    185,\n",
    "    782,\n",
    "    847,\n",
    "    590,\n",
    "    556,\n",
    "    866,\n",
    "    141,\n",
    "    589,\n",
    "    749,\n",
    "    749,\n",
    "    708,\n",
    "    68,\n",
    "    458,\n",
    "    465,\n",
    "    507,\n",
    "    567,\n",
    "]\n",
    "\n",
    "current_minimum = list1[0]\n",
    "for number in list1:\n",
    "    # Compare current number with minimum and adjust minimum if necessary\n",
    "    if number < current_minimum:\n",
    "        current_minimum = number\n",
    "print(\"The minimum of the list is:\", current_minimum)"
   ]
  },
  {
   "cell_type": "markdown",
   "metadata": {},
   "source": [
    "**But again:** Using the `min()` and `max()` functions is preferable."
   ]
  },
  {
   "cell_type": "markdown",
   "metadata": {},
   "source": [
    "# Exercise\n",
    "Now it is your turn. Write a program that expects the user to enter a sentence first and then to enter a letter. The\n",
    "program should output the entered sentence, removing each occurrence of the entered letter. Additionally, the output\n",
    "loop should be constrained to print out a maximum of 20 characters only.\n",
    "\n",
    "\n",
    "The output should look like the following (*user input in **bold** for clarity*):\n",
    "> What sentence should be output? **This is how it should look like**  \n",
    "> Which letter should be removed? **i**  \n",
    "> Ths s how t should lo\n",
    "\n",
    "**Hint:** Using `input()`, first read in the sentence and then the letter to be removed. Create an empty string using\n",
    "```result = \"\"```. Then iterate over the letters. If a letter is not equal to the letter to be deleted, add that letter\n",
    "to result (``result += letter``). After the `for` loop, output the variable `result`. End (`break`) the loop early if\n",
    "the length of the result string is more than 20."
   ]
  },
  {
   "cell_type": "code",
   "execution_count": 22,
   "metadata": {},
   "outputs": [
    {
     "name": "stdin",
     "output_type": "stream",
     "text": [
      "What sentence should be output?  This is how it should look like\n",
      "Which letter should be removed?  i\n"
     ]
    },
    {
     "name": "stdout",
     "output_type": "stream",
     "text": [
      "Ths s how t should look lke\n"
     ]
    }
   ],
   "source": [
    "sentence = input(\"What sentence should be output? \")\n",
    "letter = input(\"Which letter should be removed? \")\n",
    "\n",
    "result = \"\"\n",
    "\n",
    "for char in sentence:\n",
    "    if char != letter:\n",
    "        result += char\n",
    "print(result)"
   ]
  },
  {
   "cell_type": "markdown",
   "metadata": {},
   "source": [
    "# Self Test\n",
    "\n",
    "### Question 1\n",
    "`1.0 Pts`\n",
    "\n",
    "What is the value of the variable `x` after the following statements have been executed?\n",
    "\n",
    "1 \n",
    "\n",
    "10 \n",
    "\n",
    "0 \n",
    "\n",
    "4"
   ]
  },
  {
   "cell_type": "code",
   "execution_count": 24,
   "metadata": {},
   "outputs": [
    {
     "data": {
      "text/plain": [
       "10"
      ]
     },
     "execution_count": 24,
     "metadata": {},
     "output_type": "execute_result"
    }
   ],
   "source": [
    "x = 0\n",
    "list1 = [1, 2, 3, 4]\n",
    "for i in list1:\n",
    "    x += i\n",
    "x"
   ]
  },
  {
   "cell_type": "markdown",
   "metadata": {},
   "source": [
    "### Question 2\n",
    "`1.0 Pts`\n",
    "\n",
    "What is the value of variable `list1` after the following statements have been executed?\n",
    "\n",
    "1, 4, 3, 2 \n",
    "\n",
    "1, 2, 3, 4 \n",
    "\n",
    "[1, 2, 3, 4] \n",
    "\n",
    "[1, 4, 3, 2]"
   ]
  },
  {
   "cell_type": "code",
   "execution_count": 27,
   "metadata": {},
   "outputs": [
    {
     "data": {
      "text/plain": [
       "[1, 4, 3, 2]"
      ]
     },
     "execution_count": 27,
     "metadata": {},
     "output_type": "execute_result"
    }
   ],
   "source": [
    "list1 = [1, 4, 3, 2]\n",
    "list2 = sorted(list1)\n",
    "list1"
   ]
  },
  {
   "cell_type": "markdown",
   "metadata": {},
   "source": [
    "# Unit 4: Exercise\n",
    "\n",
    "Instructions:\n",
    "\n",
    "Now it's your turn. Click the button below to open CodeOcean and implement a solution for the given exercise. If you want, you can also solve it in a Jupyter Notebook first and copy the solution to CodeOcean afterwards.\n",
    "\n",
    "Your are given the following list containing stock symbols, their current price as well as the absolute price change of the previous day:\n",
    "\n",
    "`stocks = [[\"SAP\", 106, -3.0], [\"AAPL\", 165, 1.25], [\"TSLA\", 860, 54.2], [\"ORCL\", 76, -0.25], [\"ZM\", 114, 6.2]]`\n",
    "\n",
    "As you plan to take some of the profits, write a program that creates a list of all the stock symbols with a change of more than +5 percent. The list should be named sell_list. The list should only contain the stock symbol, not the price or the absolute change. Print the resulting list.\n",
    "\n"
   ]
  },
  {
   "cell_type": "code",
   "execution_count": 33,
   "metadata": {},
   "outputs": [
    {
     "name": "stdout",
     "output_type": "stream",
     "text": [
      "['TSLA', 'ZM']\n"
     ]
    }
   ],
   "source": [
    "stocks = [[\"SAP\", 106, -3.0], [\"AAPL\", 165, 1.25], [\"TSLA\", 860, 54.2], [\"ORCL\", 76, -0.25], [\"ZM\", 114, 6.2]]\n",
    "sell_list = []\n",
    "\n",
    "for stock in stocks:\n",
    "    if stock[2] > stock[1]*0.05:\n",
    "        sell_list.append(stock[0])\n",
    "print(sell_list)"
   ]
  }
 ],
 "metadata": {
  "interpreter": {
   "hash": "ac59ebe37160ed0dfa835113d9b8498d9f09ceb179beaac4002f036b9467c963"
  },
  "kernelspec": {
   "display_name": "Python 3 (ipykernel)",
   "language": "python",
   "name": "python3"
  },
  "language_info": {
   "codemirror_mode": {
    "name": "ipython",
    "version": 3
   },
   "file_extension": ".py",
   "mimetype": "text/x-python",
   "name": "python",
   "nbconvert_exporter": "python",
   "pygments_lexer": "ipython3",
   "version": "3.10.2"
  }
 },
 "nbformat": 4,
 "nbformat_minor": 4
}
