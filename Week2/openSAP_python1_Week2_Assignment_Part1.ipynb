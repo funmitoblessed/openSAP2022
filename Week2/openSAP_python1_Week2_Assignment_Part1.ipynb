{
 "cells": [
  {
   "cell_type": "markdown",
   "id": "a2fdba29-ce38-4f54-a0a0-e066b1d2c9bb",
   "metadata": {},
   "source": [
    "# Assignment Week 2 (Part 1 - Questions)\n",
    "\n",
    "Quiz Instruction:\n",
    "\n",
    "Now you have the chance to earn points towards your record of achievement. The specific details of the quiz are listed below. You’ll have one attempt at getting the questions right, so please make sure to check your answers before saving them. We strongly recommend that you avoid guessing in multiple-answer questions, and only select the answers that you are sure about. Check the evaluation of exam performance guidelines for further details."
   ]
  },
  {
   "cell_type": "markdown",
   "id": "2af8c058-b772-450e-b217-cc9b9442c0b2",
   "metadata": {},
   "source": [
    "### Question 1\n",
    "`2.0 Pts`\n",
    "\n",
    "Which of the following statements about lists are correct?\n",
    "\n",
    "*Note: There are 3 correct answers to this question.*\n",
    "\n",
    "The elements within a list are always sorted by size. \n",
    "\n",
    "Lists consist of several elements or items. `correct` \n",
    "\n",
    "It is possible to add two lists. The result will again be a list. `correct` \n",
    "\n",
    "You can multiply two lists. The result will be a list. \n",
    "\n",
    "Lists can be empty, in other words, they contain no elements. `correct`"
   ]
  },
  {
   "cell_type": "markdown",
   "id": "334f64ba-1c39-4f85-8bdb-2bf19068006e",
   "metadata": {},
   "source": [
    "### Question 2\n",
    "`1.0 Pts`\n",
    "\n",
    "What is the content of variable `list1` after the following statements have been executed?\n",
    "\n",
    "[] \n",
    "\n",
    "[[[]]] \n",
    "\n",
    "[3] \n",
    "\n",
    "[] [] []"
   ]
  },
  {
   "cell_type": "code",
   "execution_count": 20,
   "id": "9e154dfd-8b5e-4dc8-b2ec-d747895e3032",
   "metadata": {},
   "outputs": [
    {
     "data": {
      "text/plain": [
       "[]"
      ]
     },
     "execution_count": 20,
     "metadata": {},
     "output_type": "execute_result"
    }
   ],
   "source": [
    "list1 = []\n",
    "list1 *= 3\n",
    "list1"
   ]
  },
  {
   "cell_type": "markdown",
   "id": "ea7e156d-f3f5-449c-99e5-c64a2f463969",
   "metadata": {},
   "source": [
    "### Question 3\n",
    "`2.0 Pts`\n",
    "\n",
    "Which of the following statements about indices are correct?\n",
    "\n",
    "*Note: There are 3 correct answers to this question.*\n",
    "\n",
    "For each element in the list, there is exactly one index. \n",
    "\n",
    "The index -0 is not defined. \n",
    "\n",
    "Indices can be positive and negative. `correct` \n",
    "\n",
    "Using an index bigger than the length of the list leads to an error. `correct` \n",
    "\n",
    "Indices are always of data type integer. `correct`"
   ]
  },
  {
   "cell_type": "code",
   "execution_count": 23,
   "id": "8f20ca90-5ff6-47b7-bd64-a46fd653ef3f",
   "metadata": {},
   "outputs": [
    {
     "data": {
      "text/plain": [
       "3"
      ]
     },
     "execution_count": 23,
     "metadata": {},
     "output_type": "execute_result"
    }
   ],
   "source": [
    "list1 = [1, 2, 3] + [1, 2, 3]\n",
    "list1[-1]"
   ]
  },
  {
   "cell_type": "markdown",
   "id": "f0196673-4fc8-49a3-b9d5-94124ba08b86",
   "metadata": {
    "tags": []
   },
   "source": [
    "### Question 4\n",
    "`2.0 Pts`\n",
    "\n",
    "Which of the following statements about functions and methods for lists are correct?\n",
    "\n",
    "*Note: There are 2 correct answers to this question.*\n",
    "\n",
    "The function `min()` returns the smallest element of a list. If the list contains elements of different data types, an automatic casting of the data types takes place for all elements. \n",
    "\n",
    "The method `.remove()` deletes all occurrences of the parameter in the parentheses contained in the list. \n",
    "\n",
    "The method `.append()` adds a new item at the end of the list. `correct` \n",
    "\n",
    "The method `.pop()` returns the last element of a list. The list remains unchanged. \n",
    "\n",
    "The function `len()` returns the length of the list, that is, the number of elements the list contains. `correct`"
   ]
  },
  {
   "cell_type": "code",
   "execution_count": 28,
   "id": "35529b15-3d21-4d07-b2a9-4f6b6ca159b7",
   "metadata": {},
   "outputs": [
    {
     "data": {
      "text/plain": [
       "[1, 2, 4, 3]"
      ]
     },
     "execution_count": 28,
     "metadata": {},
     "output_type": "execute_result"
    }
   ],
   "source": [
    "list1 = [1, 2, 3, 4, 3]\n",
    "list1.remove(3)\n",
    "list1"
   ]
  },
  {
   "cell_type": "markdown",
   "id": "074aeeda-9a8f-4408-bd8e-3652d79e2cf4",
   "metadata": {},
   "source": [
    "### Question 5\n",
    "`1.0 Pts`\n",
    "\n",
    "What is the value of the variable `x` after the following statements have been executed?\n",
    "\n",
    "4 \n",
    "\n",
    "24 \n",
    "\n",
    "1 \n",
    "\n",
    "10"
   ]
  },
  {
   "cell_type": "code",
   "execution_count": 29,
   "id": "37e47215-d785-4ec9-8dd5-f7d52a9f1cd0",
   "metadata": {},
   "outputs": [
    {
     "data": {
      "text/plain": [
       "24"
      ]
     },
     "execution_count": 29,
     "metadata": {},
     "output_type": "execute_result"
    }
   ],
   "source": [
    "x = 1\n",
    "list1 = [1, 2, 3, 4]\n",
    "for i in list1:\n",
    "    x *= i\n",
    "    \n",
    "x"
   ]
  },
  {
   "cell_type": "markdown",
   "id": "bc2884a2-9c4a-491a-8835-6092b9a1b29a",
   "metadata": {},
   "source": [
    "### Question 6\n",
    "`2.0 Pts`\n",
    "\n",
    "Which of the following statements about loops are true?\n",
    "\n",
    "*Note: There are 3 correct answers to this question.*\n",
    "\n",
    "Because strings are not sequences, for loops cannot iterate over strings. \n",
    "\n",
    "for loops iterating over an empty sequence (for example, an empty list) will result in an error. \n",
    "\n",
    "In each iteration of the for loop, the next element of the sequence is assigned to the sequence variable. `correct` \n",
    "\n",
    "for loops and if-elif-else constructs can be combined. `correct` \n",
    "\n",
    "for loops are well suited to iterate over sequences. `correct`"
   ]
  },
  {
   "cell_type": "code",
   "execution_count": 30,
   "id": "587076cd-5c5a-4d11-ae80-da8656f68b03",
   "metadata": {},
   "outputs": [],
   "source": [
    "list1 = []\n",
    "for c in list1:\n",
    "    print(c)"
   ]
  },
  {
   "cell_type": "markdown",
   "id": "0a67dfb4-bdb2-4d03-b3c3-2385ab229568",
   "metadata": {},
   "source": [
    "### Question 7\n",
    "`2.0 Pts`\n",
    "\n",
    "Which of the following statements about ranges are correct?\n",
    "\n",
    "*Note: There are 2 correct answers to this question.*\n",
    "\n",
    "Using a range, a sequence of characters can be created. \n",
    "\n",
    "Ranges create sequences of integers. These sequences can be in increasing, in decreasing, or in an arbitrary order. \n",
    "\n",
    "The first parameter of the range is the starting point of the created sequence, the second parameter is its endpoint. The first parameter belongs to the sequence, the second parameter does not. `correct` \n",
    "\n",
    "If the second parameter of the range is negative, the created sequence is decreasing. \n",
    "\n",
    "Using a range, a sequence of numbers can be created. `correct`"
   ]
  },
  {
   "cell_type": "code",
   "execution_count": null,
   "id": "5eb813e9-d7dd-4bec-be43-6febac5a5856",
   "metadata": {},
   "outputs": [],
   "source": [
    "list1 = [1, 2, 3, 4, 5]\n",
    "list(range(5, 50))"
   ]
  },
  {
   "cell_type": "markdown",
   "id": "e289b58a-6205-4491-8b27-9504b7e06836",
   "metadata": {},
   "source": [
    "### Question 8\n",
    "`1.0 Pts`\n",
    "\n",
    "Which sequence is created by the following range? `range(10, 1)`\n",
    "\n",
    "10, 9, 8, 7, 6, 5, 4, 3, 2 \n",
    "\n",
    "Error \n",
    "\n",
    "9, 8, 7, 6, 5, 4, 3, 2, 1 \n",
    "\n",
    "Empty sequence: there is no integer in the sequence"
   ]
  },
  {
   "cell_type": "code",
   "execution_count": 32,
   "id": "5437e5e1-88a2-4e5c-9410-469b8acbcaa0",
   "metadata": {},
   "outputs": [
    {
     "data": {
      "text/plain": [
       "[]"
      ]
     },
     "execution_count": 32,
     "metadata": {},
     "output_type": "execute_result"
    }
   ],
   "source": [
    "list(range(10, 1))"
   ]
  },
  {
   "cell_type": "markdown",
   "id": "f1e99d6f-bba7-48b1-89c8-1fbb24c00cc7",
   "metadata": {},
   "source": [
    "### Question 9\n",
    "`1.0 Pts`\n",
    "\n",
    "What is the value of variable `list2` after the following statements have been executed?\n",
    "\n",
    "[0, 2, 4] \n",
    "\n",
    "[0, 0.5, 1, 1.5, 2] \n",
    "\n",
    "[1, 3] \n",
    "\n",
    "[0, 1, 2, 3, 4]"
   ]
  },
  {
   "cell_type": "code",
   "execution_count": 34,
   "id": "25399e79-2ae4-40d9-8fb6-d08b0cfa5d27",
   "metadata": {},
   "outputs": [
    {
     "data": {
      "text/plain": [
       "[0, 2, 4]"
      ]
     },
     "execution_count": 34,
     "metadata": {},
     "output_type": "execute_result"
    }
   ],
   "source": [
    "list1 = list(range(5))\n",
    "list2 = [x for x in list1 if x % 2 == 0]\n",
    "list2"
   ]
  },
  {
   "cell_type": "markdown",
   "id": "fc489eec-a76d-40f5-a247-c9c626032454",
   "metadata": {},
   "source": [
    "### Question 10\n",
    "`1.0 Pts`\n",
    "\n",
    "What is the value of `list2` after the following statements have been executed?\n",
    "\n",
    "[6, 2] \n",
    "\n",
    "[['Liverpool FC', 6], ['Chelsea FC', 2]] \n",
    "\n",
    "['Liverpool FC', 'Chelsea FC']\n",
    "\n",
    "[ ]"
   ]
  },
  {
   "cell_type": "code",
   "execution_count": 45,
   "id": "3c60ca31-75bc-4496-b741-711e5a4d4d7e",
   "metadata": {},
   "outputs": [
    {
     "data": {
      "text/plain": [
       "['Liverpool FC', 'Chealsea FC']"
      ]
     },
     "execution_count": 45,
     "metadata": {},
     "output_type": "execute_result"
    }
   ],
   "source": [
    "champions_league_winner = [[\"Liverpool FC\", 6],\n",
    "                           [\"Chealsea FC\", 2],\n",
    "                           [\"Manchester City\", 0]]\n",
    "list2 = [x[0] for x in champions_league_winner if x[1] > 0]\n",
    "\n",
    "list2"
   ]
  },
  {
   "cell_type": "markdown",
   "id": "55ce3fb6-b72e-4281-adf2-a55c06278233",
   "metadata": {},
   "source": [
    "You submitted this assignment / exam on Sunday, April 24, 2022 13:13 (UTC).\n",
    "\n",
    "Your preliminary score is 15.0 / 15.0 points (100.0%)"
   ]
  }
 ],
 "metadata": {
  "kernelspec": {
   "display_name": "Python 3 (ipykernel)",
   "language": "python",
   "name": "python3"
  },
  "language_info": {
   "codemirror_mode": {
    "name": "ipython",
    "version": 3
   },
   "file_extension": ".py",
   "mimetype": "text/x-python",
   "name": "python",
   "nbconvert_exporter": "python",
   "pygments_lexer": "ipython3",
   "version": "3.10.2"
  }
 },
 "nbformat": 4,
 "nbformat_minor": 5
}
